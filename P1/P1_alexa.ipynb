{
 "cells": [
  {
   "cell_type": "markdown",
   "metadata": {},
   "source": [
    "# <i class=\"fa fa-laptop\"></i> Hands-on training 1: Using Linux in Bioinformatics\n",
    "\n",
    "<div style=\"background-color: #86CBBB; 1px; height:3px \" ></div>\n",
    "\n",
    "## 1. Introduction\n",
    "\n",
    "We are about to start a journey into real Bioinformatics. This series of **four hands-on training activities** will show you the basic workflows in bioinformatics: from the **data management and processing** with Linux, **visualization**, and posterior **functional analyses**. The practicals are divided into two big parts: **Part I: Basics on Bioinformatics workflows: Transforming data into insight** and **Part II: Solving real cases in genomics**.\n",
    "\n",
    "<center>\n",
    "    <img src=\"https://raw.githubusercontent.com/marta-coronado/TAB-data-figs/refs/heads/main/logoTAB2019_10_27D8_47_29.png\" width=55%>\n",
    "</center>\n",
    "\n",
    "These practicals pretend also to gain other skills, very valuable in research but rarely experienced during the Degree, such as **collaborating** and **doing reproducible research**.\n",
    "\n",
    "### 1.1 Part I: Basics on Bioinformatics workflows\n",
    "\n",
    "The first part, **Basics on Bioinformatics workflows: Transforming data into insight**, consist on two practicals:\n",
    "\n",
    "In this first practical (P1), **Using Linux in Bioinformatics**, you will learn the basic commands of Linux. Getting familiar with this commands is key in bioinformatics, as many pipelines rely on the combination of different tools through a terminal. In addition, biological data are stored in large text files that can be easily processed using Linux. In the second practical (P2), **Data exploration and visualization**, we will transform biological data into knowledge graphs.\n",
    "\n",
    "#### P1 Learning outcomes\n",
    "\n",
    "* Get familiar with the Unix directories\n",
    "* Learn basic text-processing Linux commands and piping\n",
    "* Use the Linux command-line to perform tasks on the data\n",
    "\n",
    "#### P2 Learning outcomes\n",
    "\n",
    "* Learn the grammar of graphics of `ggplot2`\n",
    "* Create the most common bioinformatics graphs (scatterplots, lineplots, barplots, ...)\n",
    "* Understand the important elements of a ready-to-publish figure\n",
    "\n",
    "### 1.2 Practicals organization\n",
    "\n",
    "#### 1.2.1 Jupyter Notebook\n",
    "\n",
    "In these practicals, we are going to use **Jupyter Notebook** dashboard. A Jupyter Notebook is an interactive work environment that allows you to develop code in Python (and not only Python) dynamically, integrating blocks of code, text, graphics and images in the same document. It emerged in 2014 to offer the scientific community a very powerful set of tools to work with data, visualize it and be able to share the results with the community.\n",
    "\n",
    "<center>\n",
    "    <img src=\"https://raw.githubusercontent.com/marta-coronado/TAB-data-figs/refs/heads/main/jupyterpreview2019_10_27D10_6_30.png\n",
    "\" width=45%>\n",
    "</center>\n",
    "\n",
    "This **new work philosophy** contrasts a lot with the idea that we usually have what programming and writing code is. This way of programming, called **literary programming**, emphasizes the purpose of writing comfortable text to read and understand, separated by blocks of code, combining text, equations and figures, and allowing sharing your research and results very easily.\n",
    "\n",
    "<br>\n",
    "<div style=\"background-color:#ffddad;\">  \n",
    "    <i class=\"fa fa-book\"></i> Read the following article published in Nature, where the benefits of using Jupyter Notebook for scientific research are emphasized: <b>Shen, H. (2014) Interactive notebooks: Sharing the code. <i>Nature</i> 2014 515:151-152</b>.\n",
    "</div>\n",
    "\n",
    "<br>\n",
    "<div style=\"background-color:#ffddad;\">  \n",
    "    <i class=\"fa fa-info-circle\"></i> Go to section <b>2. Tools installation</b> for instructions on how to install Jupyter Notebook in your computer.\n",
    "</div>\n",
    "\n",
    "#### 1.2.2 Writing a report\n",
    "\n",
    "Finally, to **write our scientific reports**, we recommend using an online $\\LaTeX$ editor that's easy to use: [**Overleaf**](https://www.overleaf.com). We have created a ready-to-use template available [here](https://www.overleaf.com/read/vchzpswtycyg) so you can write your results.\n",
    " \n",
    "### 1.3. Jupyter Notebook menu\n",
    "\n",
    "All navigation and actions in the Jupyter Notebook are available using the mouse through the toolbar:\n",
    "\n",
    "&emsp;<i class=\"fa fa-save\"></i>save changes and creates a checkpoint  \n",
    "&emsp;<i class=\"fa fa-plus\"></i> insert a cell below a selected cell  \n",
    "&emsp;<i class=\"fa fa-scissors\"></i> cut selected cell(s)  \n",
    "&emsp;<i class=\"fa fa-copy\"></i> copy selected cell(s)  \n",
    "&emsp;<i class=\"fa fa-paste\"></i> paste cell(s) below  \n",
    "&emsp;<i class=\"fa fa-arrow-up\"></i> move selected cell(s) up  \n",
    "&emsp;<i class=\"fa fa-arrow-down\"></i> move selected cell(s) down  \n",
    "&emsp;<i class=\"fa fa-step-forward\"></i> run a cell  \n",
    "&emsp;<i class=\"fa fa-stop\"></i> interrupt the kernel  \n",
    "&emsp;<i class=\"fa fa-repeat\"></i> restart the kernel  \n",
    "&emsp;<i class=\"fa fa-forward\"></i> restart the kernel, then re-run the whole notebook\n",
    " \n",
    "##### Shortcuts\n",
    "\n",
    "We recommend learning the command-mode shortcuts:\n",
    "\n",
    "&emsp;**Basic navigation**: enter, shift-enter, up/k, down/j  \n",
    "&emsp;**Saving the notebook**: s  \n",
    "&emsp;**Change cell types**: c, m  \n",
    "&emsp;**Cell creation**: a, b  \n",
    "&emsp;**Cell editing**: x, c, v, d, z  "
   ]
  },
  {
   "cell_type": "markdown",
   "metadata": {},
   "source": [
    "<div style=\"background-color: #86CBBB; 1px; height:3px \" ></div>\n",
    "\n",
    "# 2. Tools installation \n",
    "<br>\n",
    "<div style=\"background-color:#ffddad;\">  \n",
    "    <i class=\"fa fa-info-circle\"></i> We strongly recommend using a <b>Linux</b> operating system and get used to work with the <b>terminal</b>.\n",
    "</div>\n",
    "<br>\n",
    "\n",
    "If you're using **Windows 10**, a good alternative is to install **Ubuntu 22.04** on it. The application is available in the [Microsoft Store](https://www.microsoft.com/store/productId/9PN20MSR04DW). Simply click on the *Install* button, and it will be downloaded and installed automatically. When launched for the first time, Ubuntu will inform you that it's *Installing* and you'll need to wait a few moments. When complete, you'll be asked for a username and password specific to your Ubuntu installation. With this step complete, you'll find yourself at the Ubuntu bash command line.\n",
    "\n",
    "If you're using **MacOS**, you won't need to install Linux, as Apple has been using Unix as the underlying operating system on all of their computers since 2001. However, take into account that the installation of tools is different and may require additional steps that go beyond the scope of this practicals.\n",
    "\n",
    "## 2.1 Installing `Jupyter Notebook` with `pip`\n",
    "\n",
    "`pip` is a standard package-management system used to install and manage software packages written in Python.\n",
    "\n",
    "1. Install pip through the terminal window (if not already installed):\n",
    "\n",
    "<code style=\"background-color:#222D32; color:#FFF\">apt install python-pip   #python 2\n",
    "</code>\n",
    "<code style=\"background-color:#222D32; color:#FFF\">apt install python3-pip  #python 3\n",
    "</code>\n",
    "\n",
    "2. Install Jupyter Lab (which includes Jupyter Notebook):\n",
    "\n",
    "<code style=\"background-color:#222D32;color:#FFF\">pip install jupyterlab</code><br>\n",
    "\n",
    "## 2.2 Installing `Jupyter Notebook` with `conda`\n",
    "\n",
    "Conda is an open-source,cross-platform, language-agnostic package manager and environment management system. It was originally developed to solve difficult package management challenges faced by Python data scientists, and today is a popular package manager for Python and R.\n",
    "\n",
    "1. Download the installer:\n",
    "\n",
    "    1. [Miniconda installer for Linux](https://repo.anaconda.com/miniconda/Miniconda3-latest-Linux-x86_64.sh) (Linux 64 bits)\n",
    "    2. [Anaconda installer for Linux](https://repo.anaconda.com/archive/Anaconda3-2023.09-0-Linux-x86_64.sh) (Linux 64 bits)\n",
    "\n",
    "Both Anaconda and Miniconda uses `conda` as the package manager. The difference is that Miniconda only has the package management system, while Anaconda also comes with a bundle of pre-installed packages (e.g. `jupyterlab`, which contains Jupyter Notebook).\n",
    "\n",
    "2. In your terminal window, run:\n",
    "\n",
    "    1. Miniconda: <code style=\"background-color:#222D32; color:#FFF\">bash Miniconda3-latest-Linux-x86_64.sh</code>\n",
    "    2. Anaconda: <code style=\"background-color:#222D32; color:#FFF\">bash Anaconda3-2023.09-0-Linux-x86_64.sh\n",
    "</code>\n",
    "\n",
    "3. Follow the prompts on the installer screens.\n",
    "4. If you are unsure about any setting, accept the defaults. You can change them later.\n",
    "5. To make the changes take effect, close and then re-open your terminal window.\n",
    "\n",
    "You'll know that `conda` is installed because your command-line will be preceded with `(base)` to denote you are in your `base` conda environment.\n",
    "\n",
    "6. Install Jupyter Lab (which includes Jupyter Notebook) in the `base` environment if it is not installed by default.\n",
    "\n",
    "<code style=\"background-color:#222D32;color:#FFF\">conda install -c conda-forge jupyterlab</code><br>"
   ]
  },
  {
   "cell_type": "markdown",
   "metadata": {},
   "source": [
    "<div style=\"background-color: #86CBBB; 1px; height:3px \" ></div>\n",
    "\n",
    "# 3. Quick introduction to Linux\n",
    "\n",
    "Linux is an open source operating system, similar to Microsoft Windows or Apple Mac OS. The Unix operating system was created in 1969, when there was no such thing as a graphical user interface. Instructions sent to the computer were typed into the screen instead of using a mouse.\n",
    "\n",
    "In Linux, **folder navigation** and **program executions** are performed in the terminal by typing commands. The terminal allows you to type input to the computer (i.e. run programs, move/view files etc.) and to see output from those programs. You can open a terminal using the `Ctrl` + `Alt` + `T` shortcut, or looking for the `Konsole` or `Terminal` application from the installed programs list in your computer.\n",
    "\n",
    "You can also use Linux commands inside the Jupyter Notebook by specifying `%%bash` at the top of the cell. If nothing is specified, then the commands are expected to be in the Python programming language.<br>\n",
    "\n",
    "This table exemplifies the usage the most common commands used in Linux that we will use during this practical:\n",
    "\n",
    "| command          | function                           |\n",
    "|--------------|-------------------------------------------------------|\n",
    "| `pwd`          | print the current working directory                               |\n",
    "| `cd <dir>`     | change to  directory \"dir\"                         |\n",
    "| `ls`           | list files and directories of current directoy        |\n",
    "| `touch <name>`          | create empty file |\n",
    "| `echo <something>`       | print something (to a file if it is specified) |\n",
    "| `grep` |  searches the given file for lines containing a match to the given strings or words |\n",
    "| `cut` |  cutting out the sections from each line of files |\n",
    "| `cat`          | print file content |\n",
    "| `head`          | print first lines of a file |\n",
    "| `tail`          | print last lines of a file |\n",
    "| `less` and `more` | print file content (large files)|\n",
    "| `sort`          | order file content |\n",
    "| `uniq`          | delete or show repeated lines |\n",
    "| `tr`          | replace a character with another |\n",
    "| `fold`          | wrap line to a specific width |\n",
    "| `\\| wc -l` | print the line count  |  \n",
    "| `mkdir <name>` | create a new folder with name \"name\" |\n",
    "| `wget <url>` | download the contents from a link in the current directory |\n",
    "| `cat filetmp \\| cut -f1 > file` | redirect the output of a command to a file |\n",
    "| `gunzip file.gz` | uncompress a gz file |\n",
    "\n",
    "\n",
    "<i class=\"fa fa-search\"></i> Example of the `ls` command runing from the terminal:<br><br>\n",
    "\n",
    "<div style=\"background-color:#222D32; color:#FFF\">\n",
    "    <code style=\"background-color:#222D32; color:#FFF\">&emsp;(TAB)<b><span style=\"color:#86CBBB\">1244149@MRB014</span>:<span style=\"color:#ffddad\">~/Documents/Project</span></b>$ ls</code>\n",
    "</div><br>\n",
    "\n",
    "<i class=\"fa fa-search\"></i> Example of the `ls` command runing from the Jupyer Notebook:<br><br>"
   ]
  },
  {
   "cell_type": "code",
   "execution_count": 1,
   "metadata": {},
   "outputs": [
    {
     "name": "stdout",
     "output_type": "stream",
     "text": [
      "P1.ipynb\n",
      "\u001b[31mP1_curso.ipynb\u001b[m\u001b[m\n"
     ]
    }
   ],
   "source": [
    "%%bash\n",
    "\n",
    "ls"
   ]
  },
  {
   "cell_type": "markdown",
   "metadata": {},
   "source": [
    "<br>\n",
    "<div style=\"background-color:#ffddad;\">  \n",
    "    <i class=\"fa fa-info-circle\"></i> The way to get more comfortable with the command-line is: <b>PRACTICE</b>. And keep the <a href=\"https://files.fosswire.com/2007/08/fwunixref.pdf\" target=\"_blank\">cheat sheet</a> close to you.\n",
    "</div>"
   ]
  },
  {
   "cell_type": "markdown",
   "metadata": {},
   "source": [
    "<div style=\"background-color: #86CBBB; 1px; height:3px \" ></div>\n",
    "\n",
    "# 4. The Unix Tree\n",
    "\n",
    "<center>\n",
    "        <img src=\"https://raw.githubusercontent.com/marta-coronado/TAB-data-figs/refs/heads/main/linux-cmd-directory-1.png\" width=50%>\n",
    "</center>\n",
    "\n",
    "Looking at directories from within a Unix terminal can often seem confusing. But bear in mind that these directories are exactly the same type of folders that you can see if you use Apple’s or Windows' graphical file-management programs. A tree analogy is often used when describing computer filesystems. From the root level (/) there can be one or more top level directories. In the example above, we show just three. When you log in to a computer you are working with your files in your home directory, and this will nearly always be inside a ‘Users’ directory. On many computers there will be multiple users.\n",
    "\n",
    "<br>\n",
    "<div style=\"background-color:#ffddad;\">  \n",
    "    <i class=\"fa fa-info-circle\"></i> Everything is a file in Linux, including the keyboard, mouse, etc.\n",
    "</div>"
   ]
  },
  {
   "cell_type": "markdown",
   "metadata": {},
   "source": [
    "###  <i class=\"fa fa-cogs\"></i> Navigating your filesystem\n",
    "\n",
    "Where are you? The first step to navigate the Linux filesystem is to know where you are. The command `pwd` prints the current directory into the screen.\n",
    "\n",
    "<br>\n",
    "<div style=\"background-color:#222D32; color:#FFF\">\n",
    "    <code style=\"background-color:#222D32; color:#FFF\">&emsp;(TAB)<b><span style=\"color:#86CBBB\">1244149@MRB014</span>:<span style=\"color:#ffddad\">~/Documents/Project</span></b>$ pwd\n",
    "    /home/1244149/Documents/Project</code>\n",
    "</div><br>\n",
    "\n",
    "When you log in to a Unix computer, you are typically placed into your home directory. In this example, we are not in our home directory (<code>/home/1244149/</code>) but in another subdirectory. The first forward slash that appears in a list of directory names always refers to the top level directory of the file system (known as the root directory). The remaining forward slashes delimit the various parts of the directory hierarchy. If you ever get ‘lost’ in Unix, remember the <code>pwd</code> command.\n",
    "\n",
    "As you learn Unix you will frequently type commands that don’t seem to work. Most of the time this will be because you are in the wrong directory, so it’s a really good habit to get used to running the <code>pwd</code> command a lot.\n",
    "\n",
    "<br>\n",
    "<div style=\"background-color:#ffddad;\">  \n",
    "    <i class=\"fa fa-info-circle\"></i> A tilde character (~) is used as a short-hand way of specifying a home directory.\n",
    "</div>\n",
    "<br>\n",
    "\n",
    "To change directories, you type the command `cd` (change directory) followed by the path to the directory.\n",
    "\n",
    "<br>\n",
    "<div style=\"background-color:#222D32; color:#FFF\">\n",
    "    <code style=\"background-color:#222D32; color:#FFF\">&emsp;(TAB)<b><span style=\"color:#86CBBB\">1244149@MRB014</span>:<span style=\"color:#ffddad\">~/Documents/Project</span></b>$ cd /home/1244149/Desktop\n",
    "</code>\n",
    "</div>"
   ]
  },
  {
   "cell_type": "markdown",
   "metadata": {},
   "source": [
    "<div style=\"background-color:#222D32; color:#FFF\">\n",
    "<code style=\"background-color:#222D32; color:#FFF\">&emsp;(TAB)<b><span style=\"color:#86CBBB\">1244149@MRB014</span>:<span style=\"color:#ffddad\">~/Desktop</span></b>$\n",
    "</div><br>"
   ]
  },
  {
   "cell_type": "markdown",
   "metadata": {},
   "source": [
    "<div style=\"background-color:#ffddad;\">  \n",
    "    <i class=\"fa fa-info-circle\"></i> Just typing <code>cd</code> takes you to your home directory.\n",
    "</div>\n",
    "<br>\n",
    "\n",
    "Note that the above path starts with / (root). This kind of paths are known as **absolute paths**. There is another type of path, called **relative paths**, in which you write the path in relation to your current directory. These paths do not start with /.\n",
    "\n",
    "To see the files contained within your current directory, you use `ls`. `ls` shows a lists of subdirectories and files. It is useful if you don't know the content of a directory.\n",
    "\n",
    "<br>\n",
    "<div style=\"background-color:#222D32; color:#FFF\">\n",
    "    <code style=\"background-color:#222D32; color:#FFF\">&emsp;(TAB)<b><span style=\"color:#86CBBB\">1244149@MRB014</span>:<span style=\"color:#ffddad\">~/Desktop</span></b>$ ls\n",
    "    <span style=\"color:#907AD6\">Data</span> <span style=\"color:#FFF\">PHB.pdf</span> <span style=\"color:#DB3A34\">file.fasta.gz</span>\n",
    "</code>\n",
    "</div>\n",
    "\n",
    "Directories, files and compressed files are shown with different colours. In this example, **<span style=\"color:#907AD6\">Data</span>** is a directory, **PHB.pdf** is a file, and **<span style=\"color:#DB3A34\">file.fasta.gz</span>** is a compressed file."
   ]
  },
  {
   "cell_type": "markdown",
   "metadata": {},
   "source": [
    " <i class=\"fa fa-question-circle\"></i> **How would you move to the <span style=\"color:#907AD6\">Data</span> subdirectory? (Consider you are in the Desktop folder, following the previous code)**\n"
   ]
  },
  {
   "cell_type": "code",
   "execution_count": null,
   "metadata": {},
   "outputs": [],
   "source": [
    "%%bash\n",
    "\n",
    "# relative path:\n",
    "~/Desktop$ cd Data\n",
    "\n",
    "# absolute path: \n",
    "~/Desktop$ cd /home/1244149/Desktop/Data"
   ]
  },
  {
   "cell_type": "markdown",
   "metadata": {},
   "source": [
    "**What if you wanted to go to an upper directory without having to write the full path?** Two dots (`..`) are used in Unix to refer to the parent directory (the previous one). Every directory, except the root, has a parent directory.\n",
    "\n",
    "<br>\n",
    "<div style=\"background-color:#222D32; color:#FFF\">\n",
    "    <code style=\"background-color:#222D32; color:#FFF\">&emsp;(TAB)<b><span style=\"color:#86CBBB\">1244149@MRB014</span>:<span style=\"color:#ffddad\">~/Desktop/Data</span></b>$ cd ..\n",
    "</code>\n",
    "</div>"
   ]
  },
  {
   "cell_type": "markdown",
   "metadata": {},
   "source": [
    "<div style=\"background-color:#222D32; color:#FFF\">\n",
    "    <code style=\"background-color:#222D32; color:#FFF\">&emsp;(TAB)<b><span style=\"color:#86CBBB\">1244149@MRB014</span>:<span style=\"color:#ffddad\">~/Desktop</span></b>$\n",
    "</code>\n",
    "</div>"
   ]
  },
  {
   "cell_type": "markdown",
   "metadata": {},
   "source": [
    "You can even combine more than one `..` (separated by /). Note that in these examples we are using a relative path (it does not start with /).\n",
    "\n",
    "<br>\n",
    "<div style=\"background-color:#222D32; color:#FFF\">\n",
    "    <code style=\"background-color:#222D32; color:#FFF\">&emsp;(TAB)<b><span style=\"color:#86CBBB\">1244149@MRB014</span>:<span style=\"color:#ffddad\">~/Desktop/Data/HP</span></b>$ cd ../..\n",
    "</code>\n",
    "</div>"
   ]
  },
  {
   "cell_type": "markdown",
   "metadata": {},
   "source": [
    "<div style=\"background-color:#222D32; color:#FFF\">\n",
    "    <code style=\"background-color:#222D32; color:#FFF\">&emsp;(TAB)<b><span style=\"color:#86CBBB\">1244149@MRB014</span>:<span style=\"color:#ffddad\">~/Desktop</span></b>$\n",
    "</code>\n",
    "</div>"
   ]
  },
  {
   "cell_type": "markdown",
   "metadata": {},
   "source": [
    "<div style=\"background-color:#ffddad;\">  \n",
    "    <i class=\"fa fa-info-circle\"></i> If you type more than one / by mistake, Linux is still able to recognise the path.\n",
    "</div>\n",
    "<br>\n",
    "\n",
    "Current directory can be expressed in a path as a `.` or be omitted.\n",
    "\n",
    "<i class=\"fa fa-question-circle\"></i> **Let's practice absolute and relative paths! Change the following paths from absolute to relative assuming that you are currently located at `/home/apeiron`.** For all paths, consider that you always start in `/home/apeiron`."
   ]
  },
  {
   "cell_type": "code",
   "execution_count": 1,
   "metadata": {},
   "outputs": [],
   "source": [
    "%%bash\n",
    "\n",
    "# /home/apeiron/dodos \n",
    "cd dodos\n",
    "\n",
    "# /home\n",
    "cd\n",
    "\n",
    "# /home/apeiron/dodos/alvilda\n",
    "cd dodos/alvilda\n",
    "\n",
    "# /tmp\n",
    "cd /tmp\n",
    "\n",
    "# /home/pablo/corona\n",
    "cd ..\n",
    "cd pablo/corona"
   ]
  },
  {
   "cell_type": "markdown",
   "metadata": {},
   "source": [
    "<br>\n",
    "<div style=\"background-color:#ffddad;\">  \n",
    "    <i class=\"fa fa-info-circle\"></i> <b>Tip</b>: when writing a directory or file that exits, you can use the autocomplete the name by pressing the <code>TAB</code> key.\n",
    "</div>"
   ]
  },
  {
   "cell_type": "markdown",
   "metadata": {},
   "source": [
    "###  <i class=\"fa fa-cogs\"></i> Create a working directory\n",
    "\n",
    "When starting any bioinformatic pipeline, usualy the first step to do is to create the folder where we'll place all our data and scripts. This is called the _working directory_.\n",
    "\n",
    "Directories are created in Linux with the command `mkdir`.\n",
    "\n",
    "<br>\n",
    "<div style=\"background-color:#222D32; color:#FFF\">\n",
    "    <code style=\"background-color:#222D32; color:#FFF\">&emsp;(TAB)<b><span style=\"color:#86CBBB\">1244149@MRB014</span>:<span style=\"color:#ffddad\">~/Desktop</span></b>$ mkdir TAB\n",
    "</code>\n",
    "</div>"
   ]
  },
  {
   "cell_type": "markdown",
   "metadata": {},
   "source": [
    "<div style=\"background-color:#222D32; color:#FFF\">\n",
    "    <code style=\"background-color:#222D32; color:#FFF\">&emsp;(TAB)<b><span style=\"color:#86CBBB\">1244149@MRB014</span>:<span style=\"color:#ffddad\">~/Desktop</span></b>$ ls\n",
    "    <span style=\"color:#907AD6\">Data</span> <span style=\"color:#FFF\">PHB.pdf</span> <span style=\"color:#DB3A34\">file.fasta.gz</span> <span style=\"color:#907AD6\">TAB</span>\n",
    "</code>\n",
    "</div>\n",
    "\n",
    "<br>\n",
    "<div style=\"background-color:#ffddad;\">  \n",
    "<i class=\"fa fa-info-circle\"></i> You can create a directory wherever you want if you specify the whole path to it.\n",
    "</div>"
   ]
  },
  {
   "cell_type": "markdown",
   "metadata": {},
   "source": [
    "You can also create a directory and a subdirectory at the same time by typing `mkdir -p`.\n",
    "\n",
    "<br>\n",
    "<div style=\"background-color:#222D32; color:#FFF\">\n",
    "    <code style=\"background-color:#222D32; color:#FFF\">&emsp;(TAB)<b><span style=\"color:#86CBBB\">1244149@MRB014</span>:<span style=\"color:#ffddad\">~/Desktop</span></b>$ mkdir -p DND/DM\n",
    "</code>\n",
    "</div>"
   ]
  },
  {
   "cell_type": "markdown",
   "metadata": {},
   "source": [
    "<div style=\"background-color:#222D32; color:#FFF\">\n",
    "    <code style=\"background-color:#222D32; color:#FFF\">&emsp;(TAB)<b><span style=\"color:#86CBBB\">1244149@MRB014</span>:<span style=\"color:#ffddad\">~/Desktop</span></b>$ ls\n",
    "    <span style=\"color:#907AD6\">Data</span> <span style=\"color:#907AD6\">DND</span> <span style=\"color:#FFF\">PHB.pdf</span> <span style=\"color:#DB3A34\">file.fasta.gz</span> <span style=\"color:#907AD6\">TAB</span>\n",
    "</code>\n",
    "</div>"
   ]
  },
  {
   "cell_type": "markdown",
   "metadata": {},
   "source": [
    "<div style=\"background-color:#222D32; color:#FFF\">\n",
    "    <code style=\"background-color:#222D32; color:#FFF\">&emsp;(TAB)<b><span style=\"color:#86CBBB\">1244149@MRB014</span>:<span style=\"color:#ffddad\">~/Desktop</span></b>$ cd DND\n",
    "</code>\n",
    "</div>"
   ]
  },
  {
   "cell_type": "markdown",
   "metadata": {},
   "source": [
    "<div style=\"background-color:#222D32; color:#FFF\">\n",
    "    <code style=\"background-color:#222D32; color:#FFF\">&emsp;(TAB)<b><span style=\"color:#86CBBB\">1244149@MRB014</span>:<span style=\"color:#ffddad\">~/Desktop/DND</span></b>$ ls\n",
    "    <span style=\"color:#907AD6\">DM</span>\n",
    "</code>\n",
    "</div>"
   ]
  },
  {
   "cell_type": "markdown",
   "metadata": {},
   "source": [
    "If you want to remove an (empty) directory, you can use `rmdir`."
   ]
  },
  {
   "cell_type": "markdown",
   "metadata": {},
   "source": [
    "<div style=\"background-color:#222D32; color:#FFF\">\n",
    "    <code style=\"background-color:#222D32; color:#FFF\">&emsp;(TAB)<b><span style=\"color:#86CBBB\">1244149@MRB014</span>:<span style=\"color:#ffddad\">~/Desktop</span></b>$ rmdir TAB\n",
    "</code>\n",
    "</div>"
   ]
  },
  {
   "cell_type": "markdown",
   "metadata": {},
   "source": [
    "<div style=\"background-color:#222D32; color:#FFF\">\n",
    "    <code style=\"background-color:#222D32; color:#FFF\">&emsp;(TAB)<b><span style=\"color:#86CBBB\">1244149@MRB014</span>:<span style=\"color:#ffddad\">~/Desktop</span></b>$ ls\n",
    "    <span style=\"color:#907AD6\">Data</span> <span style=\"color:#907AD6\">DND</span> <span style=\"color:#FFF\">PHB.pdf</span> <span style=\"color:#DB3A34\">file.fasta.gz</span>\n",
    "</code>\n",
    "</div>\n",
    "\n",
    "<br> \n",
    "<div style=\"background-color:#ffddad;\">  \n",
    "<i class=\"fa fa-info-circle\"></i> If a directory is not empty, you can force its removal using <code>rm -r</code>. But take into account that you <b>cannot undo it</b>. This is considered the <b>MOST DANGEROUS LINUX COMMAND YOU WILL EVER LEARN!</code></div>"
   ]
  },
  {
   "cell_type": "markdown",
   "metadata": {},
   "source": [
    " <i class=\"fa fa-question-circle\"></i> **Create a directory called `P1_TAB` in your home folder to store all the files that we will create in the next section.**"
   ]
  },
  {
   "cell_type": "code",
   "execution_count": 26,
   "metadata": {
    "scrolled": true
   },
   "outputs": [
    {
     "name": "stderr",
     "output_type": "stream",
     "text": [
      "mkdir: P1_TAB: File exists\n"
     ]
    },
    {
     "name": "stdout",
     "output_type": "stream",
     "text": [
      "P1_Nico.ipynb\n",
      "\u001b[34mP1_TAB\u001b[m\u001b[m\n",
      "P1_alexa.ipynb\n",
      "\u001b[34mPFAM_seqs\u001b[m\u001b[m\n"
     ]
    }
   ],
   "source": [
    "%%bash\n",
    "# Write here the command to create that directory\n",
    "cd /Users/alexa/Library/CloudStorage/OneDrive-UniversitaetDuisburg-Essen/Master/UAB/TAB/bioinformatics-intro/P1\n",
    "mkdir P1_TAB\n",
    "ls"
   ]
  },
  {
   "cell_type": "markdown",
   "metadata": {},
   "source": [
    "<div style=\"background-color: #86CBBB; 1px; height:3px \" ></div>\n",
    "\n",
    "# 5. Working with files in Linux"
   ]
  },
  {
   "cell_type": "markdown",
   "metadata": {},
   "source": [
    "###  <i class=\"fa fa-cogs\"></i> Creating files\n",
    "\n",
    "We can create an empty file using the command `touch`. Simply type that command followed by the path were you want to create a file.\n",
    "\n",
    "<br>\n",
    "<div style=\"background-color:#222D32; color:#FFF\">\n",
    "    <code style=\"background-color:#222D32; color:#FFF\">&emsp;(TAB)<b><span style=\"color:#86CBBB\">1244149@MRB014</span>:<span style=\"color:#ffddad\">~/Desktop/DND</span></b>$ ls\n",
    "    <span style=\"color:#907AD6\">DM</span>\n",
    "</code>\n",
    "</div>"
   ]
  },
  {
   "cell_type": "markdown",
   "metadata": {},
   "source": [
    "<div style=\"background-color:#222D32; color:#FFF\">\n",
    "    <code style=\"background-color:#222D32; color:#FFF\">&emsp;(TAB)<b><span style=\"color:#86CBBB\">1244149@MRB014</span>:<span style=\"color:#ffddad\">~/Desktop/DND</span></b>$ touch races.txt\n",
    "</code>\n",
    "</div>"
   ]
  },
  {
   "cell_type": "markdown",
   "metadata": {},
   "source": [
    "<div style=\"background-color:#222D32; color:#FFF\">\n",
    "    <code style=\"background-color:#222D32; color:#FFF\">&emsp;(TAB)<b><span style=\"color:#86CBBB\">1244149@MRB014</span>:<span style=\"color:#ffddad\">~/Desktop/DND</span></b>$ ls\n",
    "    <span style=\"color:#907AD6\">DM</span> <span style=\"color:#FFF\">races.txt</span>\n",
    "</code>\n",
    "</div>"
   ]
  },
  {
   "cell_type": "markdown",
   "metadata": {},
   "source": [
    "You can also create files with content using `echo`.\n",
    "\n",
    "<br>\n",
    "<div style=\"background-color:#222D32; color:#FFF\">\n",
    "    <code style=\"background-color:#222D32; color:#FFF\">&emsp;(TAB)<b><span style=\"color:#86CBBB\">1244149@MRB014</span>:<span style=\"color:#ffddad\">~/Desktop/DND</span></b>$ echo \"Artificer\" > classes.txt\n",
    "</code>\n",
    "</div>\n",
    "\n",
    "<br>\n",
    "<div style=\"background-color:#ffddad;\">  \n",
    "    <i class=\"fa fa-info-circle\"></i> If you use <code>></code> in a file that already exists, its content will be overwritten.\n",
    "</div>"
   ]
  },
  {
   "cell_type": "markdown",
   "metadata": {},
   "source": [
    "<div style=\"background-color:#222D32; color:#FFF\">\n",
    "    <code style=\"background-color:#222D32; color:#FFF\">&emsp;(TAB)<b><span style=\"color:#86CBBB\">1244149@MRB014</span>:<span style=\"color:#ffddad\">~/Desktop/DND</span></b>$ ls\n",
    "    <span style=\"color:#FFF\">classes.txt</span> <span style=\"color:#907AD6\">DM</span> <span style=\"color:#FFF\">races.txt</span>\n",
    "</code>\n",
    "</div>"
   ]
  },
  {
   "cell_type": "markdown",
   "metadata": {},
   "source": [
    "For adding new lines to a file that already exists, use `>>` instead of `>`.\n",
    "\n",
    "<br>\n",
    "<div style=\"background-color:#222D32; color:#FFF\">\n",
    "    <code style=\"background-color:#222D32; color:#FFF\">&emsp;(TAB)<b><span style=\"color:#86CBBB\">1244149@MRB014</span>:<span style=\"color:#ffddad\">~/Desktop/DND</span></b>$ echo \"Bard\" >> classes.txt\n",
    "</code>\n",
    "</div>\n",
    "\n",
    " <i class=\"fa fa-question-circle\"></i> **Create an empty file called `animals.txt` in the `P1_TAB` directory that you just created. Then, use `echo` to add some animals to that file**."
   ]
  },
  {
   "cell_type": "code",
   "execution_count": 30,
   "metadata": {},
   "outputs": [
    {
     "name": "stdout",
     "output_type": "stream",
     "text": [
      "/Users/alexa/Library/CloudStorage/OneDrive-UniversitaetDuisburg-Essen/Master/UAB/TAB/bioinformatics-intro/P1/P1_TAB\n",
      "gato\n",
      "perro\n"
     ]
    }
   ],
   "source": [
    "%%bash\n",
    "\n",
    "# Write here the commands use to create those files\n",
    "cd P1_TAB\n",
    "pwd\n",
    "touch animals.txt\n",
    "echo \"gato\" > animals.txt\n",
    "echo \"perro\" >> animals.txt\n",
    "head animals.txt\n"
   ]
  },
  {
   "cell_type": "markdown",
   "metadata": {},
   "source": [
    "###  <i class=\"fa fa-cogs\"></i> Moving and copying files\n",
    "\n",
    "Sometimes, you may have created a file in the wrong folder. What do you do now? Should you delete it using `rm` and create it again in the correct path? This may be a solution if your file is empty or if it is easy to create again. But imagine that you have spent 5 hours writing the introduction of your TFG, you save it in the wrong folder and you don't have a graphical interface. The solution is simple: moving the file. The command **`mv`** allows you to move a file from one path to another (the filename must be included in the path).\n",
    "\n",
    "Let's see an example. Imagine you want to move the `races.txt` file into the `DM` folder.\n",
    "\n",
    "<br>\n",
    "<div style=\"background-color:#222D32; color:#FFF\">\n",
    "    <code style=\"background-color:#222D32; color:#FFF\">&emsp;(TAB)<b><span style=\"color:#86CBBB\">1244149@MRB014</span>:<span style=\"color:#ffddad\">~/Desktop/DND</span></b>$ ls\n",
    "    <span style=\"color:#FFF\">classes.txt</span> <span style=\"color:#907AD6\">DM</span> <span style=\"color:#FFF\">races.txt</span>\n",
    "</code>\n",
    "</div>"
   ]
  },
  {
   "cell_type": "markdown",
   "metadata": {},
   "source": [
    "<div style=\"background-color:#222D32; color:#FFF\">\n",
    "    <code style=\"background-color:#222D32; color:#FFF\">&emsp;(TAB)<b><span style=\"color:#86CBBB\">1244149@MRB014</span>:<span style=\"color:#ffddad\">~/Desktop/DND</span></b>$ mv races.txt DM/races.txt\n",
    "</code>\n",
    "</div>"
   ]
  },
  {
   "cell_type": "markdown",
   "metadata": {},
   "source": [
    "<div style=\"background-color:#222D32; color:#FFF\">\n",
    "    <code style=\"background-color:#222D32; color:#FFF\">&emsp;(TAB)<b><span style=\"color:#86CBBB\">1244149@MRB014</span>:<span style=\"color:#ffddad\">~/Desktop/DND</span></b>$ ls\n",
    "    <span style=\"color:#FFF\">classes.txt</span> <span style=\"color:#907AD6\">DM</span>\n",
    "</code>\n",
    "</div>"
   ]
  },
  {
   "cell_type": "markdown",
   "metadata": {},
   "source": [
    "<div style=\"background-color:#222D32; color:#FFF\">\n",
    "    <code style=\"background-color:#222D32; color:#FFF\">&emsp;(TAB)<b><span style=\"color:#86CBBB\">1244149@MRB014</span>:<span style=\"color:#ffddad\">~/Desktop/DND</span></b>$ cd DM\n",
    "</code>\n",
    "</div>"
   ]
  },
  {
   "cell_type": "markdown",
   "metadata": {},
   "source": [
    "<div style=\"background-color:#222D32; color:#FFF\">\n",
    "    <code style=\"background-color:#222D32; color:#FFF\">&emsp;(TAB)<b><span style=\"color:#86CBBB\">1244149@MRB014</span>:<span style=\"color:#ffddad\">~/Desktop/DND/DM</span></b>$ ls\n",
    "    <span style=\"color:#FFF\">races.txt</span>\n",
    "</code>\n",
    "</div>"
   ]
  },
  {
   "cell_type": "markdown",
   "metadata": {},
   "source": [
    "In this case we have used the relative paths, but we could have used the absolute paths to any other directory of our computer.\n",
    "\n",
    "Let's see another use of `mv`. For that we will create a new file called `spells.txt`.\n",
    "\n",
    "<br>\n",
    "<div style=\"background-color:#222D32; color:#FFF\">\n",
    "    <code style=\"background-color:#222D32; color:#FFF\">&emsp;(TAB)<b><span style=\"color:#86CBBB\">1244149@MRB014</span>:<span style=\"color:#ffddad\">~/Desktop/DND</span></b>$ touch spels.txt\n",
    "</code>\n",
    "</div>"
   ]
  },
  {
   "cell_type": "markdown",
   "metadata": {},
   "source": [
    "<div style=\"background-color:#222D32; color:#FFF\">\n",
    "    <code style=\"background-color:#222D32; color:#FFF\">&emsp;(TAB)<b><span style=\"color:#86CBBB\">1244149@MRB014</span>:<span style=\"color:#ffddad\">~/Desktop/DND</span></b>$ ls\n",
    "    <span style=\"color:#FFF\">classes.txt</span> <span style=\"color:#907AD6\">DM</span> <span style=\"color:#FFF\">spels.txt</span>\n",
    "</code>\n",
    "</div>"
   ]
  },
  {
   "cell_type": "markdown",
   "metadata": {},
   "source": [
    "Wait a minute... We wrote it wrong! Let's fix it using `mv`. For that you just have to move your file to the same directory but with a new name.\n",
    "\n",
    "<br>\n",
    "<div style=\"background-color:#222D32; color:#FFF\">\n",
    "    <code style=\"background-color:#222D32; color:#FFF\">&emsp;(TAB)<b><span style=\"color:#86CBBB\">1244149@MRB014</span>:<span style=\"color:#ffddad\">~/Desktop/DND</span></b>$ mv spels.txt spells.txt\n",
    "</code>\n",
    "</div>"
   ]
  },
  {
   "cell_type": "markdown",
   "metadata": {},
   "source": [
    "<div style=\"background-color:#222D32; color:#FFF\">\n",
    "    <code style=\"background-color:#222D32; color:#FFF\">&emsp;(TAB)<b><span style=\"color:#86CBBB\">1244149@MRB014</span>:<span style=\"color:#ffddad\">~/Desktop/DND</span></b>$ ls\n",
    "    <span style=\"color:#FFF\">classes.txt</span> <span style=\"color:#907AD6\">DM</span> <span style=\"color:#FFF\">spells.txt</span>\n",
    "</code>\n",
    "</div>\n",
    "\n",
    "Now it's perfect.\n",
    "\n",
    "Suppose now that you want to copy your file `spells.txt` into the `DM` folder. We will use `cp` for that. It works exactly as `mv` but the result will be that your original file will still be in place."
   ]
  },
  {
   "cell_type": "markdown",
   "metadata": {},
   "source": [
    "<div style=\"background-color:#222D32; color:#FFF\">\n",
    "    <code style=\"background-color:#222D32; color:#FFF\">&emsp;(TAB)<b><span style=\"color:#86CBBB\">1244149@MRB014</span>:<span style=\"color:#ffddad\">~/Desktop/DND</span></b>$ cp spells.txt DM/spells.txt\n",
    "</code>\n",
    "</div>"
   ]
  },
  {
   "cell_type": "markdown",
   "metadata": {},
   "source": [
    "<div style=\"background-color:#222D32; color:#FFF\">\n",
    "    <code style=\"background-color:#222D32; color:#FFF\">&emsp;(TAB)<b><span style=\"color:#86CBBB\">1244149@MRB014</span>:<span style=\"color:#ffddad\">~/Desktop/DND</span></b>$ ls\n",
    "    <span style=\"color:#FFF\">classes.txt</span> <span style=\"color:#907AD6\">DM</span> <span style=\"color:#FFF\">spells.txt</span>\n",
    "</code>\n",
    "</div>"
   ]
  },
  {
   "cell_type": "markdown",
   "metadata": {},
   "source": [
    "<div style=\"background-color:#222D32; color:#FFF\">\n",
    "    <code style=\"background-color:#222D32; color:#FFF\">&emsp;(TAB)<b><span style=\"color:#86CBBB\">1244149@MRB014</span>:<span style=\"color:#ffddad\">~/Desktop/DND</span></b>$ cd DM\n",
    "</code>\n",
    "</div>"
   ]
  },
  {
   "cell_type": "markdown",
   "metadata": {},
   "source": [
    "<div style=\"background-color:#222D32; color:#FFF\">\n",
    "    <code style=\"background-color:#222D32; color:#FFF\">&emsp;(TAB)<b><span style=\"color:#86CBBB\">1244149@MRB014</span>:<span style=\"color:#ffddad\">~/Desktop/DND/DM</span></b>$ ls\n",
    "    <span style=\"color:#FFF\">spells.txt</span> <span style=\"color:#FFF\">races.txt</span>\n",
    "</code>\n",
    "</div>"
   ]
  },
  {
   "cell_type": "markdown",
   "metadata": {},
   "source": [
    " <i class=\"fa fa-question-circle\"></i> **Change directory to your `home` folder. Create a new file in called `colours.txt` and add using `echo` 5 lines. Then, copy that file into the `P1_TAB` directory and remove the original file. After that, change the name of `colours.txt` to `colors.txt`.**"
   ]
  },
  {
   "cell_type": "code",
   "execution_count": 40,
   "metadata": {},
   "outputs": [
    {
     "name": "stdout",
     "output_type": "stream",
     "text": [
      "/Users/alexa\n",
      "1nk3.cif\n",
      "2msy.cif\n",
      "\u001b[34mApplications\u001b[m\u001b[m\n",
      "\u001b[34mDesktop\u001b[m\u001b[m\n",
      "\u001b[34mDocuments\u001b[m\u001b[m\n",
      "\u001b[34mDownloads\u001b[m\u001b[m\n",
      "\u001b[34mLibrary\u001b[m\u001b[m\n",
      "\u001b[34mMovies\u001b[m\u001b[m\n",
      "\u001b[34mMusic\u001b[m\u001b[m\n",
      "\u001b[35mOneDrive - Universitaet Duisburg-Essen\u001b[m\u001b[m\n",
      "\u001b[34mPictures\u001b[m\u001b[m\n",
      "\u001b[34mPublic\u001b[m\u001b[m\n",
      "\u001b[34mSRR8506520\u001b[m\u001b[m\n",
      "\u001b[34mUsers\u001b[m\u001b[m\n",
      "\u001b[34mZotero\u001b[m\u001b[m\n",
      "colours.txt\n",
      "ncbi_error_report.txt\n",
      "#creation successfull\n",
      "1nk3.cif\n",
      "2msy.cif\n",
      "\u001b[34mApplications\u001b[m\u001b[m\n",
      "\u001b[34mDesktop\u001b[m\u001b[m\n",
      "\u001b[34mDocuments\u001b[m\u001b[m\n",
      "\u001b[34mDownloads\u001b[m\u001b[m\n",
      "\u001b[34mLibrary\u001b[m\u001b[m\n",
      "\u001b[34mMovies\u001b[m\u001b[m\n",
      "\u001b[34mMusic\u001b[m\u001b[m\n",
      "\u001b[35mOneDrive - Universitaet Duisburg-Essen\u001b[m\u001b[m\n",
      "\u001b[34mPictures\u001b[m\u001b[m\n",
      "\u001b[34mPublic\u001b[m\u001b[m\n",
      "\u001b[34mSRR8506520\u001b[m\u001b[m\n",
      "\u001b[34mUsers\u001b[m\u001b[m\n",
      "\u001b[34mZotero\u001b[m\u001b[m\n",
      "ncbi_error_report.txt\n",
      "#removal successfull\n",
      "animals.txt\n",
      "colors.txt\n",
      "#renaming and moving successfull\n"
     ]
    }
   ],
   "source": [
    "%%bash\n",
    "\n",
    "# Write the commands you used here\n",
    "cd \n",
    "pwd\n",
    "touch colours.txt\n",
    "echo -e \"azul\\nverde\\nrojo\\ngris\\nnegro\" > colours.txt\n",
    "ls\n",
    "echo \"#creation successfull\"\n",
    "cp colours.txt /Users/alexa/Library/CloudStorage/OneDrive-UniversitaetDuisburg-Essen/Master/UAB/TAB/bioinformatics-intro/P1/P1_TAB/colours.txt\n",
    "rm colours.txt\n",
    "ls\n",
    "echo \"#removal successfull\"\n",
    "mv /Users/alexa/Library/CloudStorage/OneDrive-UniversitaetDuisburg-Essen/Master/UAB/TAB/bioinformatics-intro/P1/P1_TAB/colours.txt /Users/alexa/Library/CloudStorage/OneDrive-UniversitaetDuisburg-Essen/Master/UAB/TAB/bioinformatics-intro/P1/P1_TAB/colors.txt\n",
    "cd /Users/alexa/Library/CloudStorage/OneDrive-UniversitaetDuisburg-Essen/Master/UAB/TAB/bioinformatics-intro/P1/P1_TAB\n",
    "ls\n",
    "echo \"#renaming and moving successfull\"\n"
   ]
  },
  {
   "cell_type": "markdown",
   "metadata": {},
   "source": [
    "###  <i class=\"fa fa-cogs\"></i> Reading file contents\n",
    "\n",
    "You have already learned how to create files, and how to move them from one folder to another. But how can you read the contents of a file using the command line?\n",
    "\n",
    "One of the most used is **`cat`**. `cat` prints the **whole** contents of a file into the terminal. To use it, just type `cat` followed by the path to your file.\n",
    "\n",
    "<br>\n",
    "<div style=\"background-color:#222D32; color:#FFF\">\n",
    "    <code style=\"background-color:#222D32; color:#FFF\">&emsp;(TAB)<b><span style=\"color:#86CBBB\">1244149@MRB014</span>:<span style=\"color:#ffddad\">~/Desktop/DND</span></b>$ cat classes.txt\n",
    "    <span style=\"color:#FFF\">Artificer\n",
    "    Barbarian\n",
    "    Bard\n",
    "    Cleric\n",
    "    Druid\n",
    "    Fighter\n",
    "    Monk\n",
    "    Paladin\n",
    "    Ranger\n",
    "    Rogue\n",
    "    Sorcerer\n",
    "    Warlock\n",
    "    Wizard</span>\n",
    "</code>\n",
    "</div>"
   ]
  },
  {
   "cell_type": "markdown",
   "metadata": {},
   "source": [
    "Many times, however, you may find yourself with a very long file. Printing all its contents when you only want to see the first lines is not helpful, as you will have to scroll up a lot until you find the beginning (if it is really long you may not even find the beginnint).\n",
    "\n",
    "Luckily, there are other commands that allow us to partially see a file. The first one is **`head`**. This command prints, by default, the first 10 lines of a file.\n",
    "\n",
    "<br>\n",
    "<div style=\"background-color:#222D32; color:#FFF\">\n",
    "    <code style=\"background-color:#222D32; color:#FFF\">&emsp;(TAB)<b><span style=\"color:#86CBBB\">1244149@MRB014</span>:<span style=\"color:#ffddad\">~/Desktop/DND</span></b>$ head classes.txt\n",
    "    <span style=\"color:#FFF\">Artificer\n",
    "    Barbarian\n",
    "    Bard\n",
    "    Cleric\n",
    "    Druid\n",
    "    Fighter\n",
    "    Monk\n",
    "    Paladin\n",
    "    Ranger\n",
    "    Rogue</span>\n",
    "</code>\n",
    "</div>"
   ]
  },
  {
   "cell_type": "markdown",
   "metadata": {},
   "source": [
    "You can specify the number of lines to be shown with `head -n` followed by the number of lines.\n",
    "\n",
    "<br>\n",
    "<div style=\"background-color:#222D32; color:#FFF\">\n",
    "    <code style=\"background-color:#222D32; color:#FFF\">&emsp;(TAB)<b><span style=\"color:#86CBBB\">1244149@MRB014</span>:<span style=\"color:#ffddad\">~/Desktop/DND</span></b>$ head -n 2 classes.txt\n",
    "    <span style=\"color:#FFF\">Artificer\n",
    "    Barbarian</span>\n",
    "</code>\n",
    "</div>"
   ]
  },
  {
   "cell_type": "markdown",
   "metadata": {},
   "source": [
    "You can even use `head` to show all lines except the last X ones by adding a `-` before the number.\n",
    "\n",
    "<br>\n",
    "<div style=\"background-color:#222D32; color:#FFF\">\n",
    "    <code style=\"background-color:#222D32; color:#FFF\">&emsp;(TAB)<b><span style=\"color:#86CBBB\">1244149@MRB014</span>:<span style=\"color:#ffddad\">~/Desktop/DND</span></b>$ head -n -2 classes.txt\n",
    "    <span style=\"color:#FFF\">Artificer\n",
    "    Barbarian\n",
    "    Bard\n",
    "    Cleric\n",
    "    Druid\n",
    "    Fighter\n",
    "    Monk\n",
    "    Paladin\n",
    "    Ranger\n",
    "    Rogue\n",
    "    Sorcerer</span>\n",
    "</code>\n",
    "</div>"
   ]
  },
  {
   "cell_type": "markdown",
   "metadata": {},
   "source": [
    "The opposite to `head` is **`tail`**. It shows, by default, the last 10 lines of a file.\n",
    "\n",
    "<br>\n",
    "<div style=\"background-color:#222D32; color:#FFF\">\n",
    "    <code style=\"background-color:#222D32; color:#FFF\">&emsp;(TAB)<b><span style=\"color:#86CBBB\">1244149@MRB014</span>:<span style=\"color:#ffddad\">~/Desktop/DND</span></b>$ tail classes.txt\n",
    "    <span style=\"color:#FFF\">Cleric\n",
    "    Druid\n",
    "    Fighter\n",
    "    Monk\n",
    "    Paladin\n",
    "    Ranger\n",
    "    Rogue\n",
    "    Sorcerer\n",
    "    Warlock\n",
    "    Wizard</span>\n",
    "</code>\n",
    "</div>"
   ]
  },
  {
   "cell_type": "markdown",
   "metadata": {},
   "source": [
    "You can also specify the number of lines using `tail -n`.\n",
    "\n",
    "<br>\n",
    "<div style=\"background-color:#222D32; color:#FFF\">\n",
    "    <code style=\"background-color:#222D32; color:#FFF\">&emsp;(TAB)<b><span style=\"color:#86CBBB\">1244149@MRB014</span>:<span style=\"color:#ffddad\">~/Desktop/DND</span></b>$ tail -n 3 classes.txt\n",
    "    <span style=\"color:#FFF\">Sorcerer\n",
    "    Warlock\n",
    "    Wizard</span>\n",
    "</code>\n",
    "</div>"
   ]
  },
  {
   "cell_type": "markdown",
   "metadata": {},
   "source": [
    "And you can show all lines except the first X ones by adding a `+` before the number. In this case, the number refers to the line where you start.\n",
    "\n",
    "<br>\n",
    "<div style=\"background-color:#222D32; color:#FFF\">\n",
    "    <code style=\"background-color:#222D32; color:#FFF\">&emsp;(TAB)<b><span style=\"color:#86CBBB\">1244149@MRB014</span>:<span style=\"color:#ffddad\">~/Desktop/DND</span></b>$ tail -n +3 classes.txt\n",
    "    <span style=\"color:#FFF\">Bard\n",
    "    Cleric\n",
    "    Druid\n",
    "    Fighter\n",
    "    Monk\n",
    "    Paladin\n",
    "    Ranger\n",
    "    Rogue\n",
    "    Sorcerer\n",
    "    Warlock\n",
    "    Wizard</span>\n",
    "</code>\n",
    "</div>"
   ]
  },
  {
   "cell_type": "markdown",
   "metadata": {},
   "source": [
    "<center>\n",
    "        <img src=\"https://i.pinimg.com/originals/f9/d9/87/f9d98745802f8abe704e8b739be0dc21.jpg\" width=50%>\n",
    "</center>"
   ]
  },
  {
   "cell_type": "markdown",
   "metadata": {},
   "source": [
    "There are two more commands (pun not intended) to see the contents of a file: **`more`** and **`less`**. These two commands allow you to see the contents one \"page\" at a time from the beginning to the end. The difference between them is that `less` is faster than `more` because it does not load the whole file and it allows to go back and forward.\n",
    "\n",
    "You can try these commands in the part 7 of this practical."
   ]
  },
  {
   "cell_type": "markdown",
   "metadata": {},
   "source": [
    "###  <i class=\"fa fa-cogs\"></i> Getting information from a file\n",
    "\n",
    "Sometimes, you need to find a specific line in your file, or count words, or obtain any other information from your file. This can be done automatically using some commands, avoiding the tedious task of opening the file and doing it yourself (which is almost imposible with files like the ones in FASTA format).\n",
    "\n",
    "The first command you will learn is **`grep`**. `grep` filters lines that contain (or not) a given string of characters. It accepts regular expressions and is case sensitive.\n",
    "\n",
    "<br>\n",
    "<div style=\"background-color:#222D32; color:#FFF\">\n",
    "    <code style=\"background-color:#222D32; color:#FFF\">&emsp;(TAB)<b><span style=\"color:#86CBBB\">1244149@MRB014</span>:<span style=\"color:#ffddad\">~/Desktop/DND</span></b>$ grep \"Fire\" spells.txt\n",
    "    Delayed Blast <span style=\"color:#DB3A34\">Fire</span>ball    7    Evocation    1 action    Yes\n",
    "    Faerie <span style=\"color:#DB3A34\">Fire</span>               1    Evocation    1 action    Yes\n",
    "    <span style=\"color:#DB3A34\">Fire</span> Bolt                 0    Evocation    1 action    No\n",
    "    <span style=\"color:#DB3A34\">Fire</span> Shield               4    Evocation    1 action    No\n",
    "    <span style=\"color:#DB3A34\">Fire</span> Storm                7    Evocation    1 action    No\n",
    "    <span style=\"color:#DB3A34\">Fire</span>ball                  3    Evocation    1 action    No\n",
    "    Wall of <span style=\"color:#DB3A34\">Fire</span>              4    Evocation    1 action    Yes\n",
    "</code>\n",
    "</div>"
   ]
  },
  {
   "cell_type": "markdown",
   "metadata": {},
   "source": [
    "There are additional options to use with `grep` that will allow you to make more sophisticated filters.\n",
    "\n",
    "<br>\n",
    "<div style=\"background-color:#ffddad;\">  \n",
    "    <i class=\"fa fa-info-circle\"></i> You can see all the options available for any command by typing <code><b>man</b></code> followed by the command name.\n",
    "</div>\n",
    "\n",
    "For instance, you can use **`grep -i`** to **ignore case**, **`grep -v`** to filter lines that **do not** contain the pattern, **`grep -E`** to filter **more than one pattern** (different patterns are specified using `|`), or **`grep -n`** to **print line numbers**.\n",
    "\n",
    "A couple of useful options are **`grep -c`** and **`grep -cw`**, which count the number of lines that contain the pattern. Let's see the difference with an example:\n",
    "\n",
    "<br>\n",
    "<div style=\"background-color:#222D32; color:#FFF\">\n",
    "    <code style=\"background-color:#222D32; color:#FFF\">&emsp;(TAB)<b><span style=\"color:#86CBBB\">1244149@MRB014</span>:<span style=\"color:#ffddad\">~/Desktop/DND</span></b>$ grep -c \"Fire\" spells.txt\n",
    "    <span style=\"color:#FFF\">7\n",
    "</code>\n",
    "</div>"
   ]
  },
  {
   "cell_type": "markdown",
   "metadata": {},
   "source": [
    "<div style=\"background-color:#222D32; color:#FFF\">\n",
    "    <code style=\"background-color:#222D32; color:#FFF\">&emsp;(TAB)<b><span style=\"color:#86CBBB\">1244149@MRB014</span>:<span style=\"color:#ffddad\">~/Desktop/DND</span></b>$ grep -cw \"Fire\" spells.txt\n",
    "    <span style=\"color:#FFF\">5\n",
    "</code>\n",
    "</div>"
   ]
  },
  {
   "cell_type": "markdown",
   "metadata": {},
   "source": [
    "`grep -cw` counts less lines than `grep -c` because the `w` option refers to \"word\". `grep -cw` counts the lines that contain the word *Fire*, while `grep -c` counts also the lines with words that contain the pattern *Fire*. You can check the count by checking the output of the first `grep` example."
   ]
  },
  {
   "cell_type": "markdown",
   "metadata": {},
   "source": [
    "Speaking of counting words, the command **`wc`** is used to count the number of **lines**, **words**, and **characters** (respectively) of a file.\n",
    "\n",
    "<br>\n",
    "<div style=\"background-color:#222D32; color:#FFF\">\n",
    "    <code style=\"background-color:#222D32; color:#FFF\">&emsp;(TAB)<b><span style=\"color:#86CBBB\">1244149@MRB014</span>:<span style=\"color:#ffddad\">~/Desktop/DND</span></b>$ wc classes.txt\n",
    "    <span style=\"color:#FFF\">13 13 96 classes.txt</span>\n",
    "</code>\n",
    "</div>\n",
    "\n",
    "The options `wc -l`, `wc -w` and `wc -c` only print the number of lines, words and characters, respectively."
   ]
  },
  {
   "cell_type": "markdown",
   "metadata": {},
   "source": [
    "Sometimes, like in the `spells.txt` file above, information is stored in fields separated by `TAB`s, dots, spaces or any other character. You may want to obtain the content of a specific field. In this case, you should use the command **`cut`**. This command extracts the field given to the **`-f`** option. Let's see an example:\n",
    "\n",
    "<br>\n",
    "<div style=\"background-color:#222D32; color:#FFF\">\n",
    "    <code style=\"background-color:#222D32; color:#FFF\">&emsp;(TAB)<b><span style=\"color:#86CBBB\">1244149@MRB014</span>:<span style=\"color:#ffddad\">~/Desktop/DND</span></b>$ cut -f1 spells.txt\n",
    "    Abi-Dalzim's Horrid Wilting\n",
    "    Absorb Elements\n",
    "    Acid Splash\n",
    "    Aganazzar's Scorcher\n",
    "    Aid\n",
    "    Alarm (Ritual)\n",
    "    [...]\n",
    "</code>\n",
    "</div>"
   ]
  },
  {
   "cell_type": "markdown",
   "metadata": {},
   "source": [
    "The above code extracts the first field (`f1`) separated by `TAB`. By default, `cut` expects TAB-separated values. If you have fields separated by any other character, you must specify it with the option `-d\"separator\"`.\n",
    "\n",
    "<br>\n",
    "<div style=\"background-color:#222D32; color:#FFF\">\n",
    "    <code style=\"background-color:#222D32; color:#FFF\">&emsp;(TAB)<b><span style=\"color:#86CBBB\">1244149@MRB014</span>:<span style=\"color:#ffddad\">~/Desktop/DND</span></b>$ cut -f4 -d\" \" spells.txt </code>\n",
    "</div>"
   ]
  },
  {
   "cell_type": "markdown",
   "metadata": {},
   "source": [
    "You can also select more than one field with a comma. For example, here, fields 1 and 3 are selected\n",
    "\n",
    "<br>\n",
    "<div style=\"background-color:#222D32; color:#FFF\">\n",
    "    <code style=\"background-color:#222D32; color:#FFF\">&emsp;(TAB)<b><span style=\"color:#86CBBB\">1244149@MRB014</span>:<span style=\"color:#ffddad\">~/Desktop/DND</span></b>$ cut -f1,3 spells.txt\n",
    "    Abi-Dalzim's Horrid Wilting    Necromancy\n",
    "    Absorb Elements                Abjuration\n",
    "    Acid Splash                    Conjuration\n",
    "    Aganazzar's Scorcher           Evocation\n",
    "    Aid                            Abjuration\n",
    "    Alarm (Ritual)                 Abjuration\n",
    "    [...]\n",
    "</code>\n",
    "</div>"
   ]
  },
  {
   "cell_type": "markdown",
   "metadata": {},
   "source": [
    "When selecting a range of non-alternating fields, you use a hyphen.\n",
    "\n",
    "<br>\n",
    "<div style=\"background-color:#222D32; color:#FFF\">\n",
    "    <code style=\"background-color:#222D32; color:#FFF\">&emsp;(TAB)<b><span style=\"color:#86CBBB\">1244149@MRB014</span>:<span style=\"color:#ffddad\">~/Desktop/DND</span></b>$ cut -f1-3 spells.txt\n",
    "    Abi-Dalzim's Horrid Wilting    8    Necromancy\n",
    "    Absorb Elements                1    Abjuration\n",
    "    Acid Splash                    0    Conjuration\n",
    "    Aganazzar's Scorcher           2    Evocation\n",
    "    Aid                            2    Abjuration\n",
    "    Alarm (Ritual)                 1    Abjuration\n",
    "    [...]\n",
    "</code>\n",
    "</div>"
   ]
  },
  {
   "cell_type": "markdown",
   "metadata": {},
   "source": [
    "In the above example, fields from 1 to 3 have been selected. If you need files from X field to the last, do not write a second number after the hyphen."
   ]
  },
  {
   "cell_type": "markdown",
   "metadata": {},
   "source": [
    "The next command, **`uniq`**, is very useful for files with repeated lines. You can remove all the repetitions but one (`uniq`), obtain ONLY the lines that are not repeated (`uniq -u`), the lines that are repeated (`uniq -d`) and even count the number of times each line is repeated (`uniq -c`)."
   ]
  },
  {
   "cell_type": "markdown",
   "metadata": {},
   "source": [
    "###  <i class=\"fa fa-cogs\"></i> Modifying the contents of a file\n",
    "\n",
    "It is likely that you do not want to obtain certain information but modify something in the file. In the next section you will learn how to save the outputs into files. For now, you'll see some commands that could be used to alter the contents of a file.\n",
    "\n",
    "In python, the method `translate` allows you to substitute a character by another one. The command **`tr`** does the same in Linux. Imagine that you want to transcribe the following DNA sequence into RNA.\n",
    "\n",
    "<br>\n",
    "<div style=\"background-color:#222D32; color:#FFF\">\n",
    "    <code style=\"background-color:#222D32; color:#FFF\">&emsp;(TAB)<b><span style=\"color:#86CBBB\">1244149@MRB014</span>:<span style=\"color:#ffddad\">~/Desktop/TAB</span></b>$ cat dna.txt\n",
    "CACGGAGTTGTTTAGTTGTAATTATTGTACGCATAAGGATTGGTATCGTTGGGGGGATAATAAGCA\n",
    "</code>\n",
    "</div>"
   ]
  },
  {
   "cell_type": "markdown",
   "metadata": {},
   "source": [
    "You just have to pass the DNA sequence to `tr` using `|` and change all Ts into Us.\n",
    "\n",
    "<br>\n",
    "<div style=\"background-color:#222D32; color:#FFF\">\n",
    "    <code style=\"background-color:#222D32; color:#FFF\">&emsp;(TAB)<b><span style=\"color:#86CBBB\">1244149@MRB014</span>:<span style=\"color:#ffddad\">~/Desktop/TAB</span></b>$ cat dna.txt | tr 'T' 'U'\n",
    "CACGGAGUUGUUUAGUUGUAAUUAUUGUACGCAUAAGGAUUGGUAUCGUUGGGGGGAUAAUAAGCA\n",
    "</code>\n",
    "</div>"
   ]
  },
  {
   "cell_type": "markdown",
   "metadata": {},
   "source": [
    "<div style=\"background-color:#ffddad;\">  \n",
    "    <i class=\"fa fa-info-circle\"></i> <code>tr</code> does not replace whole patterns. It replaces the first character of the first string to the corresponding character in the second string.\n",
    "</div>\n",
    "\n",
    "The `tr` command can also be used to squeeze letters that are repeated in tandem using **`tr -s`** or to delete a given character from the string using **`tr -d`** (followed in both cases with the character to squeeze/delete)."
   ]
  },
  {
   "cell_type": "markdown",
   "metadata": {},
   "source": [
    "Another useful command is **`sort`**, which, as the name states, orders the lines of a file. By default, lines are order lexicographically (**including numbers**). You can sort in **reverse order** using **`sort -r`**, or sort **by field** using **`sort -k`** (followed by the field number). Numerical sorting can also be specified using **`sort -n`**."
   ]
  },
  {
   "cell_type": "markdown",
   "metadata": {},
   "source": [
    "**`fold`** is a command that may not seem useful at first, but that can be used to obtain information in a very elegant way. This command takes a file and folds the line to fit a specific number of characters (specified using **`-w`**). For examle:\n",
    "\n",
    "<br>\n",
    "<div style=\"background-color:#222D32; color:#FFF\">\n",
    "    <code style=\"background-color:#222D32; color:#FFF\">&emsp;(TAB)<b><span style=\"color:#86CBBB\">1244149@MRB014</span>:<span style=\"color:#ffddad\">~/Desktop/TAB</span></b>$ fold -w 3 dna.txt\n",
    "CAC\n",
    "GGA\n",
    "GTT\n",
    "GTT\n",
    "TAG\n",
    "TTG\n",
    "TAA\n",
    "TTA\n",
    "TTG\n",
    "TAC\n",
    "GCA\n",
    "TAA\n",
    "GGA\n",
    "TTG\n",
    "GTA\n",
    "TCG\n",
    "TTG\n",
    "GGG\n",
    "GGA\n",
    "TAA\n",
    "TAA\n",
    "GCA\n",
    "</code>\n",
    "</div>"
   ]
  },
  {
   "cell_type": "markdown",
   "metadata": {},
   "source": [
    "Finally, there are 3 commands that can be used to combine information from 2 files: `paste`, `join` and `cat`.\n",
    "\n",
    "The difference among them is the way they combine files, **`paste`** combines files **horizontally**, **`join`** **by fields** (first field by default) and **`cat`** **vertically**."
   ]
  },
  {
   "cell_type": "markdown",
   "metadata": {},
   "source": [
    "<div style=\"background-color: #86CBBB; 1px; height:3px \" ></div>\n",
    "\n",
    "# 6. Pipes and redirections\n"
   ]
  },
  {
   "cell_type": "markdown",
   "metadata": {},
   "source": [
    "###  <i class=\"fa fa-cogs\"></i> Pipes\n",
    "\n",
    "Pipelines are created by combining multiple instructions in a row, so that the output of one is the input for the next. In Linux, pipes (**`|`**) work the same way. There was an example above of a pipe, when you learned `tr`. In that case, the output of the `cat` command was sent to `tr` as an input.\n",
    "\n",
    "<br>\n",
    "<div style=\"background-color:#222D32; color:#FFF\">\n",
    "    <code style=\"background-color:#222D32; color:#FFF\">&emsp;(TAB)<b><span style=\"color:#86CBBB\">1244149@MRB014</span>:<span style=\"color:#ffddad\">~/Desktop/TAB</span></b>$ cat dna.txt | tr 'T' 'U'\n",
    "CACGGAGUUGUUUAGUUGUAAUUAUUGUACGCAUAAGGAUUGGUAUCGUUGGGGGGAUAAUAAGCA\n",
    "</code>\n",
    "</div>\n",
    "\n",
    "You can pipe more than two commands at the same time, creating what are called **one-liners**. The following one-liner converts a DNA sequence into RNA, separates each codon in a different line, and then filters only those lines that contain the codon \"UAA\"."
   ]
  },
  {
   "cell_type": "markdown",
   "metadata": {},
   "source": [
    "<div style=\"background-color:#222D32; color:#FFF\">\n",
    "    <code style=\"background-color:#222D32; color:#FFF\">&emsp;(TAB)<b><span style=\"color:#86CBBB\">1244149@MRB014</span>:<span style=\"color:#ffddad\">~/Desktop/TAB</span></b>$ cat dna.txt | tr 'T' 'U' | fold -w 3 | grep \"UAA\"\n",
    "UAA\n",
    "UAA\n",
    "UAA\n",
    "UAA\n",
    "</code>\n",
    "</div>\n",
    "\n",
    "Pipes are very useful for combining many commands without having to create intermediate files that you will have to remove afterwards."
   ]
  },
  {
   "cell_type": "markdown",
   "metadata": {},
   "source": [
    " <i class=\"fa fa-question-circle\"></i> **Combine the commands `cat`, `head` and/or `tail` to print ONLY the 3rd line of the `colors.txt` file that you have created in the `P1_TAB` directory.**"
   ]
  },
  {
   "cell_type": "code",
   "execution_count": 43,
   "metadata": {},
   "outputs": [
    {
     "name": "stdout",
     "output_type": "stream",
     "text": [
      "/Users/alexa/Library/CloudStorage/OneDrive-UniversitaetDuisburg-Essen/Master/UAB/TAB/bioinformatics-intro/P1\n",
      "rojo\n"
     ]
    }
   ],
   "source": [
    "%%bash\n",
    "\n",
    "# Write here the commands used\n",
    "pwd\n",
    "cat P1_TAB/colors.txt | head -n 3 | tail -n 1\n"
   ]
  },
  {
   "cell_type": "markdown",
   "metadata": {},
   "source": [
    "###  <i class=\"fa fa-cogs\"></i> Redirections\n",
    "\n",
    "Until now, all the outputs shown in the examples are displayed in the terminal but not saved in any file. Remember the `>` and `>>` symbols from the above example of the `echo` command? Probably not, but those symbols is used as output redirectors.\n",
    "\n",
    "There are 3 **input/output redirectors**: **`<`**, **`>`**, and **`>>`**.\n",
    "\n",
    "1. **`<`(input file)**: you pass a file as an input to a command.\n",
    "\n",
    "<div style=\"background-color:#222D32; color:#FFF\">\n",
    "    <code style=\"background-color:#222D32; color:#FFF\">&emsp;(TAB)<b><span style=\"color:#86CBBB\">1244149@MRB014</span>:<span style=\"color:#ffddad\">~/Desktop/TAB</span></b>$ cat < dna.txt\n",
    "CACGGAGTTGTTTAGTTGTAATTATTGTACGCATAAGGATTGGTATCGTTGGGGGGATAATAAGCA\n",
    "</code>\n",
    "</div>"
   ]
  },
  {
   "cell_type": "markdown",
   "metadata": {},
   "source": [
    "2. **`>`(output file)**: you save the output of a command into a file, instead of showing it in the terminal. If the file already exists, its content is overwritten.\n",
    "\n",
    "<div style=\"background-color:#222D32; color:#FFF\">\n",
    "    <code style=\"background-color:#222D32; color:#FFF\">&emsp;(TAB)<b><span style=\"color:#86CBBB\">1244149@MRB014</span>:<span style=\"color:#ffddad\">~/Desktop/TAB</span></b>$ cat dna.txt | tr 'T' 'U' > rna.txt\n",
    "</code>\n",
    "</div>"
   ]
  },
  {
   "cell_type": "markdown",
   "metadata": {},
   "source": [
    "<div style=\"background-color:#222D32; color:#FFF\">\n",
    "    <code style=\"background-color:#222D32; color:#FFF\">&emsp;(TAB)<b><span style=\"color:#86CBBB\">1244149@MRB014</span>:<span style=\"color:#ffddad\">~/Desktop/TAB</span></b>$ cat rna.txt\n",
    "CACGGAGUUGUUUAGUUGUAAUUAUUGUACGCAUAAGGAUUGGUAUCGUUGGGGGGAUAAUAAGCA\n",
    "</code>\n",
    "</div>\n"
   ]
  },
  {
   "cell_type": "markdown",
   "metadata": {},
   "source": [
    "3. **`>>`(append file)**: you append the output of a command to a file. If the  file does not exist, it is created.\n",
    "\n",
    "<div style=\"background-color:#222D32; color:#FFF\">\n",
    "    <code style=\"background-color:#222D32; color:#FFF\">&emsp;(TAB)<b><span style=\"color:#86CBBB\">1244149@MRB014</span>:<span style=\"color:#ffddad\">~/Desktop/TAB</span></b>$ echo \"CACGCATCCTCCTTACGCTAGTCTTCTGGATCC\" >> dna.txt\n",
    "</code>\n",
    "</div>"
   ]
  },
  {
   "cell_type": "markdown",
   "metadata": {},
   "source": [
    "<div style=\"background-color:#222D32; color:#FFF\">\n",
    "    <code style=\"background-color:#222D32; color:#FFF\">&emsp;(TAB)<b><span style=\"color:#86CBBB\">1244149@MRB014</span>:<span style=\"color:#ffddad\">~/Desktop/TAB</span></b>$ cat < dna.txt\n",
    "CACGGAGTTGTTTAGTTGTAATTATTGTACGCATAAGGATTGGTATCGTTGGGGGGATAATAAGCA\n",
    "CACGCATCCTCCTTACGCTAGTCTTCTGGATCC\n",
    "</code>\n",
    "</div>"
   ]
  },
  {
   "cell_type": "markdown",
   "metadata": {},
   "source": [
    " <i class=\"fa fa-question-circle\"></i> **Practice redirections: Why don't you run some commands from part 5 again and save their outputs into files?**"
   ]
  },
  {
   "cell_type": "code",
   "execution_count": 51,
   "metadata": {},
   "outputs": [
    {
     "name": "stdout",
     "output_type": "stream",
     "text": [
      "animals.txt\n",
      "color3.txt\n",
      "colors.txt\n"
     ]
    }
   ],
   "source": [
    "%%bash\n",
    "\n",
    "cat P1_TAB/colors.txt | head -n 3 | tail -n 1 > P1_TAB/color3.txt\n",
    "ls P1_TAB"
   ]
  },
  {
   "cell_type": "code",
   "execution_count": null,
   "metadata": {},
   "outputs": [],
   "source": []
  },
  {
   "cell_type": "markdown",
   "metadata": {},
   "source": [
    "<i class=\"fa fa-comment\"></i> ..."
   ]
  },
  {
   "cell_type": "markdown",
   "metadata": {},
   "source": [
    "<div style=\"background-color: #86CBBB; 1px; height:3px \" ></div>\n",
    "\n",
    "# 7. If you don't like to read, you haven't found the right book\n"
   ]
  },
  {
   "cell_type": "markdown",
   "metadata": {},
   "source": [
    "| Group          | Link                           |\n",
    "|--------------|-------------------------------------------------------|\n",
    "| 1 | https://www.gutenberg.org/files/120/120-0.txt |\n",
    "| 2 | https://www.gutenberg.org/files/11/11-0.txt |\n",
    "| 3 | http://www.gutenberg.org/cache/epub/345/pg345.txt |\n",
    "| 4 |  https://www.gutenberg.org/files/46/46-0.txt |\n",
    "| 5 |  http://www.gutenberg.org/cache/epub/26740/pg26740.txt |\n",
    "| 6 |  https://www.gutenberg.org/files/84/84-0.txt |\n",
    "| 7 |  https://www.gutenberg.org/files/1342/1342-0.txt |\n",
    "| 8 |  http://www.gutenberg.org/cache/epub/3748/pg3748.txt |"
   ]
  },
  {
   "cell_type": "markdown",
   "metadata": {},
   "source": [
    " <i class=\"fa fa-question-circle\"></i> **Each group has been assigned a book. Create a directory within your home folder called `TAB_book` and change to that directory. Download your assigned book by typing `wget` followed by the link in the terminal.**"
   ]
  },
  {
   "cell_type": "markdown",
   "metadata": {},
   "source": [
    "**Change the name** of that file to another one that is easier to remember.\n",
    "\n",
    "Then, write the command that would answer the following questions (try to use pipes if you can):\n",
    "\n",
    "<br>\n",
    "<div style=\"background-color:#ffddad;\">  \n",
    "    <i class=\"fa fa-key\"></i> There could be more than one correct answer.\n",
    "</div>\n",
    "\n",
    "<br>\n",
    "<div style=\"background-color:#ffddad;\">  \n",
    "    <i class=\"fa fa-key\"></i> Remember to use <code>less</code> and <code>more</code> instead of <code>cat</code> to see the contents of the file.\n",
    "</div>\n",
    "\n",
    "<br>\n",
    "<div>  \n",
    "    <i class=\"fa fa-info-circle\"></i> Optional: you can save all the outputs into files.\n",
    "</div>\n",
    "\n",
    "####  <i class=\"fa fa-pencil\"></i>  What is the title of the book?\n",
    "(Hint: the line with the title starts with \"Title:\")"
   ]
  },
  {
   "cell_type": "code",
   "execution_count": 72,
   "metadata": {},
   "outputs": [
    {
     "name": "stdout",
     "output_type": "stream",
     "text": [
      "/Users/alexa/Library/CloudStorage/OneDrive-UniversitaetDuisburg-Essen/Master/UAB/TAB/bioinformatics-intro/P1\n"
     ]
    },
    {
     "name": "stderr",
     "output_type": "stream",
     "text": [
      "--2024-10-31 22:08:04--  http://www.gutenberg.org/cache/epub/345/pg345.txt\n",
      "Auflösen des Hostnamens www.gutenberg.org (www.gutenberg.org)… 152.19.134.47, 2610:28:3090:3000:0:bad:cafe:47\n",
      "Verbindungsaufbau zu www.gutenberg.org (www.gutenberg.org)|152.19.134.47|:80 … verbunden.\n",
      "HTTP-Anforderung gesendet, auf Antwort wird gewartet … 302 Found\n",
      "Platz: https://www.gutenberg.org/cache/epub/345/pg345.txt [folgend]\n",
      "--2024-10-31 22:08:04--  https://www.gutenberg.org/cache/epub/345/pg345.txt\n",
      "Verbindungsaufbau zu www.gutenberg.org (www.gutenberg.org)|152.19.134.47|:443 … verbunden.\n",
      "HTTP-Anforderung gesendet, auf Antwort wird gewartet … 200 OK\n",
      "Länge: 890394 (870K) [text/plain]\n",
      "Wird in »pg345.txt« gespeichert.\n",
      "\n",
      "     0K .......... .......... .......... .......... ..........  5%  203K 4s\n",
      "    50K .......... .......... .......... .......... .......... 11%  398K 3s\n",
      "   100K .......... .......... .......... .......... .......... 17% 19,6M 2s\n",
      "   150K .......... .......... .......... .......... .......... 23% 12,4M 1s\n",
      "   200K .......... .......... .......... .......... .......... 28%  344K 1s\n",
      "   250K .......... .......... .......... .......... .......... 34% 2,76M 1s\n",
      "   300K .......... .......... .......... .......... .......... 40% 17,9M 1s\n",
      "   350K .......... .......... .......... .......... .......... 46%  215K 1s\n",
      "   400K .......... .......... .......... .......... .......... 51%  109M 1s\n",
      "   450K .......... .......... .......... .......... .......... 57%  116M 1s\n",
      "   500K .......... .......... .......... .......... .......... 63%  114M 0s\n",
      "   550K .......... .......... .......... .......... .......... 69%  117M 0s\n",
      "   600K .......... .......... .......... .......... .......... 74% 87,2M 0s\n",
      "   650K .......... .......... .......... .......... .......... 80%  116M 0s\n",
      "   700K .......... .......... .......... .......... .......... 86% 90,1M 0s\n",
      "   750K .......... .......... .......... .......... .......... 92%  111M 0s\n",
      "   800K .......... .......... .......... .......... .......... 97% 1,97M 0s\n",
      "   850K .......... .........                                  100% 12,1M=0,8s\n",
      "\n",
      "2024-10-31 22:08:06 (1,05 MB/s) - »pg345.txt« gespeichert [890394/890394]\n",
      "\n"
     ]
    }
   ],
   "source": [
    "%%bash\n",
    "\n",
    "#creation of directory + download\n",
    "pwd\n",
    "mkdir TAB_book\n",
    "cd TAB_book/\n",
    "wget http://www.gutenberg.org/cache/epub/345/pg345.txt\n",
    "mv pg345.txt book.txt"
   ]
  },
  {
   "cell_type": "code",
   "execution_count": 73,
   "metadata": {},
   "outputs": [
    {
     "name": "stdout",
     "output_type": "stream",
     "text": [
      "Title: Dracula\n"
     ]
    }
   ],
   "source": [
    "%%bash\n",
    "\n",
    "# What is the title?\n",
    "grep \"Title\" TAB_book/book.txt"
   ]
  },
  {
   "cell_type": "markdown",
   "metadata": {},
   "source": [
    "<i class=\"fa fa-comment\"></i> ..."
   ]
  },
  {
   "cell_type": "markdown",
   "metadata": {},
   "source": [
    "####  <i class=\"fa fa-pencil\"></i>  Who is the author?\n",
    "(Hint: the line with the author starts with \"Author:\". Try to remove the word \"Author:\" from the output by considering each word a field separated by a space)"
   ]
  },
  {
   "cell_type": "code",
   "execution_count": 85,
   "metadata": {},
   "outputs": [
    {
     "name": "stdout",
     "output_type": "stream",
     "text": [
      "Bram Stoker\n"
     ]
    }
   ],
   "source": [
    "%%bash\n",
    "grep -w \"Author\" TAB_book/book.txt | cut -f2,3 -d\" \""
   ]
  },
  {
   "cell_type": "markdown",
   "metadata": {},
   "source": [
    "<i class=\"fa fa-comment\"></i> ..."
   ]
  },
  {
   "cell_type": "markdown",
   "metadata": {},
   "source": [
    "####  <i class=\"fa fa-pencil\"></i>  Translate all the `i`s into `a`s and save it into a file.\n",
    "(Hint: both upper and lower case letters)"
   ]
  },
  {
   "cell_type": "code",
   "execution_count": 122,
   "metadata": {},
   "outputs": [],
   "source": [
    "%%bash\n",
    "cd TAB_book\n",
    "cat book.txt | tr \"I\" \"A\" | tr \"i\" \"a\" > no_i.txt"
   ]
  },
  {
   "cell_type": "markdown",
   "metadata": {},
   "source": [
    "<i class=\"fa fa-comment\"></i> ..."
   ]
  },
  {
   "cell_type": "markdown",
   "metadata": {},
   "source": [
    "####  <i class=\"fa fa-pencil\"></i>  Count the number of lines in the file that do NOT contain the word \"a\".\n",
    "(Hint: filter first the lines that do not contain that specific word -not character- and then count the lines)."
   ]
  },
  {
   "cell_type": "code",
   "execution_count": 108,
   "metadata": {},
   "outputs": [
    {
     "name": "stdout",
     "output_type": "stream",
     "text": [
      "lines without a:\n",
      "13218\n"
     ]
    }
   ],
   "source": [
    "%%bash\n",
    "\n",
    "echo \"lines without a:\"\n",
    "grep -cwv \"a\" TAB_book/book.txt"
   ]
  },
  {
   "cell_type": "markdown",
   "metadata": {},
   "source": [
    "<i class=\"fa fa-comment\"></i> ..."
   ]
  },
  {
   "cell_type": "markdown",
   "metadata": {},
   "source": [
    "####  <i class=\"fa fa-pencil\"></i>  How many lines does the book have?\n",
    "(Hint: Omit the lines before the one that says \"\\*\\*\\*START OF THIS PROJECT GUTENBERG EBOOK\\*\\*\\*\" and after the one that says \"\\*\\*\\*END OF THIS PROJECT GUTENBERG\\*\\*\\*\" -those two lines included in the omission- and all empty lines before counting them. Try to find the number of those lines using the command from the previous question).\n",
    "\n",
    "<br>\n",
    "<div style=\"background-color:#ffddad;\">  \n",
    "    <i class=\"fa fa-key\"></i> You can use <code>grep \"\\S\"</code> to find non-empty lines.\n",
    "</div>\n",
    "\n"
   ]
  },
  {
   "cell_type": "code",
   "execution_count": 135,
   "metadata": {},
   "outputs": [
    {
     "name": "stdout",
     "output_type": "stream",
     "text": [
      "23:*** START OF THE PROJECT GUTENBERG EBOOK DRACULA ***\n",
      "15501:*** END OF THE PROJECT GUTENBERG EBOOK DRACULA ***\n",
      "non empty lines:\n",
      "   13064\n"
     ]
    }
   ],
   "source": [
    "%%bash\n",
    "cd TAB_book\n",
    "\n",
    "grep -n \"START OF\" book.txt\n",
    "grep -n \"END OF\" book.txt\n",
    "echo \"non empty lines:\"\n",
    "cat book.txt | head -n 15500 | tail -n +24 | grep \"\\S\" | wc -l"
   ]
  },
  {
   "cell_type": "code",
   "execution_count": 141,
   "metadata": {},
   "outputs": [
    {
     "name": "stdout",
     "output_type": "stream",
     "text": [
      "non empty lines:\n",
      "   13064\n"
     ]
    }
   ],
   "source": [
    "%%bash\n",
    "# trying to find method to do it in one step\n",
    "cd TAB_book\n",
    "\n",
    "echo \"non empty lines:\"\n",
    "cat book.txt | head -n $(( $(grep -n \"END OF\" book.txt | cut -d: -f1) - 1 )) | tail -n +$(($(grep -n \"START OF\" book.txt | cut -d: -f1) + 1)) | grep \"\\S\" | wc -l"
   ]
  },
  {
   "cell_type": "markdown",
   "metadata": {},
   "source": [
    "<i class=\"fa fa-comment\"></i> ..."
   ]
  },
  {
   "cell_type": "markdown",
   "metadata": {},
   "source": [
    "####  <i class=\"fa fa-pencil\"></i>  What is the most common word?\n",
    "(Hint: Split all the text in lines of a word each by changing all spaces to end of lines `\\n`. Then, sort the file and count the number of times each word is repeated)"
   ]
  },
  {
   "cell_type": "code",
   "execution_count": 152,
   "metadata": {},
   "outputs": [
    {
     "name": "stdout",
     "output_type": "stream",
     "text": [
      "6754 the\n",
      "5427 \n",
      "5209 and\n",
      "4194 I\n",
      "4127 to\n",
      "3383 of\n",
      "2624 a\n",
      "2478 \n",
      "2235 in\n",
      "2180 that\n",
      "the is the most common word with 6754 mentions\n"
     ]
    }
   ],
   "source": [
    "%%bash\n",
    "cd TAB_book\n",
    "cat book.txt | tr \" \" \"\\n\" | sort | uniq -c | sort -r > split_book.txt\n",
    "head split_book.txt\n",
    "echo \"the is the most common word with 6754 mentions\""
   ]
  },
  {
   "cell_type": "markdown",
   "metadata": {},
   "source": [
    "<i class=\"fa fa-comment\"></i> ..."
   ]
  },
  {
   "cell_type": "markdown",
   "metadata": {},
   "source": [
    "####  <i class=\"fa fa-pencil\"></i>  Count the number of characters of each type.\n",
    "(Hint: Split all the text in lines of a character each, then sort the file and count the number of times each character is repeated)"
   ]
  },
  {
   "cell_type": "code",
   "execution_count": 158,
   "metadata": {},
   "outputs": [
    {
     "name": "stdout",
     "output_type": "stream",
     "text": [
      "156398  \n",
      "79140 e\n",
      "57206 t\n",
      "52268 a\n",
      "51065 o\n",
      "43886 n\n",
      "42169 h\n",
      "38683 s\n",
      "38337 i\n",
      "35523 r\n",
      "e is the most common character with 79140 mentions\n"
     ]
    }
   ],
   "source": [
    "%%bash\n",
    "# man fold\n",
    "cd TAB_book\n",
    "fold -w 1 book.txt | sort | uniq -c | sort -nr | head\n",
    "echo \"e is the most common character with 79140 mentions\"\n",
    "# sort -n needed for numerical sort, otherwise only first number of whole number is used in sorting leading to 9 > 10 "
   ]
  },
  {
   "cell_type": "markdown",
   "metadata": {},
   "source": [
    "<i class=\"fa fa-comment\"></i> ..."
   ]
  },
  {
   "cell_type": "markdown",
   "metadata": {},
   "source": [
    "####  <i class=\"fa fa-pencil\"></i>  How many times does the name of the main character appear in the book?\n",
    "(Hint: you can look for the book on the internet if you don't know his/her name. Then, take into account that the name can be repeated in the same line by splitting the file in words)"
   ]
  },
  {
   "cell_type": "code",
   "execution_count": 166,
   "metadata": {},
   "outputs": [
    {
     "name": "stdout",
     "output_type": "stream",
     "text": [
      "35\n",
      "194\n",
      "317\n"
     ]
    }
   ],
   "source": [
    "%%bash\n",
    "# main characters are Count Dracula and Helsing\n",
    "# Dracula is addressed either as Count or Dracula\n",
    "cd TAB_book\n",
    "cat book.txt | tr \" \" \"\\n\" | grep -c \"Dracula\"\n",
    "cat book.txt | tr \" \" \"\\n\" | grep -c \"Count\"\n",
    "cat book.txt | tr \" \" \"\\n\" | grep -c \"Helsing\""
   ]
  },
  {
   "cell_type": "markdown",
   "metadata": {},
   "source": [
    "<i class=\"fa fa-comment\"></i> ..."
   ]
  },
  {
   "cell_type": "markdown",
   "metadata": {},
   "source": [
    "<div style=\"background-color: #86CBBB; 1px; height:3px \" ></div>\n",
    "\n",
    "# The end: Integrative exercise\n"
   ]
  },
  {
   "cell_type": "markdown",
   "metadata": {},
   "source": [
    "In your research group you're analyzing the proteome (the set of proteins expressed by an organism or cell) of different species. This information is available for downloading here: https://github.com/marta-coronado/TAB-data-figs/raw/refs/heads/main/PFAM_seqs.zip\n",
    "\n",
    "Integrating different commands that you have learn during this practical, answer the following questions:\n",
    "\n",
    "1. Once you have downloaded the data (use `wget`!), unzip the file with the proper function according to the type of compression.\n",
    "2. Indicate the basic properties of this data: how many folders and files have you unzipped? How is the size of the files and folers? How many lines do they have? etc.\n",
    "\n",
    "Move the entire folder to the `P1_TAB` folder, into a folder called <code>IntegrativeExerciseP1</code>. Answer the following biological questions:\n",
    "\n",
    "1. How many proteins does the human proteome have? And the mouse? (The human proteome is stored in the file <code>Homo_sapiens.GRCh38.pep.all.fa</code>and the mouse proteome in <code>Mus_musculus.GRCm38.pep.all.fa</code> and has the structure of a regular fasta file)\n",
    "2. Find, for all the files that contain the longest protein (the files that have the extension `.liso`), how many sequences they have contained\n",
    "3. List all protein names without the comment (the comment always starts after the first space in the sequence identifier of the fasta file)\n",
    "4. How many genes are contained in the human genome?\n",
    "5. How many genes have a single isoform?\n",
    "6. How many genes have more than one isoform?\n",
    "7. How many domains are there in the human proteome? How many are different? (The domains are in the file `Homo_sapiens.GRCh38.pep.all.fa.liso.dom` and always start with the identifier PF. Since the file is separated with multiple spaces, use the command `sed -r 's/ +/ /g '` to remove them by a single space first)\n",
    "8. How many times it is found the 19th most frequent domain? Which domain it is?\n"
   ]
  },
  {
   "cell_type": "code",
   "execution_count": 8,
   "metadata": {},
   "outputs": [
    {
     "name": "stdout",
     "output_type": "stream",
     "text": [
      "P1_Nico.ipynb\n",
      "P1_alexa.ipynb\n",
      "\u001b[34mPFAM_seqs\u001b[m\u001b[m\n",
      "pfam\n",
      "Gallus_gallus.Galgal4.pep.all.fa.liso.dom\n",
      "Homo_sapiens.GRCh38.pep.all.fa.liso.dom\n",
      "Mus_musculus.GRCm38.pep.all.fa.liso.dom\n",
      "seqs\n",
      "Gallus_gallus.Galgal4.pep.all.fa.liso\n",
      "Homo_sapiens.GRCh38.pep.all.fa\n",
      "Homo_sapiens.GRCh38.pep.all.fa.liso\n",
      "Mus_musculus.GRCm38.pep.all.fa\n",
      "Mus_musculus.GRCm38.pep.all.fa.liso\n",
      "2 folders with 3 / 5 files; total size 4.7MB\n"
     ]
    }
   ],
   "source": [
    "%%bash\n",
    "ls\n",
    "cd PFAM_seqs\n",
    "echo \"pfam\"\n",
    "ls pfam/\n",
    "echo \"seqs\"    \n",
    "ls seqs/\n",
    "echo \"2 folders with 3 / 5 files; total size 4.7MB\" "
   ]
  },
  {
   "cell_type": "code",
   "execution_count": 27,
   "metadata": {},
   "outputs": [
    {
     "name": "stdout",
     "output_type": "stream",
     "text": [
      "/Users/alexa/Library/CloudStorage/OneDrive-UniversitaetDuisburg-Essen/Master/UAB/TAB/bioinformatics-intro/P1\n",
      "number of lines containing a ESNP protein code:\n",
      "102915\n",
      "control for double proteins by creating file with only protein names\n",
      "  102915 protein_names.txt\n",
      "creation of files worked, same number of ENSP codes\n",
      "number of proteins mentioned more than once:\n",
      "       0 double_prot.txt\n",
      "102915 proteins in human proteom\n"
     ]
    }
   ],
   "source": [
    "%%bash\n",
    "\n",
    "# Q1: how many proteins does the proteom have?\n",
    "pwd\n",
    "cd PFAM_seqs/seqs/\n",
    "echo \"number of lines containing a ESNP protein code:\"\n",
    "cat Homo_sapiens.GRCh38.pep.all.fa | grep -c \">ENSP\"\n",
    "echo \"control for double proteins by creating file with only protein names\"\n",
    "cat Homo_sapiens.GRCh38.pep.all.fa | tr \" \" \"\\n\" | grep \">ENSP\" > protein_names.txt\n",
    "wc -l protein_names.txt\n",
    "echo \"creation of files worked, same number of ENSP codes\"\n",
    "echo \"number of proteins mentioned more than once:\"\n",
    "uniq -d protein_names.txt > double_prot.txt\n",
    "wc -w double_prot.txt\n",
    "echo \"102915 proteins in human proteom\""
   ]
  },
  {
   "cell_type": "code",
   "execution_count": 34,
   "metadata": {},
   "outputs": [
    {
     "name": "stdout",
     "output_type": "stream",
     "text": [
      "/Users/alexa/Library/CloudStorage/OneDrive-UniversitaetDuisburg-Essen/Master/UAB/TAB/bioinformatics-intro/P1\n",
      ">ENSMUSP00000142546.1 pep:known chromosome:GRCm38:14:54113468:54113476:1 gene:ENSMUSG00000096749.2 transcript:ENSMUST00000196221.1 gene_biotype:TR_D_gene transcript_biotype:TR_D_gene gene_symbol:Trdd1 description:T cell receptor delta diversity 1 [Source:MGI Symbol;Acc:MGI:4439547]\n",
      "number of lines containing a ENSMUSP protein code:\n",
      "58668\n",
      "control for double proteins by creating file with only protein names\n",
      "   58668 protein_names.txt\n",
      "creation of files worked, same number of ENSP codes\n",
      "number of proteins mentioned more than once:\n",
      "       0 double_prot.txt\n",
      "58668 proteins in mouse proteom\n"
     ]
    }
   ],
   "source": [
    "%%bash\n",
    "\n",
    "# Q1: How many proteins does mouse proteom have?\n",
    "\n",
    "pwd\n",
    "cd PFAM_seqs/seqs/\n",
    "head -n1 Mus_musculus.GRCm38.pep.all.fa\n",
    "echo \"number of lines containing a ENSMUSP protein code:\"\n",
    "cat Mus_musculus.GRCm38.pep.all.fa | grep -c \">ENSMUSP\"\n",
    "echo \"control for double proteins by creating file with only protein names\"\n",
    "cat Mus_musculus.GRCm38.pep.all.fa | tr \" \" \"\\n\" | grep \">ENSMUSP\" > protein_names.txt\n",
    "wc -l protein_names.txt\n",
    "echo \"creation of files worked, same number of ENSP codes\"\n",
    "echo \"number of proteins mentioned more than once:\"\n",
    "uniq -d protein_names.txt > double_prot.txt\n",
    "wc -w double_prot.txt\n",
    "echo \"58668 proteins in mouse proteom\""
   ]
  },
  {
   "cell_type": "code",
   "execution_count": null,
   "metadata": {},
   "outputs": [],
   "source": []
  }
 ],
 "metadata": {
  "kernelspec": {
   "display_name": "Python 3 (ipykernel)",
   "language": "python",
   "name": "python3"
  },
  "language_info": {
   "codemirror_mode": {
    "name": "ipython",
    "version": 3
   },
   "file_extension": ".py",
   "mimetype": "text/x-python",
   "name": "python",
   "nbconvert_exporter": "python",
   "pygments_lexer": "ipython3",
   "version": "3.12.2"
  }
 },
 "nbformat": 4,
 "nbformat_minor": 4
}
