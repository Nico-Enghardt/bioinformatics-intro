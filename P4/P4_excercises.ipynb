{
 "cells": [
  {
   "cell_type": "markdown",
   "metadata": {
    "colab_type": "text",
    "editable": true,
    "id": "R46-rwd4hNMn",
    "slideshow": {
     "slide_type": ""
    },
    "tags": []
   },
   "source": [
    "# Practical session: Machine Learning Applications "
   ]
  },
  {
   "cell_type": "markdown",
   "metadata": {},
   "source": [
    "## Application of machine learning for the discovery of transcription factor binding sites (TFBS)"
   ]
  },
  {
   "cell_type": "markdown",
   "metadata": {
    "colab_type": "text",
    "id": "eiiwjw4yhX0P"
   },
   "source": [
    "This tutorial has been developed using the original file and supplement to the manuscript, **A Primer on Deep Learning in Genomics** (*Nature Genetics, 2018*) by James Zou, Mikael Huss, Abubakar Abid, Pejman Mohammadi, Ali Torkamani & Amalio Telentil. [Read the accompanying paper here](https://www.nature.com/articles/s41588-018-0295-5).\n",
    "\n",
    "Find the original tutorial in the Github site [here](https://github.com/abidlabs/deep-learning-genomics-primer/tree/master) or available as a jupyter notebook in Google Colab: <a href=\"https://colab.research.google.com/github/abidlabs/deep-learning-genomics-primer/blob/master/A_Primer_on_Deep_Learning_in_Genomics_Public.ipynb\" target=\"_parent\"><img src=\"https://colab.research.google.com/assets/colab-badge.svg\" alt=\"Open In Colab\"/></a>"
   ]
  },
  {
   "cell_type": "markdown",
   "metadata": {},
   "source": [
    "To check that the correct environment is activated, load the following libraries"
   ]
  },
  {
   "cell_type": "code",
   "execution_count": 8,
   "metadata": {
    "colab": {
     "base_uri": "https://localhost:8080/",
     "height": 204
    },
    "colab_type": "code",
    "id": "B_F7VoAMhLiX",
    "outputId": "ac75f1bd-27c7-4abc-94ed-b81f81ed453f"
   },
   "outputs": [],
   "source": [
    "## load some modules to test the environment works appropriately\n",
    "import numpy as np\n",
    "import pandas as pd\n",
    "import matplotlib.pyplot as plt\n",
    "import requests\n",
    "import sklearn\n",
    "import tensorflow as tf\n",
    "\n",
    "## Load modules\n",
    "from tensorflow.keras.layers import Conv1D, Dense, MaxPooling1D, Flatten\n",
    "from tensorflow.keras.models import Sequential"
   ]
  },
  {
   "cell_type": "markdown",
   "metadata": {
    "colab_type": "text",
    "id": "fb-0kBFAts0-"
   },
   "source": [
    "## 0. Background"
   ]
  },
  {
   "cell_type": "markdown",
   "metadata": {
    "colab_type": "text",
    "id": "QABdxctitugX"
   },
   "source": [
    "In this practical, we will show how to use deep learning to approach an important problem in functional genomics: **the discovery of transcription-factor binding sites in DNA**.\n",
    "\n",
    "As we go through this notebook, we will  design a [neural network](https://www.geeksforgeeks.org/neural-networks-a-beginners-guide/?ref=gcse) that can discover binding motifs in DNA based on the results of an assay that determines whether a longer DNA sequence binds to the protein or not. Here, the longer **DNA sequences are our *independent variables*** (or *predictors*), while the **positive or negative response of the assay is the *dependent variable* (or *response*)**.\n",
    "\n",
    "We will use simulated data that consists of DNA sequences of length 50 bases (chosen to be artificially short so that the data is easy to play around with), and is labeled with 0 or 1 depending on the result of the assay. Our goal is to build a classifier that can predict whether a particular sequence will bind to the protein and discover the short motif that is the binding site in the sequences that are bound to the protein.\n",
    "\n",
    "(Spoiler alert: the true regulatory motif is *`CGACCGAACTCC`*. Of course, the neural network doesn't know this.)\n"
   ]
  },
  {
   "cell_type": "markdown",
   "metadata": {
    "colab_type": "text",
    "id": "aK7wr8n8gzQ_"
   },
   "source": [
    "## 1. Curate the Data"
   ]
  },
  {
   "cell_type": "markdown",
   "metadata": {
    "colab_type": "text",
    "id": "QRMSFdUSubgX"
   },
   "source": [
    "We will split the data into three different sub-datasets:\n",
    "\n",
    "**(1) Training dataset**: a dataset used to fit the parameters of a model or to define the weights of connections between neurons of a neural network.\n",
    "\n",
    "**(2) Validation dataset**: a second dataset used to minimize overfitting. The weights of the network are not adjusted with this data set. After each training cycle, if the accuracy over the training data set increases, but the accuracy over the validation data set stays the same or decreases, then there is overfitting on the neural network.\n",
    "\n",
    "**(3) Testing dataset**: is a third dataset not included in the training nor validation data sets. After all the training and validation cycles are complete, this dataset is used only for testing the final solution in order to measure the actual predictive power of the neural network on new examples.\n",
    "\n",
    "\n"
   ]
  },
  {
   "cell_type": "markdown",
   "metadata": {},
   "source": [
    "We start by loading the simulated data from the original repository"
   ]
  },
  {
   "cell_type": "code",
   "execution_count": 9,
   "metadata": {},
   "outputs": [
    {
     "data": {
      "text/plain": [
       "2000"
      ]
     },
     "execution_count": 9,
     "metadata": {},
     "output_type": "execute_result"
    }
   ],
   "source": [
    "SEQUENCES_URL = 'https://raw.githubusercontent.com/abidlabs/deep-learning-genomics-primer/master/sequences.txt'\n",
    "sequences = requests.get(SEQUENCES_URL).text.split('\\n')\n",
    "\n",
    "# This removes empty sequences if any\n",
    "sequences = list(filter(None, sequences))  \n",
    "len(sequences)"
   ]
  },
  {
   "cell_type": "markdown",
   "metadata": {},
   "source": [
    "#### 2b) Hot-one encode all sequences "
   ]
  },
  {
   "cell_type": "code",
   "execution_count": 10,
   "metadata": {},
   "outputs": [],
   "source": [
    "# just load modules and create objects again just in case\n",
    "from sklearn.preprocessing import LabelEncoder, OneHotEncoder\n",
    "integer_encoder = LabelEncoder()  \n",
    "one_hot_encoder = OneHotEncoder(categories='auto') "
   ]
  },
  {
   "cell_type": "code",
   "execution_count": 11,
   "metadata": {},
   "outputs": [],
   "source": [
    "## 2) one-hot encode the simulated DNA sequence\n",
    "input_features = []\n",
    "for sequence in sequences:\n",
    "    if len(sequence) == 0:\n",
    "        print(\"Stop\")\n",
    "    integer_encoded = integer_encoder.fit_transform(list(sequence))\n",
    "    integer_encoded = np.array(integer_encoded).reshape(-1, 1)\n",
    "    one_hot_encoded = one_hot_encoder.fit_transform(integer_encoded)\n",
    "    input_features.append(one_hot_encoded.toarray())\n",
    "\n",
    "## convert to numpy array\n",
    "np.set_printoptions(threshold=40)\n",
    "input_features = np.stack(input_features)"
   ]
  },
  {
   "cell_type": "code",
   "execution_count": 12,
   "metadata": {},
   "outputs": [
    {
     "name": "stdout",
     "output_type": "stream",
     "text": [
      "Example sequence\n",
      "-----------------------\n",
      "DNA Sequence #1:\n",
      " CCGAGGGCTA ... CGCGGACACC\n",
      "One hot encoding of Sequence #1:\n",
      " [[0. 0. 0. ... 1. 0. 0.]\n",
      " [1. 1. 0. ... 0. 1. 1.]\n",
      " [0. 0. 1. ... 0. 0. 0.]\n",
      " [0. 0. 0. ... 0. 0. 0.]]\n"
     ]
    }
   ],
   "source": [
    "## show another example of the encoding\n",
    "print(\"Example sequence\\n-----------------------\")\n",
    "print('DNA Sequence #1:\\n',sequences[0][:10],'...',sequences[0][-10:])\n",
    "print('One hot encoding of Sequence #1:\\n',input_features[0].T)"
   ]
  },
  {
   "cell_type": "code",
   "execution_count": 13,
   "metadata": {},
   "outputs": [
    {
     "data": {
      "text/plain": [
       "(2000, 50, 4)"
      ]
     },
     "execution_count": 13,
     "metadata": {},
     "output_type": "execute_result"
    }
   ],
   "source": [
    "input_features.shape # (examples, sequence, base)"
   ]
  },
  {
   "cell_type": "markdown",
   "metadata": {},
   "source": [
    "The _input_features_ is the object containing the information from DNA sequences one-hot encoded to use as input for the neural network. It is stored as tensor (numpy array)"
   ]
  },
  {
   "cell_type": "markdown",
   "metadata": {},
   "source": [
    "#### 3) Get information for each sequence"
   ]
  },
  {
   "cell_type": "code",
   "execution_count": 14,
   "metadata": {
    "colab": {
     "base_uri": "https://localhost:8080/",
     "height": 102
    },
    "colab_type": "code",
    "id": "IA9FJeQkr1Ze",
    "outputId": "3a4449a0-96ba-4d55-8658-1b6f025b3fd8"
   },
   "outputs": [
    {
     "name": "stdout",
     "output_type": "stream",
     "text": [
      "Labels:\n",
      " [['0' '0' '0' ... '0' '1' '1']]\n",
      "One-hot encoded labels:\n",
      " [[1. 1. 1. ... 1. 0. 0.]\n",
      " [0. 0. 0. ... 0. 1. 1.]]\n"
     ]
    }
   ],
   "source": [
    "## download information from original website\n",
    "LABELS_URL = 'https://raw.githubusercontent.com/abidlabs/deep-learning-genomics-primer/master/labels.txt'\n",
    "\n",
    "labels = requests.get(LABELS_URL).text.split('\\n')\n",
    "labels = list(filter(None, labels))  # removes empty sequences\n",
    "\n",
    "labels = np.array(labels).reshape(-1, 1)\n",
    "input_labels = one_hot_encoder.fit_transform(labels).toarray()\n",
    "\n",
    "print('Labels:\\n',labels.T)\n",
    "print('One-hot encoded labels:\\n',input_labels.T)"
   ]
  },
  {
   "cell_type": "markdown",
   "metadata": {},
   "source": [
    "### Prepare the training and test sets"
   ]
  },
  {
   "cell_type": "code",
   "execution_count": 15,
   "metadata": {
    "colab": {},
    "colab_type": "code",
    "id": "P_7LKgvc3Lnn"
   },
   "outputs": [],
   "source": [
    "## load package and split the input information: sequences and labels, as tensors\n",
    "from sklearn.model_selection import train_test_split\n",
    "\n",
    "train_features, test_features, train_labels, test_labels = train_test_split(\n",
    "    input_features, input_labels, test_size=0.25, random_state=123)"
   ]
  },
  {
   "cell_type": "code",
   "execution_count": null,
   "metadata": {},
   "outputs": [],
   "source": [
    "#######################################\n",
    "## create a function to reproduce the model many times\n",
    "#######################################\n",
    "\n",
    "from sklearn.model_selection import train_test_split\n",
    "from sklearn.metrics import confusion_matrix\n",
    "\n",
    "def train_and_evaluate(model, features, labels, epochs=10, test_percentage=0.2, validation_percentage=0.25):\n",
    "    \n",
    "    if model.history:\n",
    "        \n",
    "        print(\"Model has already been trained. Interrupting training...\")\n",
    "        return\n",
    "    \n",
    "    ## split the dataset\n",
    "    train_features, test_features, train_labels, test_labels = train_test_split(\n",
    "        features, labels, test_size=test_percentage)\n",
    "\n",
    "    ## train\n",
    "    history = model.fit(train_features, train_labels, \n",
    "                    epochs=epochs, verbose=0, validation_split=validation_percentage)\n",
    "    \n",
    "    \n",
    "    ## evaluate\n",
    "    loss_and_metrics = model.evaluate(test_features, test_labels, verbose=0)\n",
    "    \n",
    "    print('Accuracy (test set)',loss_and_metrics[1])\n",
    "    \n",
    "    \n",
    "    predicted_labels = model.predict(np.stack(test_features))\n",
    "    cm = confusion_matrix(np.argmax(test_labels, axis=1), \n",
    "                          np.argmax(predicted_labels, axis=1))\n",
    "    cm = cm.astype('float') / cm.sum(axis = 1)[:, np.newaxis]\n",
    "\n",
    "    ## create plots\n",
    "    create_plots(history, cm)\n",
    "\n",
    "    \n"
   ]
  },
  {
   "cell_type": "code",
   "execution_count": 35,
   "metadata": {},
   "outputs": [],
   "source": [
    "#######################################\n",
    "## create plots model\n",
    "#######################################\n",
    "\n",
    "import itertools\n",
    "def create_plots(history2use_here, cm_given):\n",
    "    \n",
    "    # Initialise the subplot function using number of rows and columns\n",
    "    figure, axis = plt.subplots(1, 3, figsize=(12, 6))    \n",
    "    \n",
    "    ## plot the results training as LOSS curve\n",
    "    axis[0].plot(history2use_here.history['loss'])\n",
    "    axis[0].plot(history2use_here.history['val_loss'])\n",
    "    axis[0].set_title('model loss')\n",
    "    axis[0].set_ylabel('loss')\n",
    "    axis[0].set_xlabel('epoch')\n",
    "    axis[0].legend(['train', 'validation'])\n",
    "    \n",
    "    ## plot accuracy curve\n",
    "    axis[1].plot(history2use_here.history['binary_accuracy'])\n",
    "    axis[1].plot(history2use_here.history['val_binary_accuracy'])\n",
    "    axis[1].set_title('model accuracy')\n",
    "    axis[1].set_ylabel('accuracy')\n",
    "    axis[1].set_xlabel('epoch')\n",
    "    axis[1].legend(['train', 'validation'])\n",
    "    \n",
    "    #figure.legend(['train', 'validation'], loc='outside right upper')\n",
    "\n",
    "    ## plot the confusion matrix for True/False observed/predicted\n",
    "    axis[2].imshow(cm_given, cmap=plt.cm.Blues)\n",
    "    axis[2].set_title('Normalized confusion matrix')\n",
    "    axis[2].set_xlabel('True label')\n",
    "    axis[2].set_ylabel('Predicted label')\n",
    "    axis[2].set_xticks([0, 1]); \n",
    "    axis[2].set_yticks([0, 1])\n",
    "    axis[2].grid('off')\n",
    "    for i, j in itertools.product(range(cm_given.shape[0]), range(cm_given.shape[1])):\n",
    "        axis[2].text(j, i, format(cm_given[i, j], '.2f'),\n",
    "                 horizontalalignment='center',\n",
    "                 color='white' if cm_given[i, j] > 0.5 else 'black')\n",
    "\n",
    "    \n",
    "    # Combine all the operations and display\n",
    "    plt.show()"
   ]
  },
  {
   "cell_type": "markdown",
   "metadata": {},
   "source": [
    "## Question 1:\n",
    "The verbose parameter decides wether a visualisation of the current progress is shown during training. It can be set to:\n",
    "0 > no process shown\n",
    "1 > process bar\n",
    "2 > prints a summary line after each epoch. (details like loss and metrics)"
   ]
  },
  {
   "cell_type": "markdown",
   "metadata": {},
   "source": [
    "## Question 2:\n",
    "Reducing the dense layers from 16 to 10 does not decrease the share of correctly predicted labels shown in the normalized confusion matrix.\n",
    "However the loss is higher and increases over the iterations (epoches). Additionally the model accuracy does not reach the same level for training versus validation data. However this difference is very small, ranging around 3 percentage points."
   ]
  },
  {
   "cell_type": "code",
   "execution_count": 40,
   "metadata": {},
   "outputs": [
    {
     "name": "stdout",
     "output_type": "stream",
     "text": [
      "Accuracy (test set) 0.7200000286102295\n",
      "16/16 [==============================] - 0s 2ms/step\n"
     ]
    },
    {
     "data": {
      "image/png": "[encoded data removed]",
      "text/plain": [
       "<Figure size 1200x600 with 3 Axes>"
      ]
     },
     "metadata": {},
     "output_type": "display_data"
    },
    {
     "name": "stdout",
     "output_type": "stream",
     "text": [
      "Model has already been trained. Iterrupting training...\n"
     ]
    }
   ],
   "source": [
    "# Q2 code\n",
    "model_CNN_HW = Sequential()\n",
    "model_CNN_HW.add(Conv1D(filters=32, kernel_size=12, \n",
    "                 input_shape=(input_features.shape[1], 4)))\n",
    "model_CNN_HW.add(MaxPooling1D(pool_size=4))\n",
    "model_CNN_HW.add(Flatten())\n",
    "model_CNN_HW.add(Dense(10, activation='relu')) ## reduced from 16 to 10 \n",
    "model_CNN_HW.add(Dense(2, activation='softmax'))\n",
    "\n",
    "model_CNN_HW.compile(loss='binary_crossentropy', optimizer='adam', \n",
    "              metrics=['binary_accuracy'])\n",
    "\n",
    "train_and_evaluate(model_CNN_HW, input_features, input_labels, epochs=1, test_percentage=0.25)\n",
    "train_and_evaluate(model_CNN_HW, input_features, input_labels, epochs=10, test_percentage=0.25)"
   ]
  },
  {
   "cell_type": "code",
   "execution_count": null,
   "metadata": {},
   "outputs": [],
   "source": [
    "model_CNN_HW.summary() "
   ]
  },
  {
   "cell_type": "code",
   "execution_count": null,
   "metadata": {},
   "outputs": [],
   "source": [
    "model_CNN_HW.compile(loss='binary_crossentropy', optimizer='adam', \n",
    "             metrics=['binary_accuracy'])\n",
    "\n",
    "layers10_CNN = model_CNN_HW.fit(train_features, train_labels, \n",
    "                    epochs=50, verbose=0, validation_split=0.25)"
   ]
  },
  {
   "cell_type": "code",
   "execution_count": null,
   "metadata": {},
   "outputs": [],
   "source": [
    "# analysis of performance with only 10 dense layers\n",
    "create_plots(layers10_CNN, cm_given=cm)"
   ]
  },
  {
   "cell_type": "markdown",
   "metadata": {},
   "source": [
    "## Question 3:\n",
    "Effect of changing epoch: Lower epoch values do not decrease the share of corretly predicted labels shown in the normalized confusion matrix.\n",
    "Higher epoch values lead to the function needing more time. Model loss and model accuracy for the validation data increased with higher epoche values.\n"
   ]
  },
  {
   "cell_type": "code",
   "execution_count": null,
   "metadata": {},
   "outputs": [],
   "source": [
    "model_CNN_HW = Sequential()\n",
    "model_CNN_HW.add(Conv1D(filters=32, kernel_size=12, \n",
    "                 input_shape=(train_features.shape[1], 4)))\n",
    "model_CNN_HW.add(MaxPooling1D(pool_size=4))\n",
    "model_CNN_HW.add(Flatten())\n",
    "model_CNN_HW.add(Dense(16, activation='relu'))\n",
    "model_CNN_HW.add(Dense(2, activation='softmax'))\n",
    "\n",
    "model_CNN_HW.compile(loss='binary_crossentropy', optimizer='adam', \n",
    "             metrics=['binary_accuracy'])\n",
    "\n",
    "epoch2 = model_CNN_HW.fit(train_features, train_labels, \n",
    "                    epochs=2, verbose=0, validation_split=0.25)\n",
    "create_plots(epoch2, cm_given=cm)"
   ]
  },
  {
   "cell_type": "code",
   "execution_count": null,
   "metadata": {},
   "outputs": [],
   "source": [
    "model_CNN_HW = Sequential()\n",
    "model_CNN_HW.add(Conv1D(filters=32, kernel_size=12, \n",
    "                 input_shape=(train_features.shape[1], 4)))\n",
    "model_CNN_HW.add(MaxPooling1D(pool_size=4))\n",
    "model_CNN_HW.add(Flatten())\n",
    "model_CNN_HW.add(Dense(16, activation='relu'))\n",
    "model_CNN_HW.add(Dense(2, activation='softmax'))\n",
    "\n",
    "model_CNN_HW.compile(loss='binary_crossentropy', optimizer='adam', \n",
    "             metrics=['binary_accuracy'])\n",
    "\n",
    "epoch1000 = model_CNN_HW.fit(train_features, train_labels, \n",
    "                    epochs=1000, verbose=0, validation_split=0.25)\n",
    "create_plots(epoch1000, cm_given=cm)"
   ]
  },
  {
   "cell_type": "code",
   "execution_count": null,
   "metadata": {},
   "outputs": [],
   "source": [
    "model_CNN_HW = Sequential()\n",
    "model_CNN_HW.add(Conv1D(filters=32, kernel_size=12, \n",
    "                 input_shape=(train_features.shape[1], 4)))\n",
    "model_CNN_HW.add(MaxPooling1D(pool_size=4))\n",
    "model_CNN_HW.add(Flatten())\n",
    "model_CNN_HW.add(Dense(16, activation='relu'))\n",
    "model_CNN_HW.add(Dense(2, activation='softmax'))\n",
    "\n",
    "model_CNN_HW.compile(loss='binary_crossentropy', optimizer='adam', \n",
    "             metrics=['binary_accuracy'])\n",
    "\n",
    "epoch100 = model_CNN_HW.fit(train_features, train_labels, \n",
    "                    epochs=100, verbose=0, validation_split=0.25)\n",
    "create_plots(epoch100, cm_given=cm)"
   ]
  },
  {
   "cell_type": "markdown",
   "metadata": {},
   "source": [
    "## Question 4: \n",
    "Higher share of validation data decreases model loss on validation data. Normalized confusion matrix stays unchanged"
   ]
  },
  {
   "cell_type": "code",
   "execution_count": null,
   "metadata": {},
   "outputs": [],
   "source": [
    "# code Q4\n",
    "test75 = model_CNN.fit(train_features, train_labels, \n",
    "                    epochs=50, verbose=0, validation_split=0.75)\n",
    "create_plots(test75, cm_given=cm)"
   ]
  },
  {
   "cell_type": "code",
   "execution_count": null,
   "metadata": {},
   "outputs": [],
   "source": [
    "# code Q4\n",
    "test50 = model_CNN.fit(train_features, train_labels, \n",
    "                    epochs=50, verbose=0, validation_split=0.5)\n",
    "create_plots(test50, cm_given=cm)"
   ]
  },
  {
   "cell_type": "markdown",
   "metadata": {},
   "source": [
    "## Questions to address:\n",
    "\n",
    "- Find what is the effect of the verbose parameter in the _model.fit()_ [or supplied as _verb_2use_ the _example_CNN()_]\n",
    "- Test the effect of applying a more simple model [Hint: reduce layers of the model]\n",
    "- Test the effect of epoch in the prediction: 2, 5, 10, 25, 50, 100, 1000\n",
    "- Test the effect of applying a different test/train set partition\n"
   ]
  },
  {
   "cell_type": "markdown",
   "metadata": {
    "colab_type": "text",
    "id": "UBdJQC1Ug__3"
   },
   "source": [
    "## 5. Interpret the results"
   ]
  },
  {
   "cell_type": "markdown",
   "metadata": {
    "colab_type": "text",
    "id": "6qmKi1ResqHo"
   },
   "source": [
    "![alt text](https://github.com/abidlabs/deep-learning-genomics-primer/blob/master/Screenshot%20from%202018-08-01%2020-32-31.png?raw=true)"
   ]
  },
  {
   "cell_type": "markdown",
   "metadata": {
    "colab_type": "text",
    "id": "UpAwoK9SwAbb"
   },
   "source": [
    "Your results so far should allow you to conclude that the neural network is quite effective in learning to distinguish sequences that bind the protein from sequences that do not. But can we understand _why_ the neural network classifies a training point in the way that it does? To do so, we can compute a simple _saliency map_, which is the gradient of the model's prediction with respect to each individual nucleotide. \n",
    "\n",
    "In other words, the saliency maps shows how the output response value changes with respect to a small changes in input nucleotide sequence. All the positive values in the gradients tell us that a small change to that nucleotide will change the output value. Hence, visualizing these gradients for a given input sequence, should provide some clues about what nucleotides form the binding motive that we are trying to identify."
   ]
  },
  {
   "cell_type": "code",
   "execution_count": null,
   "metadata": {},
   "outputs": [],
   "source": [
    "#import tensorflow.keras.backend as K\n",
    "import keras.backend as K\n",
    "\n",
    "def compute_salient_bases(model, x):\n",
    "    @tf.function\n",
    "    def compute_gradients(x):\n",
    "        with tf.GradientTape() as tape:\n",
    "            tape.watch(x)\n",
    "            logits = model(x)\n",
    "            prob = logits[:, 1]  # Assuming binary classification, change the index if needed\n",
    "        gradients = tape.gradient(prob, x)\n",
    "        return gradients\n",
    "\n",
    "    x_value = np.expand_dims(x, axis=0)\n",
    "    gradients = compute_gradients(x_value)\n",
    "    gradients = tf.where(gradients == None, tf.zeros_like(gradients), gradients)\n",
    "    sal = tf.reduce_sum(gradients * x, axis=2)\n",
    "    sal = tf.clip_by_value(sal, clip_value_min=0, clip_value_max=tf.reduce_max(sal))\n",
    "    return sal.numpy()"
   ]
  },
  {
   "cell_type": "code",
   "execution_count": null,
   "metadata": {},
   "outputs": [],
   "source": [
    "## Positive sequence\n",
    "sequence_index = 1999  \n",
    "sal = compute_salient_bases(model_CNN, input_features[sequence_index])\n",
    "\n",
    "plt.figure(figsize=[16,5])\n",
    "barlist = plt.bar(np.arange(len(sal[0])), sal[0])\n",
    "[barlist[i].set_color('C1') for i in range(5,17)]  # Change the coloring here if you change the sequence index.\n",
    "plt.xlabel('Bases')\n",
    "plt.ylabel('Magnitude of saliency values')\n",
    "plt.xticks(np.arange(len(sal[0])), list(sequences[sequence_index]));\n",
    "plt.title('Saliency map for bases in one of the positive sequences'\n",
    "          ' (orange indicates the actual bases in motif)');"
   ]
  },
  {
   "cell_type": "code",
   "execution_count": null,
   "metadata": {},
   "outputs": [],
   "source": [
    "# negative sequence\n",
    "sequence_index = 0  \n",
    "sal = compute_salient_bases(model_CNN, input_features[sequence_index])\n",
    "\n",
    "plt.figure(figsize=[16,5])\n",
    "barlist = plt.bar(np.arange(len(sal[0])), sal[0])\n",
    "[barlist[i].set_color('C1') for i in range(5,17)]  # Change the coloring here if you change the sequence index.\n",
    "plt.xlabel('Bases')\n",
    "plt.ylabel('Magnitude of saliency values')\n",
    "plt.xticks(np.arange(len(sal[0])), list(sequences[sequence_index]));\n",
    "plt.title('Saliency map for bases in one of the negative sequences'\n",
    "          ' (orange indicates the actual bases in motif)');"
   ]
  },
  {
   "cell_type": "markdown",
   "metadata": {
    "colab_type": "text",
    "id": "voPIrz9TPtIH"
   },
   "source": [
    "The results above should show high saliency values for the bases _CGACCGAACTCC_ appearing in the DNA sequence. If you recall from the top of the document, this is exactly the motif that we embedded in the positive sequences! The raw saliency values may be non-zero for other bases as well -- the gradient-based saliency map method is not perfect, and there other more complex interpretation methods that are used in practice to obtain better results.  \n",
    "\n",
    "Furthermore, we may explore other architectures for our neural network to see if we can improve performance on the validation dataset. For example, we could choose different _hyper-parameters_, which are variables that define the network structure (e.g. the number of dense or convolutional layers, the dimensionality of each layer, etc.) and variables that determine how the network is trained (e.g. the number of epochs, the learning rate, etc.). Testing different hyper-parameter values or performing a hyper-parameter search grid are good practices that may help the deep learning procedure to obtain a clearer signal for classifying sequences and identifying the binding motif."
   ]
  },
  {
   "cell_type": "markdown",
   "metadata": {
    "colab_type": "text",
    "id": "1lGpn-5IZ3VN"
   },
   "source": [
    "## Acknowledgements "
   ]
  },
  {
   "cell_type": "markdown",
   "metadata": {
    "colab_type": "text",
    "id": "BVFi5aDBZ7M8"
   },
   "source": [
    "Thanks to Julia di lulio and Raquel Dias for helpful comments and suggestions in preparing this notebook."
   ]
  },
  {
   "cell_type": "markdown",
   "metadata": {},
   "source": [
    "## References and examples\n",
    "- https://www.kdnuggets.com/2018/05/wtf-tensor.html\n",
    "- https://www.geeksforgeeks.org/implementing-neural-networks-using-tensorflow/ \n",
    "- https://www.geeksforgeeks.org/neural-networks-a-beginners-guide/?ref=gcse\n",
    "- https://wandb.ai/mostafaibrahim17/ml-articles/reports/A-Deep-Dive-Into-Learning-Curves-in-Machine-Learning--Vmlldzo0NjA1ODY0\n",
    "- https://machinelearningmastery.com/binary-classification-tutorial-with-the-keras-deep-learning-library/\n",
    "- https://www.bmc.com/blogs/keras-neural-network-classification/"
   ]
  },
  {
   "cell_type": "markdown",
   "metadata": {
    "colab_type": "text",
    "id": "vY3uDUtcLwXe"
   },
   "source": [
    "# GitHub Repository"
   ]
  },
  {
   "cell_type": "markdown",
   "metadata": {
    "colab_type": "text",
    "id": "U8soCi3qLzmc"
   },
   "source": [
    "If you found this tutorial helpful, kindly star the [associated GitHub repo](https://github.com/abidlabs/deep-learning-genomics-primer/blob/master/A_Primer_on_Deep_Learning_in_Genomics_Public.ipynb) so that it is more visible to others as well!"
   ]
  }
 ],
 "metadata": {
  "accelerator": "GPU",
  "colab": {
   "collapsed_sections": [],
   "include_colab_link": true,
   "name": "A Primer on Deep Learning in Genomics - Public.ipynb",
   "provenance": [],
   "version": "0.3.2"
  },
  "kernelspec": {
   "display_name": "Python 3",
   "language": "python",
   "name": "python3"
  },
  "language_info": {
   "codemirror_mode": {
    "name": "ipython",
    "version": 3
   },
   "file_extension": ".py",
   "mimetype": "text/x-python",
   "name": "python",
   "nbconvert_exporter": "python",
   "pygments_lexer": "ipython3",
   "version": "3.10.11"
  }
 },
 "nbformat": 4,
 "nbformat_minor": 4
}
