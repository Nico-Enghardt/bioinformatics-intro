{
 "cells": [
  {
   "cell_type": "markdown",
   "metadata": {
    "colab_type": "text",
    "id": "R46-rwd4hNMn"
   },
   "source": [
    "# Practical session: Machine Learning Applications "
   ]
  },
  {
   "cell_type": "markdown",
   "metadata": {},
   "source": [
    "## Application of machine learning for the discovery of transcription factor binding sites (TFBS)"
   ]
  },
  {
   "cell_type": "markdown",
   "metadata": {
    "colab_type": "text",
    "id": "eiiwjw4yhX0P"
   },
   "source": [
    "This tutorial has been developed using the original file and supplement to the manuscript, **A Primer on Deep Learning in Genomics** (*Nature Genetics, 2018*) by James Zou, Mikael Huss, Abubakar Abid, Pejman Mohammadi, Ali Torkamani & Amalio Telentil. [Read the accompanying paper here](https://www.nature.com/articles/s41588-018-0295-5).\n",
    "\n",
    "Find the original tutorial in the Github site [here](https://github.com/abidlabs/deep-learning-genomics-primer/tree/master) or available as a jupyter notebook in Google Colab: <a href=\"https://colab.research.google.com/github/abidlabs/deep-learning-genomics-primer/blob/master/A_Primer_on_Deep_Learning_in_Genomics_Public.ipynb\" target=\"_parent\"><img src=\"https://colab.research.google.com/assets/colab-badge.svg\" alt=\"Open In Colab\"/></a>"
   ]
  },
  {
   "cell_type": "markdown",
   "metadata": {
    "colab_type": "text",
    "id": "qVh9frJDgVQ-"
   },
   "source": [
    "## Outline "
   ]
  },
  {
   "cell_type": "markdown",
   "metadata": {
    "colab_type": "text",
    "id": "qVh9frJDgVQ-"
   },
   "source": [
    "* **How to Use This Tutorial**\n",
    "* **Introduction to data types**\n",
    "* **0. Background** \n",
    "* **1. Curate the Data**\n",
    "* **2. Select the Architecture and Train**\n",
    "* **3. Evaluate**\n",
    "* **4. Interpret**"
   ]
  },
  {
   "cell_type": "markdown",
   "metadata": {},
   "source": [
    "## How to Use This Tutorial "
   ]
  },
  {
   "cell_type": "markdown",
   "metadata": {},
   "source": [
    "You must be already familar with python notebook files. Python notebook combine live code, visualizations, and explanatory text. \n",
    "\n",
    "The notebook is organized into a series of cells. You can modify the Python command and execute each cell as you would a Jupyter notebook. Although it is possible to run all of the cells at once, by choosing **Runtime > Run all** from the menu bar, it is discourage as the practical session it is intented to be execute it chunk by chunk, reading and understanding what is going on. Also, at the end, there are some modifications required for the succesful completion of the practical session."
   ]
  },
  {
   "cell_type": "markdown",
   "metadata": {},
   "source": [
    "**ATTENTION**: This is an interactive file, in this case, within a computational enviroment that contains the necessary packages to be executed. If you want to succesfully execute this notebook you will need to run it in the UAB linux computers or install several packages such as:\n",
    "- scikit-learn\n",
    "- tensorflow\n",
    "- seaborn\n",
    "- matplotlib\n",
    "- requests\n",
    "- pandas\n",
    "- numpy\n",
    "- biopython"
   ]
  },
  {
   "cell_type": "markdown",
   "metadata": {},
   "source": [
    "All necessary packages have been previously installed and tested in a computer within a conda environment. The conda configuration has been exported and donwloaded into a file: _deep_learning_env.yaml_, available in github [here](https://raw.githubusercontent.com/JFsanchezherrero/machine_learning_TFBS/refs/heads/main/deep_learning_env.yaml).\n",
    "\n",
    "You can create a new environment and import the same configuration as it was used before. Read additionals details on how to import and existing environment in the original Anaconda Documentation [site](https://docs.anaconda.com/navigator/tutorials/manage-environments/#importing-an-environment)"
   ]
  },
  {
   "cell_type": "markdown",
   "metadata": {},
   "source": [
    "To check that the correct environment is activated, load the following libraries"
   ]
  },
  {
   "cell_type": "code",
   "execution_count": 1,
   "metadata": {},
   "outputs": [
    {
     "name": "stdout",
     "output_type": "stream",
     "text": [
      "Package                         Version\n",
      "------------------------------- --------------------\n",
      "absl-py                         1.2.0\n",
      "accelerate                      0.22.0\n",
      "aiofiles                        23.2.1\n",
      "aiohttp                         3.8.5\n",
      "aiosignal                       1.3.1\n",
      "altgraph                        0.17.4\n",
      "amazon-textract-caller          0.2.3\n",
      "amazon-textract-response-parser 1.0.2\n",
      "amazon-textract-textractor      1.7.10\n",
      "annotated-types                 0.7.0\n",
      "antlr4-python3-runtime          4.9.3\n",
      "anyio                           3.6.2\n",
      "appdirs                         1.4.4\n",
      "argon2-cffi                     21.3.0\n",
      "argon2-cffi-bindings            21.2.0\n",
      "arrow                           1.2.3\n",
      "astor                           0.8.1\n",
      "asttokens                       2.2.1\n",
      "astunparse                      1.6.3\n",
      "async-lru                       2.0.2\n",
      "async-timeout                   4.0.3\n",
      "attrs                           23.2.0\n",
      "audioread                       3.0.0\n",
      "Automat                         22.10.0\n",
      "azure-ai-documentintelligence   1.0.0b3\n",
      "azure-core                      1.30.1\n",
      "Babel                           2.12.1\n",
      "backcall                        0.2.0\n",
      "backports.tarfile               1.2.0\n",
      "beautifulsoup4                  4.11.2\n",
      "beautifultable                  1.1.0\n",
      "black                           23.7.0\n",
      "bleach                          6.0.0\n",
      "boto3                           1.34.85\n",
      "botocore                        1.34.85\n",
      "bottle                          0.12.25\n",
      "bs4                             0.0.1\n",
      "build                           1.0.0\n",
      "cachetools                      5.2.0\n",
      "certifi                         2022.6.15\n",
      "cffi                            1.15.1\n",
      "charset-normalizer              2.1.1\n",
      "ci-info                         0.3.0\n",
      "click                           8.1.3\n",
      "click-plugins                   1.1.1\n",
      "cligj                           0.7.2\n",
      "colorama                        0.4.5\n",
      "comm                            0.1.2\n",
      "common                          0.1.2\n",
      "configobj                       5.0.8\n",
      "configparser                    7.0.0\n",
      "constantly                      15.1.0\n",
      "contourpy                       1.3.1\n",
      "cryptography                    39.0.1\n",
      "cssselect                       1.1.0\n",
      "cycler                          0.11.0\n",
      "Cython                          3.0.11\n",
      "data                            0.4\n",
      "datasets                        2.14.4\n",
      "dateparser                      1.2.0\n",
      "debugpy                         1.6.6\n",
      "decorator                       5.1.1\n",
      "defusedxml                      0.7.1\n",
      "dill                            0.3.7\n",
      "distlib                         0.3.8\n",
      "distro                          1.9.0\n",
      "dnspython                       2.6.1\n",
      "docker-pycreds                  0.4.0\n",
      "dual                            0.1.0\n",
      "dynamo3                         0.4.10\n",
      "editdistance                    0.8.1\n",
      "elementpath                     4.4.0\n",
      "email_validator                 2.2.0\n",
      "entrypoints                     0.4\n",
      "et-xmlfile                      1.1.0\n",
      "etelemetry                      0.3.1\n",
      "evaluate                        0.4.0\n",
      "exceptiongroup                  1.2.0\n",
      "executing                       1.2.0\n",
      "exif                            1.6.0\n",
      "fastapi                         0.112.2\n",
      "fastjsonschema                  2.17.1\n",
      "filelock                        3.15.4\n",
      "Fiona                           1.9.4.post1\n",
      "fire                            0.6.0\n",
      "fitz                            0.0.1.dev2\n",
      "Flask                           2.2.2\n",
      "flatbuffers                     22.12.6\n",
      "flywheel                        0.5.4\n",
      "fonttools                       4.37.1\n",
      "fqdn                            1.5.1\n",
      "frontend                        0.0.3\n",
      "frozenlist                      1.4.0\n",
      "fsspec                          2023.9.0\n",
      "funcsigs                        1.0.2\n",
      "fuzzywuzzy                      0.18.0\n",
      "gast                            0.4.0\n",
      "geopandas                       0.13.2\n",
      "gitdb                           4.0.10\n",
      "GitPython                       3.1.31\n",
      "google                          3.0.0\n",
      "google-api-core                 2.18.0\n",
      "google-auth                     2.29.0\n",
      "google-auth-oauthlib            0.4.6\n",
      "google-cloud                    0.34.0\n",
      "google-cloud-documentai         2.27.0\n",
      "google-pasta                    0.2.0\n",
      "googleapis-common-protos        1.63.0\n",
      "groq                            0.10.0\n",
      "grpcio                          1.62.2\n",
      "grpcio-status                   1.62.2\n",
      "h11                             0.14.0\n",
      "h5py                            3.7.0\n",
      "hatch                           1.12.0\n",
      "hatchling                       1.25.0\n",
      "httpcore                        1.0.5\n",
      "httplib2                        0.22.0\n",
      "httpx                           0.27.0\n",
      "huggingface-hub                 0.16.4\n",
      "hydra-core                      1.3.2\n",
      "hyperlink                       21.0.0\n",
      "icloudpd                        1.17.3\n",
      "idna                            3.3\n",
      "imageio                         2.35.1\n",
      "imgaug                          0.4.0\n",
      "importlib_metadata              8.2.0\n",
      "imutils                         0.5.4\n",
      "incremental                     22.10.0\n",
      "iniconfig                       2.0.0\n",
      "ipykernel                       6.21.1\n",
      "ipython                         8.10.0\n",
      "ipython-genutils                0.2.0\n",
      "isodate                         0.6.1\n",
      "isoduration                     20.11.0\n",
      "isort                           5.12.0\n",
      "itemadapter                     0.7.0\n",
      "itemloaders                     1.0.6\n",
      "itsdangerous                    2.1.2\n",
      "jaraco.classes                  3.4.0\n",
      "jaraco.context                  5.3.0\n",
      "jaraco.functools                4.0.2\n",
      "jedi                            0.18.2\n",
      "Jinja2                          3.1.2\n",
      "jiter                           0.5.0\n",
      "jmespath                        1.0.1\n",
      "joblib                          1.2.0\n",
      "json5                           0.9.14\n",
      "jsonpointer                     2.3\n",
      "jsonschema                      4.17.3\n",
      "jupyter_client                  7.4.9\n",
      "jupyter_core                    5.2.0\n",
      "jupyter-events                  0.6.3\n",
      "jupyter-lsp                     2.1.0\n",
      "jupyter_server                  2.5.0\n",
      "jupyter_server_terminals        0.4.4\n",
      "jupyterlab                      4.0.0\n",
      "jupyterlab-pygments             0.2.2\n",
      "jupyterlab_server               2.22.1\n",
      "keras                           2.11.0\n",
      "Keras-Preprocessing             1.1.2\n",
      "keyring                         25.3.0\n",
      "kiwisolver                      1.4.4\n",
      "lazy_loader                     0.4\n",
      "libclang                        14.0.6\n",
      "librosa                         0.10.0.post2\n",
      "llvmlite                        0.39.1\n",
      "lmdb                            1.5.1\n",
      "looseversion                    1.3.0\n",
      "lxml                            4.9.1\n",
      "Markdown                        3.4.1\n",
      "markdown-it-py                  3.0.0\n",
      "MarkupSafe                      2.1.1\n",
      "marshmallow                     3.21.2\n",
      "matplotlib                      3.9.2\n",
      "matplotlib-inline               0.1.7\n",
      "mdurl                           0.1.2\n",
      "mido                            1.2.10\n",
      "minify_html                     0.10.8\n",
      "mistune                         2.0.5\n",
      "more-itertools                  10.3.0\n",
      "mpmath                          1.2.1\n",
      "msgpack                         1.0.5\n",
      "multidict                       6.0.4\n",
      "multiprocess                    0.70.15\n",
      "mypy                            1.5.1\n",
      "mypy-extensions                 1.0.0\n",
      "nbclassic                       1.0.0\n",
      "nbclient                        0.8.0\n",
      "nbconvert                       7.4.0\n",
      "nbformat                        5.8.0\n",
      "nest-asyncio                    1.5.6\n",
      "networkx                        3.0\n",
      "nibabel                         5.2.1\n",
      "nipype                          1.8.6\n",
      "notebook                        6.5.4\n",
      "notebook_shim                   0.2.3\n",
      "numba                           0.56.4\n",
      "numpy                           1.26.4\n",
      "oauthlib                        3.2.0\n",
      "omegaconf                       2.3.0\n",
      "openai                          1.42.0\n",
      "opencv-contrib-python           4.10.0.84\n",
      "opencv-python                   4.10.0.84\n",
      "openpyxl                        3.1.2\n",
      "opt-einsum                      3.3.0\n",
      "outcome                         1.3.0.post0\n",
      "packaging                       24.1\n",
      "paddle                          1.0.2\n",
      "paddleocr                       2.8.0\n",
      "paddlepaddle                    2.6.1\n",
      "pandas                          2.2.3\n",
      "pandocfilters                   1.5.0\n",
      "parsel                          1.7.0\n",
      "parso                           0.8.3\n",
      "pathlib                         1.0.1\n",
      "pathspec                        0.11.2\n",
      "pathtools                       0.1.2\n",
      "patsy                           1.0.1\n",
      "pdf2image                       1.17.0\n",
      "peewee                          3.17.6\n",
      "pefile                          2024.8.26\n",
      "pexpect                         4.9.0\n",
      "phonenumbers                    8.12.57\n",
      "pickleshare                     0.7.5\n",
      "pillow                          10.4.0\n",
      "pinnstorch                      0.1.2\n",
      "pip                             24.2\n",
      "pip-autoremove                  0.10.0\n",
      "pip-tools                       7.3.0\n",
      "platformdirs                    4.2.2\n",
      "pluggy                          1.5.0\n",
      "plum-py                         0.8.7\n",
      "pooch                           1.6.0\n",
      "pretty-midi                     0.2.10\n",
      "prometheus-client               0.16.0\n",
      "prompt-toolkit                  3.0.36\n",
      "Protego                         0.2.1\n",
      "proto-plus                      1.23.0\n",
      "protobuf                        3.20.2\n",
      "prov                            2.0.0\n",
      "prox                            0.0.17\n",
      "psutil                          5.9.4\n",
      "ptyprocess                      0.7.0\n",
      "pure-eval                       0.2.2\n",
      "py-cpuinfo                      9.0.0\n",
      "pyarrow                         13.0.0\n",
      "pyasn1                          0.4.8\n",
      "pyasn1-modules                  0.2.8\n",
      "pyclipper                       1.3.0.post5\n",
      "pycparser                       2.21\n",
      "pydantic                        2.8.2\n",
      "pydantic_core                   2.20.1\n",
      "PyDispatcher                    2.0.6\n",
      "pyDOE                           0.3.8\n",
      "pydot                           2.0.0\n",
      "pyFluidSynth                    1.3.2\n",
      "pygame                          2.5.2\n",
      "Pygments                        2.14.0\n",
      "pyinstaller                     6.10.0\n",
      "pyinstaller-hooks-contrib       2024.8\n",
      "pymediainfo                     6.0.1\n",
      "pyOpenSSL                       23.0.0\n",
      "pyparsing                       3.0.9\n",
      "pypdf                           4.2.0\n",
      "PyPDF2                          3.0.1\n",
      "pyproj                          3.6.0\n",
      "pyproject_hooks                 1.0.0\n",
      "PyQt6                           6.4.0\n",
      "PyQt6-Qt6                       6.4.0\n",
      "PyQt6-sip                       13.4.0\n",
      "pyquery                         1.4.3\n",
      "pyrsistent                      0.19.3\n",
      "PySocks                         1.7.1\n",
      "pysondb                         1.6.7\n",
      "pytesseract                     0.3.13\n",
      "pytest                          8.3.2\n",
      "python-dateutil                 2.8.2\n",
      "python-docx                     1.1.2\n",
      "python-dotenv                   1.0.1\n",
      "python-geoip-python3            1.3\n",
      "python-json-logger              2.0.7\n",
      "python-multipart                0.0.9\n",
      "pytz                            2022.2.1\n",
      "pywin32                         305\n",
      "pywin32-ctypes                  0.2.2\n",
      "pywinpty                        2.0.10\n",
      "pyxnat                          1.6.2\n",
      "PyYAML                          6.0\n",
      "pyzmq                           24.0.1\n",
      "queuelib                        1.6.2\n",
      "rapidfuzz                       3.8.1\n",
      "rdflib                          7.0.0\n",
      "regex                           2023.8.8\n",
      "requests                        2.32.3\n",
      "requests-file                   1.5.1\n",
      "requests-oauthlib               1.3.1\n",
      "responses                       0.18.0\n",
      "rfc3339-validator               0.1.4\n",
      "rfc3986-validator               0.1.1\n",
      "rich                            13.7.1\n",
      "rootutils                       1.0.7\n",
      "rsa                             4.9\n",
      "ruff                            0.0.287\n",
      "s3transfer                      0.10.1\n",
      "safetensors                     0.3.3\n",
      "scikit-image                    0.24.0\n",
      "scikit-learn                    1.2.1\n",
      "scikit-video                    1.1.11\n",
      "scipy                           1.10.0\n",
      "Scrapy                          2.8.0\n",
      "seaborn                         0.13.2\n",
      "selenium                        4.19.0\n",
      "Send2Trash                      1.8.2\n",
      "sentry-sdk                      1.26.0\n",
      "service-identity                21.1.0\n",
      "setproctitle                    1.3.2\n",
      "setuptools                      75.1.0\n",
      "shapely                         2.0.1\n",
      "shellingham                     1.5.4\n",
      "simplejson                      3.19.2\n",
      "six                             1.16.0\n",
      "smartextract                    0\n",
      "smmap                           5.0.0\n",
      "sniffio                         1.3.0\n",
      "sortedcontainers                2.4.0\n",
      "soundfile                       0.12.1\n",
      "soupsieve                       2.3.2.post1\n",
      "soxr                            0.3.4\n",
      "stack-data                      0.6.2\n",
      "starlette                       0.37.2\n",
      "sympy                           1.11.1\n",
      "tabulate                        0.9.0\n",
      "tensorboard                     2.11.0\n",
      "tensorboard-data-server         0.6.1\n",
      "tensorboard-plugin-wit          1.8.1\n",
      "tensorflow                      2.11.0\n",
      "tensorflow-addons               0.21.0\n",
      "tensorflow-estimator            2.11.0\n",
      "tensorflow-intel                2.11.0\n",
      "tensorflow-io-gcs-filesystem    0.26.0\n",
      "termcolor                       1.1.0\n",
      "terminado                       0.17.1\n",
      "tesseract                       0.1.3\n",
      "thefuzz                         0.22.1\n",
      "thop                            0.1.1.post2209072238\n",
      "threadpoolctl                   3.1.0\n",
      "tifffile                        2024.8.28\n",
      "tight                           0.1.0\n",
      "tinycss2                        1.2.1\n",
      "tldextract                      3.4.0\n",
      "tokenizers                      0.13.3\n",
      "tomli                           2.0.1\n",
      "tomli_w                         1.0.0\n",
      "tomlkit                         0.13.0\n",
      "torch                           2.0.1+cu118\n",
      "torchaudio                      2.0.2+cu118\n",
      "torchvision                     0.15.2+cu118\n",
      "tornado                         6.2\n",
      "tqdm                            4.66.5\n",
      "traitlets                       5.9.0\n",
      "traits                          6.3.2\n",
      "transformers                    4.33.0\n",
      "trio                            0.25.0\n",
      "trio-websocket                  0.11.1\n",
      "trove-classifiers               2024.7.2\n",
      "Twisted                         22.10.0\n",
      "twisted-iocpsupport             1.0.2\n",
      "typeguard                       2.13.3\n",
      "typing_extensions               4.12.2\n",
      "tzdata                          2024.1\n",
      "tzlocal                         5.2\n",
      "ultralytics                     8.3.12\n",
      "ultralytics-thop                2.0.9\n",
      "uri-template                    1.2.0\n",
      "urllib3                         1.26.12\n",
      "userpath                        1.9.2\n",
      "uv                              0.1.44\n",
      "uvicorn                         0.29.0\n",
      "virtualenv                      20.26.3\n",
      "w3lib                           2.1.1\n",
      "waitress                        2.1.2\n",
      "wandb                           0.15.4\n",
      "wcwidth                         0.2.5\n",
      "webcolors                       1.13\n",
      "webencodings                    0.5.1\n",
      "websocket-client                1.5.2\n",
      "Werkzeug                        2.2.2\n",
      "wheel                           0.37.1\n",
      "winshell                        0.6\n",
      "wrapt                           1.14.1\n",
      "wsproto                         1.2.0\n",
      "XlsxWriter                      3.2.0\n",
      "xmlschema                       3.3.1\n",
      "xxhash                          3.3.0\n",
      "yarl                            1.9.2\n",
      "zipp                            3.19.2\n",
      "zope.interface                  5.5.2\n",
      "zstandard                       0.23.0\n"
     ]
    }
   ],
   "source": [
    "!pip list"
   ]
  },
  {
   "cell_type": "code",
   "execution_count": 2,
   "metadata": {
    "colab": {
     "base_uri": "https://localhost:8080/",
     "height": 204
    },
    "colab_type": "code",
    "id": "B_F7VoAMhLiX",
    "outputId": "ac75f1bd-27c7-4abc-94ed-b81f81ed453f"
   },
   "outputs": [],
   "source": [
    "## load some modules to test the environment works appropriately\n",
    "import numpy as np\n",
    "import pandas as pd\n",
    "import requests\n",
    "import sklearn\n",
    "import tensorflow as tf\n",
    "import matplotlib.pyplot as plt"
   ]
  },
  {
   "cell_type": "markdown",
   "metadata": {
    "colab_type": "text",
    "id": "fb-0kBFAts0-"
   },
   "source": [
    "## 0. Background"
   ]
  },
  {
   "cell_type": "markdown",
   "metadata": {
    "colab_type": "text",
    "id": "QABdxctitugX"
   },
   "source": [
    "In this practical, we will show how to use deep learning to approach an important problem in functional genomics: **the discovery of transcription-factor binding sites in DNA**.\n",
    "\n",
    "As we go through this notebook, we will  design a [neural network](https://www.geeksforgeeks.org/neural-networks-a-beginners-guide/?ref=gcse) that can discover binding motifs in DNA based on the results of an assay that determines whether a longer DNA sequence binds to the protein or not. Here, the longer **DNA sequences are our *independent variables*** (or *predictors*), while the **positive or negative response of the assay is the *dependent variable* (or *response*)**.\n",
    "\n",
    "We will use simulated data that consists of DNA sequences of length 50 bases (chosen to be artificially short so that the data is easy to play around with), and is labeled with 0 or 1 depending on the result of the assay. Our goal is to build a classifier that can predict whether a particular sequence will bind to the protein and discover the short motif that is the binding site in the sequences that are bound to the protein.\n",
    "\n",
    "(Spoiler alert: the true regulatory motif is *`CGACCGAACTCC`*. Of course, the neural network doesn't know this.)\n"
   ]
  },
  {
   "cell_type": "markdown",
   "metadata": {
    "colab_type": "text",
    "id": "aK7wr8n8gzQ_"
   },
   "source": [
    "## 1. Curate the Data"
   ]
  },
  {
   "cell_type": "markdown",
   "metadata": {},
   "source": [
    "In order to train the neural network, we must load and preprocess the data, which consists of DNA sequences and their corresponding labels. \n",
    "\n",
    "By processing this data, the network will learn to distinguish sequences that bind to the transcription factor from those that do not. \n"
   ]
  },
  {
   "cell_type": "markdown",
   "metadata": {
    "colab_type": "text",
    "id": "QRMSFdUSubgX"
   },
   "source": [
    "We will split the data into three different sub-datasets:\n",
    "\n",
    "**(1) Training dataset**: a dataset used to fit the parameters of a model or to define the weights of connections between neurons of a neural network.\n",
    "\n",
    "**(2) Validation dataset**: a second dataset used to minimize overfitting. The weights of the network are not adjusted with this data set. After each training cycle, if the accuracy over the training data set increases, but the accuracy over the validation data set stays the same or decreases, then there is overfitting on the neural network.\n",
    "\n",
    "**(3) Testing dataset**: is a third dataset not included in the training nor validation data sets. After all the training and validation cycles are complete, this dataset is used only for testing the final solution in order to measure the actual predictive power of the neural network on new examples.\n",
    "\n",
    "\n"
   ]
  },
  {
   "cell_type": "markdown",
   "metadata": {
    "colab_type": "text",
    "id": "5T-FgQrNq1vS"
   },
   "source": [
    "![alt text](https://github.com/abidlabs/deep-learning-genomics-primer/blob/master/Screenshot%20from%202018-08-01%2020-31-01.png?raw=true)"
   ]
  },
  {
   "cell_type": "markdown",
   "metadata": {},
   "source": [
    "### Let's start the analysis"
   ]
  },
  {
   "cell_type": "markdown",
   "metadata": {},
   "source": [
    "We start by loading the simulated data from the original repository"
   ]
  },
  {
   "cell_type": "code",
   "execution_count": 4,
   "metadata": {},
   "outputs": [
    {
     "name": "stdout",
     "output_type": "stream",
     "text": [
      "['CCGAGGGCTATGGTTTGGAAGTTAGAACCCTGGGGCTTCTCGCGGACACC', 'GAGTTTATATGGCGCGAGCCTAGTGGTTTTTGTACTTGTTTGTCGCGTCG', 'GATCAGTAGGGAAACAAACAGAGGGCCCAGCCACATCTAGCAGGTAGCCT', 'GTCCACGACCGAACTCCCACCTTGACCGCAGAGGTACCACCAGAGCCCTG', 'GGCGACCGAACTCCAACTAGAACCTGCATAACTGGCCTGGGAGATATGGT', 'AGACATTGTCAGAACTTAGTGTGCGCCGCACTGAGCGACCGAACTCCGAC', 'CCCGGCGAAGGCTGACGAATCCTCGACCGAACTCCAGTGAAGCCAACCGG', 'AGGCAGGTGGTCGTACAATGTTTTCGAAGAGATAGGGGGCCAGAGGCCTC', 'TACTGCCTATAGCGAAGAGCGCGAGAGGTATATCGAAGAATACCGAGCAA', 'CGTATCTTCGTGTGCTCTCCTTTAGAACTGCATCTCTAGAGTCAGAGAGG', 'CCCGTTGCCTCATCTATTTTAGTTCTCGACGACCGAACTCCGTCCCGGGA', 'GCCGTCTATATCCAGAATTACTGTTGAGAAAGACGCATACCGTGCATAAT', 'TTTGAGGTTGACGATTACTTTAGTGCTTCTGACGACCGAACTCCGCGGGT', 'CCAGCAAGTCGAAGCTTACTCCATGATTTTTCACCGACCGAACTCCAGTA', 'GGTACGGCTGAGACACACATAATGGATACCAGGAACGACGTCGGCTCGAA', 'CAGACGACAATTCTCTACCACCTCGATTGAATCTAGTATCTTAAATCGGA', 'CCAAGGTGCCAGTCCTTCCTCAATGTTGGGACACACAGTACGAAGATATT', 'ACAGTACGAGCCGATCAATCCAATTCGCACGTGGGTGGGAGTGGTGTGTG', 'GCTCAAAAGAGGAATCATTCGACATTGTTCAACCGACCGAACTCCATCCA', 'CAAGCGACCGAACTCCAATTCAATATACAAGTAAGGTGCGCTTTTTCCTG', 'CAAGCCCCAATTCCCTGGTTTTTTCCCCTGATAGCGTCTCAAAGTGATAG', 'TATATCCGCCCACCGACCGAACTCCCGCCAGTATCCAATGTATATAAAGT', 'CATACATCGTCCGAATGAGACAGCCCGTTTGCTGTATCGACCGAACTCCA', 'CGACAGTCAACTTTGAAAGAGTCAATCGCTTCCGACCGAACTCCTCGCAT', 'ATTCGACCGAACTCCCCCCGAGGCTTGGCGCTTATGTCTATCCGTCAGAT', 'AGAGCATTGTATCCGACCGAACTCCTGTAGTGACAAAACCGTCCTCAATG', 'CATGCCAGGTGGAGCAATGTCAAACCTTTGAATATGGCGTGCATACCCAA', 'TTAGGCCCTTCCCGTGGCCAAGTCCGATAAAACCATGTTTACTATTACCG', 'CAGAACGGATCCCCGGTCCAGCTTGTTGCCTTCGTACGACCGAACTCCGG', 'TAGCTATCATGATCCATAATTGTCAACTCCGCACAAATGAATACCGATCT', 'TCAGCCGCCTGACGTAGAAACCTTGTAACAGCGACCGAACTCCGATCCCG', 'AAATGGCTATCCTTTGATTTCCGAGACCCGTTCTTGACCGGTCAGAACCG', 'GTACACCAGCGTCGGTGGTCGGGATATCCGTCTCACACGACGAGTTACAG', 'CCCGGAATGTATAGCGTTGGATTGCTCGGATCATAGCGACCGAACTCCAA', 'TGATGATTAAATTGCATTACACTCGTGAAACTAATAGTTTGTGTCACAGC', 'GCGGACCGCTTCCGTTAGATGCGCCGCATCACTATTCGACCGAACTCCCC', 'CTTTGCAGCCAAATACACGTGCGACCGAACTCCATAGCCTAATCGTGCAC', 'TCGACCGAACTCCCTGCCTCTCATCGCGGATCACGTCCGCCGAGATAATA', 'TTTCCAATGGCCCTGATAATAGAGGGCATTACCGAATACATGTTGTTAAG', 'ACAAGGGCTAAACGTCGCTGCTATACGGCGGACTACATTCTATAATCGTA', 'AACGTAACTCTTTAGCGCTAGACAAGTATCAGCCGAACATGTACGAACCT', 'GCAGTTTAGGAGAAATGAGTACTCGGTGCAAATGCGGCGACCGAACTCCG', 'ACATACCCTTGCATCCTGTTAAGCTGATCAAAGCTGGGACGTCTCTAGTC', 'AATGGGGTGCGAGTATTATTGCTTTGCAGGCCGAGCACATCCGCCTCTTT', 'CAACCCAACGGTCTGCGACCGAACTCCGACGTCAACCATGTCTACGAAGG', 'GTAAAAGCCTTGCCAGGAGGTCGTCATTCATGGGATGAGCTTAATGGCGA', 'TGTTCCTGCAAAGTAGCTCGAAGATGCGTTGGATGGTGATAAAATAAGTT', 'TTTTCTTCGAGCACCTATACCGATGGGTGTGTCCCCCGGGTTTTCCCAGT', 'GCGAAACTCCTGAGACACGCGTTTCTAGGACCGTCCCGACCGAACTCCTA', 'GTGGGTACGAGTACGACCGAACTCCTTAGCATGACACTGGGTCTGTTTCA', 'AGTCTACAAGTCAACAGGGGACCCCTCTTGTATGTACGACCGAACTCCAC', 'AAGGGGCCTGCAGTTTACAGTAACCTAACAAACTGTGATGCCTTATAACC', 'CGTGCGTAGGTTGCGTAACGAGTACTCTACCGACCGAACTCCAGCGATGA', 'AGAATTGTTGTCAAAAGAAAACACGTATTGTCTTTAACCACAGTTCAACA', 'ACGAAAAGACGTTCCGTTTTCGACCGAACTCCTAGATGACGGCCGCTTTG', 'CGCAGCAGCCCGAATCTTAGGAGTCACGCGGTGTTCGACCGAACTCCCAC', 'TCTAGGATCCACTTATGATACTGTAATGGGATCAGTGCGGCTATCGTACT', 'GTACAATGACCGCGCTATAAATATGCCATCTTACAACCGGTCGTTTGCAT', 'GCAGACTACGAAGTGCGACCGAACTCCATCTTTCGTTACTCTGGTGTGAA', 'TACGGAGGGGCGTACGCGTAGGGGAATAGTTTGCGAAGGTGTATGACTAT', 'AAACCGTCTGTCTCTCCCGACCGAACTCCCTGTTTTCGCGTACACTCTCT', 'ATAATAGCTATGTTAGCCATAACGACCGAACTCCGGGGACTGTAGCTGAC', 'CACTTATTCTACGCACCACAAGTTCCGGGAGGCGAACGGAGGGTCTCAGC', 'CCGTTCAATATCTTCATTCATCTGCAAAATTAAATAAGGACAGCCAGGCA', 'GGGTGCAAGATTATAAAGAGAAATGGAATTTGGGAGCCTGCTGACAGCGA', 'ACAGAGACCAACGCGAAGAGTCTGCGACCGAACTCCTTGGGTTCGGGACG', 'CTCAGTGTAAATCTCTTAGGCGTTAAGCGGGGTCTCAGTCAAGCTGTATT', 'GGCTAGACTGTCCAGACTAATATGTGTCCGGCGTTCATGAATTAACGCTC', 'GATCAAAGCCTCCATCGCAGACGTTGGAGACAGGCGGTTCATAGTCCCTA', 'GTTTTTGATTATAAGCGCCCTGCATGCAGGTGTCTATATGCATTTGGAAG', 'ATCGAGTCGGCGACCGAACTCCCTCTGAGTTTACGGCGAGTCACATCGAC', 'TAAATGGGCCCTCTGCCATGAAGATTCACATTTATACACACTCTTCAAGA', 'GAGTTGTCCTCAGAGTATTGGGACGGAGATGGTTTGCCCGTGTGGTCTAA', 'GGCGTTCAAGTACCTCCTGGCGGCGCATTGGGCGACCGAACTCCACCAAG', 'GCTACTCAAGAATGTCACTAATTTTTATAATTGATTTGGCACTGGCGTGC', 'CAGGCAGTCGCGACCGAACTCCCAAGTGTACTAGTCGGATGCTCGCACTC', 'TGGGGAGAAGCACCGTGTTGGTGTCGCACCTCGTAGACGGAGGGCAGTTT', 'GCTCGACACGACCGAACTCCCGCAACAGAGTTTTACAGAAGTTTCGGACT', 'CGACCGAACTCCTAACGTACCTTCACGGTAAGCTCCCAGAGTTCGGGCCT', 'CGCCGTACTCCACAAATGTGGACACGACTCATCCCCCTGTTTGAGTCCTC', 'AGGTTTCTGACTCCTCAGGACTCACGCAGCCGTGTAAGGATAGAGGATCA', 'TAGCGGGTAATTAGCCCGATAGCGACCGAACTCCGACGAAAAAAGCATGG', 'GTGTCCACTGATGACTGAACGCCGGGTGACTGTGTCCAAGCTTTATAAGT', 'GTAAAAACGTCGCGACCGAACTCCCGGATCAAAGTTCTTAAGAAAAGACC', 'TCCACTAAGGCGGGAAAGACGACCGAACTCCCTACCACGTTTGTACGTAC', 'GTCCACTCAATTCCATTTCTAACGCGTCATCGACCGAACTCCCACACTAA', 'GATGATCTGCACAATTTGGCGACCGAACTCCGGTCATGGAGCTGGACGAG', 'TGTGCCCCCTCAATGAGTGGGGTACGAATATGGCCCAGTCTTCGCTCTTC', 'TATAATGACCTGTGAAAACCCGACCGAACTCCATATACCCCTTGACTAAT', 'CGCAGCGACACTCGCAACGTGTAGTCACGACCGAACTCCCATCTACGTAT', 'GGATTGTCGACCGAACTCCTGTCATGCCCCGACTACATCTGCCCCGCACG', 'AAAAGGCCTCCAACTACCGTGTATCCTTTGTAGGTAGCGTATCCCTGTAG', 'AGAAACAAGGAGGACCGACCGAACTCCGTCTCCGCTGAAGTAACCTGTGA', 'TTTAGCCGTCCGCTGTCCTACACAAATCGACCGAACTCCCGTTTGGTGGG', 'AGCTTCGACCGTGCCTTTCGACCGAACTCCATTGTTACGTGATAGAGAGC', 'TGGGTCCACATGGGCACGACCGAACTCCCCAACAAAGGCAGCATAAGCCG', 'GCGGACCGTGTCGAGCAATAAGCTGAATCTGTAGACAATAGGCGTCGTGG', 'TAGAGCCAAATTTAGCCGACCGAACTCCTCACCTAGTGGACAGTGTTAGC', 'TGCTATCCTATATCGGAAACTCGATGGGCAGACGCCAGCGACAGGATCGG', 'TTGACGCGTGTGACAGGGTCCGGTAACTGCTATATCACCAAGGGCCGCCA', 'GTGACCATTTATAGGACGTATTCTCGATATATTTTTTTTTACTCTTAGGA', 'GCATCCGGTAGGCGGGGCTTAGCAATCCCTTTTTGGCACATACCAGTTCG', 'GGCTACCACGGTTATGAATGAGGGTCCAGTGGTCGGCTACAACGAATGAT', 'CAGAACACGGATCCACCTTATAGAGACTGATATTAGGCTCCAAATAATTG', 'AGCGCACGTCCAGCCCCTGAATGCTGCTGAAGAGCCGACCGAACTCCACC', 'GGTGCTAACAGGCAACTATAAACGACCGAACTCCAGCGCTCGGGTCCGCA', 'CGACCGAACTCCCTGCGGTATAGAGCCCTTGCTCTAACGTTAAGGGCACA', 'CGAACGTGCGCCTACCTCATAATCAAAATTGGACACAGGCACGAACTCGG', 'ACCGCGTTATTACGGCACTAAAGCAAACGTGAGGTCCGACCGAACTCCTG', 'TGCCTGCGACCGAACTCCACACGATAAAGTATGCATTGACTACTTCCGAA', 'TCCGTAGGAGTCTAAGTTATATTTAGCGACCGAACTCCCCTTACGTGGTT', 'TGCATGGCGCCTTATTCTCCTAAGCGACCGAACTCCTATACCTCGACGTG', 'AAAGCAAGCATGAATTGGTGTACGACCGAACTCCCCGACACTCGGACAAT', 'GCGCAATACGTGCATCTTACGTTGCTTTCCGCCAGTCTTACGCTGCTTAA', 'CAGGATAATGCATATCCGTTGGTGCACGTTCTGCTAACGACCGAACTCCC', 'ATTAGAAATGATCCACGCCGAAGGGCGTCAAACGACCGAACTCCGTTATT', 'AATCACCTATATCAGCGCTACTAACACAGTGCGCAACGATATGTTTTATA', 'CTTTCGCGTATGCTCCCTCCTCTGGGCACGACCGAACTCCATTCATATAG', 'GTACAATACCTACAAATACGACCGAACTCCGATGAGGAAATGACGCTACT', 'ACCCATTAGTCGGTGGTTGCAGGCGGAAATTAATCGGACTACCCTTGGCC', 'GCTCCGCTCTTGAAGCCGACCGAACTCCAGATCGTGACACGGACCGACGT', 'CCCGACCGAACTCCAACTGGGCAGACTTTGTGCCGATTTGCTCTTGAGTT', 'TAATAGGATTACGCTTCACCGGCCTGGTAGGAGGAACTTAAGCCAGGTTG', 'CGGCACGATTTGCATAGTGCGGCACCGATCACCCCGACCGAACTCCCTCG', 'CTGTAGGGCCGCTCCGAAATCAGAACCCTTACAGGCCGCTTCGACCACAG', 'TGTATCGCATCCTTGCCAGACACCAATTTCAGCGACGGTTTCAATTTGTG', 'CGGTGTTCGGTTAATAATTGTTCGGGCTGGAGTTAGGGCGTTCCGACCGG', 'GCACCGATACCCAGCCATTGGCACGAAGTTACTCTTCGACCGAACTCCCA', 'GGGGGCGCTGGATGGTCGAGAAGCGACCGAACTCCGCTTCCCGTGTAGTT', 'GGTCAACGACCGAACTCCAAGTCGGACTCCCCCAAGAGGTCATAGACGGT', 'GTGCCGCCGACCGAACTCCAGTTCTGGCGAAGCTCTGGATCGCATTGTGA', 'TTGCTCGCGACCACATGACACTCGACCGAACTCCAGGAATGAACAAGTGT', 'GCTCCACACGACCGAACTCCCAGTATTTACATAGCAGCGCAGTGCACGGT', 'AGCCTGAGCGAATAAGGCTGACGTTCCCCCAAGTCGACCGAACTCCGCTG', 'GAACTCGCCGCATCGTGTTCACGGTTACGTAGTGAAGCGTCTGCTGGCGA', 'ACGGGGTGTGCACGGGCGCTAACTCTGTTTATGGGTCCGACTCGACCGAA', 'CCTGGCGCGCGATATTCTAAGAGTATAAGTACTTTGCTAAGATATACGGC', 'AGCTGCGCGTTAGAGCCAGATAACAGCCGACCGAACTCCTCGGGCTACGC', 'ACCTAGCTCCGAGACTGACAAACTTTACATTCAGGTCAATTAATAGTATC', 'ACTACAACAGCGTATTACATTCATGTTCGTTGAATTACGGCCCCCCGCAC', 'GTGGGGAAACCTACGGATTGTAGCCTGGCGGGTGATGGATCCTGGCCCAC', 'GGCCTAAGCTTTTTAAACGTCTACATTGTATGGACTGTTCGTGAATGTGG', 'CCAGGCGAACAGTGTCTAGTGCCACTCAGGCTATACAACTCACACGGCTA', 'GCATTTATTTCCAATCGGTTCCCAATACCAGTGTGATTTCCGACTCACTG', 'CCGTGGAGCTTTCCCCCGCCCCTCGGGATCACAAGGAGATGGGTACGATC', 'AGGAAACCGCTGCATAGACCGAGATCGTTGGTATGTACCTACTTAGTGGC', 'CTTGCCAGAGGTTAGCTCATTGAGTATATCCGCTTCGCAAACCCAGTCGT', 'ACGACCGAACTCCAGCTCTGCAACGGACGATCTTGGGCTCGTCCACGCTC', 'TGTTGTGAGATGTGAAGATTCATGATAGTCCAGTGTATGGAGTATGATGG', 'CGGGTCTCATTACGAGGACGATTTATGTTGTGTGTGACGACCGAACTCCG', 'GACGCAGAGCTCCTTGGAACTACTGCGAATCGTAACGCGGCTCCAACCAG', 'CGGACCGACCGAACTCCAGCAGCAGGCGCCCTGCATTGCGTCACTACAAT', 'GCACGCACGGGCGACCGAACTCCAAGATGGCAATCCGGGTTGCTCCAGAG', 'CTCCGACCGAACTCCTATGACGGCGTCGCCCAGAGTTTGCCAATAGGAAA', 'ACTTCGTACACTGCCATATACAGTTCTGACGTTGAACTGACTTCCAGTGT', 'TCTATAATTACGATTCGAAGAGTGAGCTTGACTTAACGAGCGTGCCCGTA', 'GCCCCCGAACGTTGCAGTTTCTGGTGTTACCACGACCGAACTCCTCATCT', 'GTTCCATAGCAACTACTGCAGTTCCCTGTATAGCCTCGCTGATAGTTGCT', 'ACCGCTCGGGCCAATATGACATAGCTCCTCCACCCCTGACCTGCTAACCG', 'CGCACAGCGACGAGTAAACCCTTATGAAGATCGTGGAATGAAGTTGTAGA', 'ACATTACTGTCCGACCGAACTCCGGAGTATGCTGTGGGCTAAAAGTTCTT', 'TCACCCCCATTTTAGGAACCCTCGTCTGCGGGCACGCGATAATCTCCGGT', 'TTGGGCGATGGCCTATGAAAATCCGCCCCGTACTCCAAACCCAGTGCCGC', 'GCTCAAAACATGGAAACGATAGACGACCGAACTCCTACTTGCCACAGCTG', 'TAGAAAGTCTAGTACCCAGTCAATCATGGGCTTAAATATTGAGCCCTTTA', 'GAACCGCGAAATCGACCGAACTCCTCTAAGTATACAGCGCTGATACCAAT', 'TGGAGCTTGGCCGGCACATTCACCACTGGCAATAATCGTCTCTCTCTGGA', 'CTCTGGGAGCAGCCCTACTGCTCAAGCTCGACCGAACTCCACCTTGATGT', 'CATGCTCCTTGCCTACGACCGAACTCCGGGTCCAAAACGGTGCCCTAGCC', 'GCACCTACGACCGAACTCCGGCGCTCGTCGAACCAGGGCTTTTTCCTCCT', 'TCAATGGGAGGTGAAATTCGTAATTTCACCGAATTGCGACCGAACTCCAA', 'TGACAGTCTGACTTTACAAAGGGCAAGAATATACGTGTTTCATCTATCAC', 'GATCCCGACCGAACTCCTCTTGGAAGTTAAACCATACTCTCTTTTGCCGT', 'AGTAGTCAATTACCGTCGCTGGGCTGATAAGGCCCTCACGCTTATCGTAC', 'CTGTCTATTCACTGTCGCCAGTCGACCGAACTCCCAAGGCATGTGGAGTG', 'ACGCTTAGTTGCGCTTTAAAGTTGAGCGACCGAACTCCCTACCGCTACGA', 'ATCTAGCTCGTATCCCCATAAACCCTGCTCCAAATGGTCTCTTTGATGAA', 'TCGACCGAACTCCGTCTTTCGTCACACGTGCTACTAAGCATAAGGTGAAG', 'GTGAGAAATGTGTCAATCAGTAATTGGAATAATAACGTCGGGCCGAACCC', 'TGTATTTGATGACTATCAGAGAGCCCACTCGGGATCTTGGGATTAAATTG', 'CGTGGGCATCTTTCATAAGCCGGATCTTGTAGTGAATGTTGTAGGGGTTA', 'ATGGTGGCTCCGGTCGACCGAACTCCGTTGGCTTACGCGGCTGCACAGCC', 'TACAAACCATATAGAACTGTGACCTCTTGTGCTTATTAACTCCAGCGTAT', 'CGACCGAACTCCCCCACGATGTCGAGTAGGGGATGATGTTATAGTTCGGC', 'TTAGTGTCTTTACTTGCTGGAGCGACCGAACTCCGGGGTCTTAGTGTTAC', 'GCGAATTCAATGCCTATTTTGGATGATCGACTTTGACAGAGTCTATCTCC', 'GTAAGTAGACGACCGAACTCCCGTCGGTAATGTCACTTGGGCGTGAGCAA', 'AATTCTGCCGGGCCCGGATAGCGTAACAAGAAACCGACCGTACGGGCATA', 'GGAGAGATGTGGCATTTACTAGTTCTTGAACGACCGAACTCCCAACTCTG', 'GGACGTGACAAATCCTCACTATGAACATCGTGGGATTACGTAGCCGCTTT', 'TCTGACAGCCTAGGCTCCCCGGCCTCGAGTGACACCGGGTGTGCTATTAT', 'CAGGCGCTCTAGCCGGAACATAACTATTTGGGGCAGCAGAGCTTACTGTA', 'TTTCGGCAGAGACTATAAAAATATCGCGACCGAACTCCATACAGTGTCTA', 'CGGTCGGTTAGAGATCTAACGACGACCGAACTCCTACGGGATAGCGCTCA', 'ATCCGCTCTTCGAACCTCTGCAACTATCCACGGAGTAATGGGAAGCGTAT', 'TATGCCCAACGGACGGGACTCCAGGAAAAATCCCGTCGTTGTGCGTCCAA', 'CTTCGTGTCCACATGCCCTATGTGCGGAGGTCTTCCGCGACCGAACTCCG', 'CTTTCTGTAGCTACCGCCCCTTTTATCTTGCTTTATGCCTTTCCAGAGAC', 'TCGACCGAACTCCCAGTGGCCCGAAGGTCCGGAGAGTTACTAGGACAATA', 'CCTTCCCCCGTGGAGCCAAAAAGAGTAAGTGGACCGATCTCAGTTGTCGC', 'TTACGGATTGAGCCAACTACCTTTTGTGACGAAGAAGATTCACTTTAATC', 'TCGGTCAGTTCTGTTAAGCACGACAGGACTTACTGCTCACTACGTACGTG', 'ATATCCGTCCGACCGAACTCCCCTTTCGCCTCACCCCGCAACTGCCCTTT', 'TTGTACTTGGTAACTGACTATTAAATTCGTGATCCGACGACCGAACTCCT', 'TCTTACGGAACGTAGCTCAGGGGTTCTAAGACTTTATCGACCGAACTCCG', 'ACGACCGAACTCCCGGGCAATCTGACTTTAAACACTTGATACTATTATTT', 'AGCCGACCGAACTCCACCTCCGTGGATAAGCTCGGGGGGCACTCGCATCA', 'CATCTTCATTCCCCCGCATAACGACCGAACTCCGGAAGGCGTTGACAGTC', 'ACGACCGAACTCCATTTAGGGCCCATTAAGGCCACTAATGGTTCACTCTC', 'CCATGGGACTCGCAACGACCGAACTCCGGTATAAATTACTGTACAGTTAA', 'CCTTTGTATTTCGTGAATAGCTAGGAGGTGATACAATGATCTTGACTAAT', 'CTGACCGACCGAACTCCGCGCTGTATATTGTGGCCATATCCTTCCACTAT', 'TATGAGTCCTTTAGGGTGTACTTCCAGTGTACACGGACACCGGCCCGGTC', 'TACGAACACACGCCTGGGATGAAATATCAGACCACTTCGACCGAACTCCT', 'TCAGGTACTATTTTTTTCGCTTCCGCGTAAAATACCACGTAATCTTCTCC', 'CGGACCTCAGGACCATGAACGCATGAATAAGGGCTGCCTTACGTCGCTAC', 'GCGACCGAACTCCCTTGAGAACTTTATCAAAACTCTCGGGGAACCGTGCG', 'TCTAACGACCGAACTCCTACGGCCCATGACCTCAATAGAAAGCATGTATA', 'CAACAACGCGACCGAACTCCACTCGAGCAGGTAGGTGGGTGGAATCATGG', 'CGTAGCGTCGACCGACCGAACTCCAGCGCGTTACATCAAAAACACATTAG', 'TTACGTAAGATACCTCGATGAGTTGACCGTAATCAGCGCTGGTGCAATCG', 'TGCGATAGAATCGTCACAATATCCATCGACCGAACTCCATGATGGGTGGA', 'GGTTTATAGCGGGTTTCTAGCCCGACCGAACTCCCCAACATCTGTGCGGT', 'CCGGTCGACATCTTTTTCACCCGGCACTGGCCAATCCCGTAGGGGTCAAG', 'ACCAATTAGCAGACCTTTTCGGGATTCCAAGCTGTGTAGTTCGTCTGAGG', 'CCTTGATGGACGGGCCATCTTCGATGCTTTGGGTTAAGGCGAAATTGCCC', 'CCGGCTCGCTATTGTTGGACTGACGCCTTGCGGCGCCCCACTTTCTAGCT', 'AGTGACCCCGCGTCGCCCGACCTAGTCTTCAATCGTGTTCCGGACTTACT', 'GCGATGACTGCGACGCACGATGGAATGATTAGCCTCCATGTACGTCTGTT', 'CCCATTGTACGGTGCGCAACTGTGAAAGAAAATAATTGCAAAGACTGTAA', 'TAAAACTTGCATTCGGAGTGATGGCCGACCGAACTCCCGATAGCCGCGCC', 'ATAACCGAGGATACATGGCCCGCAGTGAACGGGTCAACAACAGTCTAAGC', 'CCTGCTACACTTTGAGCATATGGTTCGACCGAACTCCTGGAGCGGGTTAA', 'GGCACACTGGGACTCGTTGCGCTTGTATATGGAGTTGTCCTGAGAGTCGA', 'AGTTTGGCGCTCATTCTGACCTGTTCTATTCTGCTAACCTGTAGGGTACT', 'AGCCTCAGCCGTCTTCATCTGAAGGTGAGCCTACGCCTGGGTGGCCGAAG', 'CAAGAAGGCACCTAATCACTGCAGCCGGGAACCTACGGAGTCCCAGTACT', 'TCGCATAGCAAAAGGCCTGAATATCGTATCACCGACCGAACTCCAAAGTC', 'CTTTGCAAAAGAGCTATCCACTAGATAATAATCTAGGTGAATACATCCGA', 'ATGTGGGAGGGCACATCTGTCGACCGAACTCCGTGCCCCATCGCTGGGAC', 'GGCAATCGACCGAACTCCTAAATATTTAGAACTGCGGTATTCTAGTGTGT', 'GCAATATGGAGCCAATGTTCCCCTCGCCCAGGTTCATTCCTTGAGTGGTC', 'TACATGACTAGACAGGCGTGTATTAGTGACGGCCAGGAGTTTGTTAACCC', 'TTCTGACCGTCTTGCTTGGTGTCAGATTTATGCCGCATTTAAAGACGGGA', 'TTGTCCATCGTCCGAGACACCTAAAGTTTGAAATTCGGTCATGGGAGAAA', 'TGATCAGCACATATAAGCCCAAATTGACCGACCGAACTCCGAAACGTACT', 'GGACGTGGAGGTGTGGCGTTAACTTTCTACAACGGAGTCATGTGATCATT', 'AGCAGCCGACAATATCGTGCACGACCGAACTCCATTCACGGATAAGGTTA', 'TTCTTTTTTTTGTGGAAGGTACAGGTTATCCTCCACGGATATTTTTATCC', 'ATTGTCGCACACATCACGTAGCGCTGTACCTTAGCCAATTGAGACAACAG', 'AGTTGTGTGAAAATCGCTTCCTTGAAGCTCAACATGCTTATCTGTTGTTA', 'GGCCCGCTAGATCGACCGAACTCCCTCGGGCGGTCTGGGCAGGGGCAAAG', 'TTTACGTCGCAAACGACCGAACTCCAGGCGAAGTTATCCGGTAGCGGCAG', 'AACTCACTCGACCGAACTCCAATCCCGTTGTTGATGCACTAGTGACTTGA', 'CACAAGGTGAGACATCTTTGTCATCTACCACACCAACCAGACCCACGTGA', 'CTTCCCAGAAGCCGGATGATCCAAGCACCGTGAGGCGATGGTAAGCGTTT', 'GAGAACGATTTCACGGATAAACGAAACCCATTTGATTTATTAGCTCGGTA', 'CGTTCTCCAGGCGTCATAAGGCGAATACGACCGAACTCCAGCCTCTACGA', 'CGTCATATCTCATGGATGCTTGCGACCGAACTCCACCTCCAGAGGGCACT', 'AGGTGCGACCGAACTCCTCTTGTTCCGTTCAAACCAATCCAAGCGTGACC', 'AAGGCAGCATTGCTCCTCTGAAGTTTTGACCAGCAGCTTGTGAACGCCAC', 'AGTGTGGTACGACCGAACTCCCTAAATTGCCATTAAGCCCGAACCGTTCG', 'AACTACCCCCGTCGTACGAGTTAGCCAAAGCCCACTACGATTGGAATGAT', 'AACGTACCGGACTCTTACTGTGGCGTGCATTCCCCTAGGAAACTTTCTCT', 'TGAAACCTATTATGCTACCTGTGCTATGGTGCTGTTCGACCGAACTCCAC', 'TAAGGACGAGAGGTCGACCGAACTCCATTAGAGTGAAAGGGTCCATGATA', 'CCGTGAGTGTTAGGATGATAGACTCCTTATCCGTCGGACACAATATGCGC', 'CGGGTTCCAACTCATTACGCCGACCGAACTCCCTAATTCTCGGAGGCATA', 'ACAGGCTTGGCTTCGACCGAACTCCCATGTTACTTTCCATGCATGCGCAG', 'CGCACTTCAATACGCTTTACGCGCTGCAACTGCAGAACAGTCGCAAGGTG', 'TGAGCAGCAGCTCTGCTACGATCCGACCACAAAGAATTGATTCATGCCAA', 'CCATATCTGCAACCGCAGATCTATTAACTGGAATAGCCTCAAAATCGCAG', 'TGTACACCTGTAGCCAGAATAGAGCAGCGCTACGACCGAACTCCGAGCGG', 'TTTTAGCTGTAAGGGAACGCTCTTCGTGATACGCTATCGGTTACTATGAA', 'ACACTCAGGGACGGGTAAAAATCTGTCGACCGAACTCCCCTTGGGGACAA', 'TGTGGTCAGCACCAGCGGGATGTTCGGGTATGGGTGCGACGCGAGCATAA', 'AAGGTACAAGTACACGTATACTAGCTATACGCTTACACTAACGCGCTACT', 'AGTTCGGAGGAAGCAAGGAGACCGACCGAACTCCCCGAAGTTCATCCCTT', 'TAAGATCGAATGACTGAACGACCGAACTCCAAGGAACAACTCCGCAAATA', 'TTGACAAGACTGCTGGTTCAAAAACGCCCGCCGCATCTCCAGTGAATGAC', 'CAACCATGGAGAAAATCCCGACCGAACTCCCAAATCGTTTGCACCTTTAA', 'GTGATGTGCCACCCGGTGCGATTGCTAATCCGGTGGGAGTCGCGTATAGG', 'GAGAGACGTATATTAATTTGGCGGACCGAACATGTCCAACCTTATAAGAT', 'ACTCAATTTGGAGGCGCTCCTTAAAACCAGAGTCCGACGTTCAGCTAGCG', 'CGAACGGTTGCCTACACGTAAGCACGTACACCCGTATCCTTACTGCCAGA', 'GTCGTTACCACACGACCGAACTCCCTGCAGGCTGTCAGATTACCGGCCAT', 'CCCTCGTAGGATCGACCGAACTCCGCCAGCATCTATGGTGAGTTTCTAGG', 'GCCTCAGTGAACCCGATCGCATAGCAGCTACCCCACGACAGGACCGCGCG', 'ACAAGAATCACAGTACGCGTGCCAGCATCACGAGTGACAGGCTACCCAAA', 'CGTTAAAAAGGATGTTCCATGCCTCCGTCTCGTCGCTCTTCGAGGCGGAG', 'TATCTACTCATCCTCCAAAAAATACTCAACCCGGGGTACACATGACATTA', 'ATTCGCGCACGACCGAACTCCCGGGGATGCCTATGAAGCGTGCGTTCTTG', 'GGTAAGCTTAGAAGCTCGGTCTAAACATCTGCTTCGCAAGTTTCCGATAC', 'GCTACAAGCGCAGACTGGAATGCCGGGTCCAAGATCCAGAGTCTCTATTA', 'TTGCTCTAACCCGACCGAACTCCCTTGGTTAGGTATTCGACGTAGTCAGC', 'GCGGCTCATGTTATTTGTCTATTGCTCAGCGTACGACCGAACTCCTACTA', 'TTATAGGTACGAAATCTGTATACTTTAATTCCGCCCGACCGAACTCCCGC', 'TGCACTACAAACTCTCCCTCACAGGTTGCCCGATAGACCAGACCGACCAA', 'GCAAATGTCGTATATCGACCGAACTCCCGTCCATAATATTAGACATCTGG', 'GGAGGTGCTCGATATATCGACCGAACTCCCTCTGCGACAAAGTGGACTAT', 'TTGGTATTCACCGACCGAACTCCTTGGAGTGGAGCAGGAGTCCTGGCGCC', 'GACGTTTCCATAAGGTCGCAAAATAGACGCCTTCCAGATTAGCATGTGGG', 'GTCAGTTTAACTATGTCAGAGTTCCGCCCCTCTTATTCTGCCCACTGCCG', 'GATATACAGGGAGGCCTTTATAATTACGGGCATAATCGGACGCTAACGCT', 'GATGCGATGAGGTCCAAATCAAGGAGGGTCGACCGAACTCCCAAGCTACT', 'CCGCCGCTAAGCCGATCGTGGGAAGCGACCGAACTCCCGTGCAGGCAATT', 'AGTCAATCGTCAGCGCCCCGTGCGGGCGACGAGTGGTCTCTGGCCAAGGA', 'AGAGGGGTACGGCCGCCTCAAAGATAGTATTGGTAGTCCGACCCAAGGCA', 'GGACACGATCTCATACCCCGCTCAGTGGGAGGCATTTATACCATAAGAGC', 'ACGAATTGGGCGACCGAACTCCGAACAACGCCCTGTTACCTAAAGTGAAA', 'TCAGGAAATCGCAACGTCAATCTTGGACGACAGACCACACAAATCGATGA', 'GGACGACCGAACTCCCGAGGCAACTAACTTGGCTCGCCAAAGCAAAGGCC', 'CCAGGATTGCCGACCGAACTCCGGTTCCAGGCAACCCTAAACCCCGCTGG', 'AATACCTACTCTTGGAGCGACCGAACTCCAATTCTTGTGTCACTAAAGCG', 'TGAAGTCGCTCTTAATGATCCGCCTCCCCTCGAGAGAAAATGAGCAGTGA', 'GGTTTAAGGGCTGTATCCTCCAGCGTTCGACCGAACTCCCGCTCCCGCTC', 'CGAACCGCATTGCGACCGAACTCCAGTCGTTATCCGGGGCAGATTGTAAT', 'CTTCGATGGTTGACTCGCAGAGAGAGAGATCGATGGGCAAGGGTGCACGT', 'GACTGTACGAACGCCTTCTACGGAGGCACACCTGAGTATGCTTCGTGCAT', 'ATGCAGTCTAAAAATAACACCCTTGGCTAGTAATGTGCTTGGTAAACCGC', 'ACGTAGAGTTGGGGGGTGCTATAACGGTGCTTTGGGTTAAGTGGACGCCT', 'GGACGCGGCCAGTTGGGCTTTGCGAATGAAGCGCGACCGAACTCCGTAAA', 'AATGGTACTTTAGATAATACAAGGTTGCACCGTATCCTTGTTGTCTACGC', 'TCCAGCTCGACCGAACTCCATAATAAATCGGTGTTGACGGGGTTCCGGGC', 'CACGATATCGGTCGCTTAGGATTTTCGGTTTGGTCAACGACCGAACTCCA', 'TCTTACTGCGAGCTTCTGTTGGGAGGATGCGGACTTCGACCTACAGTGAG', 'TCTAAGTCGACCGAACTCCACTAAAAAAACGTTCCAGACATTAGAAGGGT', 'CAAGGTCCGGGCTCGGTAACAACGAGCGGCGAAAAGAGTGATCGAAACTT', 'GACACATGTAACAAATCTCTATTCCTCCCGCGGCTCATGGTTCGACTGTT', 'GTATGTATAGTAGTGATTTGGACTTATGGTTGTGCCTTTGCCAATGTCTT', 'AGGCGGGGCTTTAGCCACTACAACTCGGCTGGCCCAAACTGATCACTAAA', 'GCAGGGTATTGGCAAGGACGCTGTGTGCCCTCTGTGAAATAAAGCTAGCC', 'GGTGCCGCGCTATTACAGATACTGCTGCGAAGAGCTGTTGACTCTGACTG', 'ATTAGTCGCTAAATTCATGTTGAGAGCATCAAAGATATTTCTGAGCATAC', 'AGCTAGGTCAAGCATCCGGAGCAACACGACCGAACTCCAAAGCGGCGTGA', 'TGGCTATCCCGTGGTCAATTCTTCCGTATAAAGCCGCGTGCCTGTAGTTC', 'GTCCCGCTGGCAATCCGGCGCTGCGTCGACCGAACTCCCTGATTCGATAA', 'GCCCGACTCTGTCCAGTGCACCCTCGGAGCCGAAGTTTTGACCGCTAGAG', 'CGTGAGTAGTAGTAGATGGGTCGTAATCTAAGCTAACGACCGAACTCCCC', 'GTTGTACCGGATGCAATGGACGCAGCACGTCTGTATCCTAGTCCTTTGCC', 'CAGAAAAGGATTTTCGGACAAGCTGCCGGAAATGCGCTGCCATGATAGCG', 'TCCCATAGGGGCTCTTAGTGGGCGTCGAGGCTGCCTCTAGCACCACCACT', 'GCATTCAATACCACGTCATCTAGGCGCTCCCGCACTATTTAAGACTGATA', 'CAGAACTGTTTACAGCTCGAATAAGCAGGTGTATGCCAACTAGATAGGGT', 'TTCCGACCGAACTCCATGAGGGTTGCGGAGTACACAACTTTAGAGGTGAA', 'ACGTCGACCGAACTCCCCAATATCCGGTAAGCTCCATCGGAGGCGGCAAT', 'TTCCTAGACTTGTGAATTCCTTATCACGACCGAACTCCGTAGTATTGTAG', 'TGAGGGTAAATCTTGAACCGACCATCACGCACGGCCGGTTGCACCTTTGG', 'CTTTTTAAATGTTATATCGGACGATTCGTATTGGACCTACCTACGGTTTT', 'CTTAGTCACAATTTGGCTGTGGATTGTGTATACTTTATTGCAGAGCGATT', 'CCGACCGAACTCCGCCCATAATTTTAGCGATCCGAAACGCCTGTACGAGC', 'CCGACCGAACTCCCGGAGTTGCTTACGCAACAAACAGGTGTCAGTCTAGC', 'ATGCCAGTATTAGCAGTACCTACACTTAGGTCGTCCGTCCAAGATGGACT', 'CCATGACTCACTTATCCGGGCCAGCACAGGGCCATTGTGATTGATTTAAT', 'TATACGCGACGTAATTGAGTATGGGATTGGGGCCCGGCGACCGAACTCCT', 'GCAAGCTGTTCCAACGATGCGACCGAACTCCAGAAAACCAGCACTCCGCG', 'CGACCGAACTCCTGTCGAGCGAAGATGAAGTGAGACGGAAAAGAGTGAAT', 'ACCGATATGGTTAGATCCCTAGTCAGGTTGGCGTACCGACTGTGCGATAT', 'AGCTTGAGAGTGCCGAATTAGTAAGCATGGGCCTTGTACGGAAAAGCCAT', 'TAGCTCCTATTGCACTAAAAGATGTTCAATAGCAAGCGTTACTGTTGACA', 'GTTAGTTCTAGGCGATCGCCGCGAGTGTCGTCGACCGAACTCCGACTCGA', 'TATGGTGGGCAGTGCTATTTTGAGCCTGGAAAGAAATCCGGTCAAGCGGA', 'CGCCCTTAAGCGATAGAGCGACCGAACTCCGTTACTTCCTGTGGGCTTAC', 'ACTTTGTGGAATCTATATCTCCTCCAACGTCTATCCCCGGGCGTCACTGC', 'GGTCACTATCATGAATGATAAAGCCGGTAGTCCCCTATACGGGACTGAGT', 'CGACCGAACTCCGCGGGCTCCGAACGCCTGAAACGTAGATGCCAAGTAGT', 'TCGCCTGACCGCGAGAGCCGACCGAACTCCTCAAATGCATGCCAAGTGAG', 'TTTTGTCCCGTCCCCATTGAGCGCCTTTTTATGCTAGGCGGGGACTGACT', 'GATGCTGACATTGTCGCACCTATAACTCCCATTCATGTCGAGGCTAGCTG', 'TGTTGTAGGCTGGACGAGGGATGGTGCGCTATGCAGAAGTGGTCGAGGAT', 'GGGGGAGGTGCAAACGACTGCGTCGCAGCATGGTATGCAAATTCCACTCT', 'TCGCTGACGACCGAACTCCAATAGAGTGGGACGAAACCCCTCCCGGCTGA', 'CCGAAGCATCGCTTATCATAAGAATCCTCAGAAGCGACCGAACTCCGAAG', 'AGCATGCGACCGAACTCCTACAGTACAAGTTAAGAGTTGATCGTTTCCCA', 'AACTGCGCAATTGCGACCGAACTCCTCGATAATGGTTCCATGAAAAGATC', 'CCTCACGTTACCGAGGTTCCGCGCCTTTTATATCGACCGAACTCCGAAGG', 'ACACATAATTGATTGCTTAGACGATTGTAGTTCCGCATTTGGCTTTTTAT', 'ATGGTTGTCTGGACGCTGAGACATTTGTTGCTTGCCCGAATTTAGTGTGG', 'TACCGCCCCTTAGTCGTACGTGTACACCGTAAAGGGCACAATAGGGTTCA', 'GGGATGAGCCATCCTCGTCTGCACCGAAAGGGGGATGTCCGCTCCTCGTT', 'AGCCCTGAGGCAGATCATTTGGCCCGACCGAACTCCGGTCCCAGTACATT', 'TTTATATAAACAATAAGCGTCCGCGAGCCTTTCGACCGAACTCCTGCCGG', 'ACCATACGTGTGTATCGACCGAACTCCTGTATGCCTAGCTAACCGAGAAT', 'CCATACAACCAAAGAGTGATCGACCGAACTCCCCTGCATATAGTGCTGAG', 'CTACAGTGCGGAGAATCCCACATCACCTGCTCCCCGGCCTTAGCGTGGCC', 'AAAGACCAGTGGTTTCTTGGAGTCGGTGGTGCAGCGATAGAATGAATCGC', 'CACTAATACTGTGGTTGGATTATAATCGTCACTTCCGACCGAACTCCGGA', 'TACGTCTGGGGCCTAGTTTGGCGACCGAACTCCGAATCCAGCCATAAGAG', 'AGCATCACTCCTCACGACGGGCTGTATTTTTAATTGACACGTGTATCCGA', 'GCCGCGCCGGCGCTAACACGTAAGCGACCGAACTCCTTTCTGCAAGGGGC', 'GTCAACTGTACCTTCAGGTCCCATTTATGTTTAGGCCGTTTATAGTTCGT', 'ACAGCAGATGCCTAACGACCGAACTCCGATGGGAGCTGGCGAAAGTTGTT', 'TTAATCAAATGAAAGGAACGCAAAATTTCGACCGAACTCCTCCAGGAGTT', 'CCGACCGAACTCCACAAGAGCAATATTTCGTAATTATGGCTCCCTCGCGG', 'CTACCTATCCGCCAAGGGTTGTCGGTAGTTAGACAATACTCACCAATTGT', 'TACGGTGAGCGACCGAACTCCTCTCTAATACGAGACAATGGCCGTTGAGA', 'ATCTAGTGGTTTGCACGTTAACCAGCTTGCGACCGAACTCCCCGGATATT', 'CTGGGAAATGTCCACGCATCGGGTGAAGCGAAACCCATGGACTTCGGTTC', 'CGTTTTCGGACGACCGAACTCCGCCGGCGGACTATGGTGGATATACCTCA', 'CTCCCCGTGGAGGACCGACATTTTGTTACAGTCCTTGGTTTTCGTTCATC', 'GTGTTCGGGTTGTTAAGGCGACCGAACTCCATACCGACGAACGGCCCACC', 'ATCCCCCCTCCCTCTACGTATTACCTACTGAGGTACCTCCGGAGCAATGA', 'CCGCACCATGGTAGTTTGGGGCTCTGGCAGATCAAGAATCGGATAAGAAT', 'TGACGATGACCAGTATCACTTAAACTTCAGAGGCTTTTCGTGCACTACCG', 'GAACTGAGCTCGCGAACAGATTCCCCGGTGATCCGTGGGTCACTCCACCC', 'GGCTAGCAGAGAGGAGGGAAGGACGCAGCACTATAAGTTTATTGCCTTTT', 'TCCGACCGAACTCCTACGATAGCTCCAAGGCGCTCGGCACCATAGAGGCC', 'GTTCGACCGAACTCCCCGTTTTGACCTGAACTCCAGACTTGGGCCGTTTC', 'AGTCGACATGCTGGAATATTTACTCGAACGGTAGGTTCAGCACAAGATGT', 'TTTCTGGCTTAGCTACCGTCAACACACCCACGCTTGCTCTAAGGCGCAAT', 'TTTTACCAAAGCCCTAAAGCAGATCGACGCCTCGCGCATATGTCCATGGC', 'AACCCGCCTTTTCTGGTAGGTTCGTTCGTCTAATGACTCAGCAAACATAT', 'TGTCGTGATAGGCTACGGCAGGTCGATCAGCCACAGTATCAGAAATTCCC', 'TTCATGAGAAAGTTGTCTCCCGCGACCGAACTCCCGTAAATAATAGGCCC', 'CCCGTTCTTGCCTCCCCTCGACCGAACTCCTATGGGATTCAGGTGTTCAT', 'AGAGAGTCCCTCAGTCAATTCGCCTCCGAAGACGGTATCGCATACTACAG', 'TGTAAAAGCCACCTGACCATATCGTTACGAAGCGAATGGGACATAAATGC', 'TAGCTCATCCATGGCACAGCCATATGCCAAGGTGGGGTGTACAGCGGAGA', 'ACACTGTGCTGCGAACGATGCGACCGAACTCCCTACGCGCTGCTTAGATA', 'TAGTACATTTGAAACGGCGCTTGTTTATACCCCCTCGACCGAACTCCACA', 'GGCTTATTTGCGGCGAAGTGTGATAGCTTGGTCGGGCTAGCTTCGAGTAG', 'TACGCCAAGTGCACATCAGGGCAAACATCTTGCATCAGCCCATTCCAGCC', 'TAATTGTTCGTTTCCCACTCCGTCAGCGGAAATGCAAGGGCTTATCTCAG', 'CTCAGCAACTCCTACTGGTATAGCTGCGTTCTGCCGACAGGCTCTATCTG', 'GTGTGCGCTATAAGATGATAAGGTGGCCTGTCCCTGAGTCATCTACGTAG', 'ATCAACGGCAGCTATAGTTCGGACCATAAACAAAGTTTTCCACTGAATTT', 'AACATTGAACTGTAAGAGGTGACCACCGCCCTAGCACTTCCCTTAGGTGC', 'CAGTTGCAAAACTTAAAGGTTAGCGTGTACAACCCTATCTCGCAAATACG', 'AGATCCGCGACCGAACTCCTCGCGAGGAGGAAACAAGTTCCTTAGACTCA', 'GCATGCCGACAGCTTTCGACCGAACTCCGCTAAAGGGGAAGGAGGGGTGA', 'CCCCAGGCCTTTAGAAGTGCTGAGTCACCAGGCGTCGACCGAACTCCGAA', 'GTCGGCCAAACTGCCGACCGAACTCCTCTTCCAATTAAGGTGATCCAGCG', 'TACGCGGCGATGCTAGGTGCTTGACGACCGAACTCCGGCATATTGGCAAT', 'CAACGATAGTAGGAGCTCACAAGGATTTCAGCCGACCGACCGAACTCCCG', 'GTCCCCGGTCAGTTGAACGAGTTTGCCAGCGCTTATCAATGTTATCATGC', 'CAAGCGACCGAACTCCCTTTTGGCAAATGGCAGCATGGATTGACGTCATC', 'AGCTGCAACCAGCGAGGCGGCGACCGAACTCCCCAGTTAAGAAAGACGCG', 'CTCAACGGCACACGCGACCGAACTCCTAGTGCCAACTCGAACTTGACCAC', 'GAACAGCCATTTTGCTGCAAGCTCTGTGCCTCTCATGAGCACTGCGGCTG', 'GACGACCGAACTCCCATACCGTCCTTGATCTCGAGTCTTTTACTCACCAT', 'TCATTACTCCCACCGGGCGACCGAACTCCTTGTCAGCAAATATAATTCAT', 'AACTAGTCGATGTATGTCCGTGTACATAGGTCGCTCTATATGGCTTTCGT', 'ACCGTCGTCGACCGAACTCCTGACTCCTGTAATCAATTGTTAAACAATGA', 'AGACCCCTCGAGCTCCTTTTTTACCCGACCGAACTCCTTTTCGCTGGATC', 'CAGCGATTCATAACCACGACCGAACTCCATAAGGTGGACAGATCGGAAAA', 'AATCGCGACCTTCCCGATATTTCTATATTCATTATCGACCGAACTCCAGA', 'AACGGTTTAATGGTCGGTGAAGACGTACCACGCACAACAATGAGTTTTGC', 'AACTCCGACCGAACTCCGTTTTAACGCCTGTACGACGCGCTCCGGTGCGG', 'TTCACTTAAGTTCGTCACTCCGGAGCGTCCCTCGTCGGAGGAATGTTCTT', 'CACCCGACCGAACTCCGCGGGGTCGCTTAACAGCTTGACCGACGCTCCCA', 'AACCTGAGCGAAGATCCACTATTCCGTCTGTAGGTTCAGGGCAGGCTGAA', 'CAAACAGAGGACTTGCTAAGCCTTAGCTTGGAGAAGGGGGATCCAATGAC', 'GAACTTGAACCACTTGCGCCTACCGACCGAACTCCTACGCTGAATAAAAA', 'CTATAGACTTCGGCTAGATACGGCCGGGTTTATGTGCAACGATGACGACG', 'CTTGATGCGGTACTTTCACCACGCTCTCTTTACCGGGCATCAACTACTGA', 'GGCCTCTTGTGGGCGCGACCGAACTCCTTTTGCGTAGAATGCGCCTCGGA', 'CCATATCTGCGACCGAACTCCGTACCGATACTCCAGCATGCCTACTCAGA', 'TAGAAAGCACGGACCATTGGTTTAAAAAAGCGCGGAACCAGCTTTCAAAC', 'TACAACCGTGTTTCGACCGAACTCCCGCAACAACGCTACAGACGGGTCCG', 'GACAGCTCACTTTTACGTGGCGGAGCGCTGGGTAGCAAAGTTGCCCGTGT', 'AGTAGACGAGGTTAGGCGTGTCATAAAATCGTCGAGGCGATTCAAGCAAA', 'GGATAACAGTTAGGGTCGACCGAACTCCCAACTCGTCCTCGAGCATGTAC', 'TGCTAAGTTGCTGTGAATTACGCCCATCAGTGCTCTCGGCTGTTGAATGA', 'GTGCCAGCTGATTTCTCTCGCCGTGTCTCTCCATTACCAAGCGTGAAAAG', 'CCACTTAGTTGCGCCGCTACTGCTCGACACCGCTTAATAATTTGGTCTGA', 'AGCCAAGAAGTTAGTGAAGCAAAAGGGGCCGACCGAACTCCATTTCATTT', 'AGTTCAGCGAAACACCTCCTGTCGACCGAACTCCAACCCGCTAAGAATAT', 'ATCTCTAGATCCGAAACGCATCGATCTTGCGATGGACGTTTTGTGCTCGA', 'GGGCGCTTCCAGTTACCCGACCGAACTCCTGGTACCCGACCCTCTCCCTC', 'GAATCCGGGGAACACCCCTCAAAATGGCCAAGGACTTGGGTTACGATATC', 'GTCACATTCGTGGCTGTAGCCGTAACCTCTGAGCAAGTATGGTGAGGATG', 'CCGCCCTTCACATATATTCGGTCGGCCGGAATGCCGTCGGTGCATGTGAT', 'CGACCGAACTCCAGCAGTTGAGGACCTCGATCGTACGAGGGATGTTCCTC', 'ATGGAAGTTAAAGCATCTCGCTCGTACTCGTAACGGCTTCTTTCAGATCG', 'TGACGTCGGTCGACCGAACTCCACGACGTAGAAATCCGTCGGATCTTCCT', 'GTGTTCACTAAGTCAACCACGAGTGCAGCCGAGTGGAGCACATTTGTATA', 'TTTCGGCGACCGAACTCCGGGATATCCTCCGGAAAGAAGTGTGACCTTTC', 'CTGTCTGACTCTAGTTACGTTGACGCAAGTAAGGGACAGTTGTACAGATA', 'CAAAATATCTGAGTAGATGTGCCCCCTCTCACATCGTCTGCGCATGTGTT', 'TGTCACCGACCGAACTCCCGTTGTAGCGAGCCGGAACTTTTCTTGTGCGA', 'AAGACTTCTGTATCGACCGAACTCCACCCAAGTTTTAAGTAAAATTACGT', 'ATGCGATAAGGCTACCAACAAGTCACTCCCGTTCCTAGTCAAAGGTTTTC', 'TCAGCGACCGAACTCCGGCTGTCGTATTTTACTTGGAAAGTGCAAACTTT', 'TAGGATCCGGGCGCCTTTGCGCTTGCGAGTCCGTAGCTCCCCATGTTTGT', 'GCTCCCTTGGATATCAAATGAGTATGGAGCCATTTCGCGCTTTAAGACCG', 'AAGTTAAGCTTGGTTACTGAAGGAGAGATTGCTACAATGGATACATATGT', 'ACTGTGCACCGTAAAACGACCGAACTCCTGAAGGTGCACTGAGGTTTTAC', 'ATGACTGCGTCTAAGTTGGGAGAGTTGGACATGTCATAGTCAACTTACAA', 'TTTCGACAGGGTCGATTCCCTGAGAGCATATGCGACCGAACTCCTGATCA', 'TTGAAAATATAACCATACACAGATCGCCTATAGTTCTATTGACAGAATTA', 'TTTAACTTACATTGGGCATTCGACCGAACTCCACTCTCCGGGAGGCCATC', 'ATTGGGATGGTCACGACTGAAAAGGTTTCTGCGCTTCGACCGAACTCCCA', 'AACAGAAGTTGACGCTGCAGCGGTTATCGACCGAACTCCAGACTACCTGC', 'CGCTTGTAACGCTGCGGCGTAAGAGCTACTAATCCACGACCGAACTCCTT', 'ACTCTGAAGTACTACCAGGACGGGTGAATTATGCCCATCGGGTCGTGCCC', 'CGACCGAACTCCACTTGTTTTAGTAAGCCCTGCTGTCCAAGTTCCGACTC', 'ATACCACACACTTCACGGACCTAGGAGAGGAAGGTCAACTGGTTCCGTTG', 'CGTACTACGCGGGACGTCTAACAACTGCCGTGGTTCGACCGAACTCCAAG', 'GATGCCCCCATAGTTTTCGTTCAAAGATCCACTATGTTTTGATACTTCAG', 'AATCTGGAGCGTCAAGATCTTTTCCTTAACACCGCAGACCTCGCTCCCTA', 'CTCGTAAACTGGCCGTCTGTAGAGATGGATGCAGTTTTAGAATCTCATTA', 'CTGTCTCACAAACGCTTGGGAGGGCTTGTCTACTTCTTGACGTCCAACAA', 'TTCAGGTAGCAAAGTTCGACCTAAGGGCATCCTTGTTTTGCAACAACAAC', 'AGATCGCGATGGTTTTTCAAGTCCGTATCTAAGCTTGGGCTGCTAGCTTG', 'TCGTGAGAGGAGCGTGCTCTGCGTCACGAATAATCGCAGCGACGGCCATG', 'ATGAGGCACCACCGACCGAACTCCTTGCCCACAGTGCCGAAATTCGGCAT', 'TCCAAGACTCGGTCGCGTGCCGATTGGACGACCGAACTCCGGTGACCCGT', 'AGAAGTGCTAGCGTCATCTACGGACAATGATAAAGCGTCTACTATTGAGC', 'TTTCGACTTACTCGCGAGGATACACTCAATATCGACCGAACTCCCCGAAC', 'CAAAATGCCAGATGGGGATGCCTCAATGCCTTCGTACTTTCAACTCCTCG', 'CTCACCCCGTAAACAGTCGACCGAACTCCTGGGTTCCCTCGTATCTCCAA', 'CTAATATCACTCCCGTTTTTAAACCTGTATCTATCGATCAACTTTAGATA', 'TTAAATATATCATCCGATGACATCGAAGAAACCTATCATAAGTCTTTGAC', 'CTGCACGATGGAGCTCAGTACGGCGACCGAACTCCCTTTGGTAAGAATAA', 'CGGGTCCGAGGAAGTTAGTGGGTCGTCATCTCCTAGCGAGGTTATCATTA', 'ACCGCACCGCGGCTACGACCGAACTCCGTTATTGTGTTGGCTGTTTACAC', 'ACTGAGCCCGACCGAACTCCCTTCCACGGATCATATCACATAGGAGCGGC', 'CGAATAGCACGGCGTATTTCCGCGCGAGAGCCATTGCTCCCGAGTATAAG', 'TTCCTTGTGCTCAAATCTCGTAGCTCCTTCCGACAGAAGCACCTCCACCT', 'TGCAACCATTCCGACCGAACTCCGCGGTGACGCGTACTCTAGTCCTAAGG', 'GTTGAACGCGCTGAGCCCCCCACCGACCGAACTCCGCTCCGCGTAAGGCC', 'GCTCAACAGCCCTCCCTATGCGTAACATTACCTATTGTCAAGGCGTTCAC', 'GTTGGCCTGCGGTTGAAGTATAGCCTTAGAGGTCCTCCGACCGAACTCCT', 'CTGGCGCCGAGGTGTTGCAGGCTCCTGCCGGACATGGACTCCACAGGGTT', 'CCCGACCGACCGAACTCCATCCCGAATACCGCACTGGACCAATACTGCGG', 'ACGGGAGGCGAGAATATTGTCACTCGACCGAACTCCACAGACGAATATCT', 'ATTTACAGGACTGGAGGTTCGCCTTATCGCCCTCAGTCAGCGTTATACGT', 'TCGAAATCCCCGAGTAAGTTACTGTACTATCGAACACACTTTACCGTGTG', 'TTCACGGAGATGTCGCCACAAAAATAGATGCGACCGAACTCCTGGGGGCT', 'CAAGATCCGCACCAACTATTCGACCGAACTCCATTAGCGTAAATGACAGT', 'CAGTCGACAATAAGATAAACTCTTGCTTGCAGTCTGGCGGATAACGTTTG', 'TGAGAGTCCTAGTGTTGCCAGATATGGGGATCGGTCGCGAACTTATTTCC', 'ACGTTAATTAGCAGTCGCCCGGTCAAAGTGCAGAGACACCGGGCTTCCGG', 'TGGGGGACCTGAGGTAACGACAGCATAGTAACGAAAGTGCCGAATGGACC', 'TAGATCTCGTTTGAACTAGTCAGGCATGCGGAATGCGCGCGGTAACGGAC', 'CAGGTCCTTTGGGAACTTGATCTGGACCTCTTACGTTTCCCTGGCGTCCT', 'CCCAGTAGCCTTGGTGTCTATTAAAATGACTGCTTCAACGATTGTAGAGC', 'CAGGTTGAAGAGTATCTCTTATGAAATACCTAGGCTTTTTAAAGATTGGC', 'CCCGGGCATGAGGCCGTGTAGTAACACAATTCGTACCCATGCATTGCATA', 'TATACGACCGAACTCCAAGGCTAGTATATCAACAAGCGCTCCGACACGCT', 'ACGGTGAACGACCGAACTCCCCTGGACGGGGTCGGGGAGGGATAGTGTGG', 'ATTACCCGAGTTCCTCCGACCGAACTCCTATAAGACCCCGCACGTAAGTC', 'CAGCACGTAGAATTCGGTACTCCGCGAATAGCCAGCAGGCTTGGAGAAAG', 'TCTGCGGCGCGATAGGGAGCTGGTTTAAGTGGGATGACCGGTTGAGTTAG', 'CCTACTGCAAAGGAAAGGCGACCGAACTCCTTTTGGCTAATTTTTACTTT', 'GCCCGAGCGTGGAAATATCAGGTAGCACGATGCACCTTGTTGGGGCCGGA', 'CAACTAGACCAAGGTTGTTAGAATACTCTATCCGACCGAACTCCGAAACG', 'TACTCTGTTTGCGTAGAGGTCCTGCCCTCGACCGAACTCCGGAGCACACA', 'TTTTGCGACCGAACTCCACCCGTCACTGAGCAACCTCCCATACTCAACTA', 'CGACTCGGTGCGCCGTATATCCGAAGTGTGAATAAAACGGCAGGGTCTTC', 'GAAACATGGGGTCGACCGAACTCCGCCTTTTAAGCCGGGAGCGTCCCAAC', 'ATGGCGATCTTTACGTTTAGTAATTAATAATTCGTTTGCAGTTCCCAGGC', 'TGCTCATACGCTTCTTAGCATAGCGGAAGTCTTCATACTAATCGACTAAA', 'ACTGTAGTATCACACGCTATCACGGGCCGCTCTGCGACCGGGAAGCCGTA', 'CATCACCCATGTCTCAAACTGGAGCTGGTGTCCCACGAAACACCAAGACG', 'TATGGGTCCGTTGAGTACACTGGGGGTTGAGCCCGACCGAACTCCTAATC', 'ACCTCCAGATGACCGGCTACAAAATTTCCCGACCGAACTCCTGCAGATTT', 'TGCTCCTTAGTAGTCGCATATTCACCCACGACCGAACTCCAATTGACTCC', 'AACCCAGGGAAAAAGAGAGTTGTTGAAGCCTCTAGAGCAATGCAGCAGTA', 'ATGCTAGATCCTAAAACATTTTACGAGCAGCGTTCCGCTTAGCCCGTCCT', 'TATGGGTTTAGCCTATCGCGGACTAGCTATCTATCAGACTGGTCACGAAT', 'GGCAAGGACGACTCACAGTGGAAAAGAAGTTCCGACCGAACTCCCATCTT', 'CTCGTCTCCATACGACCGAACTCCTTGTTCATTACGGTCGGGGGTGTAAC', 'AGAGGCGCGGATGTTTGTGAGCATTCACGACCGAACTCCATCCTAGACTA', 'GCGCACAGTCCTAAGCAGATTTGCTTATCGTGGCAAGTGATACATTGTCA', 'GCCAAACAGGTCAGCCACAAACCACATCCTTTAAGTGACTCATGGACACA', 'GGTACGATCAAGGCATTCACGACCGAACTCCGGAGACTGTGGAGCTGTTT', 'CAAAATGCTGGTTCAACCATAGGCAAGACCGAAGTTACTATGTTGCACCT', 'CGACCATGAGGCAGTGCTTATAATAATCGAATGGATCGCTCTACAATCGC', 'GCTTTCTCTGAGGTGGGTCAACCGACGATTAATTAGCGACCGAACTCCTC', 'ACTACGTGAGGATACAATCGGGGTCTACCGGGGAGTCAACCCATTCAGAC', 'CCCTTCAACGGAATGAACTGGTAGGGCTGTATCCTCGCATTAAAAGCCGA', 'GGGCCCCTTGCGACCGGAGCTAACGACCGAACTCCCTCGAACCTGATCGT', 'CTCCCGAGACAGTGGGGGAATGGTTCCGACCGAACTCCCGACCTGGTTTT', 'TCATATGCTACTTTTGCGACCGAACTCCCGAAGGCAGCCTACGAGGCCTG', 'GAGGTTCTCGTAAGGTCTCTAACTGCACTGGCTTGATGGTTCACCGGACC', 'ACGTCAGTCAGACGCTCTCAAGAATATTTCTCTCGGCGATCGGATACGGG', 'TTGACTCGTATGTGTCAGCGTGGCGACCGAACTCCCACCCCAACACCCGT', 'ACCTCCGACCGAACTCCGCGTCTAAGAGTCATCTGTGGAGGTGGTCATGT', 'GTCTTGGTCGACCGAACTCCGACGATAAATCCTAAACCTGTCAAAAGTTC', 'TTTGGTGTAGAAGTCAGATGCGAGGACTGCTACCGAGATGAACGGTACAA', 'CCACAGCGGTTCAAAATAAGAATCGGCGAACTTGTTTTTTTGATACACGA', 'CTTTGTGTGGATACTTCGACCGAACTCCGCTTGGTGTAGCTAGTAGTTTG', 'AAAAAGCTCCTATATGCACATTTGTTGCCACAACCGACCGCTTAGCACTC', 'GTACTATCATTAGAAAATAACTCTGGTGGTACTCGACCGAACTCCGCGGG', 'CTTTGCTCAACGTAACGCCCCCGCGTTTTAGTAGAACAAGACTTGGAGAG', 'AAATCTTCCGTCGCCGTGTCGACGCGTACACGACCGAACTCCAAATATAT', 'TCTGCCAACCTGCGCGACTGCAAAACTGTGTCCGCGTCCGGGGAGATGAA', 'GGAACTCGGGCGGGATAATTCTCCAGAATTCCCTCCTGATCATAAGCTCG', 'TAAGCTTATCTTATGGCCCCATACTGATGGCGGCTTCACTACTTTGGAAA', 'AAGTCCGGGTAAGTCGTGTTGAGAACTGTCAGTCAATACAGGTCAAAGCA', 'GCTCGTGACTGATCCGTAAAGATGCCGACCGAACTCCCAAGTAAAGGTAA', 'GCTGTTCGATCGTAGGCTTGTGACTTCAAAAAGTTTGCACAACTGCTATA', 'TCAAGGCACCACCGGCAGCTTCTGACGATTTTGGACACTTTTGACCGTAT', 'ACATTGATATTCGCATGTTCAGGGAGAGTACGCATCCTTAGCCAGACCTT', 'AACCGGTCAGTTAGATCATCCCGACCGAACTCCTCCGTTATATCATAGGA', 'TGGAGGGTCACGGGCTTACTAGGATCATATGACAGGTGTGTCTTCTTCGA', 'TTCTACGACCGAACTCCTATATATCACAAATACTTAGTACGTGTGGCGCA', 'CTATAAAGTGGTAGGCTGTTGTAGGGCGACCGAACTCCGCATTTCAATAT', 'GACCCTAAGTTCGATCACACAGAAACTAAGAGACTTTCGTCCAGCGTTTA', 'CGGTGGCGCTATCCGGACCTATGGTGTCCGACGAGTGTCCGAGGCCGCTG', 'TGTTCGCCATCCCTTTGCTCGAGTTGCTTGCGGCCAGCTAGCAATAGCAA', 'GTCCTGATAAGGCGCCGACCGAACTCCCGCCTCCTGGTATACGAACGCGG', 'CGCTCGACCGAACTCCGCCTCCCGTACTAGTGTGTGATACATATGCACAT', 'TGGACTGTTCGACCGAACTCCGCGTCTTAGGTATTTACATCTAACATCGT', 'AATCTGCACTCAACGAGACAGGCGGCACAAATACCCTGTCCGTCAACAGC', 'CGACCGAACTCCGAGTCGACAACCCGCGTTAAGATGGCGATATCTCACGG', 'CTCCAGCGATTAACATGGGGAAGCGACCGAACTCCCTAGCAGCCCCTTTC', 'CTTTCCTGGCATTACGCGGCTTTGTGTCAGCGGCTGAACACCGCCTGATT', 'GCGCTTAGTCTGAATAGGACAATCATTTGTTGGTACGCGTGTCATCCGTC', 'TGTCCTAGCAACGACCGAACTCCGAACTCAAGAAATCCTTTCCACGCTCA', 'CAATTCCCCTCCACGATGCGACCGAACTCCTCAGTGATTAATCTCGCCAT', 'GTGACCCACGACCGAACTCCCAGGCGGGAGTTGTACTGCCGTATTACAAG', 'GGACCGTTCGATTAAGAAACATGGGCTATGAGGGTTGGAGGGGTGCGTCC', 'CTGAACCGACGACCGAACTCCCTTCAGTGGTATACAATGGAATATCACAA', 'ATAGTTTGCAGCTCCCACCCCGGCCCTCCGGGATCGACCGCCCGACACGA', 'TTCGTACGGTCTAGGCGCTACTAGAAAGCCATTAATAACCAAGCAGGGGC', 'TCTTGCAGCTCGCTCCTGATTGGCTCCGGCTTCAAGTCCTGGATTCTATC', 'TTCGTAACCGCGTAAACCTCGATGGCCATGCCTTCCATGCCCCATCTGGG', 'CCCACGTGTGACGCAACCTCCTGTGGGTTAGTAGTTTCATCAACACGTCA', 'GGTCGGTCGCCTTGATCCGGGCTATATGCATCACGACCGAACTCCGCGCT', 'TTAGTAAGAACTGTCGTAGCACATTTCGTCATATACTCCATGGCAAATTA', 'GGTTGAGGATAAAATGCTAGGATAGGTCACGCAAGTTGATCGCATACAAG', 'CGAGAGTATATAGTGAGAGTAGAAACAGCGCATTACGTAACTATGAAGAC', 'CGTCCGACCGAACTCCTGCACGATTCTCCCCGGAATGAGGTTCGCCCGGC', 'TCAGCAAGTTATACGACCGAACTCCGGCACAATTTTTCCGCCTGCCGATC', 'TAGTCTTTAGTCTTGCCACCCTACCCTTAGATCCACTAGTTCTTGCTCTG', 'TTACCGCGACCGAACTCCTTTGTACTTAGTAAGGCTCATAAAGGTAATCA', 'CCTTCGTTCGCGGATCTTGTACTCTCCCTCGACCGAACTCCCACTCGCTT', 'ATTCTCTTCCAGCATCCTTTTGCTTGCGACCGAACTCCGGGTCTCACCCC', 'GGCGCATTCCTGCGCCAATCGACCGAACTCCTCGCCGGTGTTTTTTGGAG', 'TATAATAAGCTGGTATCCTGTCTATGACTGGCTGATCATGCCTCATACCC', 'TGCTAGAGCTGTGGCGAGGGCTTCAACTACTAACTCGACCGAACTCCATC', 'GGCAAGTTAGGGCAATTAATATACCGATAAGTATAGTACTGCTTTTAATG', 'GGCTGTATTCAACGGTCGACGACTTAGGCAGTATACGGGTGATCTCTGCG', 'TCAGGTGGGACTCCCAGTCGACGAGTGGTTGTGCGATCTTTAAGATCCCT', 'CCGGTGGCGTCGGGAGGTGACGGTGGGGCTCAGACAGACGTCGTAAAGAA', 'CAAGAGGGCGCCATCCTCTAGTGTGACACGGCTATGAATCCACGTTTAAC', 'AAAGTGTGGCGTGCCTCCATCCCTAGATTTGTACCTTGCGGGGATTGGAG', 'ATTACACAATTGTTTTGTCCGTCACTCACTAGACGAAATGGAGCCACACA', 'GGTCGATTGAAAAACAACGTCTTCATAGCTATGGTCGAGATATGCGGGGC', 'ATGCGGAAAGCCTGTTTTTGATCGTCTAGACTCGACCGAACTCCAAGATA', 'TGGATGTTCCGACCGAACTCCACCGCACCAGCAAATACCATTTCTGGTGA', 'TCCGAGGTCGTAGCATAGAAACGTCGTTTGTTCTACCGTAATTGACGGCG', 'CGCGACCGAACTCCGGTTTCCGTCAATCAGAGAACAAGGATAACAAGGGG', 'CACTACAATGCTCGGGGCAAGGATGACGACCGAACTCCAAGCGGTAGTTC', 'GCCGACCGAACTCCTTTGGGCAACCGTTGGAGTTCACACAGTGAACAGAA', 'ATACGTGGTGGGGTAGTTTTCAAGTCTGAGGGGGGGAATTCCAACACTAA', 'AACGGTGGGCGTGTCCTCACGACCGAACTCCCTACTAAAGCAATCTCAGT', 'GTTCTAGTGTCACGAACTCGTCCTTTCTTTAGTGTTAATTTGTGAGTACA', 'ACGACCGAACTCCTCCAACTGACTGAGGCCGGATTGCTGCATACGAGTAT', 'GGCGGGCGACCGAACTCCAGGGGTTTATTGTCCGTCCAGCCGTGAAACTA', 'ATTGTCCTTCGACCGAACTCCCAGCTGGTGGCTCTAGGCGGCCTACTCTA', 'GGATGCTTACATATTAATAATCAAGCATGGGATGCGGCGGCACAAACCAC', 'CCACGACCGAACTCCAGAGCGGTACGAATACTGCCCTACAACATTGAAGT', 'AACGGATCCTACCGGAAGGGTCAATGCGATCCCCTACCAGCCGAACAGTG', 'CAAGCCTACCGACCGAACTCCCTTGACCAAGACGTGGGACACAGCAGTAA', 'GTCTTCAAGGTAATCAGTCGACGTCCTAACCCGCATTTCCTGGGGATACG', 'CGGATTGAGTTGCGATTGCTGCGGGTCAATTGGCGCGGATCAGACTACGA', 'TGGAGTAGCCGAAATCGGCTACGTGACATCAAATAGCCATGGCCGCAGCA', 'AGGGGCGACCGAACTCCAACGCTCGCAGTGATGGACCTAACCTCTGTTTG', 'CAGTGTAAGTCTCGGACTAGATTGACCCTACAGCATGGGGTTCTTGTGAA', 'AGGGGTTCTGGAACTGTCAGAGAACTAGTTAAATCATTGACGAGAGCGGG', 'TGTTGTTGAGCTCTATGTCGCACCCGAAACGGGCACGCTAAGCGCTAACA', 'TGGGCTTACAACAAAGCGAAGACTGTTTGACACATTCGATCACGGAGAAG', 'ACACGAAGGTCGACCGAACTCCGATGCGAACCATTATCTCGCGCCTCAGG', 'CCTTATGGACGACCGAACTCCACGGGGTCTGTACATATTCCCGCACCCTT', 'TATCCGACCGAACTCCTAAAAGGCGAGTTCAGCCGCAGTTGCCTTACATT', 'CTCTACATGGGGGAGTAAGCTATCATGAAAAGCCTGGTGGAAAGGCATGA', 'GCCTCTTAAGGGCACACGACCGAACTCCCGTCACATTCTGCACATAAAAG', 'GAAATCACTTACGAGTTCGACCGAACTCCCACGGATTCTTATTTGGACAC', 'AGGGGGTCGACGGTTTGTGCCGAGCCGGGCAGCGCGCGTGCGAGGGAAAT', 'GTAATTAGGGCGACCGAACTCCATGTCCGAATCCGCAAAGTCGTGCATTG', 'CAAAGATTCGACCGAACTCCGCACTTTGGGGGAGCAGCATAGAATAATGC', 'TCCATCGCTGAGCCCACTAGCTTATAAAGGTGAAGTAGCTTTCATGTGTG', 'CAGACGACAACGTTAAAGAAACTTCGGGCTTATGGAATAACTGCGAAGCC', 'GCTCATTACCCAGGCTGCGCGGTTGCTATGGATGAACTTTGACTCCATCT', 'ACGTTACCGGAGGCCGAGAGCCAGGAGTCCAGATGTACTGAAACAACAAT', 'CGAGTCTGGGCGGCGAGCGCGACCCCGGAAGTCGACATCTTTGACGAGAC', 'GCCCTCCATAGTAAGGCCTTGTCGAGTCCAAGCAAGGCTTCTCCATCTTG', 'CGTATCTTGTATGCTTGGGCGACCGAACTCCAACACCATCGGAACCGCGC', 'ACAGAGTATCTCTAATGGCCTACTCACTCGCAAACGACCGAACTCCGACA', 'ATTCACAGGCGCTAATTTTGAATCCCCGAAACTCACTTCAGAGACGACAT', 'CGCGACCGAACTCCCAATTACTGCTTGATGGTCTGTCAATTGCGGAGGAA', 'TTCATGGATCTGGCGACCGAACTCCGAGAATTCATAAATAACACACTTGA', 'CGCGACGCTCCGACCGAACTCCGAGCTGGTGCGAGATTGGTATTATGGTG', 'CTGCTGCCGTTCATTGCGACCGAACTCCTAGATGGAGAGGCGTCATAATA', 'GATCAAAGTAGAATGCTCGGCGTACACAATACAGAAGGCGGCCATCGAGC', 'GTCGAGAGTGTTAGGGTCGGCAGCGTCTCATGCGACACTGTTTTCGCCCT', 'GGTTATTATTTTTCTATCAATGCGTCGCTCTGCATCAAAATCACCGCTTA', 'ATCTTACTCCTACGTCCCCGACCGAACTCCACTCCAAACGAGGGTCACCT', 'TCTTAGTAGTGGCAGCGCTTCTTTGCAACGTTGACCGTTTCACGCGCAGT', 'ATCGAGGACGCGCCCCAGCTGGCGTTTGGCGGCTCAGGAAACTCACGCAG', 'TGAACTACGAGGCTGATTCAACCTGGGGAACCGCAGGATGCTATTGTCGA', 'GGAGATGGTGGCAGGACAGTTCCGCGTCGACGGATAGAAGTAACCGGGCG', 'AATATTCACACTTTTAGACAACTCCGGTCCCAGGTGGTCATGTGCCCGTG', 'ACTCGTGAAGCTCGGCTTTCGACCGAACTCCAACCATATGAAGGGGGCCG', 'GGAGGCTGTTATTGCGGCCACGCCCTATTATCATGTGCGTTTAATTCAAA', 'TTCGCGGATAGCACCGACCGAACTCCCACTGTCAGTCCACGCATGTTCCA', 'ATGCATCCGACCGAACTCCAATATGTCTCGTACGACGGAGTGCCCTATTT', 'TACATAGCACCTTCACTACTCCCATTGCCGACCGAACTCCAGCCCGCCTT', 'TCCGAAGGTGATACATATCGACCGAACTCCGCGTATGTGTAGCCCCGGAT', 'GTCCTATTGGCGAAACAAGCTAGTATTCCAACAACTAGCAACGGCGAGAT', 'AGCCAGTCCAGTGGTACAAGTCGCGTCCAGGGAACGGCCCTTCAAGTTCC', 'ACCGACCGAACTCCTCCATGCCGTACATGATAACACTTCGATTGTCGTGG', 'TCAATACAACAAGAAGGGTTCACTAACGACCGAACTCCTCCACGTGGCTT', 'CAAACATGCTAGATACTCGCCAATGTGGCAGAGATACGCGCGAGCCGGTT', 'AGTGTTCCTGTAGGTATAGTACGGCAGACTGGAGTCGCATGCTCATTAAG', 'CAGCCTTTGGAATCTACAGTTCTAAGACAGGTCGACCGAACTCCCTGTCG', 'CCCGTACACATAACGGAGTTGGTGGCCGGCCGCTATCTACTTACGCAAAA', 'GGTTCCCGGTAAAAACTAAACATCCGGCAAAAGTCAGTCCCACATGGGCG', 'AGGGCGCTATGAGGATGATCTTATCCGCGCCGACCGAACTCCCTATGTCA', 'AGTGACAAGATCATCGCGCAGGGAACCAAGCCGGGTTACGGCTCATCCAC', 'TCCCCGTATCCTTGCTCTCTCAGAGGTAGCTTCCGCTCATCTGAGACTCG', 'TGAATAGATGTGCGACCGAACTCCGACTTAGCTCCGGGTCCTAGTGCTAG', 'ATATCGCCCCCGACCGAACTCCGGCCCGCAATTCTGGAATTGATGAGGAG', 'GCCGAGTGACGCTACGACCGAACTCCTACGGTTAGATCCCTACGGTGGTA', 'CAGTTCGCCTAGGGGATACTAGGTATGAGTTTTTCTTGTATCTGAATTTT', 'GGAACGAGGTTTTGCCCGCGACGATAACTTCAGCAGCCTTTGCTTCGTAG', 'CCGTGATGCGTGCAGGAGCACCCTATTGAGTGCTCAGTACGGTGGCCCAA', 'AGCACAGAAACAAACGGGACGGGTCTAGACAAGCATGTGAGATAGGGTCT', 'AAACCTTCGCTCGTATCCGCGTCTAAGCTTCTCCACTCAAGTCTTCATGT', 'GCCCGATGATGTCCCACACCCATAGGAATACTAAGTGATCAAGCAGGATA', 'CCCCTTTTGATACGGAACGACCGAACTCCCTCATGCGCATCGCCCCCCGC', 'AGGGCACTATTCATATTCACCCCCTAACATCGGTTGCTGCTAAACTGTAA', 'TCCCAAGTCACCGACCGAACTCCCTTCATTCCTATCTCTCCACTCGTATA', 'TAAGCTACCTCAGCGTTCGAGCGGTCGCACACCGGAATGAGCTGGGGAAT', 'AGCGGAGCATACACCACTCTTCGTTATTTTGTCGTCCGGCGGAGAGGCAG', 'CAACGACCGAACTCCACATTCCTTGATCCTCAGAGGTCGTCCGCACACGG', 'TAGTCCGTGAATGGCTCGACCGAACTCCAATACCCTGCTGTTGAACGCTA', 'CGGAATTCGTCCAGCACGCGACCGAACTCCATCCGTTGAGTACCGCTGTT', 'GGTCGTTTGGAATTTCGACCGAACTCCGCACGGTCCAGCATCCAAGGGCA', 'GGTCGACCGAACTCCCTTGTCGACGTCTGGAACATTAAACCTCCGTTAGA', 'TGGGGTTCCCTACAAAGTTCCTGTATGTTTACGATTCCCAGCTGTTGAGC', 'GCTGACTGGTACGCGACCGAACTCCCATATTAAATGGAACCCAGGAATTG', 'TCCTACTAAGGCACTCAGCGCTACTTTGGTTCCACAAAGCTATACACTCT', 'TTTCCCCTTGCGCGTTGACGGATGTCCGACCGAACTCCGCTAGCCTTGTT', 'CGCTGCCGGCAACCGGCGACCGAACTCCGCCGTCTTGCAGGACTTTCGGG', 'CAGGGACACTCTCTTGCGTGAGCGAGTTTCGTGAACGACCTAGAAGGTCG', 'AAATCGAACTGTTTACCCTGTCATACTATCGCGGCATTTGGCACCAGCCG', 'ATCAACGGCAAATGAGGACCGTGGCAATCCGCGTCCGCATAGGGTCACGC', 'CGACCGAACTCCGTTACCCACTCAGGTTTGCAACGGATTAACCCCCCTAG', 'CCGCAATTCGACCGAACTCCCATTCCTTGGATATAGTTAACCGTTAGTGC', 'GCCTTTTTGTCCTCAGGTATTCGACGGTATCTTGGCGGGTACTCTCGCAC', 'TGGTGGTGGGGCGGGCACGACCGAACTCCGATGAGTCCTAGTAGGTGCCG', 'CTAGTGGCTGCAATGTGCAAAATGTCAGTGTGGATCGCACGGGTCTGGAA', 'CTGAGTGCCTGCCATAACGATTGTAGTTAAAAGGGCAAGTTAAGATTAGG', 'TAGCCCTCTGACTGGCGGGTGGGGGTGGAGGTGTCGATCATCAGAAATGG', 'GTCAGGGTTCTATGATAATAGGTTGTGATCGACCGAACTCCACCCTCCGC', 'TACAGTGTGTATCACGGTTGACGACTAAGCGTTCCCGCCGTTATCTGTTA', 'GGATTACTCGACCGAACTCCGAACGGGAGAATCGACACAGTTTACGGATA', 'GCGCTAAAACAACCTCGTTAAGACCAACTGGTGAAACGACCGAACTCCGT', 'TTCTGAGAAAGATTCCCTGCTAGGTTAAAGGCCCGACAAACCACTCAAGG', 'GGACTCAATAGTCTCACCCTGCTTGTAAAGTACTATACTAACCAAGGTTG', 'CCAATGAGTGGCTAGTCCGGATAACTACGAGTAGGTCCGACCGAACTCCG', 'GCGATGATTAACCGCACTAGTTTAAGCCCCTACTAAATCATAGGTCCACC', 'AGTCTCACTGTGTTACTGCACTGGCGTGCGACCGAACTCCATAGGCCATC', 'AAAGACACGACCGAACTCCGGAATGGTGTGCCTTAGCAGCGTCCAGTTGG', 'GCCAGAGGTCCTTTAAAAACCGCTCTCACGAAGCCGAGTTCATGCCATCG', 'TAGAAGGATGATCTAGTTTGGTTAGTGGGACCGACCGAACTCCGTTGACA', 'CGCCATCACTCTAATTATTGCAAGTTTAGCGACGACCGAACTCCATATCG', 'GTGGGGGATTGAACCACTACACAGTCGAGTCCATGACGAGGAGGTTCTAG', 'GAGCCTCGACCGAACTCCCGGTTCAAGTCGAACGCGATTATTGCGCCTCC', 'GGAACGACCGAACTCCCCGTGCACGGTGGAAATTCTATGTGCGACCCAGC', 'TCTGTTTTGATACATAGGTACGTGTAAAAATGCGAGGTCCATTTTTCCGC', 'CACGATGTTGTGGCATTAAAAACGACAATTTTGGTTAATTTATTGGAGAC', 'GACGCTTCGGGTAACGCAAGCGAAGCTGATGTGAGTCAATGGGAATGGTA', 'AGACTACCAGACATGACCGACGTGAACTACGGATCACGCGTTGAGCCCAT', 'TGCCCTAGGGCTGCACGGATAAGGTGAATGGAAGCAAATGGGAGGGTTAG', 'AATCTACCGAATCCAGACGGCAAATTGCGACCGAACTCCGTGTGACTGTT', 'CGGAGTCACTAGGTACAGAAGGCAGTGCCTCACTCTCGTCATTCGGCCAC', 'CGACCGAACTCCTTCTGTCCAATTCAAGGCCCCACCAGCGAGACGCTTGA', 'CCCACACAATTGTATTTAAGTTAGGATGGTGTGGCGACCGAACTCCTCGC', 'ACGCGGAACTAGCCGACCGAACTCCCATATAACACCACAGCGGCTTGGAG', 'ACCTCGCTTCGGTGGAAGGAAATTAAATTGCGCCCGTTTTGACTTGCTAT', 'CCATCACTTAGGTCGACCGAACTCCACATAATGGTGACTATCAACCGACC', 'TTGTCAAAGAAATTTCCCATCGTATACAAGTAGGGCCATCCAACAGAGCT', 'GGCCATGTGGAGGCACGAGCGACCGAACTCCTTCAGTGTGTATATGCTTA', 'GCACGACAACGGGGTAATAACTAATTCCGGCATCGTGAAGTGTCGGTCTT', 'AAGGCGCGAATTCCTCGATTGCTTGATTGTTATGAAACGCTACTCATAAC', 'CGACCGAACTCCTCATCAATCTATTAACCAAGGCTAATCGCTAGTACGAA', 'GCGATACCGAATTAGTAAACGAAATACCGAAACTTATGCATAACCTCGAC', 'CCGCCGACCGAACTCCAATAATTCTGATCTATATCGCTACGGATCCACAA', 'AAATGAGACTGCGACCGAACTCCCTACGTTTGAGGAAGATCACTAGGTAG', 'CCTGTAAGGCATTAACACGGAAAATTGTACGATCCTACCTCCCGAATACA', 'GACGACCGAACTCCCTTCTCACTAGGGTACGGAAATACCGCACGTCGGAG', 'GTCACAAGGATTGCTAGGACACGCAGTGAAGGGCTCAGCCACACTATCTT', 'CCAGCCAGGCGACCGAACTCCTCGTACGTGCGGAGTTATGGTCGTGGATG', 'TAATGTTGTTGGACCAACATAAAACGCCGCTGTCCGCATTAGGAATAAAC', 'GTGCATAGCTAGATACTGTGGTGTCCACGCGACCGAACTCCTTTGGGAGT', 'TCACGCGCTGAATCTTAAGGGTTGCGACCGAACTCCCAGAATGCGAGGTT', 'TGACAGACAAGAATGGGCGACCGAACTCCATTGCGCTAGAGGGAGGGAGA', 'TAAGTACGCCGACAAGCCGAAGACGACCGAACTCCTTCACGATACGGCAC', 'CGACCGAACTCCAGTTTCCGAGATACAATTCAAATCAAAACCCTAAAAGC', 'CGTGTATACAGTAAAAAACGACCGAACTCCCACGAGATGCCTTCTACGCT', 'ATTTTGAACCACAGGTAGACATTGCCACCGACCGAACTCCGTTGGGGGTA', 'ACGCGACCGAACTCCCTTTCTCCCGGTGCGCAGTAAGGTACGAACAGCGT', 'GCGGGGAGTGCCGGCGACCGAACTCCTGTTTAGGAAGCTGAGTGACACTA', 'ATCGCGCGCCAGGAACCCGACCGAACTCCGCAATGTGCCAAAGACTCCCT', 'GCGAAACACACCCGCGACCGAACTCCCAAGCCGAACCTTTCCCAGCACGC', 'CAAACGATGACTATGACTAGGAGTTTTGAGGAACTAGTTGATTTTTGAAT', 'CTCCCACTGTGAATAGACCATCGTATTTTAACCGGCCTCGCTGACAGCAC', 'ACCTGCCCGGCGTGTTTAGCTCTCATAAGCTACGCCGGGACGCCACAGGC', 'GCGACCGAACTCCTCCCCTTACTGAAAGGGTGACAATATTCACCAAGGTA', 'GGTGGGCTAATCGACCGAACTCCATGTAAATTGACCGGATTCACCAGCGT', 'CTACTAGGCATCCTATGCGCGACCGAACTCCCATAGCCTGATATCGCTAG', 'TAGCCCCCTATCCGGAAATGAGGGGGGTCGTATTTGATATGTTAAACATC', 'CGCGACTTTATCTCTGCTTTCCTGCCGAGTCCCCACCATTATTGGGACAA', 'GCTGACACTCCTTCAGAGTATCCATCGACCGAACTCCAACTGTTGACAAG', 'AACTAAGCGGGATGTAGAGGACCTTAAACCGGAATCACAGAGTTTATACG', 'TCAGGAAGCCTGAAAAGCTCTAAGAGGGAACTCATGTGATGCCGCCTCTA', 'GAAAGCGACCGAACTCCATAGGCTCAGACAAAAGAAGAACGTACGATACG', 'TTACAAGGAGCGTAACAGTAGTAAATAAGCGACCGAACTCCGACTTGTGT', 'GCTAACTGCCGCCGTAAGGTCCGACCGAACTCCAGGACAAAGGAAACCCG', 'CTCTCAGCTGAGTAACGCACCTCACAATAATATGGGACTGTGGATATTCG', 'ACTCTTGAGAATCAAAACGACCGAACTCCATACATCATGGCCCACATAAT', 'GCGAGCGACCGAACTCCCTCCAGTTTCACGATCACATGGCTCCAAATTCA', 'AGCCAACTACAAGGTACCAATCGACCGAACTCCGCAGCCTGAGATTAAAT', 'TTTGTATCGGCGGAAGTGAGTTAGACAAAGCGTCAAAGTCCGTCGTTCCT', 'CGCCCAGGAGCCCGGTAGTAACCTTCCAAGCATACACAGGTTCCCAAATC', 'GTCATGGGTTCCGTCTATGTGCCCACGACCGAACTCCCTAGGACAACGAG', 'TTAACGGCGGTTGCCGCCTCATAGCACATGATGAATGGTCTGTCTTACGC', 'ATCTCGTCCTACAAAAAGAGCGGACCCTGATATCTCCGACCGAACTCCTA', 'AGTGTGGCAGCGGCCCAAGACTACCCCGCCGATGGAACGACCGAACTCCT', 'CCCGGATGCTTTAGGTAAGGACACGAACGACCGAACTCCTACAGCATCTG', 'GAAGTGGTCCGAAAGAACGCTCGAGCGGCCGACCGAACTCCCCAAACCCA', 'TAACTATTCTGGCCGCTACGATAGAGCCGCTAGGGTTCGACCGAACTCCC', 'CGAATCAGGGAGCAACGACCTGGCATTATATACCTTCGAGTCTGCCCATG', 'ATTGCCGTTGCGGAGTGCCTCGCGACCGAACTCCTCATCGGACTGTTTAT', 'CCCCCTCGAAGTAGGCCGACCGAACTCCCTACAAAGGTACCCGGACCGGC', 'GAGCCCGATAGATATGCTGCTCAGGGGTACGGTTTACAGTGCCAATTGTT', 'GGGGGTAAATCTAAGGGTCCGCAAGGGCTGCGTGAGAACCAAGGACGGGC', 'CCGAACAGAATAACCTGTAAGGCAAAAAAAACTACAGATCGGATTAACCA', 'AACGGATTACTCCCGTGTACTTAGTTGGTGAACTAAACGCCCCTTACCAG', 'CCGTTCCAATAGGGGCGTATCAAAGCTGATTTCGCAATTTCGCATTCAGT', 'CATTGCGCGCTTTACACTAAGCGAATGGGCAGTATATGGTCTATTAGATA', 'GACCTTGACCCGACCGAACTCCTGAACCTCGCCTGCAGGTGGGGGGGAGT', 'TACTTAACGAAACGGCGTCAGTCCAACTACCAGTGGTTAAATGTAGAGAT', 'AGGAAATCGGCGTACTACTCCTGTCCTAAAATGACAGTGGGAAGTATATA', 'TGGTCGTGGAGTGTCGACCGAACTCCATCCACAGCCTTCTCACCGTTGAA', 'GTGTAACCTAAGAAGGACCACGCACACAACCGTAAAACCTATGTTGGTGT', 'GCCGCGACCGAACTCCTAACATGGGCCCTGTTAGACCTTAATGTGACCAA', 'CGCATTTTTTGGTAAGGTACTGGGCAGTCATTCCCGAGCCCGTCGCGAAG', 'AATCGCCAAGGGATGATCAGGTTATATCGGCGGGGCAGCGCCATAAGCTC', 'AGACTTCTCGTGGCTAAAACGTCATCGATTAGAGTAGGCGAAGATTAGTG', 'TGCCATCTGGACCTGCAACACCCCTCAGTGGGGGACATATCGCAACCACT', 'CGTAAAAGTGTATAGTCTACACCTTCCCATATGATCCTCCGGGAGGGTCT', 'AAACAGTTGCCAGAAGCCTGAGATTTTACATCGAGTGCCCAGGGTAAGAG', 'ATCAGTCAATTAACGGCATTACATAACGTTACGACCGAACTCCAGACTCG', 'TGAAGGCCACATCAAGACGGCTCCGCTTTGCACTCGCGAAGCTGCCCTTT', 'TGCTGCCGCATTCGAGTCACACGTCCAGGAGTCAGTTGGAGACTATCGAG', 'GCCGGAAGTTAAGTGACCCGTATTATCACGCGGACCCAGGGAATCGTTCA', 'TGTGGAGCTAAGACCAACGAGACAAACCCTTTTCACTGGCATAAATCTTC', 'CGACCGAACTCCTAGATGCGGCGTTTTCTGACCATTGTTGTATAAATTCG', 'ACTTAATGGTGTCCCGCAACACCTCAGCTATCCCCAGCTAAATGTTTCCT', 'TAGAGTACGAGTAAAGCCCTACCATGGGATAGCCCCGACCGAACTCCTTT', 'ACGAGCGAAAGCGTCTGCTGCAAATTGACGACCGAACTCCGAACGCCAGG', 'GACTGAGCTGACTAGATCCGGGGTGATTGTATTAATCTAAACAGGCAAGG', 'AACTGCCCACAGGTAGGTTTACATCGATTCAGGCCGCGACCGAACTCCGG', 'GTTGCATCTGTGGGACGGTCAATATCTTGACCGTCCTTCTACTCCGAAGG', 'CACCTTGTAGAAGTCTAAGAGGTATCTACACATAGGTTCTGTGTGCAAGT', 'AGCTTGAGCGACCGAACTCCGCCCCGTCGTAACACCTACATATTTCGCAC', 'ACGGAACGACCAGTCTCGTACAAGACAACAGCGACCGAACTCCTAGTCGC', 'AACACGACCGAACTCCTACCAGTCTCCACTTACTGAGTGAGTGGGCTGTG', 'ACAACAGGATTACGGGAGAATCCCGTTATATAGTCATTATCAAAAACACC', 'CATCGACCGAACTCCTAGTAGCCACAACGAGGAGACCCCCGGGTTATCCC', 'TCGACCGAACTCCGGATTATCGTCCCCCAGGAACTGTGCTGGCTCTTGAT', 'TTAGTCCTTTAGCAATGTCGTCACCCGAGATTCCGAAACCACAGTACGCC', 'TATGGAACCGACCGAACTCCTGATAAATCTCTGCGCTTCGACCGACAATG', 'CGCAACCATTCGCGCACGGCCTCCAGTACGCCCCGACCTTGCCCGGCCGC', 'TCTTTACCGTATTCGACTCTACCCCCAGACTTCGCAGGAGCCTAGGGCAC', 'CGCTCTTCAACCGGCAGGACATGGGAACGTCATCACGACCGAACTCCCAC', 'CGCTCGTTCAGTACCCCGTGTAATCCGACCGAACTCCGCCTTACTTCATA', 'AAGCTCTATGAGCTATGAGACCGACCGAACTCCAAGCACTCCGTTATGAC', 'TTAGTACCTTCAAAGTGGGGATTGTCATACACGTGTGCTGAAGCGATTGT', 'GACTGCGGAACGTTTCACATTATCATGTGTGTGCGACCGAACTCCAGCGG', 'ACGACCGAACTCCATGTGATGCGGAGAGGGAGACACAAGTTGCGTAGCGT', 'ATCCTCTAACCTGTTAGGTCGACCGAACTCCACGCCGAAGTCAACCCTGT', 'CGACCGAACTCCCTCTAGGTTTAACCGCAAAAGGATCGTCTACTGGGCAA', 'ATGCCGACCGAACTCCATTTCTGTCTTCTACTAGCTCACGTGACTTAACT', 'CACTATCATTTGTTCCCCGCCCTGCTAGCTAATTCGACCGAACTCCGTTG', 'ATGAACCTTTCGACCGAACTCCACTGCAAGGCAGCGAAAATTTCCGGCGC', 'CAGCGAGCCACACCGGAGTATCGACCGAACTCCCTTCGGCACCTGGGGCT', 'CGGGCGATAAGTACCCCTCTTTTGAGAGCTCCCGCTTAGTTGCTCTACTG', 'AATTTCGCCTACATCGGCGCGTGGTTGAACGCGACCGAACTCCAGCGCGA', 'CACGAATTTCACAGCATTCGACCGAACTCCGCCGAAGGGGGCTGTACTAA', 'TCTTGTCTGAGATAGGCCAACTCTAAGGTTCTAAAGTTGGGATCCTTGGA', 'TCTTAAGTTACGTATAGCGACCGAACTCCATGCCTAGGAGTGGAACTAAA', 'ACCTCAGTTGCTGGCCACCGTGAGACTTGTAACGCTCTAGGCTATCTACA', 'ATAAAGAGTGAAAGCCTTTACCTCTACAACGTCATATCGACCGAACTCCA', 'GCGTGCCGCGCATCCCGCGCAATGTCCATCGACCGAACTCCCGTGAGGTT', 'GATCAGACGGACGCTACTTCCAAGACGTTCGGCGACCGAACTCCGTCTTG', 'GCGGGCTTATTCCTTTACTGTGAGCAATAAGTCTCGAATTTAAGCTACTT', 'GTTCACAGTTACGACCGAACTCCGGTAACACTGACATCCCTCGTGGTAGT', 'TGGGAACTCTCCGGGGGCTAATACTTAACGTGATGCCCTTTTTGGCGGCC', 'CAGAAGAGATCTTACCCATGGGCCGACCGAACTCCAGCTGGTTGCGCTGA', 'TACTTGACCTGCGTTTGCAGTAAAAATCGACCGAACTCCTACGTTCCCGC', 'CGCAGGACAAAACGAATCATACTTCTTATGCCGACCGAACTCCTCTCACT', 'GGCCTGCTACTCAACATCCATCCAATTATGGACAAACGTGTTAATCCCCA', 'AAATATTTTAAGACCTTTGTGTCTATAAAAGGTTGTTGGTGCAACCTTAT', 'CCTCTGGGCCACTACACTGGTAGCCAATGAGGCGACCGAACTCCTCCTGT', 'CAGTGCGTACACTCAAGAGAGTGATCAGCGCTATACTACTTTTGCGCCCA', 'TGTATTGTGCCAGGGAATGACCCGACCGAACTCCGCTATCGTCGATAACC', 'GAGGCAACTTACGGACAACAGTGTCATCCCGGTTGTTATCATACTATAAC', 'ACCAGCGCATTGTATGAACCTGATTCTTCTTATCCACCCTAGAAAGGCTC', 'GAAGTCAGTCGGGCACCAGTTAAGTTGAAGACCGACCGAACTCCGTAGCT', 'AGAAATGGATAGGGGTCCTAGCGACCGAACTCCCTTAGATACCTCGTGTT', 'GTGATGCAAGTTCCTACCATGCACACCGACCGAACTCCAGGGCTAGGGCA', 'TATATGTGATTTGGTAGCAAAGTTCTCCTCAAAGCCAGTAGTGTCCGGTG', 'AGTCAGCAGCGATCAGAATCATTTGTTCGACCGAACTCCCGCCTCAACGG', 'ACAATGCCTTATCCCAGGACCAATAGACGACCGAACTCCAGTCTTGCATA', 'CAGTTTGATAAGAAGCTTACGAGTGTGGCGACAGGCTCTTGACCGGCCAG', 'TTTGATCTAGAGAACTTATCATTGTTGAACCGACCGAACTCCTTGTCCGT', 'CTACTCTTCCACTGATTGCTGGCGGGGCGACCGAACTCCCCTGGTCGCGA', 'GTCGACCGAACTCCGTATGATAGCGGAACCCGGCCCTTCGAGACTTACTC', 'TGCATCGTACAGGACATAGCCGGTGGGCGAACTTCACGCTATTAGAACAC', 'CGCCGTAAAAAACACGTCTGATTGGGCCTGTAGCGTCAATGATCCTGGGG', 'GAACCGACCGAACTCCCCGTGAAGCATCAGCCATAAAAAGATCGTATCTA', 'CATCTTCTCGCCCGTGTCCGGGGCCAGGTTCAGAACAGCACCTCATGGGG', 'CCAAATACTAAACACCGACCGAACTCCCCTGCTTAGGACTTTATCCACGG', 'TTGGATCCGAGACACAGCTTCTCGGATTTCGTATATCGACCGAACTCCGA', 'ACGGAGTGGCGAGGAACTGTCAAACGCAGAACCTAGAGTAGGTCTGTCAT', 'GTAATAGGATTAGGTGCGTGGACAGGACTAGGTGGTGGCACCGAAGCCCA', 'AGGATGTGCTCCCGACCGAACTCCACCATGCAGGGACACTGCTAGCGGGA', 'ACCTAGCCCCCACCCGACCGAACTCCAATCTGATAGCCCAGTCACGTCGA', 'AGGCCCGGTTGTGCACGCGACCGAACTCCCCATTTAACTGAGTTAACGCC', 'GTGCGACCGAACTCCCGGTATTTGGTTACTGCCACTTGTTACACAGAAGT', 'CTGATTCGACCGAACTCCTGTTGAAAATACCACCGGATTGGTATTCTGAT', 'GGGGCTGCCCTACCCTGTCACGAATTGTGAAAGTTTCAACAACATCATGA', 'AGCGAGAGTACCGTGGTACTGAGACCACGAGAGCTGACAGAAGCCGCTAG', 'GGAAATCGGCGAGCTTCGGTGTCCGAATCTCTTTGACTATTCGTCGGAAT', 'CCTTCACGGGTACAAAGCTAACGACCGAACTCCATACTTATGCTGATGAG', 'TCCGACGACCGAACTCCAGTAATGTCCACGTGACCTGGTCAATTTGCCTA', 'AAACCGTCTGTAACGCCCGACGACCGAACTCCTACCAGCGCCTCAAAGCG', 'CAGCATCTAGGTTTCATTTGTAGAGGCGGAATCGCTCGACGTGCGGCCTG', 'AGGGAGCACCGCGACGTGTGCGACCGAACTCCTATGGCCGTTACTTCGTA', 'ACTGTGACATCCTGCGGGCACACGACCGAACTCCTGCCGACTTCTGAACC', 'GCCCCCCTCACTGACCACTCGTCGATCCAATTTCCTCAGCTCATGTTTCG', 'CTGACGAAAACACAACTGGCACACGCGCGACCGAACTCCCACTTGCGAAA', 'TTTTGTTTTTCCTTGTACTCTATCCGACCGAACTCCTGATTAGAGTGGCC', 'TTAGACGTAACTAAGAGATCTCGACCGAACTCCAGCCTCTCCAAGTGATA', 'GTGGACAGGCCACATGCTTAACATTGTCGAGTCAATCTTCTCCTTGAACG', 'GTTAGTTTACTTCTGTCAAGTTCCGGTTGAAAAGCAGATAGTTAATCGGG', 'CCAAAATCTCTCACACTGCTGTGACTCAACTTTCTCGACCGAACTCCGGG', 'ACCGACCGAACTCCTTAAGCAATTTACGCAGCACATCTTGGCAGGTTAGG', 'ACGGTTCTACGGGTCTACTGGAAAGTGGGTGAAAAGGGATCCCTGCCGCG', 'CGAGCCCCCAGGCGACTACGACGGCACCCCCGCATCGACCGAACTCCGTC', 'CAGACAATACGACGACCGAACTCCCGAGATAAACATGCTCGGGCCGGTGA', 'TCTAGGACAGTGCTCGGTCTTCTATGCGAATGTTGAAACCTCCGTTGAGA', 'GCTTACATCATACAATCGGATCTCTGGGTTAGATCGGGGGTGGACGATAG', 'TTAGCAAACCCGACCGAACTCCGCCTCGGGATTCATAACATCTAAGCCGT', 'ATTGTGCGGGTCACTCCGGTGTACAACGACAACGTCTCCTTGCCCGTCTG', 'CCTAGCCAGCCTGCACGTCACAGTGCCTAGACAGACGAAGCGCAGCGAGA', 'TCTGACATCCCCACTCTTACTCAACTGGATGTCACCCTGCATGCACGGCC', 'ACCGTCAACACGACCGAACTCCTTTCTTCGCTACCGTACCCACCACAGAG', 'CATACAGTCCGACCGAACTCCCCTTAGGGTCGATCGCAGGCTCACCGTTT', 'TGGTCTGGCTTATCGACCATACTGACTCTTAGTCTGCTTAGTGTCGCGCT', 'CAACCCGTAAGCCTTATAGCCACGTGCGCATTCCTGGGTACCTATGGCCC', 'CTAAGCACGAATGTCGACCGAACTCCGAGACTAGAACTAAGAATTGAAAC', 'CTCATGATCGCTTAGGTATTGCCGACCGAACTCCGCTGGCGATACAGCCA', 'AAAAAAATTGAATTAATTGGATGAGGGCAGAATACGACCGAACTCCCTCG', 'AAGGTGCTGGCACAGAAGTCGCCAGTCCTCGTGTCTGTCACCATCAGACG', 'AGCACCCTCGAATTTCCGAACACTCGCCCGACCGAACTCCTCCACGACAT', 'CCTTACGGTTCCGCATGGACCTAGAGACGTACGACCGAACTCCCCACGGA', 'CACATCCCTATAAAAATCTCCGCTGAACAAGTAATGGACTGAGATCTGGG', 'TCTGCGGTATACCCGCGACCGAACTCCATACTTAGGTTATTGTATTTCTA', 'TTCTACGGAAGAAATGAATGCGGGTGCAGTGGCCTTTTTAATTACATCTG', 'ACACTACCCGCTTTCTCCCGATGTGAAAACTTTCTATTGCAAATAAGTGC', 'CAATGGCTAGCAAACCACAAACTTCGCGAGATAGTTCGGCCTCTGCGTAA', 'TTGATGCAGCTTCGTTGGCTGACCCCACCGTCGGTGCGACCGAACTCCCG', 'GGGTCTCGACCGAACTCCCAATCGGTTGGGCATTCGCGTACGTACCTCTC', 'CGTGCATCGACCGAACTCCAGGCAATGCTCAGCTACCTCACGGTGGCAAC', 'ATAGCCGTAAGGTATATTTCCCATGGAAGTCAAAGCTTGAGGTCTGGAAG', 'GCCAATATAGTGTCTTTTTCTGTTGAACTCGACCGAACTCCCGCCCCGCA', 'CAATTCAATATTGGCTCGAGGGAGTTGCCAATTGCTCAAGGTCTTCTGCC', 'AAAATAAAATACGCTTTGATATGCCGATCGACGTGACTAGCCATACCCTC', 'ACAAGAATCTCACACACCCACATCGGAGAAGGTAGTTACGGGGGGTATGA', 'TGACCTTTTGCTAAGTATAGATTGCTCTGACAGGGTTTTCGCTACATCCC', 'TCGCTACAATTAAGGTCACATCTATCGTCTTGCCCATGCGAAGCGCCAGA', 'TTTTGCTCACTAAATCGCTTACTTGCAAACTTGGTTCGAAAATTCATTTA', 'GCCAAAGTGTTCGGACGACCGAACTCCGTTCACAAACGTGGAACCTGGTA', 'GGCCGCCCGAACACAATCAATATATTGCGCACGCCGACCGAACTCCGTCT', 'ACGTGGGAGCAAAGTGGTGCTCCAATGCGCAAATCGCGGGCATTATGTCA', 'GGGTGCGACCGAACTCCAGTGACTTGCTAGGAAATCTCGCATAGTTATAC', 'GTCCCAATCGCATCAAGCGCTCGGCGACCGAACTCCTTTGAAAGATAGGA', 'GCCAATCACCGGCTAATGGTTGCGCAACGACCGAACTCCCCACCAATATT', 'GCTGGATGCGCAGCAAAGAACAGTAGAGACTTGGTCCACTTCCTTTTTCC', 'CAACTCCGGGTAGCGCTGCATCAACGATAGTTTCAGCCTCACCTTCTGGG', 'AACTACGACCGAACTCCCTGCGCACGCAGGGTGTAGGGATCAAATTTTTG', 'TGGAATGTAAAAATTATAAATTGTTCCGACCGAACTCCCATCGTGGGAGA', 'CATTTGGAGCTACTCGCGCAGGTGTGGGGTACGGATCAAAAGCGACATAA', 'ATCTAGGCATATTCTCGCCCGCTTCTCGTCAGACTCCGACCGAACTCCTA', 'AGTTCGACCGAACTCCGTATGTACTCTGGCTGCCTGCAAGGACTCGGTCT', 'GGATGGTACTCCCTTCAAAGCGATAGGACTTACCATTTCACTCTATGGAC', 'ACCATCTTTCCGACCGAACTCCTCGCAGGCTAAGAGGAGTGTTTATACTG', 'CTGGGCAACCTACGACTTAGACGCGGCATGGTATAGGCATAAAATCGTTG', 'CATCTGTCGGAGCACCAATCTGGTAGATACGAACCGACCGAACTCCGAGC', 'CCATGGTGGGAAGTTAACAGACCTTGACCTTACTAAATTTGGGTTGCCCC', 'TCCATATGAGGCTACAGAACTAGGCGATACGAAGTTTGACAGGAGAATGG', 'GAAAGCGGGGGCTAGGGACACTGCACCTGGAATCCAGCTACGGTTAAGGC', 'CGACCGAACTCCTAGTTGAGTGAGTATTCTTAAAGGAGCGCAAGAATATA', 'CGCTGTTTGACCAATGTCACAGTCGCACGGTCACTAATAGGACACTGGTT', 'CGACCGAACTCCGACCGTCGGACTTCTGGCTGCGCAACAATATAAGCACC', 'GGTTTCAGACTTAAGCGACCGAACTCCATATAAGCCCGCGTGAATTACCC', 'CCCACATGCTTATAATAAATGACTTATCGTTTACGCCTGCGATAGTATAC', 'AAGATAGGCGACCGAACTCCGTTGAGTAGAGCATTTTGGACCATCCATGG', 'TGTCGTGCCCATTCTCTGTCTGGGCACGTGAAGCAGCTCACCTGCTAGAG', 'AACGGACGGAAGCTGGCCGACCGAACTCCGTTCCGAAGAAACTTCCCAGG', 'TCGAATGGCCACCTGGCCCAATAGAGAATCCCTGATGTTGCACTGTCCCA', 'GTTAAATAGGATCTCCAGACACAGGTCCATCGACCGAACTCCATAAAGCT', 'CTTATGCTCGACCGAACTCCTCGTTGATTTACACTCCCCTGACTTTTCAT', 'TTATTCGACCGAACTCCACTTGCCGTTCCGCCAGTCTCAGGTATACCACG', 'AGGGTTCTTGATCGACCGAACTCCCATCCATGTCCCCCAAACACTGTGAG', 'AGCCAATGCTCTTCTCAGTCCGGGTCTTAGAATTCAGACAAACATATATA', 'ACACGCCCCGCATTAGAACCGGTGATTCCTCCCTTTATCTACGTTGCTAC', 'TCTTCTTCGAAAAAACCCTGGACGACCGAACTCCATAAAGCAATTGCTGG', 'AATTTGCATGAGGGCAAGCGTAACAAACGAGCGTACCGACTGTTGTGGCC', 'TCTTAGGCGTGCGGAATGTGTTGACTCGTGTATTTGAGCATTTCCTTCGA', 'TCGCTCTGAGAGACGACCGAACTCCTGTTATCCAATAAGACTAGTTTGCG', 'GCTGGCTGCTACGATCAAGAGTGCATGGGTCGACCGAACTCCCCGATGTT', 'TTGAACCTGGGTCATGGTGATACGGCCCGCTCTTATTCGCAAGTAGCCCT', 'TTACCAGGACGACCGAACTCCCATGCTGGACGCTTCGGTGGTATCACAAT', 'CACGTACTTCACTCGTAGCAGCGTAGCGACCGAACTCCAGTGCCGTATGC', 'CGACCGAACTCCACATGGTACTTTTTGTGACGCCCGGGAGAGGCTCGTTA', 'GTTCACACCTCCACTCGGAAGCCATCGTTCTATACTGGAACTAACTTATT', 'TTTAAGTGTCCGACCGAACTCCTAAGAGATGGTGACGCATGCTTGCGATC', 'AGTAAAACCTCCCGCGGCGATCCTCCTCGACCGAACTCCTAGGGATCAAC', 'TGGCTACCCTTTCGACCGAACTCCGAACTACGCTTTACGTCAGGGATAGC', 'ATGTCAGAAGGTTTTTCCAATACCATCGGATATTGCCAATCTGGTTTTTG', 'CCTGTTCCTCTTTACCGCGTATTTGATGTATTCGCGACCGAACTCCATTT', 'GAAGGCTAGTCGACGACCGAACTCCTCGTATCTATCCGAATACTGTTGTA', 'AGCCAAGTTGGGATGGTTACCACGACCGAACTCCCGCACCTGTTCGAGTC', 'GGCGACCGAACTCCTCATCACTGCGTACAGGATGTATGATTCGCTGAAAT', 'GATTGAGCAAACAGCTGGGCGCATAGCCAGTCCGCGGTGATGGTCTCTTA', 'CACCTACGATGCCACACGCGACCGAACTCCATATTGACCCGGTTCTTGCA', 'CGGCTTGGATCGGGGTGTAACGCTCCGTTGTAGGGATAAACTTGGCAGTG', 'CCAGAGGTCGAATTTCTCTCGTCGTGTACACATATCTAGCGGGGGATTGA', 'GTCCGACCGAACTCCGAGTTGTGATAGACGTTCGGGGAGAATGAGCATGT', 'TAGAGGACGTGGCGACGAAGTTGGAGGAGGGAGTGTGATGGGGACTGACA', 'ATTCTCCCTAATCTGACTCGCGACTCCGGTAAGTCCGACCGAACTCCGGT', 'GCGTCAGGCTGCTGCTGGTTCGGCGGGATAATACACTGTTATTCGAGGGA', 'GCAGACATGAAGCCGGTAACTATGAGCCGCGGGCCCGTCTCAAATCGTCA', 'GTAAAGAGGGACGCGAAATACGCTCGGATTCAAAGTCCCATTGGGCCTGC', 'CTGTGGCCCGTCCTTCGGCTGTACGACCGAACTCCAAACAAGAAGGGTAA', 'GCTGCCAGGACGAACCGGTCTTAAGCCTTGACCCCAGGAGGTAGTAACTT', 'GGGCATGGATCGGGTGTGGCGACCGAACTCCTCCAAGCCTGGCCTTGTCG', 'CCTGAACTGTGCCATCTCGGACAACCGAGTTAACCAATGTTGAATTGCCA', 'GTCGCGCCTCGCCGACCGAACTCCCCAAACGGCTTCTTGCAGCCGTTGCA', 'CATAACGACCGAACTCCGGGCCTGCCCTACCCGGCTAGACGACGCGAAGT', 'ACTCGATCTGATGGACAATTCGTCAGAGTAAGCGACCGAACTCCACACAT', 'TCGACCGAACTCCTTTATAGCTAAGGCGCCGCTCAAAGAGACGACGCCCG', 'TATAACCCTGAGGTGGCCAACTTACTGAAGGAGTATATCTGCATACGGGA', 'CGCTTTTACCATCGAAGTTCGCTCGGGTACGACCGAACTCCCCGCCGGTC', 'TCGGCGACTATGCACAAACAACTGCCACCGCAGCAGCAGAGCTGCGTATT', 'TGGATAACGACCGAACTCCCCATTTAATGGTGGTTAGGTCTACCCAGTAA', 'CTTTCCGTGAATGCGAGAAGCAGATCTACGGCTTCGCTAGCATGCTCCGT', 'GAGTAGATAAATTAGGTCGACTGCTTAGCAGCTTGACCTGATTACCGTGC', 'CGATAGGCGCTACCTGCGCGCAAACGACCGAACTCCGCTGTGGATGTAGA', 'GGTCTGCACAGGACTCAATTTAGCTACTGCCAAAGCTGTTATTGATTTCC', 'AGATGGGAATGTGCATAACCGCGCCTCTCTAGCTCTTCGTACATTCGAGA', 'GGGCTCGACCGAACTCCACCTTGGGCCGGTGGAGAGAGTCACTGGTCCCC', 'CGAGTCTGTCATCGTATGGGTTTCGACCGAACTCCACCCCGTCATCCAGA', 'GGCGCGCAGGATGTAGTGGCTCCTTCGGACGACCGAACTCCGGCGACGTT', 'TGCCTTAGAAGTACAGAACGCTGACCGCGTGGTTACTTCCAAGATTCAGG', 'AAAGGCCGTACGAAGTTCGCTCCTAATAGATGCTTAGTGGATGGCATGAT', 'ACCCGCTATAATTGACGCGATTATAAAGTGCATCACGGTCCGGTATGTAG', 'GATTTTCCACCCACTTAAAGCAAACGACCGAACTCCAAAGCGCGGAGCTC', 'TTAACCGACTTTCTTAACAGCGGCAACGACCGAACTCCTAGTGTTGAACT', 'GGCTCAAATCGGTATGATGGTGCCACCTATTCCGGACGTCAATGTGCAGT', 'TTCCGTCGACCGAACTCCATAGGGGAGTTCTCTTGTGGTAGTATTATGCC', 'GCAAAGGGGCGCACAGAACATAGACGACCGAACTCCATCCAAGGAGAGTC', 'GGCGACTCACTTCCGGAGAACGTTCTTCTCAGTCGACCGAACTCCCGACG', 'CCGGCCGCAGATAGTCAAGCGCGCTGTGGGAGCACCCCCTACTTCGCTCT', 'GTGCGACCGAACTCCTCGGTAACGGAGGTCCCTCCAACTTTGGTAGTGGG', 'TTGTACACCGCCACTTCTGTGCGGCCGACCATATAGCACTGCAAGTGGCT', 'TCTCTTTATACGGGCTACGGGGAGAGCAACGGTTATCGACCGAACTCCAG', 'ACATTCAATACCGCAATTCGAGACCTGTCGATCACATAGACATCCCCGCC', 'GAGCCGACCGAACTCCCTGGATCCTCTACCTCGACCCTAACCTAGCGGAG', 'CCTGCATATAGCAGAGTGACCGACCGAACTCCCAATTGTAGTCTCTATCC', 'TTGTTTATATGGCGACCGAACTCCACAAAAGAGTTACCGGTGCTAGAGCG', 'CCCCTCGCTGTTGTCCGACCGAACTCCAGCCACGTTGCATCCTTAGCATG', 'TATATTGCTGGCGGCACCTTACCATCATGAACGTGCCTTTCTTTATCACG', 'AGTTGCACCCTATTTAGTTTAACTTAATGCCTCCTCCGACCGAACTCCAA', 'TTCAAGCACTAATATTCGGTCCGACCGAACTCCGTTGGGGCGGGATGGTT', 'ATGCTTGCGACCGAACTCCGCCAGAAAACTCGTACTACTCTGCCTGCGGC', 'TTGAATGGCTCGTAACTGCCGACCGAACTCCAAGGAGCTTGCCATTTGCA', 'CCGTGACCCCACGCATTCTACATTCTCCGGGCGACCGAACTCCTACAACC', 'AACTAGGGTTGCCAACGACCGAACTCCGACGCCTTACTGGAGCGAAGCTC', 'TATGAACTAATTAATGTGACTAACTAGCGTGCACAAGCCACTTGGCGCGT', 'CCTTTTAAACGCGTTAAGGATATTCCGTATGTTGTCGCGTCCACCTCCCT', 'TTGACACCAACGGAATGGCTCTGCTCTCGACCGAACTCCGAAATGTTCGC', 'TCATTTACGTAGTACTATACCAGCTCTCCTCTCGACCGAACTCCGCAGCG', 'TAATCGACCGAACTCCCTCAACATCCGACCCACCTTGCAGGGCGATTCAA', 'ACGGCCCCAAGCCACTATAAAGGAAAACCCGTACCCAATGTATCTCTCTG', 'ACGAACGGTCCGCAAACTTGCGCTACTTTATGTTCCCTTGATATACTGAC', 'AAGACGACACTCACAGGTCTGCCTTCCCCGACCGAACTCCCCGGCCCAGT', 'TCGAACATACGTATGATCCGGGAGATCTCGTTGTACGAAGTCATGGCGCG', 'CAGGTCGTTGGCTTTCTAATAACTCTGACCGGCGACCGAACTCCTGGGCG', 'ATAGACGACCGAACTCCACATGACAATAATCTAGTTAGCGTGCGGGTAAG', 'GATGATCGCATGGGCTTTCACACTTTCGCACACGGTGCGTCACTGGCAAA', 'CCCAACCCGGTTAGTCCAACGACCGAACTCCTTCGTGAGACCCATAGGAC', 'TGTGGATAATGGGTGACTCACACCGCAAATATATCCATGGGCCTACAGGA', 'CGTCGCCGAATTGCCAACCTCCGCAATTGTCCGACCGATCAGGAGTATGT', 'GGCTTCCTGCTGACCGAGCATCGGGGGCAGGTTACCAAAGCATGGGGAGT', 'CGACGCGGTCCAACTTGAAAGTAGCTCAGTATGGATGTTCAATCTAATTT', 'ATCATTGGAGGACTTGTGAAATGGTACGGTCAGTCTCTCGCAGAGCGTCT', 'CTAGTTAGCGACCGAACTCCTGTGGTCATGACTGGTGAGAATGAGACTTT', 'TGAGATGATAGAAGTAACCTGTCGACCGAACTCCTGAGTCACTACTCGGT', 'TCCGACCGAACTCCAAATAAGGGAGCGGACGACGACGCCATCCCCCTATA', 'CGCAACTCAAAGCGCGTAACAGTGGCAGCGGGCTGGCATCACCTTTTAGC', 'CGTCGCATTCGTCATCGTTACGCGACCGAACTCCTCTTCTCATGGACCTT', 'AAGTGGCGACCGAACTCCCTCTGAGGTGAGAATAGTAACTCACGGACCTG', 'AAAACACCAAAGGTCGACCGAACTCCTTCTGCTCAGCACATAGGTCGTGT', 'TCGCGACCGAACTCCTTGGTGAAGTTTTGCCTTTCACGCGTGTATTATTT', 'TAGTCTGTGCAACCTCGACCGAACTCCGCGAAGGGCGTGAGAACGATGGA', 'CTGGGCATCCCGACCGAACTCCGGCCGACTCCCCGCACCTCTTGTTAATG', 'TTCGACCGAACTCCGTACGACTTAGACAAGTGTGTGTTTTGCTTTTTAAT', 'CCTGATTAGATTCACCCCAAATGCTAATCACCGATGCTGGGCCAGTCGTC', 'CCCAAGCTATTTGGCACGGTCTGCCAGGAGTTTCTGATTCGAGTGATGAT', 'AGAGAAGCAGGGTGGTTCGATTCCCGGGTCTAGTATATTGTTCTGTGCGC', 'GCCCCCATTCCACATGTGGGCAGATGTAATATACGACCGAACTCCGCCTC', 'AATCCACCTGAGCCTGGTGTTCCCTCAACGACCGAACTCCAAGACGGAAT', 'GGACGGGTATCTATCAAAACACCTTAGGACGACCGAACTCCAGATCGCCA', 'AGCGTCATTACGACCGAACTCCTGCACGCGGCCACGTCCGTATGGGGTTT', 'ACGCGATGCGCTGCGTTTGGCCGACCGAACTCCGCGAGCCATATCGCAAG', 'GAGAAAGGCCCGACCGAACTCCGTAGTATTAACTACACCAATTCATCTCT', 'CGTTTATGGTATAATAGTGACTCCGACCGAACTCCAGGGCTAACGATAGA', 'CGATCACGATTAACACGAGTCCTGCTTTAGTGCATTTCAGGGGGGGAACT', 'CAAGTCGAACTCAGCGTTGTGGGTGTGGTGGTACTGCCGGAGCGCTTCTA', 'GAAACTTGGTTAGGGGTTCCTATCGACCGAACTCCGATTCAAGCCACACA', 'TTCAGCTAGAAGGTTAATTACCCGTCCTGCGGATACATGGCTGCTTAGTG', 'CCTACATATCCCCGAAATCCGACCGAACTCCGCTCATTGCGAGACCGGGA', 'CAAAAGGCGCACCGATGGTATCTAATGTCTTTCTGCGCAACCCACAACCC', 'TTGTTAGAATACTCTTTGTCTTATTTTTTGCGCGTGCAATTCATGGACTT', 'AATGCCTCGTTGCGCCCGGAGTCGACCGAACTCCAGCTCTCGGCATAACT', 'TGCCAGCCTGCTAATGCGTCCCGGTATCTATAACAGTTGGCTGCTTGAAG', 'GCCGACCGAACTCCTGTTATGTGCCCTAGCGAGGCGCACGATTAAGTATT', 'CCTCCATGCTAAACGAGTACACTGGGAATGTCAGAGGAATAAACCCTTGT', 'TCAGCAACTCTGTGGGGAGAAGTTCAATATCGGGCACAAGTTGACGGCAG', 'TTCTTAGTTACTGTGCTGGGCCGACCGAACTCCTGTGGCGAAGCCTGTCA', 'TCGCTCTACTTGAGGCTTTCCAGAACTCCCATCACGTCGACCGAACTCCT', 'CGACCGAACTCCCCGGTTGGCTCTTAGATCTAGCTTGTTGAAAACCGGGC', 'GCTTCTGCCTGGACAGGACAGGTTATGCCATATCTTACTCTCTGCGGGTC', 'TGTAGTCGATCGGCGACCGAACTCCCAGATTAGTTGCTAGTCTCTTAGGA', 'CGGGATGGTCGGGGTTTCGCCTGGCAAGGCCTCGACCGAACTCCTAGGAT', 'TAGAGGTCTACCAATAGGCTTCATCCGCAAAACTCTTTGAGCGTCATAGA', 'CTGTAGGAGGGAATAGAGGGAGTCCTCTACTTGATCGGGATATGCCAGTA', 'ATCTAGCTTGATAAAGACGTGTCAAAAGCTGAAATTGCTGTGATACACTC', 'GATGACGCTCGACCGAACTCCTTGGACCTCTGTATTAACGGAGTGAGACA', 'TGAGCCCCTACTCACCGGGGCCGATCGTGGAACGTCACCGTACCGCTGAC', 'TTGCGGGGGCTTTCCGTGTACGACCGAACTCCTGTTATAATGTTCACGTC', 'TAAGCCCTGAGAAGCTGCCTTCTCATATCCCCCCTTAGTTGGAACAAGTC', 'GAAAACTCCGCAGGGGGATTGTCTCAGCAAGTATTTCTTAGCTGTTAGAA', 'GGGTTATGCTGATCGTGCCACTCTTGTTAGTAGCTCGACCGAACTCCCCT', 'CGTTGTCGGGACTGGTCTTGACGACCGAACTCCGTCCCTGCTTATGGCTT', 'AAGCCCCGACCGAACTCCGTAGAAGACCCTGCACAGCGCAATTTCGCAGA', 'AGAATTCTATGCTCCCGAGCTTGTCCACTATGACACCTCCCTCGTGATGT', 'TCGGGACCGTGCAAGAATATGCCTCGCAGGCCTACCTCAAGGATGAAGAA', 'ACTCCAGCCCAAGATGAACACAAAAAGAACTTGATCCGCTTTACCATCTA', 'ACGATCTTAATATAGATCAGGGGTGCAGATATCGACCGAACTCCATCAGG', 'GGATATGCCATGCAAGGAAATGAGAAAGAAGACCATGAGTTGTTGTCACC', 'GAATTCAAGAGATTTCATGTATAATGCACTAATCGTTGGGGTGCGAAGTT', 'CGTACACGACCGAACTCCGGGGTTACCGGTCAGTGGTCCGCTCGGTGCTG', 'TCGAAGCTAGGGGATCGGTTCATAAGAGGCATTTCGGTGGCAACCGCGAC', 'ACCGCAGATGTGCAGCCCTCGTACGGTATCAAATGTGTGGAGCCGGGGAC', 'CTTGATGATCTGTTAACGCCTCACGCGGCCCGATCTCGGTAGTGCTTCTC', 'CTAGGGGGAGGTCCCCACTAGTTGGTAGCTTGGCCCCCGACCGAACTCCG', 'CACGTCTCGTGATCTAACGTGGCTACGAGTGATCGTTCCATTAGTTGCCC', 'GCTTCCATGCGCTCGTCTAGCCCGAGCGCGTGCCGGTAATAACCCGGAGC', 'GTTCATTCCATAACCGACCGAACTCCATGATATTGCGATGTGAAAGCAGC', 'GGAGCTCGGCTATTTCTAGCCTGGGCAGCTGTGTCTCTTTGAAGTTGCCG', 'GCCGAACCAGTCTCAGCTACGCGGACGACGACGAACACCGCACGAGTGTT', 'GTTTGGCCAATGGCCAACCGACCTCCGCATGATTCTTCGCGTAGGGGTAG', 'GGTGAATCCTTCCAAACTGAGTCACTATTCGACCGAACTCCCTACTTAAG', 'CTCTGTGAGTTAAGCCAGAATTTAGCCTGTGGGAGACCACCTAAATACGT', 'GCGACGACCGCTAGAATCTTCGACCGAACTCCCGAAGCCAAATACACCCA', 'TATCCCCTTCACCTCTGTCACGACCGAACTCCTGATGATGCAAGATAATT', 'CGCATCGACCGAACTCCGCTTGGCTGGGGTAGTGTCATTTGCGCAGTAGC', 'TGGCGAATCGTGAACGGACTCTTATGACCTGCTCGTGTGCCGCCTGTCCA', 'TCACTTACGAGCACCGGGCTCTCGACCGAACTCCGCTGTACCCGAGGTCG', 'AGAGAGTTGCTACATAGCTCGTACTTGTTGAATAGATGACCGATCAATTA', 'AATCTAAAAAAGGTGTTGCTATTCACCCTAACGAACTCGGCGTTTGTCTG', 'GTTATCTGGACGCTAATGCCCGTCGCGTCTAGATTTCCTTCCGTCCATTC', 'TCGTGCAAGGGTCGACCGAACTCCCCTTAGTTTCTAATGTAGCTACACAA', 'GACTCCGGTTTGGCCCTAGTGAGCGACCGAACTCCACACTACGTTCCACC', 'TTGGCGACCGAACTCCGGACTGCAGAAACATGGTGTCACTACAACGTCCG', 'CATCTAATAATTGCGGGGCTAATTTAGGGCGCACTTAGATGTAGATGTGC', 'CGGGTAAGTGATGGATATTGATCGATGAAGCGACCGAACTCCTAACTGTA', 'TTTCGTACGTGCGCGGCGATGGGTCTGCGCGGCATCTAACAAGGAGAGAA', 'CGACCGAACTCCTTGAGTCACACACGTGCAGCTAGTCACATTTGGGCGAT', 'TATGTCGGGGCAAGACGACCGAACTCCGACTCCCACCAGTGCGATGCTCG', 'CAAACTACGTAGTTGAAGGGCTAAGCGACCGAACTCCTATAGTTATCCTC', 'CAACGTTGCCAATTCACGTTCAAGGGCTCCAGTGGGTATTATTCTCCCGA', 'GTGTGTTGTCCCCAGCCCAGTACCAGGTCGACCGAACTCCGAAAACCCCA', 'CAAGAGAGTTTTAAATGGTATCGTTTTAGCATTTTGTCAGTCAAGATTCC', 'GAGCTCTGGAGGAATGATTCACTGAATATAAGTCGTATTGTACCACGTTC', 'TAAGTTAATGCGTCGGTAGGAGGATTTCTCCCACCCGACCGAACTCCCCA', 'TTCATAGTCCACAATTCATGCCGCGACCGAACTCCATCCCAGGAGAGTCG', 'TCAGCGATCAACTGCACCTTGCTTATCCAAACCGTATTGCTAACCCACGG', 'GCGCATCTCATGTCTATTTGTCCTTGACGCCTCAAAGAACGTGGTTTCCC', 'GCTTAAGATAACTGAAGGTGATTGTAAATGACGTATATCTTTAGTGATAG', 'GGTTAAACCTGCCGAACCGGCGCGACCGAACTCCCCGAATCCTGACTATT', 'CAGCCTTGCACGACATATATGACGGAGTTAGCCGACCGAACTCCCGTTTC', 'TCTTTGTACGAGTGGCGGCGGAAGGTATGTTCCGAGACATTCGAGACTTA', 'TGTACAGGAGGGCCTCAACCGACCGAACTCCCTTCCCGCTCTTATACAGG', 'CAACCTCACCATCGGAAAGAGTACTGACGTCTACAGGTAACGAAAGGGTG', 'ACTTAATTTATCGACCGAACTCCGGGGGTATTTCAACACTATGTATTCAT', 'TTCGACCGAACTCCATAATCCCGTTGTACTTCGCGGACTGACGATGGTTT', 'CTCGACCGAACTCCGTCACGTGAATAAACTTTAAATCGTTCGGAGATCTG', 'CCCCGTTTGGCGAGCTGTTAAGTCTTAAAACGACCGAACTCCACGGTAAT', 'AATAGCCGTTATGTAGACCTGGGAGTCTCCTCCATTTCGGCGGCTATTTA', 'AGTTTGGCGATACCGTACCACATGATACTATAATTTCGAATAGGAATGAG', 'TGAACGGGTGTACCGCGAAACGTAATTCACACCTGGGATTTACCGGAAGC', 'CTGCCCTTCTTTTAGGTCGTGCTCGACTTCAGGGGGTTCCGGGACTGCAA', 'GGAACGGCTAGGTTTACGATGGATTCTACCCCCAGTGGTTGTCTTCCCTC', 'CTAACTAGCTGCCATAGGGGGTCGACCGAACTCCGCATCGAACTCGTGAA', 'ATCCCATTTCGCTATCGTGTGGTACCTGCGATAGGTGTTACCGCGCACGG', 'CTCGTATGGGTGGTTCTGAGGGTAGTCAATCGCATCGCCTTATCGATCCA', 'AACGTGGCAAATAGGAGTATATTTGTCTTTTAGGGATTGCTTTATGTGCA', 'GTACTGCATAGCCCGTTTAGCGGGCCAGTACCATGGTGCATAGGCCGGCC', 'ACTAACCATCAATGTATCATTTTATCGGGCGAACCACGACCGAACTCCGC', 'ACCGACCGAACTCCAAGAATATTATGTAGGACTTCGCACGAAATTACTGT', 'CCGACGACCGAACTCCTCAACTTCAGCGTTGAGACTTGCGGGATTGATAC', 'TTCACTAGGCTAGAAAACAGGCGAGTACTGCGACCGAACTCCTAAGTTAG', 'AAGTAACCGCTACTAATATTCGTCACTCGACATGGCACGACCGAACTCCC', 'ATACAGGAAGTTGGTAACTGCATCAGAATGTGCATGTAACGGCCGGTGTT', 'CGCCATTTCCGAAGGGTTTTGGGTTCGAACTGTTAAGGTTCTCTTTGGGC', 'AGATCCGTTTTCGGACATGACGCGCCGCCTGAGGTAAACCCAGGAATCCC', 'TGAACCTGAAACCGCGCGCCTTTGGGGTACCGTATCGGTGACATCAAACC', 'CAGCCCGCTTAGGGGGCCTGGGTGGCTCAGAGACTACAATCTGTTAAACT', 'TTGGGTTACGCGGCCGTAGATTAGAGCGCGACCGAACTCCGACACGCACT', 'GTCTCCAAGATTTCGACCGAACTCCACGGGGTTAGCAATACGACTTGACT', 'CCTGCACTGCCCATAATTCTCACTCATTGCCCAATTACCACACCGTCCAG', 'CATACTCTTTCTGGCGCGACCGAACTCCTCTCGGCCGTGTCTCTCAAGGC', 'GCGGGATTTGCGGCTTTGGATGCGACCGAACTCCATGGAATTCCCGAACC', 'GCTGGTGTCTTTTAGCTAACGCTGGCCGCGCGTACGAAACCTCCCATATC', 'ATAGGCTTCAACCCCTTATTTCTATCTGCGACCGAACTCCATTCATAATC', 'TTCCAGGCATCGAAAGATGCAGCCGACCGAACTCCTTCACGTGATGTCAA', 'TTTGAGCTCAAGAAGGGGACGAAAAAGGCGACCGAACTCCTAGGTCCTGT', 'GGAGCGACCGAACTCCTAGGAATATGCGGCCCGAGATGCGGCTTTTGGCA', 'AATACCCAATTACAGCGTAGAGACTCCGACCGAACTCCCACTCCGCGTGT', 'CAATAAGCGAAGATGGCGCGACCGAACTCCACCTATCGCGTTTGTTAGTT', 'TGTCCCGTGTACCCCGCTTCCGACCGAACTCCTCGCAGGTTACCTTCGAA', 'TCGGGCAATCGCTAATCTGGTGGACAACAGTTCTTTTAGGTCATTCATCA', 'TTTCATGGTGAAGCTCAGTGGCCGATGGGGCCATGACTATTTCGTATTCA', 'GGTTTCTCATAGAACCCCGAGGCAAGCGACGATCACACTGGGTCCAACTT', 'ACCTTAACCCCTGGGAAAATCAGAGCTTCGACCGAACTCCTGGAGTAGCG', 'TATCAGATTGCTTTAAAAAGTGTAACCGTGCGACCGAACTCCCACGGAAC', 'ATGAGCCAAGTGCAAGAACTAAGTCGACCGAACTCCTATACGATAAGCAA', 'TCTAGTTGACTACAGTACCCGAACCCGGTTTCGGTCACCTGGAGGAATTT', 'ATAGTCATCGCGATCCCGAATTAAACGATGCGAGTGAGGGTGGCGGCTTC', 'GAGAGCGCAACCTTGCATCAACGTTCGAGTCTCGTGTGTCGGCATTCTGG', 'CCTACTACACTTTAGATCGAACCTACCGTTACTATACTAACTAAAATGTA', 'AGCTAGCAGAGCTTCCCGGGGGGGCGAGTTCTTTCCGTGCGGTCTGCGGT', 'TTACAGGTGAGCTTCCTCGGGGAAACGACCGAACTCCTCAGTTGTCGATT', 'CCTCGCCGACCGAACTCCAGATGGCACTAGGGGTGGGCTATTTGCCCCAC', 'GGGTGCGATAGTTTGAGTGTTTGGTCATTTTTCGCTTTGAACCATGCGTT', 'TTGGGTATGGGGCGTCATTATCACGACGCCTGTGGTTTGGGGGGCTGCAC', 'ACATACACACCCGCTCGGTCGGAATACAGTATCCAAAGCGACGGTGAAGT', 'TGCAGCGCTAGCCTAAACGGTAGCCATTACTCCGTCGCATCTGTCTAAGC', 'TGGCCGTGACATCTATCACAGTTCGCCAGACAATGTGTCTGGGTATATCC', 'AGATCGATCCGACTTCGACCGAACTCCGGCTACCCATAGTAAGATCAATA', 'GTTCCCTCCGCAGTTTGTGGAAAAATTTACTTCAGCCTTAGGCAGCTGCG', 'TGTAGTCCTGACAGGCAGACCGGAGCGTCAGGCCACAGAAAGTTACTGAT', 'TTCTCGTACTCAAAGGAGGGGGGAGGCCGTTGAACAAAGGTCTAATTGGC', 'CGCAAGCGACCGAACTCCCGCGGGACCCCTATACTGCCGCACAACGATAG', 'AATCGCGGTTCGCATTGTCGGACGTTGTGGGTTCATGTTGCGCTGTGTTT', 'GTTCTCAGCTCTCGCAGCAACGCGGCAGTTAACGCTTGGTCGCGACTACG', 'CTATGACGGCGTCGCGACCGAACTCCTGCGTGCCCTACCGAGTACACTGT', 'GACGACCGAACTCCGGGAATAGTCAGTAGTACAGGCCTTGACTGGGCCCA', 'GTCCAATAAAATCCCCCGGAGCACCACGATTTCCCCATGATTAAAGTGGG', 'CATTAGATTACCCTCCAGGAGCTCAGAACGTCAAGAACGCTACCGACATA', 'GTTCGTGGTCGACCGAACTCCAGCGGCCAGATTTTCCACCCTAGGGTCCG', 'GACCAACAGCTCATGGGACACAGACGGTCTTTGTCCTTTTTTAGGGTAGC', 'CTCCTCCGGTGTTATCTACAGCTCGACCGAACTCCGCTCACCTATGTAAC', 'TCCTCGGCTTCACGGAGTAAATGCGCGACCGAACTCCATCCCGCCCATGA', 'GCTCTCGTCAGACCGACCGAACTCCAACTCTTCGGTAGGTTTGGAACTGA', 'GCTTATGATGATGGCACGCCCATCTATATAGATCGCTCCATCCCTGCCGG', 'CGGGGATAATCCATGTCAGCGTTCCGGTAGTACCGATGTAGAAATCGTAT', 'TATTCTCCCTCGATACGACCGAACTCCAGCCATCTTATGGACTGAATACT', 'AAGCTTTCGGCGCCTTACTTTGTGTGGTCGACCGAACTCCCATCCTTCTG', 'TACCTTATCCCTCTGAGCACCGCACAGTCGCACTCTTCGCTGTTCACAAC', 'ATGAATGGTGCGAGCCAACTCGATCAGTTTGACAGATCGTATAAGATGCG', 'GTACCACAGGTGTCCGACCGACCGAACTCCCTTCGAGATACCCGTTTCTG', 'GAAGGTTAAACACTATATACGTTGACCCATACGCTAACTTGCGAATGTCT', 'GAACTAACTCCTAGGGCAAAACGGTAGGAAGTAGTCTACTGACGCTGAGT', 'GCATGGGCCAGAGTGACCGACCGAACTCCCGATGAAAGGAAGGCATTGTG', 'AGGTATTATCATGCGGCATGGGAGGGCCGAATCAGCATGCTTCAGTTCCC', 'CGTTTGCGGTTACCCGTTAGCGTAGTGTGCGGCGTTTTTCCGTGTGCTCG', 'GGTTTCGCGCTCATAATAAGCACATTGTGTCAAGTCCTATATAGCTAAAG', 'CACCACTATCGGCTAGTGGCATTATGAGGGATGAACCCTTTTGAACATAG', 'CACCGGGCGGTAATTGGATTGACTAAATCGCATTCCTCGGGACTATCCAA', 'GCTCGCAATTCTAAAGGCGTACGCCTTTCCTGATGCCGGCCCCTCCGGGC', 'ATTAACGTTAGTTCCCTTCCGTTACCCTGTAAGCATAAGGTCGGCATTAC', 'TTCATTAGCTCTTGAAAGGACCGCATCAAACTCAAAGCTCAAGACCCAGC', 'GAGAAAACTCGACCCACGACCGAACTCCTGAAGTGTTTTTTACAAGCCCT', 'ATGCATAGGCGACCGAACTCCCACCACCTCTCACGACCAGAGAATTATCC', 'CTGCCTTTTCTGATTCAAATCCTAACGTGGAGTCTTTTGACAGAAGACGC', 'CGACCGAACTCCAACGCAATCTTGATTAAGGTTTCGTAGGTCTCCATCGT', 'TTTTCGTGCCCTAATTTCAAGGAACGTCGTTAATTAAAAGACCCATTGAC', 'CCCGCGCCCCGCGACCGAACTCCTCGTGAACTGGGATCCATCCAGCACCA', 'AGCACGACTCCAGCCCCTGGACATTCAAGATTCAATCGGCCGTAGCCACT', 'CAGGAGGGGAACCTGGTAATCCGCATTTCTTCAGACTGAGAACATCGCAG', 'TTCGAGTGCGGCGCCCTGCAATCCTCGACCGAACTCCGATTCGTTGTTTG', 'GGCGCAGACTTATACTCGTTTAGGGCGAACCGGAAGACAGCACGAGTGTC', 'GTACCAGGGAGCGCAGGCAGACCGACATTGAACAACGCTAAGTACAGCAG', 'CGTAGTAGGCCTAGGTCGGCAACGCATTACGACCGAACTCCAGATATGCC', 'ACTGTTTAATACACCTTAGTCCACTCGACCGAACTCCTAGTAGAGATTTT', 'AGAAGGTGGAAAGCTACTACTAACGGACGACCGAACTCCGCGGACCACTG', 'CGATGCCCTCGGGCTTCAAGTCTTATTCCTTCACCCCCAGCCAGTACTAT', 'TTGCGACCGAACTCCCTTGCCAACATTGTAAAACCCCTATACTACGAGAC', 'GAGCGACCGAACTCCAAAGGGAGTGGAAAATACCAATCGTGACGCGTACT', 'TATCGACCGAACTCCAGACCACGTACTGGATGACTGCTTTGTCGTCGTAA', 'ATGTCCTTTTGTGTGCACGACCGAACTCCAATCACGGTCCGACCATGCTT', 'TTGCGGTTTACACTCCGCCGACAATCGGTGCAAGGGACCCCCTGCTCGCC', 'ATTCCCGCATTTACAAGGTATATTCTCGACCGAACTCCCAATGCCGTGGT', 'CTTAGTAACTCGGCCTTTGCACATTCAGTTCCGCGAGATCTGGGATTGCT', 'TAATGTCGACCGAACTCCTTAACGGGGTGCGGTTTCTGCATCATATCTTC', 'GCCTGGCATCATATTTGCGGTCCCCTCCGACCGAACTCCAGGTACGAAAC', 'CCAGTGGGTCTGGAGTTTCACTCAAAATGTTTTCAGGGTAAGGTGTGAAA', 'GCAAGGTGATTGACAAGCTCGACGACCGAACTCCTCGATCTCACATAAGT', 'ATGAAACTTAGGACGTGGAGATGAATGCGAATTCCACCCGGAGCCCGTCC', 'GTACACCCGTGACGACCGAACTCCTTCCACCGAGGAAATAGATGAAGGAT', 'AAATCGAATCGCCAAATTTAAACTTCGCCAGCGCGACCGAACTCCAGCAT', 'GATTGCTATTCGTCCTTGAAGCGACCGAACTCCCTTCGCGCCGATCGGTT', 'CGTAAGAACTGTAAATGGCGCAGCCTAGGGCGGGACGACCGAACTCCTAC', 'ACATCTCTATTGCCCCGATTATGCCGCTAATAACTGATGGCCATTCCCAT', 'GAAGGCGGAACGTACAATCTTCGTGACCAAATTTTTGGTCCGGCCCGGCG', 'GAACTTGATGAGTGGTTGTCCCACCCTTTTTCCTGTCCTAGTCGAGTCCC', 'GACGCATCGGACTTGAGGGGAGCGGTTAACGTCCATGACCTTGTTAAGAG', 'ATCACCCCTTGGGGCCCTTCCCCTAGGATTAGGAACAAGCCGGTCACTAT', 'GCGCGTTTGGTCGCGTCAGCTCAACAGACCGGCTGTAAGGCAGCTCACCG', 'ATTATCGACGCACACGGGTCCGATCCTTGTGTTCGTTCACGATGAGCAAA', 'TCCCCTCGGGACGACCGAACTCCCTAGGATTGAGTAGACGGCTGGTACTA', 'CAAGTCGACCGAACTCCAAAGGTCTTCCTTTGCCAGGCGTCCGCGGGTGG', 'ATCCGACATAGACAAATGCCAATGCGCATTAAAGAGATGTAACGGGGTGT', 'GTCCGACCGAACTCCGGTGGAGATCATAGTCAGTGTATATGGACAGTCGC', 'GCCATCGCGACCGAACTCCATTCTTCACCGTTATAGAAGCGTTGAGTGAT', 'ACGTGCGAGGGATATAAGATTTTAGCTAGATTGATTCCTCCTAAAGAGGC', 'CTGTAATTACCGCCGGCTGTAGTGGGGTTTAGGTCGACCGAACTCCTTTC', 'ACATTGTTTAACCAGGACGTGGGCCAGCCATTGTACTGGCGATGTCTACG', 'TCCTGCACAGAAGTCGATCGACCGAACTCCTCATGTAGCCCGTGGAGCGA', 'CAAAGTCTTAATTCAAGACGCAATTCGATTAAGTGGAGACGTTCCGTTAA', 'CTTTAGGACCTGCGGCATTCACCGGTGCGACCGAACTCCTTTTTCAGCAC', 'CTCGGACCTGTTCGACCGAACTCCATTTACCCGACAAGTTGGACAACTAT', 'TCGACCGAACTCCACTGAGCGGGAGGAAACACAATTTTAACACGGAGACT', 'GCAGCCTTTACTGATACGCGCACGAAGGAGCCCACAGCATCCAAGAGTGC', 'CAAAGTTCTATCGGAATTCACGTATAGCATACGTGGCAAAATGAGTTTGA', 'AACGACCGAACTCCCTAGCGTTATACTGTTCAATGTGCCAGTTTTCGCGA', 'GAGGTGGCCAATTCCCGACCGAACTCCAGGCAAGATCGAATAATACTGCA', 'GTTTAGAACCCGTCTGCCTAGGCGTACGACCGAACTCCCTGCGCCCTCAG', 'AATAAGCGTTTAAACGACCGAACTCCCGGCCCGAGTCTTTGGATTGTGCC', 'GTGAGCTGCTTACGCTAGAACTTGAACGACCGAACTCCACTCGGTTGCAT', 'AAAGAACGGGGACAAGGTCGGAAAGCGGCGGCGACCGAACTCCCGATGGG', 'GAAACGGGGTTTGTTCCTTCTGTGTATATTGCCGCAATACATACGTGATT', 'GCCAAGTATCGACACGAATTAGTAACGACCGAACTCCTCCCCCATCGTGA', 'TGAGTGTGGCTCCAAGTACTGGAAAGCAGTGCGACCGAACTCCGTCAGAC', 'CGACCGTTTGGGCCGTATCCTTCCGAGGTTAGGCCATCAGAACCGGGAAC', 'CCCGACCAATCCGACCGAACTCCATTATGACCACCCATCGTTCCTCAACT', 'CGACCGAACTCCTCGTATGCGAACGGGTCGCTGTAAACGGTTACCTTGGT', 'GTCAGCAGCTGTGAGGCGACTGACGACCGAACTCCCGGGACGCGTCCGCT', 'AGCTTAGGTTCATGTCGCCCAGGCATGTGCGCGCTTTGATGCAAATTTTC', 'AAACCAATAGCGTCTTGACCAGTGTCAACTGTAGGTTTGCGACCTGAGTG', 'ATTCCATTGGGCGACCGAACTCCCGGGCGAACCGTATGCGTGCTGCGGCC', 'CGTCCTCCCCGACCGAACTCCACCTGCAATAATTAGGTGGGTGAATGCCA', 'GCAGTGGCTAGGCACTATCATTCATGAAGAAGCTGATTTCAATTCCTAGC', 'CGTCTGCCCAACTTCGGGAAAATCCCTGGAATTGCCCGACCGAACTCCCC', 'ACACCGACCGAACTCCAGTACCCCTTGTAGTTAAACTTTGGGGGAGTCTT', 'AGAAGAAATAACCGACCGAACTCCAAAGCCTATCCTCCGAACCGTGGTCA', 'AATTATGCGTGCCCTTTCTAGGATGCGGGTAGCGTTCGGCATAAGCTAAG', 'TGAGGCGCGACCGAACTCCGCGAGTCGGATGGCATGCGGACCTGCGGTTC', 'GATGCACAGTCAATCGGCTTTAATCGATAATCGCACCGTTTCCGTGGCTA', 'CATGATCGTTGTTGGACCTCATCCTGATTCCGACCGAACTCCATGTTGCG', 'TGCGACCGAACTCCTCGGTGACTGAATTGCAATATCTCGTGCAGTTGGGT', 'TTATTTTGATGTACCAGGACTCTAAACCGACCGAACTCCAACATAGAGTG', 'CGTTACCGTTAGTGCGGAACCGTGCAACGTAGTCGTGACAAGCGTCAAAG', 'CCTAGGTAATCACTGGGGACGGGTATCGAAATTTTCGGTTTCCAGTAGAC', 'TGGCCCGACCGAACTCCATGCTGAATCTAGCGTTGGGTGAGAAGCCCACC', 'CGTTCTTAGGTTACACCAGACGGAGGATGAATGCCGACCGAACTCCTAAC', 'CCGACCGAACTCCGATGGCTGCTGATGTAGACCGGTGCGTCGAAAATAAG', 'CTTCATCAAGCTGTACAAACGTATTGCTGTAGCCAATGGGGTGGCCTACA', 'GTAAGTTGTCTCTCAGACGAACTTCATTACCTCACGCCCGACTCGGTGGG', 'CCTAAGAAGAAGCCTAGGAAGGGTCGCACCCACCTACAGCACCGTACGGT', 'AGGTAGAAGGCAATTTAGGGAGTGGTCCCAATCAGCCACTTACTCTTCAA', 'ACATAAGGAGCGGGATTTTTTACCTGGATTGTTGCCAGATGCTCCAGGGA', 'GGCGGCGGCTCGATCTTAAAGCGCGGAGACATTCGACCGAACTCCATGAG', 'CCGTATCCGAGTTCGTTTACGTATTCATCATGCTTAGCATCTTGTCTCGT', 'CATGGATTCTGTCCTTCCGACCGAACTCCGATTTCTGTCCCGCGCACTTA', 'CACGGCCCCACGACCGAACTCCACGGCTGATTCGAGAGCACGAAGCAAAG', 'ATAAGGCACCTTATCGCGACCGAACTCCCCTGCCGTATTATTCGTAACTT', 'CGACCGAACTCCGCCCCCGGGGCCTGCTTAGCGTGAACCCCGGTTCGCTG', 'AACGCCCGTGCTATGCAACAAAGTGAGAGTCTGGTGCCTACGACAGTTGT', 'ATTTTCGCCAGGAGTGAAAACGCAACTGCGAAAGGCACTAATCGAGAAGA', 'TTCAGGGATTTACAGTAAACTAAGTAAAATACACTAGCCAGGATTATGTT', 'TAGCGTGCTAGGCATTTCGGGGCCACGCGACCGAACTCCCCATTACGGAC', 'AACACGAAAGATACTACGACCGAACTCCCGATTCCCTCTATTACCTTACA', 'GCACGCGAACACGACCGAACTCCAAGGACAATTGGCAATCACTATTTACA', 'CGACTTTAATTCGCGACAAGGCCCGTTGCTATTGGTAACTTAGTATGCGG', 'GGTGCACAGCTGGGTCGCGGGTGCGCCACATGTTCGGTAACAATAGTTAG', 'CATTGCTGCTGAATGCACGATATCAGCCTGCATGTTCAAGGATTACTACT', 'TTCACGTAGATAACACGACCGAACTCCGCCTGGTGCCTTTCCGCTAAAAA', 'TGGTATTATGAACGGTTGGGTGGAGCTAGGCGACCGAACTCCTGCCTTAC', 'AAGACGACCGAACTCCTGGCGACTCCAACTACAAGTCCGCCGGCGAAAAG', 'AGAAGGCCACTTACACGGGGAAATGGGCCTTCCAACGCATCCGTGTGTCC', 'GAGAGAGGATGAATTTTGGCGCCGCTCGAGAACCACTGCAAGCCAGAGCC', 'GGAAGGAACTGTGCGGTCCCCGTCACTTTTACGGACCGAGATCCCCCCTC', 'CGAAAGTAAACTGGTTTCACTCGCTACTCGCCACCGGGAGGCCAGTCTTG', 'TAATATATAAAGGAGTGCCAGCACACCGACAGCTTTAGAATGCATAAGCA', 'GGACAATCTCAGTTTTCGGAATAACAAAGGATGCCCATCTCTAACCGCGG', 'GCACGCGCGACGACCGAACTCCCGGAACGCGTTCACCGGGGAATCTGCGC', 'AAACACTAGGGGTTAAGGGCAGGGTTTCCAGACGACCGAACTCCAGGGTA', 'GGAACAATGGCTCACGTATTCATTCTGGAACTCCGTGCGACCGAACTCCC', 'GAGGTGACAGTAGTCTGTGTTTGTGACACGACCAAGCGGTGCTGGCTAAT', 'GCACATAATGTGAACCACGTAACAAGGTACTCACCTATAGTAGGGTGATC', 'GGCAGCGACAGCTAGGACTGAATTGTACCAAAGATAAGATTTAGGGTGAA', 'TTCACTACCCTCTAGACTCAGGTAATTTCCTTGGCGTATGCTTGATCCAG', 'ACGACTTATATCTCATGGGTCATAATCGAATATACCGGCGGGCGTGTGTG', 'AACCTTGGAATTCTGCTGGACACCAATCTCGTAGAGGTATGCCGAAACTA', 'TTTGCGCGCTCATGAATATCTTGAGGGGGAACGACCGAACTCCCCTCAGG', 'TATGGTATCAAAGAAGGGAAGGCGTCGGGGTGACGATCGACCGAACTCCG', 'TCGTGGTTTGTTTTCTGGACCAGGTAGAACGGTGCGTGACTTACGCCCCC', 'GTTGTGCCTTCCGTTACCTCGACCGAACTCCGATAAACTATCAAATTATT', 'CAAAAAAAAGGGCTCCAGAAGATTCGTCACCTCGAGAGAGATCCCCAGGT', 'TCGTGCGGACATACAACGTACATTTAGGGCGGTCTACGACCGAACTCCGG', 'TTTCGCTGTAGCTCGACCGAACTCCTCAAGTCTTAGCCGGAACGTTGCTT', 'CACAGGTCACCTGATCGGAGCGCCGACCGAACTCCATGACTACCGGTCCG', 'CCGCGTTGATCGGTGTGTCAAAATGAGTTACAGATTGGGAACGCCTCTGT', 'AAGTGCATGGAGCTCATAACTACCTGGAGTGTAGTTTCATCCTAGCTAAT', 'AAACCTGGTCGTAGCGACCTCTCAAAAAGACTGCAACGTTTTAGAGTCCA', 'TTTTGTTCTTAATACCCGCTCCCCACCAAGTGAAAGCTTCTCGACCAATC', 'GAACGACCCAACTCCCTGAAGCCACGATCGAATCTGAATTTCACGCTGGC', 'TAAGCCACTAGCGGCCAAGGAGTCCTAAGGAGTCTCCGGCGTAGGGATCT', 'GCACTCTGAAGACTTTCTATCAGACATCGTCCGGCGGTCATCCTGAACCA', 'AACGTTACTTAACTAGGGACCGACCGAACTCCAATTACGTCAATTCATTG', 'TTAGCCACCTCGTCGTGAACGTGGAACGGTTAGCAGACGCGGCTCCACCA', 'TCTCTTTCTGAAGTGCATAGGAAAAGTATACTCGCCGACCGAACTCCTGT', 'CACGCCTGCGCTCAGTCTCGCTATAAGTCATGCCCTTCGCCGGGCGTGCA', 'ATACAGAACTTACATTGGCCTTTAGGTTGCTTCTGGCGCCGCGCCCGTAT', 'ATGGTTACGGAGGTTAGACCAGCGTACGTACTACGTTGTTAGTGAAGGCA', 'GACGACATGGACCTTCGTAAGGTAGATGCAGTCGAATACTTGTGTGGGCG', 'CCCGGTTGTCTCGTCGGCCGCGACCGAACTCCTCACTCAGATTTCACTAG', 'AAGTATCCGTAGCTGGTAAATCGTAAGGGGGTAATCACCCCAATATCTTA', 'AGCTGAGGTCGCCAATTGACCGATCGACCGAACTCCCATATATTGCGTCT', 'GTCAGTCGGAGAGTTTCCTTTATCATCAACCACAAAACGACCGAACTCCG', 'GCGGCCACCTCAGGTAGTGACTCAAGGTGGAATCTAATTCAGAGGGCTGT', 'CTTTGCCCAACGAGGATTTAGACGAGACCCTCTGGGAATTTAAGCCACGC', 'AATGATTAAGTCCAAGCAACACCGCATTTGACGACCGAACTCCCTATATA', 'GGAGTTCCCCGTCGATACCCTAATCCGTAGAAGAGGGCCTTGTCCGCGTC', 'GCAAACTGAACCATCATCTATACGGAGAGGCATCTCACGACCGAACTCCG', 'TGGGAACGGGTTCGTGGTTATATGTCGCGTTTATCATAAGAAGTCACACG', 'AGCTTTTGACTGGTCTGCGAGTCTACCCGTCCCACGGCGGCGACTGCTAA', 'ATTCTGACTCGACCGAACTCCAACCGTCCTCATAGCCTGTGTTCCGAATC', 'GGTCGATCGTCACGACCGAACTCCTCCCATCCTGACGGGCCCTCATAGTT', 'AGCTCAGTTCCATCTGGATCGGAGATCTTTCTTAAACGGTGTATCGTACT', 'AAAACAAGACGGCGTATCTCTACCCGAGGACGGCAAAGAAGATAACGCTA', 'CATTATGCGGTTAGCAAATTATTACCTCCTCTGACAATCCGCCTAGCCGT', 'CCACATAACCGCCATCAGGTTTACAGGCTGTATACTCTGCTCTACGCAAG', 'TTAGGGATCCACTCGTAAGCAATTTTATGGTTCTAGGATCGCGCGCTTAA', 'AGCACTCTTGGTGAACTCTTCCCCATGTATATAGGGGATGGTTCTTTCTA', 'CCCGTAATCTCGAAGGCTCCACTCATTAACAGAGAGGATTGTAGCGCCGC', 'CCTTGGCACCGGCTGCACAAACGTTCCAGCTCGGCCGGACCCTAGATATA', 'ACCCTAGAAGCACCCGCACTTTCAACCGCTGGCCGGGGGAGGATTTTCCG', 'AATAGTCTCCTAGTACCCCCGACCGAACTCCATTAAAGTAAACTTGCTGG', 'AAGATCCGACGGCAATTATTCACCGACTGTGTTTCAGCGCGGTGGTCCAA', 'ATACGTCTTACACGCGGAGATTTCGATATGTATATATGTCATCATTGTAC', 'TGTGTCGGCTAATCACTCCCACGCCTCCAGTGCACGACCGAACTCCCAGC', 'TATGGGCTTACCCGCTATCAGACCACCCCAATGGTATCCGAGTGGCGTAG', 'CCTGTAATATTCATCTACAGGGGCATTTACAGTAGGCTAGGTAATGCTGC', 'AACTAGGGATTTCTAATGCCACGTCCAGAACAACCCTGTCGAGCTGATTT', 'CCGACAACGACCGAACTCCGGCGGCATAACAGAACCTGGTTCTATATCGA', 'TCGACGAACGGAGTTAGATAACCTGTGGCCTTTCCATAGTCTTCCGTTTT', 'CTCGAATACAAGCTCCGACCGAACTCCTAGCGCCAAGAGTGCTGGTTCCC', 'GACCCCTGCCCCCTTAACATCAATGCATCTCGGCCTCACCGGTCAACTAT', 'CTACCCGGGAACATTGTTCGGGCGACCGAACTCCCATTACACGGCACCCG', 'CTATTCGACCGAACTCCATGAGTACTTCGAACACGGACCCCATACTTACC', 'GATGTATTATGGCGGAGAGAATGAGCTTAGTTTACACTCAAGGAGTCAAG', 'TTAGGTGGTAACAGCCCACCCAAAATAGCAGGGTTTCGACCGAACTCCCC', 'CCCAACAGCGTTCGACCGAACTCCGAGCCTGATCGACCTCAATTATCATA', 'ACCCGCCTGCTTAAGTCCTGCGTGAGGCGCCACTCTCTAGCAACCTCCTT', 'GAACTCCACCAATTTGGCTATCCGACCGAACTCCTTCTTCGCGTGGAAGA', 'AACCACAGGTCAGTTATTATTAAGTGGCACACATTGCGCAACCTCTCTGT', 'CGCCATATCTAGAAAGCAAAGGGCTCCCTCGACCGAACTCCTCTTTATGC', 'CTGAGGCCCTCTCACTTGCTGATCATCTCGTTAGATGCGGCTTATTCAGA', 'TTGCAGACCCCAGGACCTTAGTTGTGATCATGATACTTGACGTGGCTCTA', 'TCGGTATACGTCGACCTCCTCATATGCGAGAGACGAAGGGCCCGAAATGA', 'TTAGTACCCCTATCGCGATGCTGAGGATATTTGCCGTAACTGGCTAAGCG', 'AGGCGTCCATTCCAGTTACTACATCAAATTGTACGACCGAACTCCCCATC', 'CAGCTATATTACCTGTGCGAGACGACCGAACTCCCCGCGTAGTTTAGTCC', 'GTTCGACCGAACTCCCTTACAGCACAACGAACGCTCTAGGCTCGTGTCAA', 'AATGAAGAACGCGATTCTTCAGACAACCCTCCCCACGACCGAACTCCGTA', 'GCCATCCAAGCCCCATAGATCGGCTACTTTCTGGAATTTAGGCATGCGCT', 'AGATCATCTTTATTTAGTGTAGTGCGTGTGGAAGAACGACCGAACTCCGC', 'GTCGGTTATCCTTGCAGGAATTCGACCGAACTCCGGCTCGTGATGGACTG', 'CTCGATAAGGTTTCCATACAATTACACAATACAACAAAACGCCGCACATA', 'TGAGGTAATTATCAGCGTGCTCTAGGAAGATGCATGGTAGATCTAGAACG', 'GCCAATCGCTGCACTTCTCGACCGAACTCCTAAACTGCCCCAAGTGTATT', 'CAGCGCACTAGTTAGACAACCGACGGCCGTCGACCGAACTCCATGCTAGG', 'AGTTTCCCTAATTAACGGTGGGCCATGACGTGCGGGGCAGTGTTGGTCAT', 'GGTGCAAAGGGCGGGCGTGTCTCGGTGTCGGGAATAGATACCACCACTTG', 'CAGACGACCGAACTCCTCTGGAGGATTCCTGCTGGTATGCGGTGACTACA', 'AACAGTGGATATGCAGTGGGCAAACCTATGTTGGTTACGTCTATGTTGAG', 'CCGAGTGCCTGCGCTAACCGAGCGACCGAACTCCCGCTCTTATAGAAGCC', 'CCCGCCGCTAGGCATTAATCAACGACTCGACCGAACTCCGCCAAGTCAGA', 'TTCCGCTTTATTCTTATCAGTCGACCGAACTCCAACGTTATCGCGGGTTT', 'ACCCGGCATTTGCATCCGGGGCGTCGACCGAACTCCTTGAACGAGTAAAT', 'GGATATCATAGGAATTGTGCATGGAAATCCCCGTCCGACCGAACTCCCAA', 'TGTCTTTTGTTAAATAGCCCCGACCGAACTCCGTTTTTAGGCAAAAATCT', 'AAAACGAAACCGAGTCACGTACTGGCCAGACTAGCCGACCGAACTCCGCA', 'TGTTGCAGTTCGGTGTTTATCGAGCAGATTGCAAGTATTCTTACCGGGCT', 'TTGTCGCGACAGCCCTCCACTCGACCGAACTCCTATTACCCTGTCAAATG', 'CCCAAACCGACCGGCATTTCGACCGAACTCCATGCATTACAGAGCTGGAA', 'TAACATGTCAAGCCGACCGAACTCCTGAAAACACGAAGGCTCTCTATGGT', 'CAAACCGGTCCCAGTCCCATTCTACGACCGAACTCCCTTAAATCGACCTT', 'TCTAGATTTATATGGTCATACGAAAAAGAAGTTAGATGCGTGCGAATGTG', 'TCGAAATATCACGGCGAATCCTACTCCTCGTTGCGACCGAACTCCGTCGA', 'ACTAACTAAAGTTGAGGGTAATTGGCCTGTGGTTAACTCTTTACTCCAAT', 'GCTCATTGTAGTGCTAATCGAAGGAGTAAATAGATTCATCATTAACAAGA', 'TATGCAACGGATCTACGGGAGCCCCGCACGGTCGTACGGCTCAACTACTT', 'TGACATGATTGTACGTAGTATATGGGTTGGCACGACCGAACTCCGTAGGC', 'CGAATTCAAAAGAAGTCAGATGGGACGACCGAACTCCTTCGGGCGGTATC', 'CTTGAGTTATACTAAGTGACCTCTTAAAGATAGACTCCGCATCCTACTAA', 'TGACGTGCGCAAGGTTCAGAGCATCACGAAATCTTCCAACAGACTCCTGA', 'CGAATCGGTGAAGGCCGGTCGTCTGAAAAGACGACCGAACTCCGCCGGGG', 'CTTCTGTCACAGTCGACCGAACTCCCGCCGAGTCGGCCGACGTATCCACT', 'CAGATTAAGTAGCCGAGGACGCGCGACCGAACTCCCGAACTGGCCTGTAA', 'TCCCTTCTAGGGACGTACAGCGCGCACCACAGGGCTTGACACAGTAGTTT', 'GCTCTCTGTGTACGTATCGACCGAACTCCGCTACTGTGAGTAGGCGTATG', 'GATGTCTAACGAAACCAGATTGAGTAATGGCCCGAACGCGGCAAGTTTCA', 'CAAATGCCCAACTGACGACCGAACTCCGGCAGCCGCGAAAGCGACTAGGG', 'AATCCGGAAAAGACATAGGGACGCGGCTGCGACGTACGACCGAACTCCTG', 'GAAGAGCCCTGCGACTCTAGAAAAAGTACGACCGAACTCCGTTATCGTGC', 'ACTGATTAAATCCAGTGATCCGAGACTCGTACACACCACCCGCAAGCGGC', 'GACCGACCGAACTCCCGTCCCGTCCGAGCTTCAGCCCGTGCTACTTTCAT', 'TTGGCAAAACCGGAGCATTTGATACTTTCATTAGGTTGGTAGTCATCGCC', 'TCATGTCGCTATTCACCCGACCGAACTCCGAATGCGACCTGCATATGTGG', 'GTAACGTCGACCGAACTCCCCAACTAATGAGTCCGACTAGGGGTCGCCGA', 'ATCTCAGCAAGGACTTGCATTCAGTCGCACGACGACCGAACTCCTCTGAC', 'TATACAAGCTCGGAGGAGGTAATTTTATTGATGATTGCAGTCCGGGACAC', 'AGCGACCGAACTCCGTCTGGGTCGGTCTAAGTTGACCAGGCCAATAACCT', 'CACTTTCTATTTTAGTCGTGCCCGACCGAACTCCCGGCAGCTACACGAGC', 'GTTTAGGGAACGCCATAATTAGCGCGTGACCGTATAAAGAAACCGGCCAC', 'TCACACGGTTCGCGAGTGCATATCGACCGAACTCCACACCGTAGAACCTC', 'TCGAAAGGATTAACGACCGAACTCCGGTGTGTGAGTCGCCGGATGTGCCG', 'CTAGAAAAAAGGCCGGCATAGCCACGGTGTTACGCTGCGAGTGAACATAC', 'GCCCCCCAAATCACGTCATGCTCTACCCATAGGGTCTGTCCTGCGCGTAA', 'AATGTATACAATTTCTCGTTGGGAAAGCTAGTAGTAAAAAGTATAGGTAG', 'TTAAACAATCTCCGGGTGGTCCAAGTCTAGAACTCCAGATGCTTTTATAG', 'CGCAGAGTCTATCCCCCATGTTAAAATCCAGTTGATGCGGATGTTACTAA', 'GCAGTGGCTACTAGTCAATTGAGGCCTTTCGGCTTGAAAATCCACGATAG', 'ATGTACCCCTAAATCCACTGCGGGCGCATGGATATGTAGAGCGTTTTTCG', 'AATCGAACTGTTTTACGAGGAAGGCAAGGTGGCGTTATAGTCCTAAATGG', 'GGACGACCGAACTCCCGGGATTGAATCGGATACTGTTGCACCCTCTTAAC', 'TGCGAATTAGGCCCAAATGACCAAGCGAGTACCGACGGACCCAAATGTTC', 'CTGGTACCTATCTTCCCTTTAGAGCGACGGCGACCGAACTCCTGAAGAGT', 'GACGGTTAACCGCGAAATCAAACCTTTTAGTGAACGGACTTCCTAACAAG', 'AAGTGAATATCAATCAACATCCGACCCGACACTCCGCTCTTTGAATGGAT', 'CGGAGGAGGCTCGAATAGCTCAGTAACACACCGTTGAATCCTTGACGTGG', 'CATCTGTCGATCTTCACTAAAATCCGGGAACACGCACCCATGTTTTAATT', 'GCTTGGAGCCGGAAACATTTACCAGGACTGTCGATTTAATAGCGACTTCG', 'GACCATAGTCGCGGGCAATCTTCGACCGAACTCCTACAACTTCGAGTACT', 'CGAAATTTCCGTCAACAAGATCCTAGCGACCGAACTCCCGGCTTGCCAGC', 'CGCTGCTGCCCGACTACTCTCTTAAGTTAGTCCGTTAATCACCCCGGATG', 'GTGTGCTATGTACTCCCGTTACGGCGACCGAACTCCCGCGTGTGGCATCA', 'TTCGGGGCTCATTGCGTGATATGTTCCACTCGCATGGACTAGGGAGTGAA', 'CAAAGATGCTTTTAATGTCTACGTCTGGCGCGACTCGGGTTGACGATGCC', 'AAGCACCGACCGAACTCCTTCCTAAGTCTACCCGTTTACCAGACGGCATT', 'TTCGACCGAACTCCTCAACACCGGAGACAGAGCTCGAGGTAGCCGGGGCT', 'GCGACCGAACTCCTTACTATAGTTCCCCTTCCTGACAGGGTAGCGCCGCC', 'AGTAGTTCCGACCGAACTCCCATTCCCTAAATCAAATCGCCCACATGTTG', 'TCATTATAAGGCGTCCAGACATTCTGCGTAGGTGGACTAACCTTTAGCTT', 'ACAGGCACGATGGCGACCGAACTCCGGGGTTTGTAAGTACGAAACCCACG', 'GAGAGATAATAAGAGCGACCGAACTCCACAAACCTGTAATTTAATCGGTC', 'CGCTTCGTTGTTGCCGGCGCGACCGAACTCCGTCGGCTGAATTATACATC', 'GTACGCCACGACCGAACTCCAATTTCGACCCGCTAGGTACGAGAAATGCT', 'TCGAAAGGGCGACCGAACTCCGATATCAGTTTAGTAACGCTATAAGTGAT', 'GAGTGTGGTTGTGACTTGTACCTACCACGACATCCGGCACGGCACCAAAC', 'GTAAAGAACCGACAATATCATTCCGACCGAACTCCAATCGGAGCATGTCA', 'AAGCTAATCTAACGACCGAACTCCCGCAAATCTAGCTCTGGAGTTAAGGT', 'CCAGCGCTTTGCCGTGTACGGTGTTCTTGGTTTATAGCGACCGAACTCCA', 'ATATCATCTCGGTATGAGGAAGCAGAAGCTGCGCTTAATGTCCCTACCTC', 'CTTGAGGGTCCTGATGTCCCGTGTACACAGCGGTCAACTCGTGCTCCTTC', 'AAGCTCGACCGAACTCCCGTTTATATGGGGATCGTTTCGAACCAAGAAAC', 'GATGTATGACTAAGAGCTCGCTCATCTCAGCTCGAAGACTCGCCGTAGAA', 'CCGCTCTAATATGCAAGCCTACAAAATCACGGCTTGAGAGGTCCGTAGAA', 'GGACAACACAACGAACGACCGAACTCCGGAACGGCGGGGTCCGCTGATAC', 'GGCTCTGCTGACTTCTAATCTTAGGTCAGTCAGGGCCCTATACGCTCCCG', 'CGCCTCCTAAATTGGCCTTGCCCAGACTGACATGTTGCCACCCAGCTCCG', 'CGACCGAACTCCCATGCAACACCCTAGTCAGCACGAGCCGTTAATGCCAA', 'TGACTCTGGCGATTTGGAGTAATCGGTCGCTTCTTACGGATTAATCACGT', 'GTCATTACGACCGAACTCCACGAGCCTCGCATTCGTGGATCGTTGCTTCG', 'CCGTCGTCACGACCGAACTCCACAATATCGAGGTAACGGTAAGCGATTTA', 'ACGACCGAACTCCGCTGGGTAATCATTCTAATTCCGTGGGGACTCCCCCC', 'GCGGCGTCCGACCGAACTCCCATGACACGCAGGTGGGTCAGAAGACAATC', 'CTGGCGGATACGGCGCTGAATCGGACCGGACGACCGAACTCCTCGTCATA', 'CTGAGGCATCTTGAGATGTCATTATCTTAACTGCGTTACGTTAAACCTGC', 'TTTACAGTTGGAGTGAGGAAATTGTCACAGATGAGGGCTGTAGTGCACGT', 'CTAATGACTTGAAGTTTTCCTTTCGACCGACCGAACTCCACACGGTAATA', 'GGCTTAGGTGGGTATGTCGTTAGCCGTCGCGCAGAGCCTCATAAAAAGGT', 'GCTCACATACAATAGTCTCCACGACCGAACTCCAGCCCTTTTACTATAGT', 'CGATATGTCGTGCCATGAGAAACCCCGTCTATCGCGCAGACATTGTTCCT', 'GGTAGGCTTGAAAATCGACCGAACTCCAGATTTGGTAGAGCTCTCAATAT', 'TGGACACCCCTGCAATGCTAGCGATTACCGAACATCCTACCCACAGTAAT', 'TTCCAAACCCACCGTTCAGGTGGGCTTCGACCGAACTCCTGCCGGAAACA', 'TAGTCTACCGGGGTAAGTTTAGTTGTACAGGACGGCGACCGAACTCCGAT', 'CGATGTGGGAAAGATATCCAATGTCGTACCATATCACCGACTATTTATAG', 'CGACCGAACTCCACTGATAATTTCTATCCTACAGCGCAGACAGTTCTCAA', 'CGGTGTGACGACCGAACTCCCCGAATAGGCAATGGGCCCGGAGGCAGTCT', 'CACGGACGACCGAACTCCTCGTAGATTTAGTCTGGCTGGGAGGATCAAAG', 'GTCGGCGGTCGAAGTATGCGGACTTCTAGTATATTCCACGCACAGAAGGA', 'AACGCGACCGAACTCCAGGCCCGAGAGTGTAGGACCTGCAAGTAGTCGTA', 'GGAAGGCATGGAGGAGCTACAAATCTAGTGAGTCGTCACATTCTTATGAG', 'TCCAGTCACGCGCGTGGTGCCCTGCGACCGAACTCCAGTGGCTGAAGCCG', 'TCCAGTTTTAAACAAGGGGAACTTGCATGGTTTATCCTAGTTTCCGATTT', 'CTGCAGTTGCCGCAGAGATTCGTGGATCCCGCGTGCTCGGCTGAAAACGT', 'GATTCCGTAATTGAACCATTCTGTTTCTACTTGTCTCATCACTCTCATAT', 'GATCGGGATAGGGAGCTGTAGCGCCTTACCTATTACCACAATCCATTCGA', 'TTTTAGCTCATATCATCCCTCCTACTACTGTCAAACCAAAATCGATGGAA', 'TCGACCGAACTCCGCGGCGCGTTTCCACAATCCAACACCGATCAAACCCA', 'CTTCGGATGCTAATCGACCGAACTCCACCTTTTGTTTATGGGCATTCACG', 'ATGACCGTTTAGAAAACCCATCGCAAACTAGATTTAGGACCGCCGCCACG', 'TAAAGTATCACATCGAATGACGGTCCAAGGTGTTCCGGCGCAGTAAGCTC', 'TGTACGCCTCCCGCATATCTGGAGCAAAGTGATAATTAAGGGCAGACGGA', 'TGATGAGCTCAGGACGCCCTCTCCTGGAAGAGAGTATTTTTCTATATATG', 'ATCGGCTTCAAACGGGTCAGGGTTAGGGTACTGAACGTTTGGGTGGGCCG', 'TTATAGCAGGCTAATCAATGCGGTACGACCGAACTCCCGAGCCGAGATCG', 'AATGCTGACCGTCCATAGGTAGTGCCTGTTTCTCCGCGACCGAACTCCCT', 'GACAGACTTGGCACCTATTCTGGTCGACCGAACTCCGAACTCAGAGGGAA', 'ACAGCTGGATCTATGGTTGTGTCCAGCGCAGCCGACCGAACTCCCGTCGC', 'ATTGGGCCTTCGCGTGCATTCCTCGGGACGTGGCTATGAAAAACGAGCCC', 'TCTCTGAAGACAATTCGACCGAACTCCTTCAGGCATAACAACAAGCCCAG', 'CATTACGATCGTTTGTCCGCACGACCGAACTCCCCCATGGACTAAGGTCT', 'ACCGTCCTGCTCCGACGTTATACACTAGTTTTTGGGATAAATTATATTAG', 'TAAACTCACGAGCGCTTCATCATCAACGGGGAGCAGCTACGCATGCTAGT', 'ACGTATCCATTCTTTACGACAGAAGTCGATATACCAGAAGGATCTGCACA', 'GCTTTTCCGGTGCGAGCTAAAGGAATCGACCGAACTCCGATACGTTATTT', 'AGCCCCATGATAGAGAACAATCGCAGACCAAATCTCCGGCGCCAGTTGCT', 'ATCCCGGCCCAATCCATTCGTTCCCACGGTATACTGATGGCATGACAATA', 'ACGCAAGTCCCAAGGATCCATTTTTGAAACTTCCGACCGAACTCCACACC', 'CGCTGGGCCACCGGCTGATGAGAGGCTTCGTAAGGAGCTACAAGTCAAGC', 'GATATAGGGCGTGCACTTCAGTGATAACATCTCCAAGCGACCGAACTCCG', 'ACCCTAATCTTGATCTTTCGTATGTAGAAAGGAACGTGCCAGTGCTTAGG', 'CGACCGAACTCCAGAATTTGTGAATCACCCTGACGTAGTAATCAACGAGC', 'AGTTTGACCAGTGGCACTTCAAGGCTACCGACCGAACTCCGGTCGAGGAA', 'GTTCGGTAAGCCCGACCGAACTCCCTAACGGTAGTCGACACATAACAAAC', 'CGACACGAGGAGCCCGAGGCATTAACAAGGTCCACTGCGACCGAACTCCC', 'CTCGACCGAACTCCGGAAAAAGCGAGTGGCAAGGATATGGTAGAGCCCTA', 'AATACGGTGTTTACAGATAAGCTAGGTGCCGACCGAACTCCCTCTGCGAC', 'TGAACTCACGTACTGTCGAGTATAGATCCCACCTGACTATGCAACTGAAG', 'GTGCATGTCCACCGCCCAGGTCTTCGCTATGATCGAGTGACAGCCGACCG', 'CTATCGACCGAACTCCTTATTTGATTACTGGCTACGGACACCCTGGGCCT', 'TTTGTGATTGAGCGAATGGCAGCGATGAAACCTGCCCGTTTGGTAGGTTA', 'CGACCTAACGGGGGCGCTCGCGTGATCCGACGACCGAACTCCACAGCGCT', 'GTAACCGGCGAGACGATTTAGTCCCTTGACGATACAATTGTTCCACGGAG', 'AGCACACTCGTCTTGCTGAATTTGGCATTGGCATGACATGTAGCCGCCGT', 'GCCAAGATATGACGAATATTCCCGCTATCATATAACGCAACTATCGGATC', 'ATTACGAGCGGTTTCTGGGAGTCCGGAGGGACGCAAGAACTCGAGCAGGC', 'GCAGTAAATCGTGTTGGGCATAGGTTTTTGTCAACTGGCCCACGTGCGAG', 'CTTTAAGGGCATGAACTAAGCCTCTTGGAGAAAATAACGACCGAACTCCT', 'GCGGGTACACCTCAACAGAGGAGAACAACTATTCTTGTCAGCCGGCATAT', 'CCTGCCGAGTGAAGCATCTTTTACGACGGACTTGAATAACCGCATTTGTC', 'ATTACAGATCACCCCGACCGAACTCCCTTACTTACGCTGAATCTCATTGT', 'GGATCCTGTCAGTCGTAGACGATACTAGAGGACGCCGACCGAACTCCATG', 'CGGTGCAGAGGTGCGAGCGAGCGACCGAACTCCGAGTGCGAAAGAGGACA', 'TCATTCGCCTCACAACGAAAGCGCATACGAACCTCGACCGAACTCCTGGT', 'AGAATAAAGACCAGCAACGGCAGTAGATCTACTGTAGTACTCGCAGTCGG', 'CGTGGAATTAGTCTTCTGCCAGAGTATTAATTGTCTTTAACTGGTTTTTA', 'ACGGTCAAAGGAGTACGACCGAACTCCGGGCAAATAAGGGAGCGCTCCTC', 'GAGCTCTATGAGCCGTCTCGGCCTTTGCATAGTTAACAGTAGAAACTTTC', 'TACTTAGCTACACGACCGAACTCCTGATCTAGTAAAGGCCTACGATACCA', 'AGTTCGAGTAGCTAAAAAAGCGGAAGTAATGTACTTATACCGACATTAAT', 'GATCCTTTTTCGTAGCTACGGATAACAAGCTGATCGTAATGTACGAATAG', 'GCCGACCGAACTCCGTCGGTTACTATCCCCGCCACTTTGTCGCACTAAAA', 'GGCGGTGCAACCGCCGTTGTTGTCTTCCAGAATCAGATACCGACAACCTT', 'GCGATACGGCCGACCGAACTCCAGGACTGTTGTTCTAGCATTAACTTTAT', 'ACAATCTCTCCGCAGTAACCAGACGACCGAACTCCTTACAAGGCGAAGGT', 'GCCGTAATATCAGGAGTTGAAACAATCTGGACGACGGCGACCGAACTCCC', 'GATGTCTCAGCTGCCTCACTGTTGCATTATGCGCGACCGAACTCCAAACC', 'CGACCGAACTCCATTGCAACAATTGGACGGCAAGAAGGTTACTACTTAGG', 'GTAATAATGCTTGCAGCTCGACCTCTGAGCCTTGGGATGTGATTTTAGAT', 'TACAAATGCGGTTTATTTTGGTGTCATGAGCCACTCGTGAAAGGAGAAGT', 'TTAAACAACAGGATACTCGCAGTAGTGTTCATTCTCGACCGAACTCCTAT', 'GTGACATTCAACCCCTTCGCGGAGGGTAAGTCTAGTGCTCCAAGCCACTC', 'ATCGCACCTCTCAGAGCATATCCCGACCGAACTCCGACAACTTGCTAGCC', 'CAGCCCCGGTGCAGTGCTCCGGTTTTACGACCGAACTCCTTATGAACCTT', 'AGTCTACGCTCCTTACGTCTATTATACCCGTATGTGTGATTAACGACGCT', 'TTTCCGGGTTCCGAATTTCTTTAAGTCAGTACCCCTGGCTGGGCTCTATT', 'TGCGGGCTGACGCGACCGAACTCCGTCGTGCAACGGAAAATCGGCGGAGC', 'GATGGTTCAACAAGTCTAACTGTTCGTTAAGTTAGCATCTTTGCTGCAGC', 'GAAGGGCCGCCATTCAGAATGTCTAGGGTTTCTCTCAAGAGCGACGCCAC', 'ACGCCGGAACATGCTTGATCTGAACCGACCGAACTCCACGGGATTGTACA', 'CGCTGGTTATCGAAAGAGGAGATCTCGGATTGTCGAAGGACTGGCAGCGC', 'CTTAAGTCGACCGAACTCCTCCGCGAAATCCCGGACTTAGGGAACCCTTC', 'CGTTCCGGGAACGTACAGTTCAGGTTGGACAAGAAACGACCGAACTCCCT', 'TCGAAATTTCCAGTCCGTCGGTTTACGATCCAGCGACCGAACTCCGCGTC', 'TCTTCCAGGCTGCCATAATCTAATACCTTCGGGTCCCCTCCAAAATGAAA', 'GCATTTCTGCTGGAAGAACTCCATCCCCTCGACCGAACTCCAAGACGCAC', 'GCCACCGGTCGACATTGGTATTGCGGATCCGGTATCACGACCGAACTCCC', 'ACCCCTGCAGTGGTCGTTGTGGTTTGATTCTGTCAATAGAGAAGGTGTCG', 'ATGTATTAGAGGCTGGAGGAGTTAGTCAATAGTCGCCACGTTCCTCGCCG', 'GCCCGACCGAACTCCGAGTTGGACAAGTTTATTGTCGCATAATGATTCAA', 'CAGAGGGCGTAAAAGCCCCATTCAGCGGGTCAAACGACCGAACTCCAACA', 'AAGGTCCACTCTAGCTATCTAAGGCACACACTGTGCAACACTCAACCCCG', 'GGACGACCGAACTCCGGGATCCACACCACTCGACTCCGTCCGAAAGATAA', 'CGTTAAGACGAGTGTGCGACCGAACTCCGTACGGTCGCCGCCTTCACGAT', 'GACAAGAGTGGTGCAGAGTTAAATAGGATGTTTATTACGAGAAAGAAAGC', 'ACTTAGCCCTGTCTTAAACACCGACCGAACTCCCCACGTACTTGCATGTG', 'ATGGGAAAACCCTAACCACTTTGGAGCTTGTTTCGTTTACGTCTGGAAAA', 'ATTCCGCCAAGGCCGGACGACCGAACTCCGAATCAGAACTCGGCGGAGAG', 'TCAGGACACCCGCAGCGGCCAGTGCTTCGTTGCGGATCCTTTCGGCGAAC', 'GAACCTACCCTTATAAACGCCTCAGTGTCCCCTTATTCAGTGCCGGATTT', 'CATCTGCTAGTTAGAGTTGTCTGCGCCAACCCAAACCGTTAATACTCTTA', 'CAGCATCATCCATTTTCTAACAGCGTGCTACTCTCCGACCGAACTCCTTA', 'GAACAAAACAGGCTAGTGGTACCCAAGCCGGCGACCGAACTCCGTGCGGC', 'ACCCCTTTAGCCTATCCTCGGTGGTTTGCACTCACTAGCGGAGGCATTAG', 'AGGCGACAAAAGCGTAATTAGGACTGCAAGGAGGGATCTACATAGGTGTA', 'CTAGTCGCCCCTGGGGAATGAGTCTAAATTTGATTGACCAGACTACTAGC', 'TGCGGGGCGGTCCGGAGCTCTGATCGTAAAGTTGTGATAGACGCGAAACA', 'TGCATGCGATCGTTCTGCCTAAAGCGACCGAACTCCTGAGTGCGACAACA', 'TGGGTGTGAGCGTCCTCCCGCAAGGACATCAACCCGTGATGACACGATAC', 'GAATACCATAGGTTGGCATGTGTTCCCCCGAGACTTAAGAGCTTGAGAAA', 'CTGGCGTCGTGCGTAGGTTCACTTTTCATCCCCCTTAAAAGCCCGCCCCC', 'GCGCCGTCCAGGGAGGCTTAGATACCCGCACGCCGGCTCAGCTCAGATAA', 'GTTTTTTTCTGCTTGTCCGTGTCTTCCCTGCTGAATTCTGTGGCGTGAGT', 'ACAGGACGCAGAGTCATAACACAGTGCCTCGTCCCCAAACACGCTTTCTT', 'ACGTGCGACCGTCTGGGACGGACTCGTAAGTCGTTTTATTGAAACCAGTT', 'CATATACAGTTTAGGCCCGTTCCAAGACCCTCACGACCGAACTCCTCTAC', 'TGAAATAGAGTTACGCGTCGACCGAACTCCGATAACTCGGTTGTCCTCTC', 'CGACCGAACTCCATCCCAATTTATCCGGGCATTAGACACCGTGCGTGCTG', 'GAACATAATGGATATTGAAAAAACACCCATGTTATTAAGGCGATAATGTA', 'TCGAAGACGACAGTCGGGTATGCATCGCCGTGCGAACGCGAACACTCGGG', 'TAAAAATTCAGTTAGGTCGCAAACTCAGTCGCGACCGAACTCCTCGGCTC', 'GATTGTCTCTATACTTATCACGCACTCTATCGTGGGGCTAATATCTCTGG', 'AACACGGAATTCAATCTACGATCTGAACGACCGAACTCCGACCTTCAACT', 'ACGAATTATTTAGTAACCGCACTCAGGGGTTTCCCGGCTACATAGACCTC', 'ACTCATTAACTGTCATGCTCTAGATGTTGGCGAGGCAAGGCAATCCGAGC', 'TCCACGCGTTGCGAGTTGTACCGTCTGTAATAGAACCGACTTAGACAATT', 'CAAGAATCCTTACGCGTCTCGTACGATCCAATACCCCAAGTATAGACATC', 'GTTACATCTCCGCATTTCAGGAAACCGAATCGACCGAACTCCCTCGTTCA', 'GCCTTTAGAAGACGAAACAAATGAAGACAATTCGCGATCCTGAGTAGATA', 'GATTAGTAGCTCTCCGACCGAACTCCCTGGCGAAGTGCAATCAACTGTAA', 'AGAATCCCGTACCTAGAGGAGCTCGGTTCTTGTGAAACGACCGAACTCCT', 'TCTGAGTGTCCCTACTTGTGCGTGCTAATCTATGCGACCGAACTCCCCCG', 'GTGTGCCCTCAGTTTCATGGAGAGACGCGACCGAACTCCCATCAGTACCC', 'ATCCATGTATTAAATAAGGGAAGCCGGCGAGTCACGCGAACACCCCTTGA', 'TTTTCATTTTACGATGTACGGCCGGGGCAACAATAGACGACCGAACTCCA', 'GGGGAAGTCTTGTACCCTCCAGGAAGTACATACAAAGGTGTGTTTAATTA', 'GTCGACCGAACTCCGCGAGGTGATTCGCCGCAAGGTGGAAGTAACGCGTC', 'ATAAGACGTAGCTGGCCGACCGAACTCCTCAGTTAACAAATGATTATCGC', 'TCTTCCTCGCACCTCGTGATTAAGCTTGTATCAGGCGACCGAACTCCTTT', 'GGTTTAACAACGACCGAACTCCCAGCCTAATGGCCCCTGCACCGCTGGCT', 'CTTATGTGAACGCCCGTGTGAATCCCCGAGGGTATCATTGTTCCTTTGGG', 'TGACGCGCCGGCAAAAGTCAATTGCCTTTGCTACCAACCTGGTAAAATCT', 'ATGCATAGCCGACCGAACTCCCTTAAGTGTGAACGTGACGATCATGTTTC', 'AGTACGACCGAACTCCGAGCAGTGGAAATTGGAATTAGTAAATGTGTAAC', 'ATGCTCACTATGGGCGCCTAATGTTACTTCAGTGGTGTCCCCACTTTGTA', 'ACCGACCGAACTCCGCAAAAATAAATTGGACAGCCGAGCTAGGGTTAAAG', 'ATTGCATATCTTACTATACGCACAACGCAGAGCCAGAGACTATCTGTATG', 'TTGTTAAACCAGGGACTGAATCCATCTTATTTGTTACCTAATTCCCTCAG', 'TTGGCACACTAGAACGCGCGATGCACAAGCGACCGAACTCCCAATTAAAG', 'TTGTATCAAGAATCTCATTGTCCAGGCGACCGAACTCCACGCATCATACT', 'AGGCCCTCTAGCGAGACACGATTTCATCTGGGTCTCTCTAACGGGCACTT', 'GGTCATTCGCAACCGACCGAACTCCGTGCAGAAACTTCTTTGTGAGTCAA', 'AGCGGCGTGTCTCTTCCTCAGTAAACGTGTGGACTTCGACCGAACTCCAA', 'CATGTGATAACTCTACAGAGGCCTTCTAAAAAGATCCTTTCTTGGGCTAC', 'TCAACATCAGTCCCGACATGGTTCTGAAAAAAGTGCATTATACACTGTGA', 'GACCCACACTGAGAATTACAATTGGCGGGCAACAGGGGACCCTCTCGCTG', 'GGTGCTCGCGGCAGTTACACCGACCGAACTCCTGAGTATTTGAATCTGGA', 'AGTGGGAATGGTCCTGAGTTTAGACGTGTAGTAGGCGCGCAGAGGGGGGT', 'CCCTGAAATTTGTATACACGTGGGCTGGAATACCCGTCCCCCCTCTTTCC', 'AACTAGGTCGACCGAACTCCGCACCGAGATACTCTCTTCTCGCGTAGAAC', 'CATCCAGACCTCGCCTGGCGTACCGCCTAAGTTTTCGGCGTCCACACGAA', 'TGCTCTGTGATAGATCTAATTTTGCAGTTGTAAAGTGAGTTCCCACAGTG', 'GGCAAGAGTCAATTTGGTCCAGCACGCCGAATATGAGACACAGTAGCCCC', 'AGCTGTGCGGTGGCATTATCGGCTGAGCGCTACATTCGAGATTTGTGTGC', 'CCCACAACCCGTGAATTCGGGTGTGTGATCAATGGTGGGTTCGGTCTTCT', 'CGAGCTCCAGCGTCCGAAGCTAATAGCATGGGGCGGGTTTTAGAAACGGA', 'CAGTTTTATAGAAACCCGTAATCGATCGTTAGGCCAGCGTTTGACAAAAC', 'GCCCTCTTAGGCACCGACCCTGTCATTCTAAGGAATGTAGTGCCCCCGAT', 'CGGAGTATACGGTGACGCTCGGTTCCTGCTCTGCCAAGTAAGTGCCTAGG', 'GATCGACCGAACTCCATATTGTGGGCCGAATATTTCGAGGCTGTCGAGCC', 'ACTTGTCCAACACAGTCACGCAACCAGGGTTTCTCGATATTAGGGACACG', 'GATTTAGGGTGCAGGGCGTGTTGCTGGCGAAAGTCGTGAATTTCTAACGT', 'ATTAAAGGTCTCTTTGTCGTAGATCAAGATGACGCCGAACAGCTTTATTC', 'CCGACCGAACTCCGATCGAAACACGAACCGCGGATTCCTGTGGCCCTTTG', 'TTTCAGAGAACGTTCTCGACCGAACTCCTCCCCGCGTGGACCCTCCCAGA', 'AGGACGAAAGTTTTTCACGACCGAACTCCAAGGCTGGTGTTATTCCCGCA', 'TTGTTGCAGGATTGCACGCGACCAAGGGGGACCGACCGAACTCCTCGCTC', 'TCGTCTCACGAATACGAGCCGCGTCTAATAAAACACGAGTTCTCGGAGTC', 'CAGTGCATTAACGGGCATGAGCCACTCTGCTGGGGATAGCTTGCCTACTC', 'ATCAGGGTAACTGCGGACTGAAGAAGTGCGGTCGACCGAACTCCGGTGTC', 'GTACGTTAATCATGTAGCTCGACCGAACTCCCACACGCATCATGGTAACG', 'TATTATTCGTCCCGACCGAACTCCGCGGAGGCTGGTTTCGGTACTTGACA', 'GCGACTAGAAGCCTCGGGCGCGGCTTTCGCAACATTTATTTCGGCTTCCA', 'ACATTTTACCTTAATTCCCTGAAATTAAATGGGCCTGGCGACAGTGTAAG', 'CGAGAGCTGGAGGCGCCCACATCGCTCATTAAGTCAGAAGTCATGGGTCT', 'GAGTGCCCTATATTCTCTGCGTTGAAATAATTAAGTTGCCTTACACGAGG', 'TACATGCGCATCGACCGAACTCCCGGGAAGTGACTTTATTCTATACCTGC', 'TAGCGACCGAACTCCCACAAGTAATTTATAAATAGATTAAAGTGTCTATT', 'GGCAAGAACGAGGATATCGTGCCCGACCGAACTCCACAAAGTCCGGGAGG', 'AATGGAAGGGATTGCTCCGACGATGTGCACGGCGTCATTGCGCCAGCACG', 'ACGATTTTACACGTAGCGGCGTCCAGTTCGCTTTCGGCTGTCGGCCGATA', 'CCCCTGGTCAGCAACTCTAGTTTGCAATATGTGTTGCGTACACTCAGCCT', 'GCAGTGCCCAAATCCAGGTGTGGGCACAGACAAAGAGGTAGAACTAAGGC', 'TCCAACGACCGAACTCCCTACTCTCATGCAATCAGCAAGATCTTGTTTAG', 'ATCCATGCATCCTCAATTGGATGGCCCGACCGAACTCCCGGCCTTACATC', 'GACGCGCATTGACAAGTAGCTTCATAGCTCTCGGAGCCGCCCAATCAGCC', 'ATTTCTAGATGTTCGTTCGTTAAACACGACCGAACTCCTTGAAAAATTGC', 'GAGTTCCGCGCTCATATGTCATGATGTTATAACATTTTACATACGCCGCC', 'CAGTATCATATCGGAGAACCTATTCACACGACCGAACTCCCGTTTGGGTT', 'GTTAATTTGAGCCCCGCTCTGAACACGACCGAACTCCAACGTACCATTGG', 'TAGGTAACGACGGGGAAATTGACACGGGAACCTGCACTAAACGGGGGAAC', 'ACGGTCAGGTGCTGACGACGTAGTCCAACTCGGTGGAGTCTATCCTCATG', 'CGGTGTGGTTACATGCTAGGTGAGAGCTTGTCACCATAAATACAAGGCTG', 'TGGTTCGTGCAGCAGCACCCCATCACGGTAGAGACCGTGGTCCGAGCATC', 'CGTCGTGCGTTTCAGTTATTCATCCCCAACAGGCTTGCGGTGCTTGAGCA', 'CGGCGTTAGGCATTCGCATATTATTACGACCGAACTCCCATCCGTAAGTA', 'GATTGTTAATATTCTCGTGACGATCTGTAGCAACACGACCGAACTCCCAA', 'ACTTTAGACTGGCCCTTCTAGTGATCCAATAGCTAGCCTTTTATAGGCGG', 'TTTTATGTTATTCTGCCGGTTTCGCGACCGAACTCCATGGAATACCTTGC', 'GGTCACCTGGGTAAGGATACCTGCACAAACTACGTCTCAGCTGGGAACAG', 'TGTTGAACGGTTCCTTCACTGTATTCACGGAGGTCCCATTACTTCGATCG', 'TAACCCATCGTTTGGCTAAACATCCGTATTCAAAGTCCCAACTCTCTCGG', 'CGATTAAACTTTGCGCTTGTACTAGTTCTCGCGTAGTGTTACAGATTAGC', 'GCAGATGCGTATGAAGTCTCTGTTGGATGGAGAGATGGTTTAGGCCGAAC', 'TGGCGGTTAACACAGCGACCGAACTCCGGTCAGTTCGCGGGTCCCAATTT', 'CATTTCAATCACGTTGATATGGATTCCTAGTCGATTGGCAGAATGGCTGG', 'ACGGCAACGTATGCAAGCAGATAGTAACCATCCCGATTACTGGTGAGGTG', 'CTCACCTCGACCGAACTAATAATCTGGCGGACGACCGAACTCCTGTGCAG', 'GATAACAGGACGTATCTATGTCCCGCGCCCGCGGGTCGTAGGCGAGGCGA', 'GTCTGTAGGGACAGGTACGAGCCTTTCAACCAGACAACGCTTACGACAAC', 'TCAAGACGGTCTCGACCGAACTCCACATGAACCGAGCGTGTGGTCGCACA', 'ACCCCGCACAATAATCGTGCCGGACTTCGGTGTAAACGATAGTAGTAAGA', 'CAGACTCTCCCTAGACTTATTCTTCAGGGATCAGTCGACCGAACTCCAAC', 'GTATTCAGATCGGTACAAGAAGGAGCCATGTGGACCGACCGAACTCCGGC', 'GCCCACGCACCATTCTTGGGATCATCAGCGTCGGTTTTTAGTGACGGGCA', 'GCAATGCGACCGAACTCCATAAGTGGAGCCCTTCCGTAATGCGGTCTTGT', 'ATGAATGTAATTTCGGGAGGAACATCAGCCGGGTCTTGATAAGATATGTA', 'ACTCCTGTGACTATTATACATCCAGAGACAGTGCACTTTAGACACAGTAG', 'GATAATAAGGGAAGATTAACTACTCGCGAATCCATATCGTCTGGAGGAGA', 'GTAAAATCCTCGTTCGACCGAACTCCGGACTCCCGCCGAGGACCACAGCC', 'CATTTTGATCTAGACGATCCGACGTTGATTGACGACCGAACTCCTTTTGC', 'ACTGCCGTTCTAGGATTGACGACCGAACTCCGTGATGGGTTCTAAGAAAA', 'ACCGCAGGTGCATCGAGTTACACATTGTGTTGAAACGACCGAACTCCGGT', 'ACCCTCTGACGTTAGAACCACGTCGACCGAACTCCACTGCTGCCTGGTCT', 'TGCGTGGCAGGAGGGATAATCAGCCTCGCGTCGACCGAACTCCGCCAGAC', 'TTGCCGGACTGGCCTGTAAGACCCTCTGGCCGTTTAACCGCGACTGTATT', 'TGTGCGGCCAGCTATTCAACGATGATAACCGAGTCCGGCGATGTATCTGG', 'TTTCGACCGAACTCCACTCAAGCGAGGCCGTTCATACAGACTGTACCTGC', 'TACCAAAACGCTATCTCCTTGAGGCAACTACGACCGAACTCCTACGATGC', 'CGACTGCTGTTTTATTTCGACCGAACTCCCATTGGGTCTAGAGCCCACCG', 'TCCCAATGATTCCACACGCATACTCCCTCGACCGAACTCCGTCGCGCGAA', 'CACCGACCGAACTCCACTGGTAGGAGACACATGCGAAGTTGTAGGGGTTC', 'AAGTCCCTAGTGTTTAGCGCGTATATCCCGACCGAACTCCCACTCCCGTT', 'CGGAACGGGTAGTGAGGCCGTTTGTCGCCTCCAAATTCCTGGGACGACGG', 'AGATGCGATCGTACAGATACTGAAGGAGTCTATATAGTAGATTAGCAACA', 'ATACTCGACCGAACTCCGCTGGAACCTGATGTTCGTTTCCACCGGTACGA', 'ACATCTGAATAATCGCCGTTGACATCTGGAATTGCGTGAATGTCAGAGAT', 'CGGTGCCTCTAGGGGTGCCACGACCGAACTCCAACCCTCTCTCTGGACCT', 'ACGTCATGACCTGAGAATCCCGATGATATGCGACCGAACTCCTATCGGAG', 'CCTCATACGTTTATGGTAAACAATCTAATCCTACCGTCGGGATCGAATTA', 'GGGCCCCGTCCCGAGCGTGAACACGGCCCGACCGAACTCCCTTTTATAAA', 'CTCTCAGGCTCGTCGCATTAGCGTGTTAATCCACATTTACTGCCAACCTT', 'GCGGGTTACGTATACGAGCCTCGTGTGCACCGACCGAACTCCGCGCTACG', 'ATATTAACGAATAGCGGCAATATATCAAGTTGATACTACAACTGGCAGCG', 'CGGTGGGACGACTCAATATTAAGGTAGGGGTCAAGTCCATTACTGTAAGC', 'GAAGCCGGTGACACAGGTCGCGTGGTACAAACTGGACATGGGGTCCTGCT', 'GACGATCGACCGAACTCCAACTGCCCTATGTGGGTGGCCTCCATTCTTTT', 'GTTGTTGTTACTTTATCGAGATATGGCCAATGGAGCACTCACCATCACCG', 'AGGCGTGAGTTGGGAATGCTATACGGGCCCCCGACCGAACTCCTTGCAAG', 'GTTACCCGAGCGTCCTTAGAAAATTGGGTCCGCAGCAAAACTAGCAGATA', 'TGAAATCGTCGTTCGCCTCAAAAGCCAGCATCTCCCTGTAGTTATGTGAG', 'CGACCGAACTCCGGAGTGTTTATGCCCTATCGTCGAGAGAAATGAGTCCA', 'CTCAAACGCCGACCACGTCGATAAATGGGGTACTACAGTTCTAACCCCGA', 'CTATGGCGCTGCTACCTTTTTCTATGCACGTCCTCCCGGGACTTCTATGG', 'AATTGCGCGACAGATAAGAATCCACCAGACTCGCGACCGAACTCCGGGCG', 'TGAAAATTGCGACCGAACTCCCTAGGTAAGGAGCTATCGTTGTTCTGGGA', 'GGACCATTCCTAATACGACCGAACTCCCGGTACTCGCACCGCACGTGGGT', 'CATGGTCGGCCCTTACTTATGTCACCAGAGGCCCCATCGACCGAACTCCC', 'ATTTCGGTCTCCATAAGCCCCACGGAATTCAAGGGATAAATGCCCTTCCT', 'GCCTTATGTAGCTCATACGATTCCCCTTTAGGGACCCTAGCGCGTACCCC', 'TCTGCCTCGATATAGGCGGCTGGAGCGAGAGTCGTTCATCGAAATTCAAC', 'CTGTTCTGATTTGGGCACATGGGTACCTAGACGACCGAACTCCTAGTGTT', 'GGAGCCTTAAGTAACAATGGATGGAGGCTAACACTGGTATGCCAGCCCAG', 'ACGACCGAACTCCACGTTGTTGAAGCGGATCTTCGGTTCACCCAGCATCT', 'TCTGGATACCTTGCCCATCCTTAGCGCGACCGAACTCCAAATATAATTTC', 'AAGACGACCGAACTCCGTGACCTAAATGAAGGATTCCCTCATTCAATTCA', 'CTTGTCGGCGCGTTAGCCGTCCGACCGAACTCCATAGGTTATAAAGGCTG', 'GTAGAAGTCCTTGAGGAATAATGCAGGCAGGAAGTTGAATTCTATGCCAG', 'CGACTGATGTCAGGATAAAACGTTAATTCATGCCACCGCGCCAAAATAAA', 'GTGGGGTGAGTTGAGCTGCACTCCCAAAAGCTCGCCTTTCGAACAACCGA', 'GCATCTTCTCGCTTAGTGAGCGTTCTATAGGTTCGACCGCACAATGGGGA', 'GCTTTGAGGTAGGGGAAACGACCGAACTCCCTCCCTGTAACCGGGCTCAC', 'CGAATACGACCAGGTGGAACATCGCGACCGAACTCCATCGGTGAAACGAA', 'ATCTGCCCGTAGAAACCTGAGGGCAAGTCGGATGTAAGTGGGGTGAATGG', 'CATGGACTGAAAGAAATGTCAGCTCTGTCTTCCACTGGATCTCCCACTAA', 'CGACCTATAACCGAACAAATGGAACGGCGTCATGAGGAATGCCCGGATGC', 'ATCGGCTGGTTTGCCATCTGCGACCATCAGAGACTCCGCATCTGCTATAA', 'CCTGCCATAAGCCTACGAGGGCGGCCCTAATTTCGCGAGTAGTGGGAGTG', 'CACTTTCGACCGAACTCCATAGGATGGGCTTCAGGCATATGATAAACTTG', 'CCCATAGCCAGTGCGAGAGGAATTGCCTTGAAACCCCAGGCCAAGTGGGA', 'TTCGCTGTCGCCCGTTGAGACTCAGCGGAGAGGGTGCTAGACCCCGAAAT', 'GGGATCGCCGACCGAACTCCCGAATTGCGAAAGGTATATGCCAGATGTTA', 'TACGACCGAACTCCCCAGGCTCCTCGGTGTTCTGGAGCTGAATGGAGGTG', 'AATCGGTATCACCACACCACCGCTCTAAGATAACTTTATAAGGAACGTGG', 'GAACGATTCGATCGTCATGTAACAGGTTAAACGACCGAACTCCAAAAAAC', 'AGAAGGGATTGATCGACCGAACTCCGCGTTGGGGCCGGCTAGTAATGAGG', 'TACTTGCTCCTATATAGCCTTAAAAATCACCTGAAAATGTAACCGAAGCC', 'CGATGTCACCGGCGGTCGACCGAACTCCCGCAGGGGTTTGCATCTTAGCT', 'AGTATGGCGACCGAACTCCTGTTGCCCGTCCAGGGATTCAATCGGGTGCA', 'ATTTCTAGTGATCCATTACTTTGGCTCGGTCACATGTGTATCCACAAGGT', 'CTATTGTGGTTAGCAGGGGGAGTCAACAGGCATCAACGCCCCCGTGTGCA', 'GTGCTTTGCAACGACCGAACTCCGGTGTGCGTCTTGCTAGCCTCCACAGG', 'CAAAGCTTCCAGAATGCCTAGAGAGATGAGATGATACACTAGGGGAACAT', 'TCGCCTGTGTATCTCTTCGTAACCCACCGAGGCGTTTGTATTGAGAAGTC', 'AGCGACCGAACTCCCTAAAGCCGAACTGTAGGTGCTCATGTCCAGGACGG', 'ATCAAACAAGAGACAACATAAGGTCAGTCGCTCCTCTCGGGGTCTACTCC', 'ATGTTTGTTGGATACAAAATCCGCAGATTCAAAGGGCCAACGGGGGCTTT', 'CTCCCGGGAGACTGAAGGCATCACCGTTACGAAATCCGTTAGAGGTTCCC', 'CGGTTGACGGCTCAGGGCAGTAAAATATCCCCTGTCGGGGACCCTCCCTC', 'TGACTATGATGACCGCCAAAAAACATTGTACTAACAATTGGTTGGTAACT', 'GGAATGATCTCCTTTTAACTAAGGACATAGCGACCGAACTCCGGTTGATA', 'GCATTATCCGACCGAACTCCAATCCTAGTAAAAGGTATAGTCTCTGCGTG', 'GAATACCCTTCAGTATTGTTGCTTCCCCACCCAGCATGACGAAAAAAAAT', 'CCCTTTAACGTGCTGTGCCAGTGAAAATTATACACAATCTACACGCGAAT', 'TGTAGCGAGTAACCTTGTTTGAAGTCGCTACCCCACGACCGAACTCCTGG', 'AATCTCGGGAGCATATCGACCGAACTCCCCGAAGCTATTCTTTGGCACAT', 'TCGACCGAACTCCCGCGTTGGCTACGCATAGGGGGATTCCCGTGCGACTT', 'GGATCATTATCAAGCGACCGTTTGTGGTGGCAGATCCGCAGCTGCGTGAA', 'GCATCTACTCGGTGGTCTGCGATTTTACCCAACCAGATCGCGCCCTAGTT', 'GGTGTGCTTGGACCTCAGGGTACGACCGAACTCCCCACTGGCCAATTCAG', 'AAATTACGGTAAGCGCGATTCTTTGAGATGAGCGTGTCGACCGAACTCCT', 'ACTATCGCGCTCTAGGAGATCGCTGAAGTCCCGCACTCACCGTCCGTTGT', 'ATCTTGAGATCTCTTCGAATCACGGACTGCTACGAATGGCTCAACGGAAT', 'ATTTTACGACCGAACTCCTTGACATAAGCATACACAGCAAAAATGTACCT', 'TTGAATCGAGGTAGCTTATAGCAGGCGACCGAACTCCAGATTACAGAATG', 'TTCGCACCTTTGTCGTGTACCCACCGGTCTGACGACCGAACTCCTATGTA', 'TCCCAGCTAATCCGTTCGGTCTCTAAGATCCCAACTTGCCTCGTTAGAGA', 'GGGCTAGTTGCCATACCAATAATCTCCAGAGGAAAGCGTAGGCATCGGTG', 'AACAGTATTTCGACCGAACTCCATGGGATCAACCGCAGCATCAGCCGGAG', 'TTGCCAGGTTTAGTGACAGGGCGTCCCAAACCGCTAGTTTCATGAACTGC', 'CGACCGAACTCCCGCAGCTATGGCGGTGACGACAAGTCGGCCGATTCCAA', 'ACTTCCAATTTTGAAGTAACGCGGGTGTGTTTACCCAAAGGGGGCCCCCA', 'AGCCCAGTTTTTACTTTGCTACCCGCTTGAGGTCGATCAGAGGGGGTGCG', 'ACTGGGACGGTTACTCTCCCATTGGATGTGAGAACACTAAAGATCTCTGT', 'ACTAGTTCCTTTCCACGGTCGACCGAACTCCGTGGACAGCGCGTCCATTT', 'AGTTGGCGACTCGGAACTCCACAACAGGCTTGATTCCTTGCCTGACCTTA', 'GGTAACGACCGAACTCCTTCTATTGATATGTCGTCTCGTATAGACAGGAC', 'TCCAGGGCGGAGCAGTGCAGTGAAAAACTTTCAGCACGGTCGATGTAACA', 'TGGTTAACGACCGAACTCCAGGGGCTCGTAACAGTTCTACGCAAACCTCG', 'TTGGCGACCGAACTCCGATGCCCCAACGACAAGGTGCTCGGACTGTGGAT', 'GATTTTACGGCCGGCTAGGGTTGTGATACGTATCACCATACGAGTAGCTG', 'ACGGGTTTTGGTCGCGACCGAACTCCCTAGTATAAGAGGAAGTTTCAGCA', 'GGGTGCCAAGTCGCATCACGCCGTTGTTGCTAAGAAGAACGTGAATTCAA', 'CCATGACCTTTACTGTTAAAATCGGCGTCACGACCGAACTCCGCATTGAA', 'TCGTTTCGTTCGGTACAATCGACCGAACTCCTTGGCAACCCAGATGTATA', 'GATGCGTTCCAGTCTCAGCTTAACGCTCACATGCACAAACACAGACCCTG', 'GAAGACTGAGGCTCGACCGAACTCCAACAATTAGTCCCTCCGGTAGAGGG', 'ACAAGAGTAGCGCATAAGCTCTAGCAAGCAGTATAGTGCACCTACAGTCG', 'CGTGAGGGGCCACTCCCTAGTTCCACTCCATTGGATTCAAGGCGAAGCCG', 'GGACCGACCGAACTCCAATTTAACGGGATAAAAGCTATTACCGGCAGAAA', 'AAGGGTTGGACGATGTCGACCGAACTCCGCTGTAGCCAACCACCTCATTC', 'AACACTGGGTCCCGACCGAACTCCCCCCTTGTCGAGCCACGTTGGGATAA', 'GCATTCGGATTGGTTTAAGCGTCAGACATTAGTCGACAGTTTTCCGGGAT', 'TTTCGCGGGGTCTATGGGTGATTATGGAATTTGAGACACAGTTTCTGGAT', 'GGTCGCTAGCACTAGGCGACCGAACTCCTGATAGAGGTAGACCATCGAGG', 'CATTGTATTGGATTCTCGGGCCCTGCGCCGTACGGCGATCGGGTGCTTCG', 'ATGACGGAATAGGCTCGCACGCGACCGAACTCCGCCTAAACTACGAGACC', 'GAGGGCAACGACCGAACTCCTCAGTGTCGAAGAACGGTCATGTGACCATT', 'CCACATTTACATTTTTATAATTGTACATACCCACCATCGGACATAAGCAG', 'TGTAGAGAGCTAGAGTCAGTCCGACCGAACTCCCGCTGATACGAATAGCC', 'TCCTTGGCCACCAGTAACTCTATCTTTCAGATGTTACTTTAGAGCTTAAG', 'ATCACCGGGATCGGTGCAGTCCACACCGACCGAACTCCTTCTGCGCGACA', 'TGACTTGACTGAAGAGGGACCTGTTTGTGAGGGCAGCGAATCGGCCTTTT', 'GTTGTCACGACCGAACTCCTGGCACAAATTCTTGCACTAGCGATGTCATA', 'GGCTTTCCGTAAGCGACCGAACTCCCCTGTGGGGTGGCTCCGTTGCGAAG', 'GGTGCTAAGGTCAGTGTACCACTCGAAGATTTGACGTAAGTGGCTCGGAA', 'GTCTCTTCTGAACTCCCGACCGAACTCCGTCCCATTGATGGGGCTGGGTA', 'CTGACCCGTCTAGATGCATCATCCGCTTCCCGCGCGCGACGGTTTTAGAT', 'ACGACCGAACTCCCCTGGCTGCATCGCCATAAATAGTGTGCAGGAATTGT', 'TGATGCTTCGGGGAGCGTTTTATTCAGCTTTATCCATTTAATCAACCTTT', 'GGGTCTCTCTATCGTAATGCCCGCGAATGCTGGATTCCGACCGAACTCCG', 'TATAGGTTCTTCTAGCCTGCATGTTAAACGCTGGTTCAATAGCATTATTG', 'GGGTACCGCACTCGACCGAACTCCCTTAAGGACTCCGATCCCCACGATCA', 'GAGAGTCTACTCGCTTTATTAGTCGGCCATCAAGAAAGCATGCAGCCTAT', 'ACGGACTAGATTGCTACTAAGGAGGTCTCTAGTCGGTGCTCAAGGCACGC', 'GTTAGCTGGTAGATTAAACAAACGCGAACCTCCAAACTATTCCAGCTCCT', 'GGGCTGCGACGCTCTGAGGTGCTACAGAGCCTCGTGATGGCTGCATTTTG', 'TGAGGCGATTATTGACGAGATCGTAGCCGACCGAACTCCATTGTCCGGCG', 'CGACCGAACTCCAGTCGGAGCGACCATCTCCAGCGCTGTGGTATAAGTCC', 'GCGACCGAACTCCATATTTAGTGGCGAATATATAATGCAGCCAGATTCTG', 'TCGGAACCGACCGAACTCCAATAGTTACGACTTAGAATGACCGTTGAACC', 'GAACACTGCGACCGAACTCCCAACAGAGGAGAACCTTAGACTAGGATTAG', 'ACGGATTGGACAAACAAATCTTGATAAATGCGAGCGACCGAACTCCCGAA', 'GGCATTGATACTCGGACGGTTTTACATCGTCCTATCAAAACCTCTGCTAA', 'TAAAGGCTCCTTTCGTAGGGGTCAACCGTAGGTACGAAGATATGATTAGC', 'GTCGCGCGGGTGCGGAGGATGAGTCGCAGACGCATTTATGTCGCCCCGAG', 'GTTCGCAGCGTATTGAGTAATGTTTGACTCGACCGAACTCCATATTGTCT', 'ACTCGCTGTCCACGTCTATTCCTAGGGGTTTTATTTCGCAAGGTGATACT', 'TGCAAAGGGGCGACCGAACTCCCTTTACCGCGGAGTTATTCATAATTGAA', 'AATGTCGACCGAACTCCGCACTGCTGGCCCGGGCCTATATCGAGAGTGAC', '']\n"
     ]
    }
   ],
   "source": [
    "SEQUENCES_URL = 'https://raw.githubusercontent.com/abidlabs/deep-learning-genomics-primer/master/sequences.txt'\n",
    "sequences = requests.get(SEQUENCES_URL).text.split('\\n')\n",
    "print(sequences)"
   ]
  },
  {
   "cell_type": "markdown",
   "metadata": {},
   "source": [
    "Library \"requests\" allow us to connect and download the original txt file hosted in github. \n",
    "\n",
    "See details here: https://requests.readthedocs.io/en/latest/user/quickstart/"
   ]
  },
  {
   "cell_type": "markdown",
   "metadata": {},
   "source": [
    "### Inspect the sequences obtained"
   ]
  },
  {
   "cell_type": "code",
   "execution_count": 5,
   "metadata": {},
   "outputs": [
    {
     "data": {
      "text/plain": [
       "list"
      ]
     },
     "execution_count": 5,
     "metadata": {},
     "output_type": "execute_result"
    }
   ],
   "source": [
    "type(sequences)"
   ]
  },
  {
   "cell_type": "code",
   "execution_count": 6,
   "metadata": {},
   "outputs": [
    {
     "data": {
      "text/plain": [
       "['CCGAGGGCTATGGTTTGGAAGTTAGAACCCTGGGGCTTCTCGCGGACACC',\n",
       " 'GAGTTTATATGGCGCGAGCCTAGTGGTTTTTGTACTTGTTTGTCGCGTCG',\n",
       " 'GATCAGTAGGGAAACAAACAGAGGGCCCAGCCACATCTAGCAGGTAGCCT',\n",
       " 'GTCCACGACCGAACTCCCACCTTGACCGCAGAGGTACCACCAGAGCCCTG',\n",
       " 'GGCGACCGAACTCCAACTAGAACCTGCATAACTGGCCTGGGAGATATGGT']"
      ]
     },
     "execution_count": 6,
     "metadata": {},
     "output_type": "execute_result"
    }
   ],
   "source": [
    "## just show the first 5 sequences\n",
    "sequences[:5]"
   ]
  },
  {
   "cell_type": "code",
   "execution_count": 7,
   "metadata": {},
   "outputs": [
    {
     "data": {
      "text/html": [
       "<div>\n",
       "<style scoped>\n",
       "    .dataframe tbody tr th:only-of-type {\n",
       "        vertical-align: middle;\n",
       "    }\n",
       "\n",
       "    .dataframe tbody tr th {\n",
       "        vertical-align: top;\n",
       "    }\n",
       "\n",
       "    .dataframe thead th {\n",
       "        text-align: right;\n",
       "    }\n",
       "</style>\n",
       "<table border=\"1\" class=\"dataframe\">\n",
       "  <thead>\n",
       "    <tr style=\"text-align: right;\">\n",
       "      <th></th>\n",
       "      <th>Sequences</th>\n",
       "    </tr>\n",
       "  </thead>\n",
       "  <tbody>\n",
       "    <tr>\n",
       "      <th>1</th>\n",
       "      <td>CCGAGGGCTATGGTTTGGAAGTTAGAACCCTGGGGCTTCTCGCGGA...</td>\n",
       "    </tr>\n",
       "    <tr>\n",
       "      <th>2</th>\n",
       "      <td>GAGTTTATATGGCGCGAGCCTAGTGGTTTTTGTACTTGTTTGTCGC...</td>\n",
       "    </tr>\n",
       "    <tr>\n",
       "      <th>3</th>\n",
       "      <td>GATCAGTAGGGAAACAAACAGAGGGCCCAGCCACATCTAGCAGGTA...</td>\n",
       "    </tr>\n",
       "    <tr>\n",
       "      <th>4</th>\n",
       "      <td>GTCCACGACCGAACTCCCACCTTGACCGCAGAGGTACCACCAGAGC...</td>\n",
       "    </tr>\n",
       "    <tr>\n",
       "      <th>5</th>\n",
       "      <td>GGCGACCGAACTCCAACTAGAACCTGCATAACTGGCCTGGGAGATA...</td>\n",
       "    </tr>\n",
       "  </tbody>\n",
       "</table>\n",
       "</div>"
      ],
      "text/plain": [
       "                                           Sequences\n",
       "1  CCGAGGGCTATGGTTTGGAAGTTAGAACCCTGGGGCTTCTCGCGGA...\n",
       "2  GAGTTTATATGGCGCGAGCCTAGTGGTTTTTGTACTTGTTTGTCGC...\n",
       "3  GATCAGTAGGGAAACAAACAGAGGGCCCAGCCACATCTAGCAGGTA...\n",
       "4  GTCCACGACCGAACTCCCACCTTGACCGCAGAGGTACCACCAGAGC...\n",
       "5  GGCGACCGAACTCCAACTAGAACCTGCATAACTGGCCTGGGAGATA..."
      ]
     },
     "execution_count": 7,
     "metadata": {},
     "output_type": "execute_result"
    }
   ],
   "source": [
    "# Another way to just print the first few sequences.\n",
    "pd.DataFrame(sequences, index=np.arange(1, len(sequences)+1), \n",
    "             columns=['Sequences']).head()"
   ]
  },
  {
   "cell_type": "code",
   "execution_count": 8,
   "metadata": {},
   "outputs": [
    {
     "data": {
      "text/plain": [
       "2001"
      ]
     },
     "execution_count": 8,
     "metadata": {},
     "output_type": "execute_result"
    }
   ],
   "source": [
    "len(sequences)"
   ]
  },
  {
   "cell_type": "code",
   "execution_count": 9,
   "metadata": {},
   "outputs": [
    {
     "data": {
      "text/plain": [
       "2000"
      ]
     },
     "execution_count": 9,
     "metadata": {},
     "output_type": "execute_result"
    }
   ],
   "source": [
    "# This removes empty sequences if any\n",
    "sequences = list(filter(None, sequences))  \n",
    "len(sequences)"
   ]
  },
  {
   "cell_type": "markdown",
   "metadata": {},
   "source": [
    "### Organize the data in tensors"
   ]
  },
  {
   "cell_type": "markdown",
   "metadata": {
    "colab_type": "text",
    "id": "bzsbNHqWiFek"
   },
   "source": [
    "The next  step is to organize the data into a format that can be passed into a deep learning algorithm. Most deep learning algorithms accept data in the form of vectors or matrices (or more generally, [tensors](https://www.kdnuggets.com/2018/05/wtf-tensor.html)). \n",
    "\n",
    "To get each DNA sequence in the form of a matrix, we use **_one-hot encoding_**, which encodes every base in a sequence in the form of a 4-dimensional vector, with a separate dimension for each base. We place a \"1\" in the dimension corresponding to the base found in the DNA sequence, and \"0\"s in all other slots. We then concatenate these 4-dimensional vectors together along the bases in the sequence to form a matrix. \n",
    "\n"
   ]
  },
  {
   "cell_type": "markdown",
   "metadata": {},
   "source": [
    "#### 1) Load and initiate appropriate objects"
   ]
  },
  {
   "cell_type": "code",
   "execution_count": 10,
   "metadata": {
    "colab": {
     "base_uri": "https://localhost:8080/",
     "height": 170
    },
    "colab_type": "code",
    "id": "IPJD6PuDnaS6",
    "outputId": "9d405c43-efa0-4e80-a19d-272986f5ee8e"
   },
   "outputs": [],
   "source": [
    "## 1) Load modules and create objects\n",
    "from sklearn.preprocessing import LabelEncoder, OneHotEncoder\n",
    "\n",
    "integer_encoder = LabelEncoder()  ## we just create an object of class LabelEncoder\n",
    "one_hot_encoder = OneHotEncoder(categories='auto')    ## we just create an object of class OneHotEnconder\n"
   ]
  },
  {
   "cell_type": "markdown",
   "metadata": {},
   "source": [
    "The [LabelEncoder](https://scikit-learn.org/1.4/modules/generated/sklearn.preprocessing.LabelEncoder.html) object encodes a sequence of bases as a sequence of integers.\n"
   ]
  },
  {
   "cell_type": "markdown",
   "metadata": {},
   "source": [
    "The [OneHotEncoder](https://scikit-learn.org/1.4/modules/generated/sklearn.preprocessing.OneHotEncoder.html) converts an array of integers to a sparse matrix where each row corresponds to one possible value of each feature."
   ]
  },
  {
   "cell_type": "markdown",
   "metadata": {},
   "source": [
    "#### 2a) Hot-one encode example sequences"
   ]
  },
  {
   "cell_type": "markdown",
   "metadata": {},
   "source": [
    "In the cells below, we one-hot encode the simulated DNA sequences, and show an example of what the one-hot encoded sequence looks like:"
   ]
  },
  {
   "cell_type": "code",
   "execution_count": 11,
   "metadata": {},
   "outputs": [
    {
     "name": "stdout",
     "output_type": "stream",
     "text": [
      "## Original sequence\n",
      " A C G T\n"
     ]
    }
   ],
   "source": [
    "## See and example for ACGT bases\n",
    "my_substring = \"ACGT\"\n",
    "\n",
    "## print separated by \" \" for better visualization\n",
    "print(\"## Original sequence\")\n",
    "print(\" \" + \" \".join(list(my_substring)))"
   ]
  },
  {
   "cell_type": "code",
   "execution_count": 12,
   "metadata": {},
   "outputs": [
    {
     "name": "stdout",
     "output_type": "stream",
     "text": [
      "## Fit the transformation using LabelEncoder\n",
      "[0 1 2 3]\n",
      "<class 'numpy.ndarray'>\n",
      "## -- ##\n",
      "\n"
     ]
    }
   ],
   "source": [
    "## fit the transformation: \n",
    "print(\"## Fit the transformation using LabelEncoder\")\n",
    "integer_encoded = integer_encoder.fit_transform(list(my_substring))\n",
    "print(integer_encoded)\n",
    "print(type(integer_encoded))\n",
    "print(\"## -- ##\\n\")"
   ]
  },
  {
   "cell_type": "code",
   "execution_count": 13,
   "metadata": {},
   "outputs": [
    {
     "name": "stdout",
     "output_type": "stream",
     "text": [
      "## Reshape/Transpose\n",
      "[[0]\n",
      " [1]\n",
      " [2]\n",
      " [3]]\n",
      "<class 'numpy.ndarray'>\n",
      "## -- ##\n",
      "\n"
     ]
    }
   ],
   "source": [
    "## Reshape or transpose the transformation: \n",
    "print(\"## Reshape/Transpose\")\n",
    "integer_encoded = np.array(integer_encoded).reshape(-1, 1)\n",
    "print(integer_encoded)\n",
    "print(type(integer_encoded))    \n",
    "print(\"## -- ##\\n\")"
   ]
  },
  {
   "cell_type": "code",
   "execution_count": 14,
   "metadata": {},
   "outputs": [
    {
     "name": "stdout",
     "output_type": "stream",
     "text": [
      "## Fit the transformation using OneHotEncoder\n",
      "  (0, 0)\t1.0\n",
      "  (1, 1)\t1.0\n",
      "  (2, 2)\t1.0\n",
      "  (3, 3)\t1.0\n",
      "<class 'scipy.sparse._csr.csr_matrix'>\n",
      "## -- ##\n",
      "\n"
     ]
    }
   ],
   "source": [
    "## fit the transformation: One-hot encode\n",
    "print(\"## Fit the transformation using OneHotEncoder\")\n",
    "one_hot_encoded = one_hot_encoder.fit_transform(integer_encoded)\n",
    "print(one_hot_encoded)\n",
    "print(type(one_hot_encoded))    \n",
    "print(\"## -- ##\\n\")"
   ]
  },
  {
   "cell_type": "code",
   "execution_count": 15,
   "metadata": {},
   "outputs": [
    {
     "name": "stdout",
     "output_type": "stream",
     "text": [
      "## Convert to numpy array, stack label alphabetically and transpose\n",
      "[[1. 0. 0. 0.]\n",
      " [0. 1. 0. 0.]\n",
      " [0. 0. 1. 0.]\n",
      " [0. 0. 0. 1.]]\n",
      "## -- ##\n",
      "\n",
      "## Original sequence\n",
      " A C G T\n"
     ]
    }
   ],
   "source": [
    "## Create and stacked array\n",
    "print(\"## Convert to numpy array, stack label alphabetically and transpose\")   \n",
    "print(np.stack(one_hot_encoded.toarray()).T)   \n",
    "print(\"## -- ##\\n\")\n",
    "\n",
    "## just to have it around again\n",
    "print(\"## Original sequence\")\n",
    "print(\" \" + \" \".join(list(my_substring)))"
   ]
  },
  {
   "cell_type": "markdown",
   "metadata": {},
   "source": [
    "In the cell above, we have **one-hot encode** the simulated DNA sequences, and showed an example of what the one-hot encoded sequence looks like. "
   ]
  },
  {
   "cell_type": "markdown",
   "metadata": {},
   "source": [
    "**ATTENTION**: I will create a function for better reproducibility of the results and to later see the same output with different transformations\n"
   ]
  },
  {
   "cell_type": "code",
   "execution_count": 16,
   "metadata": {},
   "outputs": [],
   "source": [
    "## create a function with the different visualization of transformations \n",
    "def print_example_transformation(my_substring, bases2show=10):\n",
    "    my_substring = my_substring[:bases2show]\n",
    "    \n",
    "    ## print separated by \" \" for better visualization\n",
    "    print(\"## Original sequence\")\n",
    "    print(\" \" + \" \".join(list(my_substring)))\n",
    "\n",
    "    ## fit the transformation: \n",
    "    print(\"## Fit the transformation using LabelEncoder\")\n",
    "    integer_encoded = integer_encoder.fit_transform(list(my_substring))\n",
    "    print(integer_encoded)\n",
    "    print(type(integer_encoded))\n",
    "    print(\"## -- ##\\n\")\n",
    "    \n",
    "    ## Reshape or transpose the transformation: \n",
    "    print(\"## Reshape\")\n",
    "    integer_encoded = np.array(integer_encoded).reshape(-1, 1)\n",
    "    print(integer_encoded)\n",
    "    print(type(integer_encoded))    \n",
    "    print(\"## -- ##\\n\")\n",
    "    \n",
    "    ## fit the transformation: One-hot encode\n",
    "    print(\"## Fit the transformation using OneHotEncoder\")\n",
    "    one_hot_encoded = one_hot_encoder.fit_transform(integer_encoded)\n",
    "    print(one_hot_encoded)\n",
    "    print(type(one_hot_encoded))    \n",
    "    print(\"## -- ##\\n\")\n",
    "\n",
    "    ## Create and stacked array\n",
    "    print(\"## Convert to numpy array, stack label alphabetically and transpose\")   \n",
    "    print(np.stack(one_hot_encoded.toarray()).T)   \n",
    "    print(\"## -- ##\\n\")\n",
    "    \n",
    "    print(\"## Original sequence\")\n",
    "    print(\" \" + \" \".join(list(my_substring)))    "
   ]
  },
  {
   "cell_type": "code",
   "execution_count": 17,
   "metadata": {},
   "outputs": [
    {
     "name": "stdout",
     "output_type": "stream",
     "text": [
      "## Original sequence\n",
      " A C G T\n",
      "## Fit the transformation using LabelEncoder\n",
      "[0 1 2 3]\n",
      "<class 'numpy.ndarray'>\n",
      "## -- ##\n",
      "\n",
      "## Reshape\n",
      "[[0]\n",
      " [1]\n",
      " [2]\n",
      " [3]]\n",
      "<class 'numpy.ndarray'>\n",
      "## -- ##\n",
      "\n",
      "## Fit the transformation using OneHotEncoder\n",
      "  (0, 0)\t1.0\n",
      "  (1, 1)\t1.0\n",
      "  (2, 2)\t1.0\n",
      "  (3, 3)\t1.0\n",
      "<class 'scipy.sparse._csr.csr_matrix'>\n",
      "## -- ##\n",
      "\n",
      "## Convert to numpy array, stack label alphabetically and transpose\n",
      "[[1. 0. 0. 0.]\n",
      " [0. 1. 0. 0.]\n",
      " [0. 0. 1. 0.]\n",
      " [0. 0. 0. 1.]]\n",
      "## -- ##\n",
      "\n",
      "## Original sequence\n",
      " A C G T\n"
     ]
    }
   ],
   "source": [
    "## See and example for ACGT bases\n",
    "my_substring = \"ACGT\"\n",
    "print_example_transformation(my_substring)"
   ]
  },
  {
   "cell_type": "code",
   "execution_count": 18,
   "metadata": {},
   "outputs": [
    {
     "name": "stdout",
     "output_type": "stream",
     "text": [
      "## Original sequence\n",
      " C C G A G G G C T A\n",
      "## Fit the transformation using LabelEncoder\n",
      "[1 1 2 0 2 2 2 1 3 0]\n",
      "<class 'numpy.ndarray'>\n",
      "## -- ##\n",
      "\n",
      "## Reshape\n",
      "[[1]\n",
      " [1]\n",
      " [2]\n",
      " [0]\n",
      " [2]\n",
      " [2]\n",
      " [2]\n",
      " [1]\n",
      " [3]\n",
      " [0]]\n",
      "<class 'numpy.ndarray'>\n",
      "## -- ##\n",
      "\n",
      "## Fit the transformation using OneHotEncoder\n",
      "  (0, 1)\t1.0\n",
      "  (1, 1)\t1.0\n",
      "  (2, 2)\t1.0\n",
      "  (3, 0)\t1.0\n",
      "  (4, 2)\t1.0\n",
      "  (5, 2)\t1.0\n",
      "  (6, 2)\t1.0\n",
      "  (7, 1)\t1.0\n",
      "  (8, 3)\t1.0\n",
      "  (9, 0)\t1.0\n",
      "<class 'scipy.sparse._csr.csr_matrix'>\n",
      "## -- ##\n",
      "\n",
      "## Convert to numpy array, stack label alphabetically and transpose\n",
      "[[0. 0. 0. 1. 0. 0. 0. 0. 0. 1.]\n",
      " [1. 1. 0. 0. 0. 0. 0. 1. 0. 0.]\n",
      " [0. 0. 1. 0. 1. 1. 1. 0. 0. 0.]\n",
      " [0. 0. 0. 0. 0. 0. 0. 0. 1. 0.]]\n",
      "## -- ##\n",
      "\n",
      "## Original sequence\n",
      " C C G A G G G C T A\n"
     ]
    }
   ],
   "source": [
    "## See another example for the first bases of the first sequence:\n",
    "my_substring = sequences[0][:10]\n",
    "print_example_transformation(my_substring)"
   ]
  },
  {
   "cell_type": "code",
   "execution_count": 19,
   "metadata": {},
   "outputs": [
    {
     "name": "stdout",
     "output_type": "stream",
     "text": [
      "## Original sequence\n",
      " C C C G T T G C C T C A T C T A T T T T A G T T C T C G A C\n",
      "## Fit the transformation using LabelEncoder\n",
      "[1 1 1 2 3 3 2 1 1 3 1 0 3 1 3 0 3 3 3 3 0 2 3 3 1 3 1 2 0 1]\n",
      "<class 'numpy.ndarray'>\n",
      "## -- ##\n",
      "\n",
      "## Reshape\n",
      "[[1]\n",
      " [1]\n",
      " [1]\n",
      " [2]\n",
      " [3]\n",
      " [3]\n",
      " [2]\n",
      " [1]\n",
      " [1]\n",
      " [3]\n",
      " [1]\n",
      " [0]\n",
      " [3]\n",
      " [1]\n",
      " [3]\n",
      " [0]\n",
      " [3]\n",
      " [3]\n",
      " [3]\n",
      " [3]\n",
      " [0]\n",
      " [2]\n",
      " [3]\n",
      " [3]\n",
      " [1]\n",
      " [3]\n",
      " [1]\n",
      " [2]\n",
      " [0]\n",
      " [1]]\n",
      "<class 'numpy.ndarray'>\n",
      "## -- ##\n",
      "\n",
      "## Fit the transformation using OneHotEncoder\n",
      "  (0, 1)\t1.0\n",
      "  (1, 1)\t1.0\n",
      "  (2, 1)\t1.0\n",
      "  (3, 2)\t1.0\n",
      "  (4, 3)\t1.0\n",
      "  (5, 3)\t1.0\n",
      "  (6, 2)\t1.0\n",
      "  (7, 1)\t1.0\n",
      "  (8, 1)\t1.0\n",
      "  (9, 3)\t1.0\n",
      "  (10, 1)\t1.0\n",
      "  (11, 0)\t1.0\n",
      "  (12, 3)\t1.0\n",
      "  (13, 1)\t1.0\n",
      "  (14, 3)\t1.0\n",
      "  (15, 0)\t1.0\n",
      "  (16, 3)\t1.0\n",
      "  (17, 3)\t1.0\n",
      "  (18, 3)\t1.0\n",
      "  (19, 3)\t1.0\n",
      "  (20, 0)\t1.0\n",
      "  (21, 2)\t1.0\n",
      "  (22, 3)\t1.0\n",
      "  (23, 3)\t1.0\n",
      "  (24, 1)\t1.0\n",
      "  (25, 3)\t1.0\n",
      "  (26, 1)\t1.0\n",
      "  (27, 2)\t1.0\n",
      "  (28, 0)\t1.0\n",
      "  (29, 1)\t1.0\n",
      "<class 'scipy.sparse._csr.csr_matrix'>\n",
      "## -- ##\n",
      "\n",
      "## Convert to numpy array, stack label alphabetically and transpose\n",
      "[[0. 0. 0. 0. 0. 0. 0. 0. 0. 0. 0. 1. 0. 0. 0. 1. 0. 0. 0. 0. 1. 0. 0. 0.\n",
      "  0. 0. 0. 0. 1. 0.]\n",
      " [1. 1. 1. 0. 0. 0. 0. 1. 1. 0. 1. 0. 0. 1. 0. 0. 0. 0. 0. 0. 0. 0. 0. 0.\n",
      "  1. 0. 1. 0. 0. 1.]\n",
      " [0. 0. 0. 1. 0. 0. 1. 0. 0. 0. 0. 0. 0. 0. 0. 0. 0. 0. 0. 0. 0. 1. 0. 0.\n",
      "  0. 0. 0. 1. 0. 0.]\n",
      " [0. 0. 0. 0. 1. 1. 0. 0. 0. 1. 0. 0. 1. 0. 1. 0. 1. 1. 1. 1. 0. 0. 1. 1.\n",
      "  0. 1. 0. 0. 0. 0.]]\n",
      "## -- ##\n",
      "\n",
      "## Original sequence\n",
      " C C C G T T G C C T C A T C T A T T T T A G T T C T C G A C\n"
     ]
    }
   ],
   "source": [
    "## now another example using the argument of the function\n",
    "print_example_transformation(sequences[10], bases2show=30)"
   ]
  },
  {
   "cell_type": "markdown",
   "metadata": {},
   "source": [
    "Now, loop for each sequence and encode the simulated DNA sequence as desired"
   ]
  },
  {
   "cell_type": "markdown",
   "metadata": {},
   "source": [
    "#### 2b) Hot-one encode all sequences "
   ]
  },
  {
   "cell_type": "markdown",
   "metadata": {},
   "source": [
    "Now, it is time to one-hot encode all sequences available for later processing."
   ]
  },
  {
   "cell_type": "code",
   "execution_count": 20,
   "metadata": {},
   "outputs": [],
   "source": [
    "# just load modules and create objects again just in case\n",
    "from sklearn.preprocessing import LabelEncoder, OneHotEncoder\n",
    "integer_encoder = LabelEncoder()  \n",
    "one_hot_encoder = OneHotEncoder(categories='auto') "
   ]
  },
  {
   "cell_type": "code",
   "execution_count": 21,
   "metadata": {},
   "outputs": [],
   "source": [
    "## 2) one-hot encode the simulated DNA sequence\n",
    "input_features = []\n",
    "for sequence in sequences:\n",
    "    integer_encoded = integer_encoder.fit_transform(list(sequence))\n",
    "    integer_encoded = np.array(integer_encoded).reshape(-1, 1)\n",
    "    one_hot_encoded = one_hot_encoder.fit_transform(integer_encoded)\n",
    "    input_features.append(one_hot_encoded.toarray())\n",
    "\n",
    "## convert to numpy array\n",
    "np.set_printoptions(threshold=40)\n",
    "input_features = np.stack(input_features)"
   ]
  },
  {
   "cell_type": "code",
   "execution_count": 69,
   "metadata": {},
   "outputs": [
    {
     "data": {
      "text/plain": [
       "(2000, 50, 4)"
      ]
     },
     "execution_count": 69,
     "metadata": {},
     "output_type": "execute_result"
    }
   ],
   "source": [
    "input_features.shape"
   ]
  },
  {
   "cell_type": "code",
   "execution_count": 22,
   "metadata": {},
   "outputs": [
    {
     "name": "stdout",
     "output_type": "stream",
     "text": [
      "Example sequence\n",
      "-----------------------\n",
      "DNA Sequence #1:\n",
      " CCGAGGGCTA ... CGCGGACACC\n",
      "One hot encoding of Sequence #1:\n",
      " [[0. 0. 0. ... 1. 0. 0.]\n",
      " [1. 1. 0. ... 0. 1. 1.]\n",
      " [0. 0. 1. ... 0. 0. 0.]\n",
      " [0. 0. 0. ... 0. 0. 0.]]\n"
     ]
    }
   ],
   "source": [
    "## show another example of the encoding\n",
    "print(\"Example sequence\\n-----------------------\")\n",
    "print('DNA Sequence #1:\\n',sequences[0][:10],'...',sequences[0][-10:])\n",
    "print('One hot encoding of Sequence #1:\\n',input_features[0].T)"
   ]
  },
  {
   "cell_type": "code",
   "execution_count": 23,
   "metadata": {},
   "outputs": [
    {
     "data": {
      "text/plain": [
       "array([[0., 0., 1., 0.],\n",
       "       [1., 0., 0., 0.],\n",
       "       [0., 0., 1., 0.],\n",
       "       ...,\n",
       "       [0., 0., 0., 1.],\n",
       "       [0., 1., 0., 0.],\n",
       "       [0., 0., 1., 0.]])"
      ]
     },
     "execution_count": 23,
     "metadata": {},
     "output_type": "execute_result"
    }
   ],
   "source": [
    "## inspect\n",
    "input_features[1]"
   ]
  },
  {
   "cell_type": "code",
   "execution_count": 24,
   "metadata": {},
   "outputs": [
    {
     "data": {
      "text/plain": [
       "numpy.ndarray"
      ]
     },
     "execution_count": 24,
     "metadata": {},
     "output_type": "execute_result"
    }
   ],
   "source": [
    "type(input_features)"
   ]
  },
  {
   "cell_type": "code",
   "execution_count": 25,
   "metadata": {},
   "outputs": [
    {
     "data": {
      "text/plain": [
       "2000"
      ]
     },
     "execution_count": 25,
     "metadata": {},
     "output_type": "execute_result"
    }
   ],
   "source": [
    "len(input_features)"
   ]
  },
  {
   "cell_type": "code",
   "execution_count": 26,
   "metadata": {},
   "outputs": [
    {
     "data": {
      "text/plain": [
       "numpy.ndarray"
      ]
     },
     "execution_count": 26,
     "metadata": {},
     "output_type": "execute_result"
    }
   ],
   "source": [
    "type(input_features)"
   ]
  },
  {
   "cell_type": "code",
   "execution_count": 27,
   "metadata": {},
   "outputs": [
    {
     "data": {
      "text/plain": [
       "400000"
      ]
     },
     "execution_count": 27,
     "metadata": {},
     "output_type": "execute_result"
    }
   ],
   "source": [
    "input_features.size"
   ]
  },
  {
   "cell_type": "code",
   "execution_count": 28,
   "metadata": {},
   "outputs": [
    {
     "data": {
      "text/plain": [
       "(2000, 50, 4)"
      ]
     },
     "execution_count": 28,
     "metadata": {},
     "output_type": "execute_result"
    }
   ],
   "source": [
    "input_features.shape"
   ]
  },
  {
   "cell_type": "code",
   "execution_count": 29,
   "metadata": {},
   "outputs": [
    {
     "data": {
      "text/plain": [
       "3"
      ]
     },
     "execution_count": 29,
     "metadata": {},
     "output_type": "execute_result"
    }
   ],
   "source": [
    "input_features.ndim"
   ]
  },
  {
   "cell_type": "markdown",
   "metadata": {},
   "source": [
    "The _input_features_ is the object containing the information from DNA sequences one-hot encoded to use as input for the neural network. It is stored as tensor (numpy array)"
   ]
  },
  {
   "cell_type": "markdown",
   "metadata": {},
   "source": [
    "#### 3) Get information for each sequence"
   ]
  },
  {
   "cell_type": "markdown",
   "metadata": {
    "colab_type": "text",
    "id": "AbBmrEVGrahN"
   },
   "source": [
    "Similarly, we can go ahead and load the labels (_response variables_). In this case, the labels are structured as follows: \n",
    "- a \"1\" indicates that a protein bound to the sequence, while\n",
    "- a \"0\" indicates that the protein did not.\n",
    "\n",
    "While we could use the labels as a vector, it is often easier to similarly **one-hot encode the labels**, as we did the features. We carry out that here:"
   ]
  },
  {
   "cell_type": "code",
   "execution_count": 30,
   "metadata": {
    "colab": {
     "base_uri": "https://localhost:8080/",
     "height": 102
    },
    "colab_type": "code",
    "id": "IA9FJeQkr1Ze",
    "outputId": "3a4449a0-96ba-4d55-8658-1b6f025b3fd8"
   },
   "outputs": [
    {
     "name": "stdout",
     "output_type": "stream",
     "text": [
      "['0', '0', '0', '1', '1', '1', '1', '0', '0', '0', '1', '0', '1', '1', '0', '0', '0', '0', '1', '1', '0', '1', '1', '1', '1']\n"
     ]
    }
   ],
   "source": [
    "## download information from original website\n",
    "LABELS_URL = 'https://raw.githubusercontent.com/abidlabs/deep-learning-genomics-primer/master/labels.txt'\n",
    "\n",
    "labels = requests.get(LABELS_URL).text.split('\\n')\n",
    "labels = list(filter(None, labels))  # removes empty sequences\n",
    "\n",
    "print(labels[:25])"
   ]
  },
  {
   "cell_type": "code",
   "execution_count": 31,
   "metadata": {},
   "outputs": [
    {
     "data": {
      "text/plain": [
       "2000"
      ]
     },
     "execution_count": 31,
     "metadata": {},
     "output_type": "execute_result"
    }
   ],
   "source": [
    "len(labels)"
   ]
  },
  {
   "cell_type": "code",
   "execution_count": 32,
   "metadata": {},
   "outputs": [
    {
     "name": "stdout",
     "output_type": "stream",
     "text": [
      "Labels:\n",
      " [['0' '0' '0' ... '0' '1' '1']]\n",
      "One-hot encoded labels:\n",
      " [[1. 1. 1. ... 1. 0. 0.]\n",
      " [0. 0. 0. ... 0. 1. 1.]]\n"
     ]
    }
   ],
   "source": [
    "one_hot_encoder = OneHotEncoder(categories='auto')\n",
    "labels = np.array(labels).reshape(-1, 1)\n",
    "input_labels = one_hot_encoder.fit_transform(labels).toarray()\n",
    "\n",
    "print('Labels:\\n',labels.T)\n",
    "print('One-hot encoded labels:\\n',input_labels.T)"
   ]
  },
  {
   "cell_type": "markdown",
   "metadata": {},
   "source": [
    "### Prepare the training and test sets"
   ]
  },
  {
   "cell_type": "markdown",
   "metadata": {
    "colab_type": "text",
    "id": "MTokFzDZvQR-"
   },
   "source": [
    "We also go ahead and split the data into training and test sets. The purpose of the test set is to ensure that we can observe the performance of the model on new data, not seen previously during training. \n",
    "\n",
    "At a later step, we will further partition the training set into a training and validation set.\n",
    "\n",
    "We will be using function [train_test_split](https://scikit-learn.org/dev/modules/generated/sklearn.model_selection.train_test_split.html) that quickly splits arrays or matrices into random train and test subsets.\n",
    "\n",
    "\n",
    "\n"
   ]
  },
  {
   "cell_type": "markdown",
   "metadata": {},
   "source": [
    "\n",
    "Provided parameters are:\n",
    "- **Arrays**: Allowed inputs are lists, numpy arrays, scipy-sparse matrices or pandas dataframes. We provide **input_features** and **input_labels**\n",
    "- **test_size**: Value between 0.0 and 1.0 that represents the proportion of the dataset to include in the test split.\n",
    "- **random_state**: Controls the shuffling applied to the data before applying the split. Pass an int for reproducible output across multiple function calls\n",
    "\n",
    "Return values are list containing train-test split of inputs."
   ]
  },
  {
   "cell_type": "code",
   "execution_count": 70,
   "metadata": {
    "colab": {},
    "colab_type": "code",
    "id": "P_7LKgvc3Lnn"
   },
   "outputs": [],
   "source": [
    "## load package and split the input information: sequences and labels, as tensors\n",
    "from sklearn.model_selection import train_test_split\n",
    "\n",
    "train_features, test_features, train_labels, test_labels = train_test_split(\n",
    "    input_features, input_labels, test_size=0.25, random_state=123)"
   ]
  },
  {
   "cell_type": "markdown",
   "metadata": {},
   "source": [
    "**ATTENTION**: Create a simple function to check multiple parameters of tensors created"
   ]
  },
  {
   "cell_type": "code",
   "execution_count": 34,
   "metadata": {},
   "outputs": [],
   "source": [
    "def check_arrays(array_given):\n",
    "    print(\"## Type:\")\n",
    "    print(type(array_given))\n",
    "    \n",
    "    print(\"## Number dimensions:\")\n",
    "    print(array_given.ndim)\n",
    "    \n",
    "    print(\"## Shape:\")\n",
    "    print(array_given.shape)\n",
    "\n",
    "    print(\"## Size:\")\n",
    "    print(array_given.size)\n",
    "    "
   ]
  },
  {
   "cell_type": "code",
   "execution_count": 35,
   "metadata": {},
   "outputs": [
    {
     "name": "stdout",
     "output_type": "stream",
     "text": [
      "## Type:\n",
      "<class 'numpy.ndarray'>\n",
      "## Number dimensions:\n",
      "3\n",
      "## Shape:\n",
      "(1500, 50, 4)\n",
      "## Size:\n",
      "300000\n"
     ]
    }
   ],
   "source": [
    "check_arrays(train_features)"
   ]
  },
  {
   "cell_type": "code",
   "execution_count": 36,
   "metadata": {},
   "outputs": [
    {
     "name": "stdout",
     "output_type": "stream",
     "text": [
      "## Type:\n",
      "<class 'numpy.ndarray'>\n",
      "## Number dimensions:\n",
      "2\n",
      "## Shape:\n",
      "(1500, 2)\n",
      "## Size:\n",
      "3000\n"
     ]
    }
   ],
   "source": [
    "check_arrays(train_labels)"
   ]
  },
  {
   "cell_type": "code",
   "execution_count": 37,
   "metadata": {},
   "outputs": [
    {
     "name": "stdout",
     "output_type": "stream",
     "text": [
      "## Type:\n",
      "<class 'numpy.ndarray'>\n",
      "## Number dimensions:\n",
      "3\n",
      "## Shape:\n",
      "(500, 50, 4)\n",
      "## Size:\n",
      "100000\n"
     ]
    }
   ],
   "source": [
    "check_arrays(test_features)"
   ]
  },
  {
   "cell_type": "code",
   "execution_count": 38,
   "metadata": {},
   "outputs": [
    {
     "name": "stdout",
     "output_type": "stream",
     "text": [
      "## Type:\n",
      "<class 'numpy.ndarray'>\n",
      "## Number dimensions:\n",
      "2\n",
      "## Shape:\n",
      "(500, 2)\n",
      "## Size:\n",
      "1000\n"
     ]
    }
   ],
   "source": [
    "check_arrays(test_labels)"
   ]
  },
  {
   "cell_type": "markdown",
   "metadata": {
    "colab_type": "text",
    "id": "7LQp2ZFrg6dm"
   },
   "source": [
    "## 2. Select the Architecture and Train"
   ]
  },
  {
   "cell_type": "markdown",
   "metadata": {
    "colab_type": "text",
    "id": "xBT6Q3j-sjhh"
   },
   "source": [
    "![alt text](https://github.com/abidlabs/deep-learning-genomics-primer/blob/master/Screenshot%20from%202018-08-01%2020-31-49.png?raw=true)"
   ]
  },
  {
   "cell_type": "markdown",
   "metadata": {
    "colab_type": "text",
    "id": "krHJgtK_rzif"
   },
   "source": [
    "Next, we choose a neural network architecture to [train the model](https://www.geeksforgeeks.org/implementing-neural-networks-using-tensorflow/). In this tutorial, we choose a simple 1D convolutional neural network (CNN), which is commonly used in deep learning for functional genomics applications.\n",
    "\n",
    "A CNN learns to recognize patterns that are generally invariant across space, by trying to match the input sequence to a number of learnable \"filters\" of a fixed size. In our dataset, the filters will be motifs within the DNA sequences. The CNN may then learn to combine these filters to recognize a larger structure (e.g. the presence or absence of a transcription factor binding site). \n",
    "\n",
    "We will use the deep learning library `Keras`. As of 2017, `Keras` has been integrated into `TensorFlow`,  which makes it very easy to construct neural networks. We only need to specify the kinds of layers we would like to include in our network, and the dimensionality of each layer. "
   ]
  },
  {
   "cell_type": "markdown",
   "metadata": {},
   "source": [
    "### Naïve example"
   ]
  },
  {
   "cell_type": "markdown",
   "metadata": {},
   "source": [
    "First, you can try using the linear model, since the neural network basically follows the same ‘math’ as regression you can create a linear model using a neural network as follows :"
   ]
  },
  {
   "cell_type": "code",
   "execution_count": 71,
   "metadata": {
    "colab": {
     "base_uri": "https://localhost:8080/",
     "height": 377
    },
    "colab_type": "code",
    "id": "dU3imaIns80_",
    "outputId": "851993e7-b2f6-43fd-f061-65e5abd7d76a"
   },
   "outputs": [],
   "source": [
    "## Load modules\n",
    "from tensorflow.keras.layers import Conv1D, Dense, MaxPooling1D, Flatten\n",
    "from tensorflow.keras.models import Sequential"
   ]
  },
  {
   "cell_type": "code",
   "execution_count": 40,
   "metadata": {},
   "outputs": [
    {
     "name": "stdout",
     "output_type": "stream",
     "text": [
      "Model: \"sequential\"\n",
      "_________________________________________________________________\n",
      " Layer (type)                Output Shape              Param #   \n",
      "=================================================================\n",
      " dense (Dense)               (None, 1)                 51        \n",
      "                                                                 \n",
      "=================================================================\n",
      "Total params: 51\n",
      "Trainable params: 51\n",
      "Non-trainable params: 0\n",
      "_________________________________________________________________\n"
     ]
    }
   ],
   "source": [
    "linear_model = Sequential()\n",
    "linear_model.add(Dense(units=1, input_shape=[train_features.shape[1]]))\n",
    "\n",
    "linear_model.summary()"
   ]
  },
  {
   "cell_type": "markdown",
   "metadata": {},
   "source": [
    "### CNN Model"
   ]
  },
  {
   "cell_type": "markdown",
   "metadata": {},
   "source": [
    "But this is basically a linear model, what if your dataset is a bit more complex, and the relations between the features are much more diverse and you want a non-linear model? What do you need? The answer is [Activation Functions](https://www.geeksforgeeks.org/activation-functions-neural-networks/). This is where neural networks truly start to shine. \n",
    "\n",
    "We will not go in-depth about activation functions here but basically, these add/introduce non-linearity to our model, the more you use them the more complex patterns our model can find. An activation function determines the output of a neuron in a neural network by adding non-linearity, enabling the network to learn complex patterns from the data.\n",
    "\n"
   ]
  },
  {
   "cell_type": "markdown",
   "metadata": {},
   "source": [
    "The CNN we generate in this example consists of the following layers:\n",
    "\n",
    "- _Conv1D_: We define our convolutional layer to have 32 filters of size 12 bases.\n",
    "\n",
    "- _MaxPooling1D_: After the convolution, we use a pooling layer to down-sample the output of the each of the 32 convolutional filters. Though not always required, this is a typical form of non-linear down-sampling used in CNNs.\n",
    "\n",
    "- _Flatten_: This layer flattens the output of the max pooling layer, combining the results of the convolution and pooling layers across all 32 filters. \n",
    "\n",
    "- _Dense_: The first Dense tensor creates a layer (dense_1) that compresses the representation of the flattened layer, resulting in smaller layer with 16 tensors, and the second Dense function converges the tensors into the output layer (dense_2) that consists of the two possible response values (0 or 1).\n",
    "\n",
    "We can see the details of the architecture of the neural network we have created by running `model.summary()`, which prints the dimensionality and number of parameters for each layer in our network. "
   ]
  },
  {
   "cell_type": "code",
   "execution_count": 74,
   "metadata": {},
   "outputs": [],
   "source": [
    "model_CNN = Sequential()\n",
    "model_CNN.add(Conv1D(filters=32, kernel_size=12, \n",
    "                 input_shape=(train_features.shape[1], 4)))\n",
    "model_CNN.add(MaxPooling1D(pool_size=4))\n",
    "model_CNN.add(Flatten())\n",
    "model_CNN.add(Dense(16, activation='relu')) ## relu (rectified linear unit) \n",
    "model_CNN.add(Dense(2, activation='softmax'))"
   ]
  },
  {
   "cell_type": "code",
   "execution_count": 42,
   "metadata": {},
   "outputs": [
    {
     "data": {
      "text/plain": [
       "(50, 4)"
      ]
     },
     "execution_count": 42,
     "metadata": {},
     "output_type": "execute_result"
    }
   ],
   "source": [
    "(train_features.shape[1], 4)"
   ]
  },
  {
   "cell_type": "code",
   "execution_count": 75,
   "metadata": {},
   "outputs": [
    {
     "data": {
      "text/plain": [
       "keras.engine.sequential.Sequential"
      ]
     },
     "execution_count": 75,
     "metadata": {},
     "output_type": "execute_result"
    }
   ],
   "source": [
    "type(model_CNN)"
   ]
  },
  {
   "cell_type": "markdown",
   "metadata": {},
   "source": [
    "In Keras after you create your model, you need to ‘compile’ other parameters for it, like it’s shown below. This is kind of like us setting all the parameters for our model.\n",
    "\n"
   ]
  },
  {
   "cell_type": "code",
   "execution_count": 76,
   "metadata": {},
   "outputs": [],
   "source": [
    "# adam optimizer works pretty well for\n",
    "# all kinds of problems and is a good starting point\n",
    "model_CNN.compile(loss='binary_crossentropy', optimizer='adam', \n",
    "              metrics=['binary_accuracy'])\n",
    "\n",
    "## as metrics we required the binary_accuraccy as we are have a categorical variable.\n",
    "## We might use the mean absolute error if we have a continuous variable\n"
   ]
  },
  {
   "cell_type": "code",
   "execution_count": 78,
   "metadata": {},
   "outputs": [
    {
     "name": "stdout",
     "output_type": "stream",
     "text": [
      "Model: \"sequential_4\"\n",
      "_________________________________________________________________\n",
      " Layer (type)                Output Shape              Param #   \n",
      "=================================================================\n",
      " conv1d_3 (Conv1D)           (None, 39, 32)            1568      \n",
      "                                                                 \n",
      " max_pooling1d_3 (MaxPooling  (None, 9, 32)            0         \n",
      " 1D)                                                             \n",
      "                                                                 \n",
      " flatten_3 (Flatten)         (None, 288)               0         \n",
      "                                                                 \n",
      " dense_7 (Dense)             (None, 16)                4624      \n",
      "                                                                 \n",
      " dense_8 (Dense)             (None, 2)                 34        \n",
      "                                                                 \n",
      "=================================================================\n",
      "Total params: 6,226\n",
      "Trainable params: 6,226\n",
      "Non-trainable params: 0\n",
      "_________________________________________________________________\n"
     ]
    }
   ],
   "source": [
    "model_CNN.summary()"
   ]
  },
  {
   "cell_type": "markdown",
   "metadata": {
    "colab_type": "text",
    "id": "qSOUwoG_vHRA"
   },
   "source": [
    "Now, we are ready to go ahead and train the neural network. We will further divide the training set into a training and validation set. "
   ]
  },
  {
   "cell_type": "code",
   "execution_count": 81,
   "metadata": {
    "colab": {
     "base_uri": "https://localhost:8080/",
     "height": 447
    },
    "colab_type": "code",
    "id": "LSOmHIM83hXO",
    "outputId": "1bfe5b1d-73ad-4c18-e343-7bcd51b6d3fc"
   },
   "outputs": [
    {
     "name": "stdout",
     "output_type": "stream",
     "text": [
      "Epoch 1/200\n",
      "36/36 [==============================] - 0s 6ms/step - loss: 0.0015 - binary_accuracy: 1.0000 - val_loss: 0.1033 - val_binary_accuracy: 0.9733\n",
      "Epoch 2/200\n",
      "36/36 [==============================] - 0s 4ms/step - loss: 0.0014 - binary_accuracy: 1.0000 - val_loss: 0.0975 - val_binary_accuracy: 0.9760\n",
      "Epoch 3/200\n",
      "36/36 [==============================] - 0s 4ms/step - loss: 0.0014 - binary_accuracy: 1.0000 - val_loss: 0.0988 - val_binary_accuracy: 0.9760\n",
      "Epoch 4/200\n",
      "36/36 [==============================] - 0s 5ms/step - loss: 0.0013 - binary_accuracy: 1.0000 - val_loss: 0.0982 - val_binary_accuracy: 0.9733\n",
      "Epoch 5/200\n",
      "36/36 [==============================] - 0s 4ms/step - loss: 0.0012 - binary_accuracy: 1.0000 - val_loss: 0.1032 - val_binary_accuracy: 0.9733\n",
      "Epoch 6/200\n",
      "36/36 [==============================] - 0s 4ms/step - loss: 0.0012 - binary_accuracy: 1.0000 - val_loss: 0.1003 - val_binary_accuracy: 0.9733\n",
      "Epoch 7/200\n",
      "36/36 [==============================] - 0s 4ms/step - loss: 0.0011 - binary_accuracy: 1.0000 - val_loss: 0.0931 - val_binary_accuracy: 0.9707\n",
      "Epoch 8/200\n",
      "36/36 [==============================] - 0s 4ms/step - loss: 0.0011 - binary_accuracy: 1.0000 - val_loss: 0.1073 - val_binary_accuracy: 0.9733\n",
      "Epoch 9/200\n",
      "36/36 [==============================] - 0s 4ms/step - loss: 0.0011 - binary_accuracy: 1.0000 - val_loss: 0.0992 - val_binary_accuracy: 0.9733\n",
      "Epoch 10/200\n",
      "36/36 [==============================] - 0s 4ms/step - loss: 9.6885e-04 - binary_accuracy: 1.0000 - val_loss: 0.1021 - val_binary_accuracy: 0.9733\n",
      "Epoch 11/200\n",
      "36/36 [==============================] - 0s 4ms/step - loss: 9.1848e-04 - binary_accuracy: 1.0000 - val_loss: 0.0995 - val_binary_accuracy: 0.9733\n",
      "Epoch 12/200\n",
      "36/36 [==============================] - 0s 4ms/step - loss: 8.7193e-04 - binary_accuracy: 1.0000 - val_loss: 0.1019 - val_binary_accuracy: 0.9733\n",
      "Epoch 13/200\n",
      "36/36 [==============================] - 0s 4ms/step - loss: 8.4775e-04 - binary_accuracy: 1.0000 - val_loss: 0.0977 - val_binary_accuracy: 0.9733\n",
      "Epoch 14/200\n",
      "36/36 [==============================] - 0s 4ms/step - loss: 8.0557e-04 - binary_accuracy: 1.0000 - val_loss: 0.1065 - val_binary_accuracy: 0.9733\n",
      "Epoch 15/200\n",
      "36/36 [==============================] - 0s 4ms/step - loss: 7.6937e-04 - binary_accuracy: 1.0000 - val_loss: 0.1008 - val_binary_accuracy: 0.9733\n",
      "Epoch 16/200\n",
      "36/36 [==============================] - 0s 4ms/step - loss: 7.3092e-04 - binary_accuracy: 1.0000 - val_loss: 0.1048 - val_binary_accuracy: 0.9733\n",
      "Epoch 17/200\n",
      "36/36 [==============================] - 0s 5ms/step - loss: 7.1328e-04 - binary_accuracy: 1.0000 - val_loss: 0.1011 - val_binary_accuracy: 0.9733\n",
      "Epoch 18/200\n",
      "36/36 [==============================] - 0s 5ms/step - loss: 6.7698e-04 - binary_accuracy: 1.0000 - val_loss: 0.1032 - val_binary_accuracy: 0.9733\n",
      "Epoch 19/200\n",
      "36/36 [==============================] - 0s 5ms/step - loss: 6.4023e-04 - binary_accuracy: 1.0000 - val_loss: 0.1010 - val_binary_accuracy: 0.9733\n",
      "Epoch 20/200\n",
      "36/36 [==============================] - 0s 4ms/step - loss: 6.2458e-04 - binary_accuracy: 1.0000 - val_loss: 0.1008 - val_binary_accuracy: 0.9733\n",
      "Epoch 21/200\n",
      "36/36 [==============================] - 0s 5ms/step - loss: 6.0939e-04 - binary_accuracy: 1.0000 - val_loss: 0.1034 - val_binary_accuracy: 0.9733\n",
      "Epoch 22/200\n",
      "36/36 [==============================] - 0s 5ms/step - loss: 5.7354e-04 - binary_accuracy: 1.0000 - val_loss: 0.1044 - val_binary_accuracy: 0.9733\n",
      "Epoch 23/200\n",
      "36/36 [==============================] - 0s 5ms/step - loss: 5.5241e-04 - binary_accuracy: 1.0000 - val_loss: 0.1051 - val_binary_accuracy: 0.9707\n",
      "Epoch 24/200\n",
      "36/36 [==============================] - 0s 4ms/step - loss: 5.3181e-04 - binary_accuracy: 1.0000 - val_loss: 0.1041 - val_binary_accuracy: 0.9733\n",
      "Epoch 25/200\n",
      "36/36 [==============================] - 0s 5ms/step - loss: 5.0775e-04 - binary_accuracy: 1.0000 - val_loss: 0.1082 - val_binary_accuracy: 0.9733\n",
      "Epoch 26/200\n",
      "36/36 [==============================] - 0s 4ms/step - loss: 4.8626e-04 - binary_accuracy: 1.0000 - val_loss: 0.1043 - val_binary_accuracy: 0.9733\n",
      "Epoch 27/200\n",
      "36/36 [==============================] - 0s 4ms/step - loss: 4.7678e-04 - binary_accuracy: 1.0000 - val_loss: 0.1068 - val_binary_accuracy: 0.9707\n",
      "Epoch 28/200\n",
      "36/36 [==============================] - 0s 4ms/step - loss: 4.5487e-04 - binary_accuracy: 1.0000 - val_loss: 0.1117 - val_binary_accuracy: 0.9733\n",
      "Epoch 29/200\n",
      "36/36 [==============================] - 0s 5ms/step - loss: 4.4440e-04 - binary_accuracy: 1.0000 - val_loss: 0.1096 - val_binary_accuracy: 0.9707\n",
      "Epoch 30/200\n",
      "36/36 [==============================] - 0s 4ms/step - loss: 4.2894e-04 - binary_accuracy: 1.0000 - val_loss: 0.1068 - val_binary_accuracy: 0.9733\n",
      "Epoch 31/200\n",
      "36/36 [==============================] - 0s 4ms/step - loss: 4.0486e-04 - binary_accuracy: 1.0000 - val_loss: 0.1124 - val_binary_accuracy: 0.9733\n",
      "Epoch 32/200\n",
      "36/36 [==============================] - 0s 4ms/step - loss: 3.9085e-04 - binary_accuracy: 1.0000 - val_loss: 0.1108 - val_binary_accuracy: 0.9707\n",
      "Epoch 33/200\n",
      "36/36 [==============================] - 0s 5ms/step - loss: 3.7853e-04 - binary_accuracy: 1.0000 - val_loss: 0.1130 - val_binary_accuracy: 0.9707\n",
      "Epoch 34/200\n",
      "36/36 [==============================] - 0s 4ms/step - loss: 3.5779e-04 - binary_accuracy: 1.0000 - val_loss: 0.1141 - val_binary_accuracy: 0.9707\n",
      "Epoch 35/200\n",
      "36/36 [==============================] - 0s 4ms/step - loss: 3.7281e-04 - binary_accuracy: 1.0000 - val_loss: 0.1132 - val_binary_accuracy: 0.9707\n",
      "Epoch 36/200\n",
      "36/36 [==============================] - 0s 5ms/step - loss: 3.2907e-04 - binary_accuracy: 1.0000 - val_loss: 0.1113 - val_binary_accuracy: 0.9707\n",
      "Epoch 37/200\n",
      "36/36 [==============================] - 0s 5ms/step - loss: 3.1926e-04 - binary_accuracy: 1.0000 - val_loss: 0.1127 - val_binary_accuracy: 0.9707\n",
      "Epoch 38/200\n",
      "36/36 [==============================] - 0s 4ms/step - loss: 3.1875e-04 - binary_accuracy: 1.0000 - val_loss: 0.1139 - val_binary_accuracy: 0.9707\n",
      "Epoch 39/200\n",
      "36/36 [==============================] - 0s 4ms/step - loss: 2.9359e-04 - binary_accuracy: 1.0000 - val_loss: 0.1138 - val_binary_accuracy: 0.9707\n",
      "Epoch 40/200\n",
      "36/36 [==============================] - 0s 5ms/step - loss: 2.8288e-04 - binary_accuracy: 1.0000 - val_loss: 0.1138 - val_binary_accuracy: 0.9707\n",
      "Epoch 41/200\n",
      "36/36 [==============================] - 0s 4ms/step - loss: 2.7447e-04 - binary_accuracy: 1.0000 - val_loss: 0.1152 - val_binary_accuracy: 0.9707\n",
      "Epoch 42/200\n",
      "36/36 [==============================] - 0s 4ms/step - loss: 2.6132e-04 - binary_accuracy: 1.0000 - val_loss: 0.1115 - val_binary_accuracy: 0.9707\n",
      "Epoch 43/200\n",
      "36/36 [==============================] - 0s 5ms/step - loss: 2.5978e-04 - binary_accuracy: 1.0000 - val_loss: 0.1124 - val_binary_accuracy: 0.9707\n",
      "Epoch 44/200\n",
      "36/36 [==============================] - 0s 4ms/step - loss: 2.4346e-04 - binary_accuracy: 1.0000 - val_loss: 0.1196 - val_binary_accuracy: 0.9707\n",
      "Epoch 45/200\n",
      "36/36 [==============================] - 0s 4ms/step - loss: 2.3957e-04 - binary_accuracy: 1.0000 - val_loss: 0.1170 - val_binary_accuracy: 0.9707\n",
      "Epoch 46/200\n",
      "36/36 [==============================] - 0s 4ms/step - loss: 2.2801e-04 - binary_accuracy: 1.0000 - val_loss: 0.1171 - val_binary_accuracy: 0.9707\n",
      "Epoch 47/200\n",
      "36/36 [==============================] - 0s 5ms/step - loss: 2.1658e-04 - binary_accuracy: 1.0000 - val_loss: 0.1161 - val_binary_accuracy: 0.9707\n",
      "Epoch 48/200\n",
      "36/36 [==============================] - 0s 5ms/step - loss: 2.1058e-04 - binary_accuracy: 1.0000 - val_loss: 0.1218 - val_binary_accuracy: 0.9707\n",
      "Epoch 49/200\n",
      "36/36 [==============================] - 0s 5ms/step - loss: 2.0261e-04 - binary_accuracy: 1.0000 - val_loss: 0.1119 - val_binary_accuracy: 0.9707\n",
      "Epoch 50/200\n",
      "36/36 [==============================] - 0s 5ms/step - loss: 2.0105e-04 - binary_accuracy: 1.0000 - val_loss: 0.1138 - val_binary_accuracy: 0.9707\n",
      "Epoch 51/200\n",
      "36/36 [==============================] - 0s 5ms/step - loss: 1.9026e-04 - binary_accuracy: 1.0000 - val_loss: 0.1188 - val_binary_accuracy: 0.9707\n",
      "Epoch 52/200\n",
      "36/36 [==============================] - 0s 5ms/step - loss: 1.7943e-04 - binary_accuracy: 1.0000 - val_loss: 0.1158 - val_binary_accuracy: 0.9680\n",
      "Epoch 53/200\n",
      "36/36 [==============================] - 0s 5ms/step - loss: 1.7538e-04 - binary_accuracy: 1.0000 - val_loss: 0.1175 - val_binary_accuracy: 0.9680\n",
      "Epoch 54/200\n",
      "36/36 [==============================] - 0s 4ms/step - loss: 1.6536e-04 - binary_accuracy: 1.0000 - val_loss: 0.1220 - val_binary_accuracy: 0.9707\n",
      "Epoch 55/200\n",
      "36/36 [==============================] - 0s 4ms/step - loss: 1.5972e-04 - binary_accuracy: 1.0000 - val_loss: 0.1209 - val_binary_accuracy: 0.9707\n",
      "Epoch 56/200\n",
      "36/36 [==============================] - 0s 4ms/step - loss: 1.5552e-04 - binary_accuracy: 1.0000 - val_loss: 0.1245 - val_binary_accuracy: 0.9707\n",
      "Epoch 57/200\n",
      "36/36 [==============================] - 0s 4ms/step - loss: 1.5282e-04 - binary_accuracy: 1.0000 - val_loss: 0.1237 - val_binary_accuracy: 0.9707\n",
      "Epoch 58/200\n",
      "36/36 [==============================] - 0s 4ms/step - loss: 1.4702e-04 - binary_accuracy: 1.0000 - val_loss: 0.1233 - val_binary_accuracy: 0.9707\n",
      "Epoch 59/200\n",
      "36/36 [==============================] - 0s 4ms/step - loss: 1.3848e-04 - binary_accuracy: 1.0000 - val_loss: 0.1172 - val_binary_accuracy: 0.9707\n",
      "Epoch 60/200\n",
      "36/36 [==============================] - 0s 4ms/step - loss: 1.3462e-04 - binary_accuracy: 1.0000 - val_loss: 0.1177 - val_binary_accuracy: 0.9707\n",
      "Epoch 61/200\n",
      "36/36 [==============================] - 0s 5ms/step - loss: 1.3282e-04 - binary_accuracy: 1.0000 - val_loss: 0.1241 - val_binary_accuracy: 0.9707\n",
      "Epoch 62/200\n",
      "36/36 [==============================] - 0s 5ms/step - loss: 1.2770e-04 - binary_accuracy: 1.0000 - val_loss: 0.1222 - val_binary_accuracy: 0.9680\n",
      "Epoch 63/200\n",
      "36/36 [==============================] - 0s 4ms/step - loss: 1.1882e-04 - binary_accuracy: 1.0000 - val_loss: 0.1205 - val_binary_accuracy: 0.9707\n",
      "Epoch 64/200\n",
      "36/36 [==============================] - 0s 5ms/step - loss: 1.1481e-04 - binary_accuracy: 1.0000 - val_loss: 0.1228 - val_binary_accuracy: 0.9680\n",
      "Epoch 65/200\n",
      "36/36 [==============================] - 0s 4ms/step - loss: 1.0959e-04 - binary_accuracy: 1.0000 - val_loss: 0.1227 - val_binary_accuracy: 0.9680\n",
      "Epoch 66/200\n",
      "36/36 [==============================] - 0s 5ms/step - loss: 1.0574e-04 - binary_accuracy: 1.0000 - val_loss: 0.1235 - val_binary_accuracy: 0.9680\n",
      "Epoch 67/200\n",
      "36/36 [==============================] - 0s 4ms/step - loss: 1.0101e-04 - binary_accuracy: 1.0000 - val_loss: 0.1318 - val_binary_accuracy: 0.9707\n",
      "Epoch 68/200\n",
      "36/36 [==============================] - 0s 5ms/step - loss: 1.0072e-04 - binary_accuracy: 1.0000 - val_loss: 0.1271 - val_binary_accuracy: 0.9680\n",
      "Epoch 69/200\n",
      "36/36 [==============================] - 0s 5ms/step - loss: 9.5335e-05 - binary_accuracy: 1.0000 - val_loss: 0.1268 - val_binary_accuracy: 0.9680\n",
      "Epoch 70/200\n",
      "36/36 [==============================] - 0s 5ms/step - loss: 9.1749e-05 - binary_accuracy: 1.0000 - val_loss: 0.1310 - val_binary_accuracy: 0.9707\n",
      "Epoch 71/200\n",
      "36/36 [==============================] - 0s 6ms/step - loss: 8.8788e-05 - binary_accuracy: 1.0000 - val_loss: 0.1270 - val_binary_accuracy: 0.9680\n",
      "Epoch 72/200\n",
      "36/36 [==============================] - 0s 4ms/step - loss: 8.4378e-05 - binary_accuracy: 1.0000 - val_loss: 0.1259 - val_binary_accuracy: 0.9680\n",
      "Epoch 73/200\n",
      "36/36 [==============================] - 0s 4ms/step - loss: 8.1603e-05 - binary_accuracy: 1.0000 - val_loss: 0.1301 - val_binary_accuracy: 0.9707\n",
      "Epoch 74/200\n",
      "36/36 [==============================] - 0s 5ms/step - loss: 7.7787e-05 - binary_accuracy: 1.0000 - val_loss: 0.1240 - val_binary_accuracy: 0.9707\n",
      "Epoch 75/200\n",
      "36/36 [==============================] - 0s 5ms/step - loss: 7.6273e-05 - binary_accuracy: 1.0000 - val_loss: 0.1301 - val_binary_accuracy: 0.9680\n",
      "Epoch 76/200\n",
      "36/36 [==============================] - 0s 5ms/step - loss: 7.3709e-05 - binary_accuracy: 1.0000 - val_loss: 0.1295 - val_binary_accuracy: 0.9680\n",
      "Epoch 77/200\n",
      "36/36 [==============================] - 0s 6ms/step - loss: 7.0784e-05 - binary_accuracy: 1.0000 - val_loss: 0.1318 - val_binary_accuracy: 0.9680\n",
      "Epoch 78/200\n",
      "36/36 [==============================] - 0s 5ms/step - loss: 6.8237e-05 - binary_accuracy: 1.0000 - val_loss: 0.1293 - val_binary_accuracy: 0.9680\n",
      "Epoch 79/200\n",
      "36/36 [==============================] - 0s 6ms/step - loss: 6.5094e-05 - binary_accuracy: 1.0000 - val_loss: 0.1288 - val_binary_accuracy: 0.9680\n",
      "Epoch 80/200\n",
      "36/36 [==============================] - 0s 5ms/step - loss: 6.5029e-05 - binary_accuracy: 1.0000 - val_loss: 0.1324 - val_binary_accuracy: 0.9680\n",
      "Epoch 81/200\n",
      "36/36 [==============================] - 0s 6ms/step - loss: 6.0519e-05 - binary_accuracy: 1.0000 - val_loss: 0.1280 - val_binary_accuracy: 0.9707\n",
      "Epoch 82/200\n",
      "36/36 [==============================] - 0s 5ms/step - loss: 5.8808e-05 - binary_accuracy: 1.0000 - val_loss: 0.1299 - val_binary_accuracy: 0.9707\n",
      "Epoch 83/200\n",
      "36/36 [==============================] - 0s 5ms/step - loss: 5.6515e-05 - binary_accuracy: 1.0000 - val_loss: 0.1321 - val_binary_accuracy: 0.9680\n",
      "Epoch 84/200\n",
      "36/36 [==============================] - 0s 5ms/step - loss: 5.4454e-05 - binary_accuracy: 1.0000 - val_loss: 0.1301 - val_binary_accuracy: 0.9707\n",
      "Epoch 85/200\n",
      "36/36 [==============================] - 0s 5ms/step - loss: 5.2501e-05 - binary_accuracy: 1.0000 - val_loss: 0.1349 - val_binary_accuracy: 0.9680\n",
      "Epoch 86/200\n",
      "36/36 [==============================] - 0s 5ms/step - loss: 5.0536e-05 - binary_accuracy: 1.0000 - val_loss: 0.1317 - val_binary_accuracy: 0.9707\n",
      "Epoch 87/200\n",
      "36/36 [==============================] - 0s 5ms/step - loss: 4.9729e-05 - binary_accuracy: 1.0000 - val_loss: 0.1386 - val_binary_accuracy: 0.9707\n",
      "Epoch 88/200\n",
      "36/36 [==============================] - 0s 5ms/step - loss: 4.7022e-05 - binary_accuracy: 1.0000 - val_loss: 0.1311 - val_binary_accuracy: 0.9707\n",
      "Epoch 89/200\n",
      "36/36 [==============================] - 0s 5ms/step - loss: 4.6427e-05 - binary_accuracy: 1.0000 - val_loss: 0.1393 - val_binary_accuracy: 0.9680\n",
      "Epoch 90/200\n",
      "36/36 [==============================] - 0s 4ms/step - loss: 4.4734e-05 - binary_accuracy: 1.0000 - val_loss: 0.1365 - val_binary_accuracy: 0.9680\n",
      "Epoch 91/200\n",
      "36/36 [==============================] - 0s 4ms/step - loss: 4.2635e-05 - binary_accuracy: 1.0000 - val_loss: 0.1354 - val_binary_accuracy: 0.9680\n",
      "Epoch 92/200\n",
      "36/36 [==============================] - 0s 4ms/step - loss: 4.0860e-05 - binary_accuracy: 1.0000 - val_loss: 0.1333 - val_binary_accuracy: 0.9707\n",
      "Epoch 93/200\n",
      "36/36 [==============================] - 0s 5ms/step - loss: 3.9769e-05 - binary_accuracy: 1.0000 - val_loss: 0.1344 - val_binary_accuracy: 0.9707\n",
      "Epoch 94/200\n",
      "36/36 [==============================] - 0s 5ms/step - loss: 3.8326e-05 - binary_accuracy: 1.0000 - val_loss: 0.1342 - val_binary_accuracy: 0.9707\n",
      "Epoch 95/200\n",
      "36/36 [==============================] - 0s 5ms/step - loss: 3.7096e-05 - binary_accuracy: 1.0000 - val_loss: 0.1349 - val_binary_accuracy: 0.9707\n",
      "Epoch 96/200\n",
      "36/36 [==============================] - 0s 5ms/step - loss: 3.5755e-05 - binary_accuracy: 1.0000 - val_loss: 0.1397 - val_binary_accuracy: 0.9680\n",
      "Epoch 97/200\n",
      "36/36 [==============================] - 0s 4ms/step - loss: 3.4584e-05 - binary_accuracy: 1.0000 - val_loss: 0.1373 - val_binary_accuracy: 0.9680\n",
      "Epoch 98/200\n",
      "36/36 [==============================] - 0s 4ms/step - loss: 3.3811e-05 - binary_accuracy: 1.0000 - val_loss: 0.1421 - val_binary_accuracy: 0.9680\n",
      "Epoch 99/200\n",
      "36/36 [==============================] - 0s 4ms/step - loss: 3.2164e-05 - binary_accuracy: 1.0000 - val_loss: 0.1404 - val_binary_accuracy: 0.9680\n",
      "Epoch 100/200\n",
      "36/36 [==============================] - 0s 4ms/step - loss: 3.1041e-05 - binary_accuracy: 1.0000 - val_loss: 0.1420 - val_binary_accuracy: 0.9680\n",
      "Epoch 101/200\n",
      "36/36 [==============================] - 0s 5ms/step - loss: 2.9750e-05 - binary_accuracy: 1.0000 - val_loss: 0.1425 - val_binary_accuracy: 0.9680\n",
      "Epoch 102/200\n",
      "36/36 [==============================] - 0s 5ms/step - loss: 2.8584e-05 - binary_accuracy: 1.0000 - val_loss: 0.1405 - val_binary_accuracy: 0.9680\n",
      "Epoch 103/200\n",
      "36/36 [==============================] - 0s 4ms/step - loss: 2.7754e-05 - binary_accuracy: 1.0000 - val_loss: 0.1405 - val_binary_accuracy: 0.9680\n",
      "Epoch 104/200\n",
      "36/36 [==============================] - 0s 5ms/step - loss: 2.6689e-05 - binary_accuracy: 1.0000 - val_loss: 0.1408 - val_binary_accuracy: 0.9680\n",
      "Epoch 105/200\n",
      "36/36 [==============================] - 0s 5ms/step - loss: 2.5922e-05 - binary_accuracy: 1.0000 - val_loss: 0.1419 - val_binary_accuracy: 0.9680\n",
      "Epoch 106/200\n",
      "36/36 [==============================] - 0s 5ms/step - loss: 2.4926e-05 - binary_accuracy: 1.0000 - val_loss: 0.1405 - val_binary_accuracy: 0.9680\n",
      "Epoch 107/200\n",
      "36/36 [==============================] - 0s 5ms/step - loss: 2.4059e-05 - binary_accuracy: 1.0000 - val_loss: 0.1480 - val_binary_accuracy: 0.9680\n",
      "Epoch 108/200\n",
      "36/36 [==============================] - 0s 6ms/step - loss: 2.3645e-05 - binary_accuracy: 1.0000 - val_loss: 0.1418 - val_binary_accuracy: 0.9680\n",
      "Epoch 109/200\n",
      "36/36 [==============================] - 0s 5ms/step - loss: 2.2721e-05 - binary_accuracy: 1.0000 - val_loss: 0.1422 - val_binary_accuracy: 0.9680\n",
      "Epoch 110/200\n",
      "36/36 [==============================] - 0s 5ms/step - loss: 2.1833e-05 - binary_accuracy: 1.0000 - val_loss: 0.1460 - val_binary_accuracy: 0.9680\n",
      "Epoch 111/200\n",
      "36/36 [==============================] - 0s 4ms/step - loss: 2.1316e-05 - binary_accuracy: 1.0000 - val_loss: 0.1475 - val_binary_accuracy: 0.9680\n",
      "Epoch 112/200\n",
      "36/36 [==============================] - 0s 4ms/step - loss: 2.0822e-05 - binary_accuracy: 1.0000 - val_loss: 0.1476 - val_binary_accuracy: 0.9680\n",
      "Epoch 113/200\n",
      "36/36 [==============================] - 0s 4ms/step - loss: 2.0231e-05 - binary_accuracy: 1.0000 - val_loss: 0.1467 - val_binary_accuracy: 0.9680\n",
      "Epoch 114/200\n",
      "36/36 [==============================] - 0s 5ms/step - loss: 1.9169e-05 - binary_accuracy: 1.0000 - val_loss: 0.1468 - val_binary_accuracy: 0.9680\n",
      "Epoch 115/200\n",
      "36/36 [==============================] - 0s 5ms/step - loss: 1.8781e-05 - binary_accuracy: 1.0000 - val_loss: 0.1451 - val_binary_accuracy: 0.9680\n",
      "Epoch 116/200\n",
      "36/36 [==============================] - 0s 4ms/step - loss: 1.7951e-05 - binary_accuracy: 1.0000 - val_loss: 0.1490 - val_binary_accuracy: 0.9680\n",
      "Epoch 117/200\n",
      "36/36 [==============================] - 0s 5ms/step - loss: 1.7495e-05 - binary_accuracy: 1.0000 - val_loss: 0.1485 - val_binary_accuracy: 0.9680\n",
      "Epoch 118/200\n",
      "36/36 [==============================] - 0s 6ms/step - loss: 1.6978e-05 - binary_accuracy: 1.0000 - val_loss: 0.1492 - val_binary_accuracy: 0.9680\n",
      "Epoch 119/200\n",
      "36/36 [==============================] - 0s 6ms/step - loss: 1.6418e-05 - binary_accuracy: 1.0000 - val_loss: 0.1492 - val_binary_accuracy: 0.9680\n",
      "Epoch 120/200\n",
      "36/36 [==============================] - 0s 4ms/step - loss: 1.5895e-05 - binary_accuracy: 1.0000 - val_loss: 0.1453 - val_binary_accuracy: 0.9680\n",
      "Epoch 121/200\n",
      "36/36 [==============================] - 0s 4ms/step - loss: 1.5918e-05 - binary_accuracy: 1.0000 - val_loss: 0.1501 - val_binary_accuracy: 0.9680\n",
      "Epoch 122/200\n",
      "36/36 [==============================] - 0s 4ms/step - loss: 1.4756e-05 - binary_accuracy: 1.0000 - val_loss: 0.1471 - val_binary_accuracy: 0.9680\n",
      "Epoch 123/200\n",
      "36/36 [==============================] - 0s 5ms/step - loss: 1.4488e-05 - binary_accuracy: 1.0000 - val_loss: 0.1507 - val_binary_accuracy: 0.9680\n",
      "Epoch 124/200\n",
      "36/36 [==============================] - 0s 5ms/step - loss: 1.4216e-05 - binary_accuracy: 1.0000 - val_loss: 0.1515 - val_binary_accuracy: 0.9680\n",
      "Epoch 125/200\n",
      "36/36 [==============================] - 0s 4ms/step - loss: 1.3372e-05 - binary_accuracy: 1.0000 - val_loss: 0.1476 - val_binary_accuracy: 0.9680\n",
      "Epoch 126/200\n",
      "36/36 [==============================] - 0s 5ms/step - loss: 1.3133e-05 - binary_accuracy: 1.0000 - val_loss: 0.1480 - val_binary_accuracy: 0.9680\n",
      "Epoch 127/200\n",
      "36/36 [==============================] - 0s 5ms/step - loss: 1.2651e-05 - binary_accuracy: 1.0000 - val_loss: 0.1523 - val_binary_accuracy: 0.9680\n",
      "Epoch 128/200\n",
      "36/36 [==============================] - 0s 5ms/step - loss: 1.2269e-05 - binary_accuracy: 1.0000 - val_loss: 0.1482 - val_binary_accuracy: 0.9680\n",
      "Epoch 129/200\n",
      "36/36 [==============================] - 0s 4ms/step - loss: 1.2009e-05 - binary_accuracy: 1.0000 - val_loss: 0.1533 - val_binary_accuracy: 0.9680\n",
      "Epoch 130/200\n",
      "36/36 [==============================] - 0s 4ms/step - loss: 1.1528e-05 - binary_accuracy: 1.0000 - val_loss: 0.1512 - val_binary_accuracy: 0.9680\n",
      "Epoch 131/200\n",
      "36/36 [==============================] - 0s 5ms/step - loss: 1.1224e-05 - binary_accuracy: 1.0000 - val_loss: 0.1510 - val_binary_accuracy: 0.9680\n",
      "Epoch 132/200\n",
      "36/36 [==============================] - 0s 5ms/step - loss: 1.0842e-05 - binary_accuracy: 1.0000 - val_loss: 0.1540 - val_binary_accuracy: 0.9680\n",
      "Epoch 133/200\n",
      "36/36 [==============================] - 0s 4ms/step - loss: 1.0508e-05 - binary_accuracy: 1.0000 - val_loss: 0.1506 - val_binary_accuracy: 0.9680\n",
      "Epoch 134/200\n",
      "36/36 [==============================] - 0s 4ms/step - loss: 1.0216e-05 - binary_accuracy: 1.0000 - val_loss: 0.1531 - val_binary_accuracy: 0.9680\n",
      "Epoch 135/200\n",
      "36/36 [==============================] - 0s 5ms/step - loss: 9.8887e-06 - binary_accuracy: 1.0000 - val_loss: 0.1570 - val_binary_accuracy: 0.9680\n",
      "Epoch 136/200\n",
      "36/36 [==============================] - 0s 5ms/step - loss: 9.7871e-06 - binary_accuracy: 1.0000 - val_loss: 0.1532 - val_binary_accuracy: 0.9680\n",
      "Epoch 137/200\n",
      "36/36 [==============================] - 0s 5ms/step - loss: 9.3139e-06 - binary_accuracy: 1.0000 - val_loss: 0.1540 - val_binary_accuracy: 0.9680\n",
      "Epoch 138/200\n",
      "36/36 [==============================] - 0s 5ms/step - loss: 9.1128e-06 - binary_accuracy: 1.0000 - val_loss: 0.1504 - val_binary_accuracy: 0.9707\n",
      "Epoch 139/200\n",
      "36/36 [==============================] - 0s 4ms/step - loss: 8.6978e-06 - binary_accuracy: 1.0000 - val_loss: 0.1559 - val_binary_accuracy: 0.9680\n",
      "Epoch 140/200\n",
      "36/36 [==============================] - 0s 5ms/step - loss: 8.7166e-06 - binary_accuracy: 1.0000 - val_loss: 0.1543 - val_binary_accuracy: 0.9680\n",
      "Epoch 141/200\n",
      "36/36 [==============================] - 0s 6ms/step - loss: 8.4717e-06 - binary_accuracy: 1.0000 - val_loss: 0.1537 - val_binary_accuracy: 0.9680\n",
      "Epoch 142/200\n",
      "36/36 [==============================] - 0s 4ms/step - loss: 7.9692e-06 - binary_accuracy: 1.0000 - val_loss: 0.1568 - val_binary_accuracy: 0.9680\n",
      "Epoch 143/200\n",
      "36/36 [==============================] - 0s 4ms/step - loss: 7.8048e-06 - binary_accuracy: 1.0000 - val_loss: 0.1550 - val_binary_accuracy: 0.9680\n",
      "Epoch 144/200\n",
      "36/36 [==============================] - 0s 6ms/step - loss: 7.6495e-06 - binary_accuracy: 1.0000 - val_loss: 0.1535 - val_binary_accuracy: 0.9680\n",
      "Epoch 145/200\n",
      "36/36 [==============================] - 0s 4ms/step - loss: 7.4172e-06 - binary_accuracy: 1.0000 - val_loss: 0.1563 - val_binary_accuracy: 0.9680\n",
      "Epoch 146/200\n",
      "36/36 [==============================] - 0s 5ms/step - loss: 7.2006e-06 - binary_accuracy: 1.0000 - val_loss: 0.1583 - val_binary_accuracy: 0.9680\n",
      "Epoch 147/200\n",
      "36/36 [==============================] - 0s 5ms/step - loss: 6.9273e-06 - binary_accuracy: 1.0000 - val_loss: 0.1565 - val_binary_accuracy: 0.9680\n",
      "Epoch 148/200\n",
      "36/36 [==============================] - 0s 4ms/step - loss: 6.8213e-06 - binary_accuracy: 1.0000 - val_loss: 0.1563 - val_binary_accuracy: 0.9680\n",
      "Epoch 149/200\n",
      "36/36 [==============================] - 0s 5ms/step - loss: 6.5420e-06 - binary_accuracy: 1.0000 - val_loss: 0.1571 - val_binary_accuracy: 0.9680\n",
      "Epoch 150/200\n",
      "36/36 [==============================] - 0s 4ms/step - loss: 6.3384e-06 - binary_accuracy: 1.0000 - val_loss: 0.1583 - val_binary_accuracy: 0.9680\n",
      "Epoch 151/200\n",
      "36/36 [==============================] - 0s 4ms/step - loss: 6.2069e-06 - binary_accuracy: 1.0000 - val_loss: 0.1556 - val_binary_accuracy: 0.9680\n",
      "Epoch 152/200\n",
      "36/36 [==============================] - 0s 4ms/step - loss: 6.0214e-06 - binary_accuracy: 1.0000 - val_loss: 0.1587 - val_binary_accuracy: 0.9680\n",
      "Epoch 153/200\n",
      "36/36 [==============================] - 0s 4ms/step - loss: 5.8558e-06 - binary_accuracy: 1.0000 - val_loss: 0.1584 - val_binary_accuracy: 0.9680\n",
      "Epoch 154/200\n",
      "36/36 [==============================] - 0s 5ms/step - loss: 5.7207e-06 - binary_accuracy: 1.0000 - val_loss: 0.1571 - val_binary_accuracy: 0.9680\n",
      "Epoch 155/200\n",
      "36/36 [==============================] - 0s 5ms/step - loss: 5.5356e-06 - binary_accuracy: 1.0000 - val_loss: 0.1597 - val_binary_accuracy: 0.9680\n",
      "Epoch 156/200\n",
      "36/36 [==============================] - 0s 5ms/step - loss: 5.4079e-06 - binary_accuracy: 1.0000 - val_loss: 0.1617 - val_binary_accuracy: 0.9680\n",
      "Epoch 157/200\n",
      "36/36 [==============================] - 0s 5ms/step - loss: 5.2597e-06 - binary_accuracy: 1.0000 - val_loss: 0.1605 - val_binary_accuracy: 0.9680\n",
      "Epoch 158/200\n",
      "36/36 [==============================] - 0s 5ms/step - loss: 5.1289e-06 - binary_accuracy: 1.0000 - val_loss: 0.1626 - val_binary_accuracy: 0.9680\n",
      "Epoch 159/200\n",
      "36/36 [==============================] - 0s 5ms/step - loss: 4.9907e-06 - binary_accuracy: 1.0000 - val_loss: 0.1612 - val_binary_accuracy: 0.9680\n",
      "Epoch 160/200\n",
      "36/36 [==============================] - 0s 5ms/step - loss: 4.8179e-06 - binary_accuracy: 1.0000 - val_loss: 0.1606 - val_binary_accuracy: 0.9680\n",
      "Epoch 161/200\n",
      "36/36 [==============================] - 0s 5ms/step - loss: 4.6777e-06 - binary_accuracy: 1.0000 - val_loss: 0.1598 - val_binary_accuracy: 0.9680\n",
      "Epoch 162/200\n",
      "36/36 [==============================] - 0s 4ms/step - loss: 4.5861e-06 - binary_accuracy: 1.0000 - val_loss: 0.1639 - val_binary_accuracy: 0.9680\n",
      "Epoch 163/200\n",
      "36/36 [==============================] - 0s 5ms/step - loss: 4.4631e-06 - binary_accuracy: 1.0000 - val_loss: 0.1608 - val_binary_accuracy: 0.9680\n",
      "Epoch 164/200\n",
      "36/36 [==============================] - 0s 5ms/step - loss: 4.3520e-06 - binary_accuracy: 1.0000 - val_loss: 0.1657 - val_binary_accuracy: 0.9680\n",
      "Epoch 165/200\n",
      "36/36 [==============================] - 0s 5ms/step - loss: 4.3155e-06 - binary_accuracy: 1.0000 - val_loss: 0.1622 - val_binary_accuracy: 0.9680\n",
      "Epoch 166/200\n",
      "36/36 [==============================] - 0s 5ms/step - loss: 4.1058e-06 - binary_accuracy: 1.0000 - val_loss: 0.1599 - val_binary_accuracy: 0.9680\n",
      "Epoch 167/200\n",
      "36/36 [==============================] - 0s 6ms/step - loss: 3.9887e-06 - binary_accuracy: 1.0000 - val_loss: 0.1650 - val_binary_accuracy: 0.9680\n",
      "Epoch 168/200\n",
      "36/36 [==============================] - 0s 5ms/step - loss: 3.9428e-06 - binary_accuracy: 1.0000 - val_loss: 0.1620 - val_binary_accuracy: 0.9680\n",
      "Epoch 169/200\n",
      "36/36 [==============================] - 0s 4ms/step - loss: 3.7845e-06 - binary_accuracy: 1.0000 - val_loss: 0.1635 - val_binary_accuracy: 0.9680\n",
      "Epoch 170/200\n",
      "36/36 [==============================] - 0s 4ms/step - loss: 3.6630e-06 - binary_accuracy: 1.0000 - val_loss: 0.1645 - val_binary_accuracy: 0.9680\n",
      "Epoch 171/200\n",
      "36/36 [==============================] - 0s 4ms/step - loss: 3.5797e-06 - binary_accuracy: 1.0000 - val_loss: 0.1636 - val_binary_accuracy: 0.9680\n",
      "Epoch 172/200\n",
      "36/36 [==============================] - 0s 5ms/step - loss: 3.4797e-06 - binary_accuracy: 1.0000 - val_loss: 0.1648 - val_binary_accuracy: 0.9680\n",
      "Epoch 173/200\n",
      "36/36 [==============================] - 0s 5ms/step - loss: 3.3843e-06 - binary_accuracy: 1.0000 - val_loss: 0.1645 - val_binary_accuracy: 0.9680\n",
      "Epoch 174/200\n",
      "36/36 [==============================] - 0s 4ms/step - loss: 3.3147e-06 - binary_accuracy: 1.0000 - val_loss: 0.1639 - val_binary_accuracy: 0.9680\n",
      "Epoch 175/200\n",
      "36/36 [==============================] - 0s 4ms/step - loss: 3.2282e-06 - binary_accuracy: 1.0000 - val_loss: 0.1647 - val_binary_accuracy: 0.9680\n",
      "Epoch 176/200\n",
      "36/36 [==============================] - 0s 5ms/step - loss: 3.1566e-06 - binary_accuracy: 1.0000 - val_loss: 0.1673 - val_binary_accuracy: 0.9680\n",
      "Epoch 177/200\n",
      "36/36 [==============================] - 0s 4ms/step - loss: 3.0960e-06 - binary_accuracy: 1.0000 - val_loss: 0.1672 - val_binary_accuracy: 0.9680\n",
      "Epoch 178/200\n",
      "36/36 [==============================] - 0s 4ms/step - loss: 2.9854e-06 - binary_accuracy: 1.0000 - val_loss: 0.1671 - val_binary_accuracy: 0.9680\n",
      "Epoch 179/200\n",
      "36/36 [==============================] - 0s 4ms/step - loss: 2.9117e-06 - binary_accuracy: 1.0000 - val_loss: 0.1669 - val_binary_accuracy: 0.9680\n",
      "Epoch 180/200\n",
      "36/36 [==============================] - 0s 5ms/step - loss: 2.8201e-06 - binary_accuracy: 1.0000 - val_loss: 0.1664 - val_binary_accuracy: 0.9680\n",
      "Epoch 181/200\n",
      "36/36 [==============================] - 0s 5ms/step - loss: 2.7682e-06 - binary_accuracy: 1.0000 - val_loss: 0.1670 - val_binary_accuracy: 0.9680\n",
      "Epoch 182/200\n",
      "36/36 [==============================] - 0s 4ms/step - loss: 2.6864e-06 - binary_accuracy: 1.0000 - val_loss: 0.1676 - val_binary_accuracy: 0.9680\n",
      "Epoch 183/200\n",
      "36/36 [==============================] - 0s 4ms/step - loss: 2.6188e-06 - binary_accuracy: 1.0000 - val_loss: 0.1665 - val_binary_accuracy: 0.9680\n",
      "Epoch 184/200\n",
      "36/36 [==============================] - 0s 4ms/step - loss: 2.5484e-06 - binary_accuracy: 1.0000 - val_loss: 0.1682 - val_binary_accuracy: 0.9680\n",
      "Epoch 185/200\n",
      "36/36 [==============================] - 0s 4ms/step - loss: 2.4923e-06 - binary_accuracy: 1.0000 - val_loss: 0.1696 - val_binary_accuracy: 0.9680\n",
      "Epoch 186/200\n",
      "36/36 [==============================] - 0s 4ms/step - loss: 2.4217e-06 - binary_accuracy: 1.0000 - val_loss: 0.1679 - val_binary_accuracy: 0.9680\n",
      "Epoch 187/200\n",
      "36/36 [==============================] - 0s 5ms/step - loss: 2.3707e-06 - binary_accuracy: 1.0000 - val_loss: 0.1698 - val_binary_accuracy: 0.9680\n",
      "Epoch 188/200\n",
      "36/36 [==============================] - 0s 4ms/step - loss: 2.3225e-06 - binary_accuracy: 1.0000 - val_loss: 0.1703 - val_binary_accuracy: 0.9680\n",
      "Epoch 189/200\n",
      "36/36 [==============================] - 0s 4ms/step - loss: 2.2689e-06 - binary_accuracy: 1.0000 - val_loss: 0.1691 - val_binary_accuracy: 0.9680\n",
      "Epoch 190/200\n",
      "36/36 [==============================] - 0s 4ms/step - loss: 2.2250e-06 - binary_accuracy: 1.0000 - val_loss: 0.1686 - val_binary_accuracy: 0.9680\n",
      "Epoch 191/200\n",
      "36/36 [==============================] - 0s 5ms/step - loss: 2.1472e-06 - binary_accuracy: 1.0000 - val_loss: 0.1698 - val_binary_accuracy: 0.9680\n",
      "Epoch 192/200\n",
      "36/36 [==============================] - 0s 5ms/step - loss: 2.0904e-06 - binary_accuracy: 1.0000 - val_loss: 0.1692 - val_binary_accuracy: 0.9680\n",
      "Epoch 193/200\n",
      "36/36 [==============================] - 0s 5ms/step - loss: 2.0362e-06 - binary_accuracy: 1.0000 - val_loss: 0.1698 - val_binary_accuracy: 0.9680\n",
      "Epoch 194/200\n",
      "36/36 [==============================] - 0s 5ms/step - loss: 1.9926e-06 - binary_accuracy: 1.0000 - val_loss: 0.1715 - val_binary_accuracy: 0.9680\n",
      "Epoch 195/200\n",
      "36/36 [==============================] - 0s 5ms/step - loss: 1.9317e-06 - binary_accuracy: 1.0000 - val_loss: 0.1699 - val_binary_accuracy: 0.9680\n",
      "Epoch 196/200\n",
      "36/36 [==============================] - 0s 5ms/step - loss: 1.8866e-06 - binary_accuracy: 1.0000 - val_loss: 0.1710 - val_binary_accuracy: 0.9680\n",
      "Epoch 197/200\n",
      "36/36 [==============================] - 0s 5ms/step - loss: 1.8483e-06 - binary_accuracy: 1.0000 - val_loss: 0.1699 - val_binary_accuracy: 0.9680\n",
      "Epoch 198/200\n",
      "36/36 [==============================] - 0s 5ms/step - loss: 1.8138e-06 - binary_accuracy: 1.0000 - val_loss: 0.1720 - val_binary_accuracy: 0.9680\n",
      "Epoch 199/200\n",
      "36/36 [==============================] - 0s 4ms/step - loss: 1.7511e-06 - binary_accuracy: 1.0000 - val_loss: 0.1718 - val_binary_accuracy: 0.9680\n",
      "Epoch 200/200\n",
      "36/36 [==============================] - 0s 4ms/step - loss: 1.7354e-06 - binary_accuracy: 1.0000 - val_loss: 0.1717 - val_binary_accuracy: 0.9680\n"
     ]
    }
   ],
   "source": [
    "history_CNN = model_CNN.fit(train_features, train_labels, \n",
    "                    epochs=200, verbose=1, validation_split=0.25)"
   ]
  },
  {
   "cell_type": "markdown",
   "metadata": {},
   "source": [
    "Find additional information for the model.fit function in the original website [here](https://www.tensorflow.org/api_docs/python/tf/keras/Model#fit)"
   ]
  },
  {
   "cell_type": "markdown",
   "metadata": {},
   "source": [
    "We will train only on the reduced training set, but plot the loss curve on both the training and validation sets. Once the loss for the validation set stops improving or gets worse throughout the learning cycles, it is time to stop training because the model has already converged and may be just overfitting."
   ]
  },
  {
   "cell_type": "markdown",
   "metadata": {},
   "source": [
    "Inspect the keras model generated"
   ]
  },
  {
   "cell_type": "code",
   "execution_count": 47,
   "metadata": {},
   "outputs": [
    {
     "data": {
      "text/plain": [
       "{'verbose': 0, 'epochs': 50, 'steps': 36}"
      ]
     },
     "execution_count": 47,
     "metadata": {},
     "output_type": "execute_result"
    }
   ],
   "source": [
    "history_CNN.params"
   ]
  },
  {
   "cell_type": "code",
   "execution_count": 48,
   "metadata": {},
   "outputs": [
    {
     "data": {
      "text/plain": [
       "dict"
      ]
     },
     "execution_count": 48,
     "metadata": {},
     "output_type": "execute_result"
    }
   ],
   "source": [
    "type(history_CNN.history)"
   ]
  },
  {
   "cell_type": "code",
   "execution_count": 49,
   "metadata": {},
   "outputs": [
    {
     "data": {
      "text/plain": [
       "<keras.engine.sequential.Sequential at 0x2d106386770>"
      ]
     },
     "execution_count": 49,
     "metadata": {},
     "output_type": "execute_result"
    }
   ],
   "source": [
    "history_CNN.model"
   ]
  },
  {
   "cell_type": "markdown",
   "metadata": {},
   "source": [
    "Find the data stored within the history.history object. Show it as a dataframe"
   ]
  },
  {
   "cell_type": "code",
   "execution_count": 80,
   "metadata": {},
   "outputs": [
    {
     "data": {
      "text/html": [
       "<div>\n",
       "<style scoped>\n",
       "    .dataframe tbody tr th:only-of-type {\n",
       "        vertical-align: middle;\n",
       "    }\n",
       "\n",
       "    .dataframe tbody tr th {\n",
       "        vertical-align: top;\n",
       "    }\n",
       "\n",
       "    .dataframe thead th {\n",
       "        text-align: right;\n",
       "    }\n",
       "</style>\n",
       "<table border=\"1\" class=\"dataframe\">\n",
       "  <thead>\n",
       "    <tr style=\"text-align: right;\">\n",
       "      <th></th>\n",
       "      <th>loss</th>\n",
       "      <th>binary_accuracy</th>\n",
       "      <th>val_loss</th>\n",
       "      <th>val_binary_accuracy</th>\n",
       "    </tr>\n",
       "  </thead>\n",
       "  <tbody>\n",
       "    <tr>\n",
       "      <th>45</th>\n",
       "      <td>0.001955</td>\n",
       "      <td>1.0</td>\n",
       "      <td>0.096338</td>\n",
       "      <td>0.976000</td>\n",
       "    </tr>\n",
       "    <tr>\n",
       "      <th>46</th>\n",
       "      <td>0.001828</td>\n",
       "      <td>1.0</td>\n",
       "      <td>0.094300</td>\n",
       "      <td>0.973333</td>\n",
       "    </tr>\n",
       "    <tr>\n",
       "      <th>47</th>\n",
       "      <td>0.001750</td>\n",
       "      <td>1.0</td>\n",
       "      <td>0.096941</td>\n",
       "      <td>0.976000</td>\n",
       "    </tr>\n",
       "    <tr>\n",
       "      <th>48</th>\n",
       "      <td>0.001685</td>\n",
       "      <td>1.0</td>\n",
       "      <td>0.093167</td>\n",
       "      <td>0.973333</td>\n",
       "    </tr>\n",
       "    <tr>\n",
       "      <th>49</th>\n",
       "      <td>0.001624</td>\n",
       "      <td>1.0</td>\n",
       "      <td>0.098970</td>\n",
       "      <td>0.973333</td>\n",
       "    </tr>\n",
       "  </tbody>\n",
       "</table>\n",
       "</div>"
      ],
      "text/plain": [
       "        loss  binary_accuracy  val_loss  val_binary_accuracy\n",
       "45  0.001955              1.0  0.096338             0.976000\n",
       "46  0.001828              1.0  0.094300             0.973333\n",
       "47  0.001750              1.0  0.096941             0.976000\n",
       "48  0.001685              1.0  0.093167             0.973333\n",
       "49  0.001624              1.0  0.098970             0.973333"
      ]
     },
     "execution_count": 80,
     "metadata": {},
     "output_type": "execute_result"
    }
   ],
   "source": [
    "pd.DataFrame.from_dict(history_CNN.history).tail()"
   ]
  },
  {
   "cell_type": "markdown",
   "metadata": {},
   "source": [
    "Now, lets find out about the performance of the model by plotting the accuracy and loss curve which are two common tools we use to understand how well a machine learning model is learning and getting better over time. In the simplest terms, they help us evaluate the model's performance during training. \n",
    "\n",
    "On the one hand, the accuracy curve records how accurate the model’s predictions are on the given data, while the loss curve records the actual difference between the model’s prediction and the actual true output. "
   ]
  },
  {
   "cell_type": "markdown",
   "metadata": {},
   "source": [
    "#### LOSS Curve"
   ]
  },
  {
   "cell_type": "markdown",
   "metadata": {},
   "source": [
    "The loss curve, or training loss curve, gives us insights into how the model's performance improves over time by measuring the error (or dissimilarity) between its predicted output and the true output. The loss represents how far off the model's predictions are from the actual values. \n",
    "\n",
    "By minimizing the loss, the model aims to make its predictions as close as possible to the true values. \n",
    "Put simply: the loss curve shows us how the model's error decreases as it learns, which indicates an improvement in its performance.\n"
   ]
  },
  {
   "cell_type": "code",
   "execution_count": 82,
   "metadata": {
    "colab": {
     "base_uri": "https://localhost:8080/",
     "height": 447
    },
    "colab_type": "code",
    "id": "LSOmHIM83hXO",
    "outputId": "1bfe5b1d-73ad-4c18-e343-7bcd51b6d3fc"
   },
   "outputs": [
    {
     "data": {
      "image/png": "[encoded data removed]",
      "text/plain": [
       "<Figure size 640x480 with 1 Axes>"
      ]
     },
     "metadata": {},
     "output_type": "display_data"
    }
   ],
   "source": [
    "## plot the results training as LOSS curve\n",
    "plt.figure()\n",
    "plt.plot(history_CNN.history['loss'])\n",
    "plt.plot(history_CNN.history['val_loss'])\n",
    "plt.title('model loss')\n",
    "plt.ylabel('loss')\n",
    "plt.xlabel('epoch')\n",
    "plt.legend(['train', 'validation'])\n",
    "plt.show()"
   ]
  },
  {
   "cell_type": "markdown",
   "metadata": {},
   "source": [
    "#### Accuracy curve"
   ]
  },
  {
   "cell_type": "markdown",
   "metadata": {
    "colab_type": "text",
    "id": "P5eKDmX8ODBE"
   },
   "source": [
    "Similarly, we can plot the accuracy of our neural network on the binary classification task. The metric used in this example is the _binary accuracy_, which calculates the proportion of predictions that match labels or response variables. Other metrics may be used in different tasks -- for example, the _mean squared error_ is typically used to measure the accuracy for continuous response variables (e.g. polygenic risk scores, total serum cholesterol level, height, weight and systolic blood pressure)."
   ]
  },
  {
   "cell_type": "code",
   "execution_count": 83,
   "metadata": {
    "colab": {
     "base_uri": "https://localhost:8080/",
     "height": 376
    },
    "colab_type": "code",
    "id": "J2Jdpa1i8zqM",
    "outputId": "a1bfe431-0bd4-4c51-d283-dbe6fefd13f7"
   },
   "outputs": [
    {
     "data": {
      "image/png": "[encoded data removed]",
      "text/plain": [
       "<Figure size 640x480 with 1 Axes>"
      ]
     },
     "metadata": {},
     "output_type": "display_data"
    }
   ],
   "source": [
    "plt.figure()\n",
    "plt.plot(history_CNN.history['binary_accuracy'])\n",
    "plt.plot(history_CNN.history['val_binary_accuracy'])\n",
    "plt.title('model accuracy')\n",
    "plt.ylabel('accuracy')\n",
    "plt.xlabel('epoch')\n",
    "plt.legend(['train', 'validation'])\n",
    "plt.show()"
   ]
  },
  {
   "cell_type": "markdown",
   "metadata": {},
   "source": [
    "Reading [here](https://wandb.ai/mostafaibrahim17/ml-articles/reports/A-Deep-Dive-Into-Learning-Curves-in-Machine-Learning--Vmlldzo0NjA1ODY0 ) the guide on accuracy and loss curves for a better understanding of the interpretation of this plots\n"
   ]
  },
  {
   "cell_type": "markdown",
   "metadata": {
    "colab_type": "text",
    "id": "6Xy7VhhZg-hN"
   },
   "source": [
    "## 3. Evaluate"
   ]
  },
  {
   "cell_type": "markdown",
   "metadata": {
    "colab_type": "text",
    "id": "btf7FyMVsnFA"
   },
   "source": [
    "![alt text](https://github.com/abidlabs/deep-learning-genomics-primer/blob/master/Screenshot%20from%202018-08-01%2020-32-12.png?raw=true)"
   ]
  },
  {
   "cell_type": "markdown",
   "metadata": {
    "colab_type": "text",
    "id": "eQ_xYCvfvFlE"
   },
   "source": [
    "The best way to evaluate whether the network has learned to classify sequences is to evaluate its performance on a fresh test set consisting of data that it has not observed at all during training. Here, we evaluate the model on the test set and plot the results as a confusion matrix. Nearly every test sequence should be correctly classified."
   ]
  },
  {
   "cell_type": "code",
   "execution_count": 53,
   "metadata": {
    "colab": {
     "base_uri": "https://localhost:8080/",
     "height": 478
    },
    "colab_type": "code",
    "id": "J1bvxV9J-EMT",
    "outputId": "43bd6cbf-671f-4701-b8b2-569a3871d394"
   },
   "outputs": [
    {
     "name": "stdout",
     "output_type": "stream",
     "text": [
      "16/16 [==============================] - 0s 2ms/step\n",
      "Confusion matrix:\n",
      " [[245   2]\n",
      " [  7 246]]\n"
     ]
    },
    {
     "data": {
      "image/png": "[encoded data removed]",
      "text/plain": [
       "<Figure size 640x480 with 2 Axes>"
      ]
     },
     "metadata": {},
     "output_type": "display_data"
    }
   ],
   "source": [
    "from sklearn.metrics import confusion_matrix\n",
    "import itertools\n",
    "\n",
    "predicted_labels = model_CNN.predict(np.stack(test_features))\n",
    "cm = confusion_matrix(np.argmax(test_labels, axis=1), \n",
    "                      np.argmax(predicted_labels, axis=1))\n",
    "print('Confusion matrix:\\n',cm)\n",
    "\n",
    "cm = cm.astype('float') / cm.sum(axis = 1)[:, np.newaxis]\n",
    "\n",
    "plt.imshow(cm, cmap=plt.cm.Blues)\n",
    "plt.title('Normalized confusion matrix')\n",
    "plt.colorbar()\n",
    "plt.xlabel('True label')\n",
    "plt.ylabel('Predicted label')\n",
    "plt.xticks([0, 1]); plt.yticks([0, 1])\n",
    "plt.grid('off')\n",
    "for i, j in itertools.product(range(cm.shape[0]), range(cm.shape[1])):\n",
    "    plt.text(j, i, format(cm[i, j], '.2f'),\n",
    "             horizontalalignment='center',\n",
    "             color='white' if cm[i, j] > 0.5 else 'black')"
   ]
  },
  {
   "cell_type": "markdown",
   "metadata": {},
   "source": [
    "Evaluate the model on the test data and compute the accuracy and loss of the predicted and actual presence of transcription binding sites in each sequence."
   ]
  },
  {
   "cell_type": "code",
   "execution_count": 54,
   "metadata": {},
   "outputs": [
    {
     "data": {
      "text/plain": [
       "array([[1., 0.],\n",
       "       [1., 0.],\n",
       "       [1., 0.],\n",
       "       ...,\n",
       "       [1., 0.],\n",
       "       [0., 1.],\n",
       "       [0., 1.]])"
      ]
     },
     "execution_count": 54,
     "metadata": {},
     "output_type": "execute_result"
    }
   ],
   "source": [
    "test_labels"
   ]
  },
  {
   "cell_type": "code",
   "execution_count": 55,
   "metadata": {},
   "outputs": [
    {
     "data": {
      "text/plain": [
       "array([[1.00000000e+00, 1.66576180e-11],\n",
       "       [9.99999642e-01, 4.16673004e-07],\n",
       "       [1.00000000e+00, 1.35874645e-11],\n",
       "       ...,\n",
       "       [1.00000000e+00, 4.39158541e-08],\n",
       "       [1.09147587e-10, 1.00000000e+00],\n",
       "       [3.40028014e-03, 9.96599734e-01]], dtype=float32)"
      ]
     },
     "execution_count": 55,
     "metadata": {},
     "output_type": "execute_result"
    }
   ],
   "source": [
    "predicted_labels"
   ]
  },
  {
   "cell_type": "code",
   "execution_count": 56,
   "metadata": {},
   "outputs": [
    {
     "name": "stdout",
     "output_type": "stream",
     "text": [
      "47/47 [==============================] - 0s 2ms/step - loss: 0.0283 - binary_accuracy: 0.9920\n",
      "Loss =  0.028331298381090164\n",
      "Accuracy =  0.9919999837875366\n"
     ]
    }
   ],
   "source": [
    "loss_and_metrics = model_CNN.evaluate(train_features, train_labels)\n",
    "print('Loss = ',loss_and_metrics[0])\n",
    "print('Accuracy = ',loss_and_metrics[1])"
   ]
  },
  {
   "cell_type": "markdown",
   "metadata": {},
   "source": [
    "## 4. Evaluate the performance by understanding and tuning the parameters"
   ]
  },
  {
   "cell_type": "markdown",
   "metadata": {},
   "source": [
    "By tuning different parameters in simple machine learning models we can get to understand how it works and how to unlock the full potential of it.\n",
    "\n",
    "I will create several functions for the reproducibility and usability of the code, show how to use them and finally, ask some questions to address your research."
   ]
  },
  {
   "cell_type": "code",
   "execution_count": 57,
   "metadata": {},
   "outputs": [],
   "source": [
    "#######################################\n",
    "## create CNN model\n",
    "#######################################\n",
    "def get_cnn_model(train_f, option=1):\n",
    "    if option==1:\n",
    "        ## create the CNN model use before\n",
    "        model2return = Sequential()\n",
    "        model2return.add(Conv1D(filters=32, kernel_size=12, \n",
    "                         input_shape=(train_f.shape[1], 4)))\n",
    "        model2return.add(MaxPooling1D(pool_size=4))\n",
    "        model2return.add(Flatten())\n",
    "        model2return.add(Dense(16, activation='relu')) ## relu (rectified linear unit) \n",
    "        model2return.add(Dense(2, activation='softmax'))\n",
    "    else:\n",
    "        ## add another model\n",
    "        model2return = \"\"\n",
    "\n",
    "    ## compile model\n",
    "    model2return.compile(loss='binary_crossentropy', optimizer='adam', \n",
    "              metrics=['binary_accuracy'])\n",
    "\n",
    "    return model2return\n",
    "#######################################"
   ]
  },
  {
   "cell_type": "code",
   "execution_count": 58,
   "metadata": {},
   "outputs": [
    {
     "name": "stdout",
     "output_type": "stream",
     "text": [
      "Model: \"sequential_2\"\n",
      "_________________________________________________________________\n",
      " Layer (type)                Output Shape              Param #   \n",
      "=================================================================\n",
      " conv1d_1 (Conv1D)           (None, 39, 32)            1568      \n",
      "                                                                 \n",
      " max_pooling1d_1 (MaxPooling  (None, 9, 32)            0         \n",
      " 1D)                                                             \n",
      "                                                                 \n",
      " flatten_1 (Flatten)         (None, 288)               0         \n",
      "                                                                 \n",
      " dense_3 (Dense)             (None, 16)                4624      \n",
      "                                                                 \n",
      " dense_4 (Dense)             (None, 2)                 34        \n",
      "                                                                 \n",
      "=================================================================\n",
      "Total params: 6,226\n",
      "Trainable params: 6,226\n",
      "Non-trainable params: 0\n",
      "_________________________________________________________________\n"
     ]
    }
   ],
   "source": [
    "## test function to produce the CNN model of study or other options\n",
    "test_model = get_cnn_model(train_f=train_features, option=1)\n",
    "test_model.summary()"
   ]
  },
  {
   "cell_type": "code",
   "execution_count": 59,
   "metadata": {},
   "outputs": [],
   "source": [
    "#######################################\n",
    "## create plots model\n",
    "#######################################\n",
    "def create_plots(history2use_here, cm_given):\n",
    "    \n",
    "    # Initialise the subplot function using number of rows and columns\n",
    "    figure, axis = plt.subplots(1, 3, figsize=(12, 6))    \n",
    "    \n",
    "    ## plot the results training as LOSS curve\n",
    "    axis[0].plot(history2use_here.history['loss'])\n",
    "    axis[0].plot(history2use_here.history['val_loss'])\n",
    "    axis[0].set_title('model loss')\n",
    "    axis[0].set_ylabel('loss')\n",
    "    axis[0].set_xlabel('epoch')\n",
    "    axis[0].legend(['train', 'validation'])\n",
    "    \n",
    "    ## plot accuracy curve\n",
    "    axis[1].plot(history2use_here.history['binary_accuracy'])\n",
    "    axis[1].plot(history2use_here.history['val_binary_accuracy'])\n",
    "    axis[1].set_title('model accuracy')\n",
    "    axis[1].set_ylabel('accuracy')\n",
    "    axis[1].set_xlabel('epoch')\n",
    "    axis[1].legend(['train', 'validation'])\n",
    "    \n",
    "    #figure.legend(['train', 'validation'], loc='outside right upper')\n",
    "\n",
    "    ## plot the confusion matrix for True/False observed/predicted\n",
    "    axis[2].imshow(cm_given, cmap=plt.cm.Blues)\n",
    "    axis[2].set_title('Normalized confusion matrix')\n",
    "    axis[2].set_xlabel('True label')\n",
    "    axis[2].set_ylabel('Predicted label')\n",
    "    axis[2].set_xticks([0, 1]); \n",
    "    axis[2].set_yticks([0, 1])\n",
    "    axis[2].grid('off')\n",
    "    for i, j in itertools.product(range(cm_given.shape[0]), range(cm_given.shape[1])):\n",
    "        axis[2].text(j, i, format(cm_given[i, j], '.2f'),\n",
    "                 horizontalalignment='center',\n",
    "                 color='white' if cm_given[i, j] > 0.5 else 'black')\n",
    "\n",
    "    \n",
    "    # Combine all the operations and display\n",
    "    plt.show()"
   ]
  },
  {
   "cell_type": "code",
   "execution_count": 60,
   "metadata": {},
   "outputs": [
    {
     "data": {
      "image/png": "[encoded data removed]",
      "text/plain": [
       "<Figure size 1200x600 with 3 Axes>"
      ]
     },
     "metadata": {},
     "output_type": "display_data"
    }
   ],
   "source": [
    "# test example function to plot at once the three plots of interest to evaluate the performance\n",
    "create_plots(history_CNN, cm_given=cm)"
   ]
  },
  {
   "cell_type": "code",
   "execution_count": 61,
   "metadata": {},
   "outputs": [],
   "source": [
    "#######################################\n",
    "## create a function to reproduce the model many times\n",
    "#######################################\n",
    "def example_CNN(features2used, labels2use, \n",
    "                random_state_int=123, test_size_float=0.25, model_option=1,\n",
    "                epochs2use=50, verb_2use=0, val_2use=0.25): ## set defaults\n",
    "\n",
    "    from sklearn.model_selection import train_test_split\n",
    "\n",
    "    \n",
    "    ## split the dataset\n",
    "    train_features2use, test_features2use, train_labels2use, test_labels2use = train_test_split(\n",
    "        features2used, labels2use, test_size=test_size_float, random_state=random_state_int)\n",
    "\n",
    "    if verb_2use>0:\n",
    "        check_arrays(train_features2use)\n",
    "        check_arrays(test_features2use)\n",
    "        check_arrays(train_labels2use)\n",
    "        check_arrays(test_labels2use)\n",
    "    \n",
    "    ## create the model\n",
    "    model2use = get_cnn_model(train_f=train_features2use, option=model_option)\n",
    "\n",
    "    if verb_2use>0:\n",
    "        print(model2use.summary())\n",
    "        print(model2use)\n",
    "\n",
    "    ## train\n",
    "    history2use = model2use.fit(train_features2use, train_labels2use, \n",
    "                    epochs=epochs2use, verbose=verb_2use, validation_split=val_2use)\n",
    "    \n",
    "    \n",
    "    ## evaluate\n",
    "    predicted_labels2use = model2use.predict(np.stack(test_features2use))\n",
    "    cm2use = confusion_matrix(np.argmax(test_labels2use, axis=1), \n",
    "                          np.argmax(predicted_labels2use, axis=1))\n",
    "    cm2use = cm2use.astype('float') / cm2use.sum(axis = 1)[:, np.newaxis]\n",
    "\n",
    "    print('Confusion matrix:\\n',cm2use)\n",
    "\n",
    "    ## create plots\n",
    "    create_plots(history2use, cm2use)\n",
    "\n",
    "    loss_and_metrics2use = model2use.evaluate(train_features2use, train_labels2use)\n",
    "    if verb_2use>0:\n",
    "        print('Loss = ',loss_and_metrics2use[0])\n",
    "        print('Accuracy = ',loss_and_metrics2use[1])\n",
    "\n",
    "    return loss_and_metrics2use\n"
   ]
  },
  {
   "cell_type": "code",
   "execution_count": 62,
   "metadata": {},
   "outputs": [
    {
     "name": "stdout",
     "output_type": "stream",
     "text": [
      "16/16 [==============================] - 0s 2ms/step\n",
      "Confusion matrix:\n",
      " [[0.7854251  0.2145749 ]\n",
      " [0.21343874 0.78656126]]\n"
     ]
    },
    {
     "data": {
      "image/png": "[encoded data removed]",
      "text/plain": [
       "<Figure size 1200x600 with 3 Axes>"
      ]
     },
     "metadata": {},
     "output_type": "display_data"
    },
    {
     "name": "stdout",
     "output_type": "stream",
     "text": [
      "47/47 [==============================] - 0s 1ms/step - loss: 0.4894 - binary_accuracy: 0.8073\n"
     ]
    },
    {
     "data": {
      "text/plain": [
       "[0.48935723304748535, 0.8073333501815796]"
      ]
     },
     "execution_count": 62,
     "metadata": {},
     "output_type": "execute_result"
    }
   ],
   "source": [
    "## usage example\n",
    "example_CNN(features2used=input_features, labels2use=input_labels, epochs2use=2)"
   ]
  },
  {
   "cell_type": "markdown",
   "metadata": {},
   "source": [
    "## Questions to address:\n",
    "\n",
    "- Find what is the effect of the verbose parameter in the _model.fit()_ [or supplied as _verb_2use_ the _example_CNN()_]\n",
    "- Test the effect of applying a more simple model [Hint: reduce layers of the model]\n",
    "- Test the effect of epoch in the prediction: 2, 5, 10, 25, 50, 100, 1000\n",
    "- Test the effect of applying a different test/train set partition\n"
   ]
  },
  {
   "cell_type": "markdown",
   "metadata": {
    "colab_type": "text",
    "id": "UBdJQC1Ug__3"
   },
   "source": [
    "## 5. Interpret the results"
   ]
  },
  {
   "cell_type": "markdown",
   "metadata": {
    "colab_type": "text",
    "id": "6qmKi1ResqHo"
   },
   "source": [
    "![alt text](https://github.com/abidlabs/deep-learning-genomics-primer/blob/master/Screenshot%20from%202018-08-01%2020-32-31.png?raw=true)"
   ]
  },
  {
   "cell_type": "markdown",
   "metadata": {
    "colab_type": "text",
    "id": "UpAwoK9SwAbb"
   },
   "source": [
    "Your results so far should allow you to conclude that the neural network is quite effective in learning to distinguish sequences that bind the protein from sequences that do not. But can we understand _why_ the neural network classifies a training point in the way that it does? To do so, we can compute a simple _saliency map_, which is the gradient of the model's prediction with respect to each individual nucleotide. \n",
    "\n",
    "In other words, the saliency maps shows how the output response value changes with respect to a small changes in input nucleotide sequence. All the positive values in the gradients tell us that a small change to that nucleotide will change the output value. Hence, visualizing these gradients for a given input sequence, should provide some clues about what nucleotides form the binding motive that we are trying to identify."
   ]
  },
  {
   "cell_type": "code",
   "execution_count": 63,
   "metadata": {},
   "outputs": [],
   "source": [
    "import tensorflow.keras.backend as K\n",
    "\n",
    "def compute_salient_bases(model, x):\n",
    "    @tf.function\n",
    "    def compute_gradients(x):\n",
    "        with tf.GradientTape() as tape:\n",
    "            tape.watch(x)\n",
    "            logits = model(x)\n",
    "            prob = logits[:, 1]  # Assuming binary classification, change the index if needed\n",
    "        gradients = tape.gradient(prob, x)\n",
    "        return gradients\n",
    "\n",
    "    x_value = np.expand_dims(x, axis=0)\n",
    "    gradients = compute_gradients(x_value)\n",
    "    gradients = tf.where(gradients == None, tf.zeros_like(gradients), gradients)\n",
    "    sal = tf.reduce_sum(gradients * x, axis=2)\n",
    "    sal = tf.clip_by_value(sal, clip_value_min=0, clip_value_max=tf.reduce_max(sal))\n",
    "    return sal.numpy()"
   ]
  },
  {
   "cell_type": "code",
   "execution_count": 64,
   "metadata": {},
   "outputs": [
    {
     "data": {
      "image/png": "[encoded data removed]",
      "text/plain": [
       "<Figure size 1600x500 with 1 Axes>"
      ]
     },
     "metadata": {},
     "output_type": "display_data"
    }
   ],
   "source": [
    "## Positive sequence\n",
    "sequence_index = 1999  \n",
    "sal = compute_salient_bases(model_CNN, input_features[sequence_index])\n",
    "\n",
    "plt.figure(figsize=[16,5])\n",
    "barlist = plt.bar(np.arange(len(sal[0])), sal[0])\n",
    "[barlist[i].set_color('C1') for i in range(5,17)]  # Change the coloring here if you change the sequence index.\n",
    "plt.xlabel('Bases')\n",
    "plt.ylabel('Magnitude of saliency values')\n",
    "plt.xticks(np.arange(len(sal[0])), list(sequences[sequence_index]));\n",
    "plt.title('Saliency map for bases in one of the positive sequences'\n",
    "          ' (orange indicates the actual bases in motif)');"
   ]
  },
  {
   "cell_type": "code",
   "execution_count": 65,
   "metadata": {},
   "outputs": [
    {
     "data": {
      "image/png": "[encoded data removed]",
      "text/plain": [
       "<Figure size 1600x500 with 1 Axes>"
      ]
     },
     "metadata": {},
     "output_type": "display_data"
    }
   ],
   "source": [
    "# negative sequence\n",
    "sequence_index = 0  \n",
    "sal = compute_salient_bases(model_CNN, input_features[sequence_index])\n",
    "\n",
    "plt.figure(figsize=[16,5])\n",
    "barlist = plt.bar(np.arange(len(sal[0])), sal[0])\n",
    "[barlist[i].set_color('C1') for i in range(5,17)]  # Change the coloring here if you change the sequence index.\n",
    "plt.xlabel('Bases')\n",
    "plt.ylabel('Magnitude of saliency values')\n",
    "plt.xticks(np.arange(len(sal[0])), list(sequences[sequence_index]));\n",
    "plt.title('Saliency map for bases in one of the negative sequences'\n",
    "          ' (orange indicates the actual bases in motif)');"
   ]
  },
  {
   "cell_type": "markdown",
   "metadata": {
    "colab_type": "text",
    "id": "voPIrz9TPtIH"
   },
   "source": [
    "The results above should show high saliency values for the bases _CGACCGAACTCC_ appearing in the DNA sequence. If you recall from the top of the document, this is exactly the motif that we embedded in the positive sequences! The raw saliency values may be non-zero for other bases as well -- the gradient-based saliency map method is not perfect, and there other more complex interpretation methods that are used in practice to obtain better results.  \n",
    "\n",
    "Furthermore, we may explore other architectures for our neural network to see if we can improve performance on the validation dataset. For example, we could choose different _hyper-parameters_, which are variables that define the network structure (e.g. the number of dense or convolutional layers, the dimensionality of each layer, etc.) and variables that determine how the network is trained (e.g. the number of epochs, the learning rate, etc.). Testing different hyper-parameter values or performing a hyper-parameter search grid are good practices that may help the deep learning procedure to obtain a clearer signal for classifying sequences and identifying the binding motif."
   ]
  },
  {
   "cell_type": "markdown",
   "metadata": {
    "colab_type": "text",
    "id": "1lGpn-5IZ3VN"
   },
   "source": [
    "## Acknowledgements "
   ]
  },
  {
   "cell_type": "markdown",
   "metadata": {
    "colab_type": "text",
    "id": "BVFi5aDBZ7M8"
   },
   "source": [
    "Thanks to Julia di lulio and Raquel Dias for helpful comments and suggestions in preparing this notebook."
   ]
  },
  {
   "cell_type": "markdown",
   "metadata": {},
   "source": [
    "## References and examples\n",
    "- https://www.kdnuggets.com/2018/05/wtf-tensor.html\n",
    "- https://www.geeksforgeeks.org/implementing-neural-networks-using-tensorflow/ \n",
    "- https://www.geeksforgeeks.org/neural-networks-a-beginners-guide/?ref=gcse\n",
    "- https://wandb.ai/mostafaibrahim17/ml-articles/reports/A-Deep-Dive-Into-Learning-Curves-in-Machine-Learning--Vmlldzo0NjA1ODY0\n",
    "- https://machinelearningmastery.com/binary-classification-tutorial-with-the-keras-deep-learning-library/\n",
    "- https://www.bmc.com/blogs/keras-neural-network-classification/"
   ]
  },
  {
   "cell_type": "markdown",
   "metadata": {
    "colab_type": "text",
    "id": "vY3uDUtcLwXe"
   },
   "source": [
    "# GitHub Repository"
   ]
  },
  {
   "cell_type": "markdown",
   "metadata": {
    "colab_type": "text",
    "id": "U8soCi3qLzmc"
   },
   "source": [
    "If you found this tutorial helpful, kindly star the [associated GitHub repo](https://github.com/abidlabs/deep-learning-genomics-primer/blob/master/A_Primer_on_Deep_Learning_in_Genomics_Public.ipynb) so that it is more visible to others as well!"
   ]
  }
 ],
 "metadata": {
  "accelerator": "GPU",
  "colab": {
   "collapsed_sections": [],
   "include_colab_link": true,
   "name": "A Primer on Deep Learning in Genomics - Public.ipynb",
   "provenance": [],
   "version": "0.3.2"
  },
  "kernelspec": {
   "display_name": "Python 3",
   "language": "python",
   "name": "python3"
  },
  "language_info": {
   "codemirror_mode": {
    "name": "ipython",
    "version": 3
   },
   "file_extension": ".py",
   "mimetype": "text/x-python",
   "name": "python",
   "nbconvert_exporter": "python",
   "pygments_lexer": "ipython3",
   "version": "3.10.11"
  }
 },
 "nbformat": 4,
 "nbformat_minor": 4
}
